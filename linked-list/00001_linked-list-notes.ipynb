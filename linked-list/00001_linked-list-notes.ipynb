{
 "cells": [
  {
   "cell_type": "markdown",
   "source": [
    "## What is a linked list?"
   ],
   "metadata": {}
  },
  {
   "cell_type": "markdown",
   "source": [
    "<p>A Linked List, like an array, is a linear / sequential data structure. However, the elements of a linked list, unlike an array, are not stored at contiguous memory locations; they are connected (linked) using pointers.</p>\n",
    "<p>A linked list consists of:<ul><li><b><u>nodes</u></b> where each node contains a <b><u>data field</b></u> and a <b><u>reference (link)</b></u> to the next node in the list.</li><li>a head pointer that points to the first node of the list.</li><li>a tail pointer that points to the last node of the list.</li></ul></p>\n",
    "<img src=\"Image/fig1-sll.png\" alt=\"Image/fig1-sll.png\"/>"
   ],
   "metadata": {}
  },
  {
   "cell_type": "markdown",
   "source": [
    "## Linked List vs Array"
   ],
   "metadata": {}
  },
  {
   "cell_type": "markdown",
   "source": [
    "<p>The major differences are listed below:<ul><li>The size of a linked list can <u>increase dynamically</u> while the size of an array is static.</li><li>Insertion/Deletion of an element from the middle of a linked list is <u>much faster</u> than that of an array (as no shifting of elements is needed).</li><li>Direct access of elements is <u>much faster</u> with arrays; compared to linked lists (as all previous elements must be traversed to reach any element\n",
    ").</li><li>Linked lists require <u>more memory</u> compared to arrays (as they store the reference of the next node in current node).</li></ul></p>"
   ],
   "metadata": {}
  },
  {
   "cell_type": "markdown",
   "source": [
    "## Types of linked list"
   ],
   "metadata": {}
  },
  {
   "cell_type": "markdown",
   "source": [
    "<p>The various types of linked list are:<ul><li>Single Linked List<br/><img src=\"Image/fig1-sll.png\" width=\"500\" alt=\"Image/fig1-sll.png\"/><br/><br/></li><li>Circular Single Linked List<br/><img src=\"Image/fig2-csll.png\" width=\"500\" alt=\"Image/fig2-csll.png\"/><br/><br/></li><li>Double Linked List<br/><img src=\"Image/fig3-dll.png\" width=\"500\" alt=\"Image/fig3-dll.png\"/><br/><br/></li><li>Circular Double Linked List<br/><img src=\"Image/fig4-cdll.png\" width=\"500\" alt=\"Image/fig4-cdll.png\"/></li></ul></p>"
   ],
   "metadata": {}
  },
  {
   "cell_type": "markdown",
   "source": [
    "## Single Linked List"
   ],
   "metadata": {}
  },
  {
   "cell_type": "markdown",
   "source": [
    "### Code"
   ],
   "metadata": {}
  },
  {
   "cell_type": "code",
   "execution_count": 42,
   "source": [
    "class Node:\n",
    "    def __init__(self, value):\n",
    "        self.data = value\n",
    "        self.next = None\n",
    "    \n",
    "    def __str__(self):\n",
    "        return f'({self.data}, {hex(id(self.next))})'\n"
   ],
   "outputs": [],
   "metadata": {}
  },
  {
   "cell_type": "code",
   "execution_count": 43,
   "source": [
    "class SingleLinkedList:\n",
    "    def __init__(self):\n",
    "        self.head = None\n",
    "        self.tail = None\n",
    "        self.length = 0\n",
    "\n",
    "\n",
    "    def __str__(self):\n",
    "        result = ''\n",
    "        if self.length > 0:\n",
    "            current_node = self.head\n",
    "\n",
    "            result += f'[[[HEAD({hex(id(self.head))})]]] -> '\n",
    "            while current_node.next:\n",
    "                result += f'{current_node} -> '\n",
    "                current_node = current_node.next\n",
    "            result += f'{current_node} <- [[[TAIL({hex(id(self.tail))})]]]'\n",
    "        else:\n",
    "            result = \"The linked list is empty\"\n",
    "        \n",
    "        return result\n",
    "\n",
    "    \n",
    "    def insert(self, value, pos=-1):\n",
    "        node = Node(value)\n",
    "        print(f'Node: {node} to be inserted at location: {pos}')\n",
    "        \n",
    "        if self.head is None:\n",
    "            #print('Inserting to empty linked list')\n",
    "            if pos not in [1, -1]:\n",
    "                raise IndexError(f\"The linked list is empty. The value of pos should be 1 or -1\")\n",
    "            \n",
    "            self.head = node\n",
    "            self.tail = node\n",
    "\n",
    "        else:\n",
    "            if pos == 1:\n",
    "                #print('Inserting to first position of linked list')\n",
    "                node.next = self.head\n",
    "                self.head = node\n",
    "            \n",
    "            elif pos == -1:\n",
    "                #print('Inserting to last position of linked list')\n",
    "                self.tail.next = node\n",
    "                self.tail = node\n",
    "            \n",
    "            else:\n",
    "                #print('Inserting to nth position of linked list')\n",
    "                if pos > self.length:\n",
    "                    raise IndexError(f\"The value of pos should be between 1 and {self.length}\")\n",
    "                \n",
    "                current_node = self.head\n",
    "                for i in range(1, pos-1):\n",
    "                    current_node = current_node.next\n",
    "                \n",
    "                node.next = current_node.next\n",
    "                current_node.next = node\n",
    "            \n",
    "        self.length += 1\n",
    "\n",
    "    \n",
    "    def traverse(self):\n",
    "        if self.length > 0:\n",
    "            current_node = self.head\n",
    "            while current_node:\n",
    "                print(current_node.data, end = ' -> ')\n",
    "                current_node = current_node.next\n",
    "            print('NULL\\n')\n",
    "\n",
    "        else:\n",
    "            print('Linked list is empty')\n",
    "\n",
    "\n",
    "    def find_index(self, search_data):\n",
    "        result = -1\n",
    "\n",
    "        if self.length > 0:\n",
    "            current_node = self.head\n",
    "            idx = 1\n",
    "            while current_node:\n",
    "                if search_data == current_node.data:\n",
    "                    result = idx\n",
    "                    break\n",
    "\n",
    "                current_node = current_node.next\n",
    "                idx += 1\n",
    "\n",
    "        return result\n",
    "\n",
    "\n",
    "    def delete(self, pos = -1):   \n",
    "        if self.head is None:\n",
    "            raise ValueError(\"Operation not permitted as linked list is empty!\")\n",
    "        \n",
    "        if pos > self.length:\n",
    "            raise IndexError(f\"The value of pos should between 1 and {self.length}\")\n",
    "        \n",
    "        if pos in [1, -1] and self.head == self.tail:\n",
    "            #print('Deleting when linked list has only 1 element')\n",
    "            self.head = self.tail = None\n",
    "\n",
    "        elif pos == 1:\n",
    "            #print('Deleting from first when linked list has more than 1 element')\n",
    "            self.head = self.head.next\n",
    "        \n",
    "        else:\n",
    "            #print('Deleting from last / nth when linked list has more than 1 element')\n",
    "            previous_node = self.head\n",
    "            current_node = self.head.next\n",
    "            idx_upper_bound = self.length if pos == -1 else pos\n",
    "            for idx in range(1, idx_upper_bound - 1):\n",
    "                previous_node = previous_node.next\n",
    "                current_node = current_node.next\n",
    "            \n",
    "            previous_node.next = current_node.next\n",
    "            current_node.next = None\n",
    "            if previous_node.next == None:\n",
    "                self.tail = previous_node\n",
    "                \n",
    "        self.length -= 1\n",
    "    \n",
    "\n",
    "    def empty(self):\n",
    "        if self.head is None:\n",
    "            raise ValueError(\"Operation not permitted as linked list is empty!\")\n",
    "        \n",
    "        self.head = None\n",
    "        self.tail = None\n",
    "\n",
    "        self.length = 0\n",
    "\n"
   ],
   "outputs": [],
   "metadata": {}
  },
  {
   "cell_type": "markdown",
   "source": [
    "### Test"
   ],
   "metadata": {}
  },
  {
   "cell_type": "markdown",
   "source": [
    "#### Insertion to empty linked list"
   ],
   "metadata": {}
  },
  {
   "cell_type": "code",
   "execution_count": 44,
   "source": [
    "print('*'*150)\n",
    "print('Testing: Insertion to empty linked list\\n')\n",
    "\n",
    "sll = SingleLinkedList()\n",
    "print(f'Before Insert:\\n{sll}')\n",
    "sll.insert(1)\n",
    "print(f'After Insert:\\n{sll}\\n')\n",
    "\n",
    "print('*'*150)\n"
   ],
   "outputs": [
    {
     "output_type": "stream",
     "name": "stdout",
     "text": [
      "******************************************************************************************************************************************************\n",
      "Testing: Insertion to empty linked list\n",
      "\n",
      "Before Insert:\n",
      "The linked list is empty\n",
      "Node: (1, 0x10b682f30) to be inserted at location: -1\n",
      "After Insert:\n",
      "[[[HEAD(0x7fa27333e820)]]] -> (1, 0x10b682f30) <- [[[TAIL(0x7fa27333e820)]]]\n",
      "\n",
      "******************************************************************************************************************************************************\n"
     ]
    }
   ],
   "metadata": {}
  },
  {
   "cell_type": "markdown",
   "source": [
    "#### Insertion to end of linked list"
   ],
   "metadata": {}
  },
  {
   "cell_type": "code",
   "execution_count": 45,
   "source": [
    "print('*'*150)\n",
    "print('Testing: Insertion to end of linked list\\n')\n",
    "\n",
    "sll = SingleLinkedList()\n",
    "\n",
    "print(f'Before Insert:\\n{sll}')\n",
    "sll.insert('abc')\n",
    "print(f'After Insert:\\n{sll}\\n')\n",
    "\n",
    "print(f'Before Insert:\\n{sll}')\n",
    "sll.insert(123, -1)\n",
    "print(f'After Insert:\\n{sll}\\n')\n",
    "\n",
    "print(f'Before Insert:\\n{sll}')\n",
    "sll.insert(4.56, -1)\n",
    "print(f'After Insert:\\n{sll}\\n')\n",
    "\n",
    "print('*'*150)"
   ],
   "outputs": [
    {
     "output_type": "stream",
     "name": "stdout",
     "text": [
      "******************************************************************************************************************************************************\n",
      "Testing: Insertion to end of linked list\n",
      "\n",
      "Before Insert:\n",
      "The linked list is empty\n",
      "Node: (abc, 0x10b682f30) to be inserted at location: -1\n",
      "After Insert:\n",
      "[[[HEAD(0x7fa27333ec70)]]] -> (abc, 0x10b682f30) <- [[[TAIL(0x7fa27333ec70)]]]\n",
      "\n",
      "Before Insert:\n",
      "[[[HEAD(0x7fa27333ec70)]]] -> (abc, 0x10b682f30) <- [[[TAIL(0x7fa27333ec70)]]]\n",
      "Node: (123, 0x10b682f30) to be inserted at location: -1\n",
      "After Insert:\n",
      "[[[HEAD(0x7fa27333ec70)]]] -> (abc, 0x7fa2733e7460) -> (123, 0x10b682f30) <- [[[TAIL(0x7fa2733e7460)]]]\n",
      "\n",
      "Before Insert:\n",
      "[[[HEAD(0x7fa27333ec70)]]] -> (abc, 0x7fa2733e7460) -> (123, 0x10b682f30) <- [[[TAIL(0x7fa2733e7460)]]]\n",
      "Node: (4.56, 0x10b682f30) to be inserted at location: -1\n",
      "After Insert:\n",
      "[[[HEAD(0x7fa27333ec70)]]] -> (abc, 0x7fa2733e7460) -> (123, 0x7fa273344e20) -> (4.56, 0x10b682f30) <- [[[TAIL(0x7fa273344e20)]]]\n",
      "\n",
      "******************************************************************************************************************************************************\n"
     ]
    }
   ],
   "metadata": {}
  },
  {
   "cell_type": "markdown",
   "source": [
    "#### Insertion to start of linked list"
   ],
   "metadata": {}
  },
  {
   "cell_type": "code",
   "execution_count": 46,
   "source": [
    "print('*'*150)\n",
    "print('Testing: Insertion to start of linked list\\n')\n",
    "\n",
    "sll = SingleLinkedList()\n",
    "\n",
    "print(f'Before Insert:\\n{sll}')\n",
    "sll.insert(3, 1)\n",
    "print(f'After Insert:\\n{sll}\\n')\n",
    "\n",
    "print(f'Before Insert:\\n{sll}')\n",
    "sll.insert(2, 1)\n",
    "print(f'After Insert:\\n{sll}\\n')\n",
    "\n",
    "print(f'Before Insert:\\n{sll}')\n",
    "sll.insert(1, 1)\n",
    "print(f'After Insert:\\n{sll}\\n')\n",
    "\n",
    "print('*'*150)\n"
   ],
   "outputs": [
    {
     "output_type": "stream",
     "name": "stdout",
     "text": [
      "******************************************************************************************************************************************************\n",
      "Testing: Insertion to start of linked list\n",
      "\n",
      "Before Insert:\n",
      "The linked list is empty\n",
      "Node: (3, 0x10b682f30) to be inserted at location: 1\n",
      "After Insert:\n",
      "[[[HEAD(0x7fa2732eed00)]]] -> (3, 0x10b682f30) <- [[[TAIL(0x7fa2732eed00)]]]\n",
      "\n",
      "Before Insert:\n",
      "[[[HEAD(0x7fa2732eed00)]]] -> (3, 0x10b682f30) <- [[[TAIL(0x7fa2732eed00)]]]\n",
      "Node: (2, 0x10b682f30) to be inserted at location: 1\n",
      "After Insert:\n",
      "[[[HEAD(0x7fa2733e7310)]]] -> (2, 0x7fa2732eed00) -> (3, 0x10b682f30) <- [[[TAIL(0x7fa2732eed00)]]]\n",
      "\n",
      "Before Insert:\n",
      "[[[HEAD(0x7fa2733e7310)]]] -> (2, 0x7fa2732eed00) -> (3, 0x10b682f30) <- [[[TAIL(0x7fa2732eed00)]]]\n",
      "Node: (1, 0x10b682f30) to be inserted at location: 1\n",
      "After Insert:\n",
      "[[[HEAD(0x7fa2733e7d30)]]] -> (1, 0x7fa2733e7310) -> (2, 0x7fa2732eed00) -> (3, 0x10b682f30) <- [[[TAIL(0x7fa2732eed00)]]]\n",
      "\n",
      "******************************************************************************************************************************************************\n"
     ]
    }
   ],
   "metadata": {}
  },
  {
   "cell_type": "markdown",
   "source": [
    "#### Insertion in between linked list"
   ],
   "metadata": {}
  },
  {
   "cell_type": "code",
   "execution_count": 47,
   "source": [
    "print('*'*150)\n",
    "print('Testing: Insertion to start of linked list\\n')\n",
    "\n",
    "sll = SingleLinkedList()\n",
    "sll.insert(1)\n",
    "sll.insert(3)\n",
    "sll.insert(5)\n",
    "\n",
    "print(f'\\nBefore Insert:\\n{sll}')\n",
    "sll.insert(4, 3)\n",
    "print(f'After Insert:\\n{sll}\\n')\n",
    "\n",
    "print(f'Before Insert:\\n{sll}')\n",
    "sll.insert(2, 2)\n",
    "print(f'After Insert:\\n{sll}\\n')\n",
    "\n",
    "print('*'*150)\n",
    "\n"
   ],
   "outputs": [
    {
     "output_type": "stream",
     "name": "stdout",
     "text": [
      "******************************************************************************************************************************************************\n",
      "Testing: Insertion to start of linked list\n",
      "\n",
      "Node: (1, 0x10b682f30) to be inserted at location: -1\n",
      "Node: (3, 0x10b682f30) to be inserted at location: -1\n",
      "Node: (5, 0x10b682f30) to be inserted at location: -1\n",
      "\n",
      "Before Insert:\n",
      "[[[HEAD(0x7fa273344eb0)]]] -> (1, 0x7fa2732eed00) -> (3, 0x7fa27333eeb0) -> (5, 0x10b682f30) <- [[[TAIL(0x7fa27333eeb0)]]]\n",
      "Node: (4, 0x10b682f30) to be inserted at location: 3\n",
      "After Insert:\n",
      "[[[HEAD(0x7fa273344eb0)]]] -> (1, 0x7fa2732eed00) -> (3, 0x7fa2733e79d0) -> (4, 0x7fa27333eeb0) -> (5, 0x10b682f30) <- [[[TAIL(0x7fa27333eeb0)]]]\n",
      "\n",
      "Before Insert:\n",
      "[[[HEAD(0x7fa273344eb0)]]] -> (1, 0x7fa2732eed00) -> (3, 0x7fa2733e79d0) -> (4, 0x7fa27333eeb0) -> (5, 0x10b682f30) <- [[[TAIL(0x7fa27333eeb0)]]]\n",
      "Node: (2, 0x10b682f30) to be inserted at location: 2\n",
      "After Insert:\n",
      "[[[HEAD(0x7fa273344eb0)]]] -> (1, 0x7fa273344670) -> (2, 0x7fa2732eed00) -> (3, 0x7fa2733e79d0) -> (4, 0x7fa27333eeb0) -> (5, 0x10b682f30) <- [[[TAIL(0x7fa27333eeb0)]]]\n",
      "\n",
      "******************************************************************************************************************************************************\n"
     ]
    }
   ],
   "metadata": {}
  },
  {
   "cell_type": "markdown",
   "source": [
    "#### Traversal of linked list"
   ],
   "metadata": {}
  },
  {
   "cell_type": "code",
   "execution_count": 48,
   "source": [
    "print('*'*150)\n",
    "print('Testing: Traversal of linked list\\n')\n",
    "\n",
    "sll.traverse()\n",
    "\n",
    "print('*'*150)\n"
   ],
   "outputs": [
    {
     "output_type": "stream",
     "name": "stdout",
     "text": [
      "******************************************************************************************************************************************************\n",
      "Testing: Traversal of linked list\n",
      "\n",
      "1 -> 2 -> 3 -> 4 -> 5 -> NULL\n",
      "\n",
      "******************************************************************************************************************************************************\n"
     ]
    }
   ],
   "metadata": {}
  },
  {
   "cell_type": "markdown",
   "source": [
    "#### Searching for a value"
   ],
   "metadata": {}
  },
  {
   "cell_type": "code",
   "execution_count": 49,
   "source": [
    "print('*'*150)\n",
    "print('Testing: Traversal of linked list\\n')\n",
    "\n",
    "print(f'Index of 100 in empty list = {SingleLinkedList().find_index(100)}\\n')\n",
    "\n",
    "print(f'sll = ', end='')\n",
    "sll.traverse()\n",
    "\n",
    "print(f'Index of 5 = {sll.find_index(5)}')\n",
    "print(f'Index of 100 = {sll.find_index(100)}')\n",
    "\n",
    "print('*'*150)"
   ],
   "outputs": [
    {
     "output_type": "stream",
     "name": "stdout",
     "text": [
      "******************************************************************************************************************************************************\n",
      "Testing: Traversal of linked list\n",
      "\n",
      "Index of 100 in empty list = -1\n",
      "\n",
      "sll = 1 -> 2 -> 3 -> 4 -> 5 -> NULL\n",
      "\n",
      "Index of 5 = 5\n",
      "Index of 100 = -1\n",
      "******************************************************************************************************************************************************\n"
     ]
    }
   ],
   "metadata": {}
  },
  {
   "cell_type": "markdown",
   "source": [
    "#### Deletion when list has just 1 element"
   ],
   "metadata": {}
  },
  {
   "cell_type": "code",
   "execution_count": 50,
   "source": [
    "print('*'*150)\n",
    "print('Testing: Deletion when list has just 1 element\\n')\n",
    "\n",
    "sll = SingleLinkedList()\n",
    "sll.insert(123)\n",
    "\n",
    "print(f'\\nBefore Delete:\\n{sll}')\n",
    "sll.delete()\n",
    "print(f'\\nAfter Delete:\\n{sll}')\n",
    "\n",
    "print('*'*150)\n"
   ],
   "outputs": [
    {
     "output_type": "stream",
     "name": "stdout",
     "text": [
      "******************************************************************************************************************************************************\n",
      "Testing: Deletion when list has just 1 element\n",
      "\n",
      "Node: (123, 0x10b682f30) to be inserted at location: -1\n",
      "\n",
      "Before Delete:\n",
      "[[[HEAD(0x7fa273344670)]]] -> (123, 0x10b682f30) <- [[[TAIL(0x7fa273344670)]]]\n",
      "\n",
      "After Delete:\n",
      "The linked list is empty\n",
      "******************************************************************************************************************************************************\n"
     ]
    }
   ],
   "metadata": {}
  },
  {
   "cell_type": "markdown",
   "source": [
    "#### Deletion from first"
   ],
   "metadata": {}
  },
  {
   "cell_type": "code",
   "execution_count": 51,
   "source": [
    "print('*'*150)\n",
    "print('Testing: Deletion from first\\n')\n",
    "\n",
    "sll = SingleLinkedList()\n",
    "sll.insert(1)\n",
    "sll.insert(2)\n",
    "sll.insert(3)\n",
    "\n",
    "print(f'\\nBefore Delete:\\n{sll}')\n",
    "sll.delete(pos=1)\n",
    "print(f'\\nAfter Delete:\\n{sll}')\n",
    "\n",
    "print(f'\\nBefore Delete:\\n{sll}')\n",
    "sll.delete(pos=1)\n",
    "print(f'\\nAfter Delete:\\n{sll}')\n",
    "\n",
    "print(f'\\nBefore Delete:\\n{sll}')\n",
    "sll.delete(pos=1)\n",
    "print(f'\\nAfter Delete:\\n{sll}')\n",
    "\n",
    "print('*'*150)\n"
   ],
   "outputs": [
    {
     "output_type": "stream",
     "name": "stdout",
     "text": [
      "******************************************************************************************************************************************************\n",
      "Testing: Deletion from first\n",
      "\n",
      "Node: (1, 0x10b682f30) to be inserted at location: -1\n",
      "Node: (2, 0x10b682f30) to be inserted at location: -1\n",
      "Node: (3, 0x10b682f30) to be inserted at location: -1\n",
      "\n",
      "Before Delete:\n",
      "[[[HEAD(0x7fa27333ef10)]]] -> (1, 0x7fa27333e220) -> (2, 0x7fa27333ea30) -> (3, 0x10b682f30) <- [[[TAIL(0x7fa27333ea30)]]]\n",
      "\n",
      "After Delete:\n",
      "[[[HEAD(0x7fa27333e220)]]] -> (2, 0x7fa27333ea30) -> (3, 0x10b682f30) <- [[[TAIL(0x7fa27333ea30)]]]\n",
      "\n",
      "Before Delete:\n",
      "[[[HEAD(0x7fa27333e220)]]] -> (2, 0x7fa27333ea30) -> (3, 0x10b682f30) <- [[[TAIL(0x7fa27333ea30)]]]\n",
      "\n",
      "After Delete:\n",
      "[[[HEAD(0x7fa27333ea30)]]] -> (3, 0x10b682f30) <- [[[TAIL(0x7fa27333ea30)]]]\n",
      "\n",
      "Before Delete:\n",
      "[[[HEAD(0x7fa27333ea30)]]] -> (3, 0x10b682f30) <- [[[TAIL(0x7fa27333ea30)]]]\n",
      "\n",
      "After Delete:\n",
      "The linked list is empty\n",
      "******************************************************************************************************************************************************\n"
     ]
    }
   ],
   "metadata": {}
  },
  {
   "cell_type": "markdown",
   "source": [
    "#### Deletion from last"
   ],
   "metadata": {}
  },
  {
   "cell_type": "code",
   "execution_count": 52,
   "source": [
    "print('*'*150)\n",
    "print('Testing: Deletion from last\\n')\n",
    "\n",
    "sll = SingleLinkedList()\n",
    "sll.insert(1)\n",
    "sll.insert(2)\n",
    "sll.insert(3)\n",
    "\n",
    "print(f'\\nBefore Delete:\\n{sll}')\n",
    "sll.delete()\n",
    "print(f'\\nAfter Delete:\\n{sll}')\n",
    "\n",
    "print(f'\\nBefore Delete:\\n{sll}')\n",
    "sll.delete()\n",
    "print(f'\\nAfter Delete:\\n{sll}')\n",
    "\n",
    "print(f'\\nBefore Delete:\\n{sll}')\n",
    "sll.delete()\n",
    "print(f'\\nAfter Delete:\\n{sll}')\n",
    "\n",
    "print('*'*150)"
   ],
   "outputs": [
    {
     "output_type": "stream",
     "name": "stdout",
     "text": [
      "******************************************************************************************************************************************************\n",
      "Testing: Deletion from last\n",
      "\n",
      "Node: (1, 0x10b682f30) to be inserted at location: -1\n",
      "Node: (2, 0x10b682f30) to be inserted at location: -1\n",
      "Node: (3, 0x10b682f30) to be inserted at location: -1\n",
      "\n",
      "Before Delete:\n",
      "[[[HEAD(0x7fa2733e73d0)]]] -> (1, 0x7fa2733e7070) -> (2, 0x7fa2733e78e0) -> (3, 0x10b682f30) <- [[[TAIL(0x7fa2733e78e0)]]]\n",
      "\n",
      "After Delete:\n",
      "[[[HEAD(0x7fa2733e73d0)]]] -> (1, 0x7fa2733e7070) -> (2, 0x10b682f30) <- [[[TAIL(0x7fa2733e7070)]]]\n",
      "\n",
      "Before Delete:\n",
      "[[[HEAD(0x7fa2733e73d0)]]] -> (1, 0x7fa2733e7070) -> (2, 0x10b682f30) <- [[[TAIL(0x7fa2733e7070)]]]\n",
      "\n",
      "After Delete:\n",
      "[[[HEAD(0x7fa2733e73d0)]]] -> (1, 0x10b682f30) <- [[[TAIL(0x7fa2733e73d0)]]]\n",
      "\n",
      "Before Delete:\n",
      "[[[HEAD(0x7fa2733e73d0)]]] -> (1, 0x10b682f30) <- [[[TAIL(0x7fa2733e73d0)]]]\n",
      "\n",
      "After Delete:\n",
      "The linked list is empty\n",
      "******************************************************************************************************************************************************\n"
     ]
    }
   ],
   "metadata": {}
  },
  {
   "cell_type": "markdown",
   "source": [
    "#### Delete from nth position"
   ],
   "metadata": {}
  },
  {
   "cell_type": "code",
   "execution_count": 53,
   "source": [
    "print('*'*150)\n",
    "print('Testing: Deletion from nth place\\n')\n",
    "\n",
    "sll = SingleLinkedList()\n",
    "sll.insert(1)\n",
    "sll.insert(2)\n",
    "sll.insert(3)\n",
    "\n",
    "print(f'\\nBefore Delete:\\n{sll}')\n",
    "sll.delete(2)\n",
    "print(f'\\nAfter Delete:\\n{sll}')\n",
    "\n",
    "print(f'\\nBefore Delete:\\n{sll}')\n",
    "sll.delete(2)\n",
    "print(f'\\nAfter Delete:\\n{sll}')\n",
    "\n",
    "print('*'*150)"
   ],
   "outputs": [
    {
     "output_type": "stream",
     "name": "stdout",
     "text": [
      "******************************************************************************************************************************************************\n",
      "Testing: Deletion from nth place\n",
      "\n",
      "Node: (1, 0x10b682f30) to be inserted at location: -1\n",
      "Node: (2, 0x10b682f30) to be inserted at location: -1\n",
      "Node: (3, 0x10b682f30) to be inserted at location: -1\n",
      "\n",
      "Before Delete:\n",
      "[[[HEAD(0x7fa27333e4f0)]]] -> (1, 0x7fa27333ea00) -> (2, 0x7fa27333edc0) -> (3, 0x10b682f30) <- [[[TAIL(0x7fa27333edc0)]]]\n",
      "\n",
      "After Delete:\n",
      "[[[HEAD(0x7fa27333e4f0)]]] -> (1, 0x7fa27333edc0) -> (3, 0x10b682f30) <- [[[TAIL(0x7fa27333edc0)]]]\n",
      "\n",
      "Before Delete:\n",
      "[[[HEAD(0x7fa27333e4f0)]]] -> (1, 0x7fa27333edc0) -> (3, 0x10b682f30) <- [[[TAIL(0x7fa27333edc0)]]]\n",
      "\n",
      "After Delete:\n",
      "[[[HEAD(0x7fa27333e4f0)]]] -> (1, 0x10b682f30) <- [[[TAIL(0x7fa27333e4f0)]]]\n",
      "******************************************************************************************************************************************************\n"
     ]
    }
   ],
   "metadata": {}
  },
  {
   "cell_type": "markdown",
   "source": [
    "### Complexity Analysis: Array vs Linked List"
   ],
   "metadata": {}
  },
  {
   "cell_type": "markdown",
   "source": [
    "<table>\n",
    "<tr><th></th><th>Array</th><th>Linked List</th></tr>\n",
    "<tr><td>Creation</td><td>O(1)</td><td>O(1)</td></tr>\n",
    "<tr><td colspan=\"3\"></td></tr>\n",
    "<tr><td>Insertion at first/last position</td><td>O(1)</td><td>O(1)</td></tr>\n",
    "<tr><td>Insertion at n<sup>th</sup> position</td><td>O(1)</td><td>O(n)</td></tr>\n",
    "<tr><td colspan=\"3\"></td></tr>\n",
    "<tr><td>Search in unsorted data</td><td>O(n)</td><td>O(n)</td></tr>\n",
    "<tr><td>Search in sorted data</td><td>O(log n)</td><td>O(n)</td></tr>\n",
    "<tr><td>Traversing</td><td>O(n)</td><td>O(n)</td></tr>\n",
    "<tr><td colspan=\"3\"></td></tr>\n",
    "<tr><td>Deletion from first position</td><td>O(1)</td><td>O(1)</td></tr>\n",
    "<tr><td>Deletion from n<sup>th</sup>/last position</td><td>O(1)</td><td>O(n)</td></tr>\n",
    "<tr><td>Deletion of linked list</td><td>O(1)</td><td>O(1)</td></tr>\n",
    "<tr><td colspan=\"3\"></td></tr>\n",
    "<tr><td>Accessing n<sup>th</sup> element</td><td>O(1)</td><td>O(n)</td></tr>\n",
    "</table>\n",
    "<p>The Space complexity of a all linked list operations is O(1)</>"
   ],
   "metadata": {}
  },
  {
   "cell_type": "markdown",
   "source": [],
   "metadata": {}
  }
 ],
 "metadata": {
  "orig_nbformat": 4,
  "language_info": {
   "name": "python",
   "version": "3.9.6",
   "mimetype": "text/x-python",
   "codemirror_mode": {
    "name": "ipython",
    "version": 3
   },
   "pygments_lexer": "ipython3",
   "nbconvert_exporter": "python",
   "file_extension": ".py"
  },
  "kernelspec": {
   "name": "python3",
   "display_name": "Python 3.9.6 64-bit"
  },
  "interpreter": {
   "hash": "aee8b7b246df8f9039afb4144a1f6fd8d2ca17a180786b69acc140d282b71a49"
  }
 },
 "nbformat": 4,
 "nbformat_minor": 2
}