{
 "cells": [
  {
   "cell_type": "markdown",
   "source": [
    "## What is a linked list?"
   ],
   "metadata": {}
  },
  {
   "cell_type": "markdown",
   "source": [
    "<p>A Linked List, like an array, is a linear / sequential data structure. However, the elements of a linked list, unlike an array, are not stored at contiguous memory locations; they are connected (linked) using pointers.</p>\n",
    "<p>A linked list consists of:<ul><li><b><u>nodes</u></b> where each node contains a <b><u>data field</b></u> and a <b><u>reference (link)</b></u> to the next node in the list.</li><li>a head pointer that points to the first node of the list.</li><li>a tail pointer that points to the last node of the list.</li></ul></p>\n",
    "<img src=\"Image/fig1-sll.png\" alt=\"Image/fig1-sll.png\"/>"
   ],
   "metadata": {}
  },
  {
   "cell_type": "markdown",
   "source": [
    "## Linked List vs Array"
   ],
   "metadata": {}
  },
  {
   "cell_type": "markdown",
   "source": [
    "<p>The major differences are listed below:<ul><li>The size of a linked list can <u>increase dynamically</u> while the size of an array is static.</li><li>Insertion/Deletion of an element from the middle of a linked list is <u>much faster</u> than that of an array (as no shifting of elements is needed).</li><li>Direct access of elements is <u>much faster</u> with arrays; compared to linked lists (as all previous elements must be traversed to reach any element\n",
    ").</li><li>Linked lists require <u>more memory</u> compared to arrays (as they store the reference of the next node in current node).</li></ul></p>"
   ],
   "metadata": {}
  },
  {
   "cell_type": "markdown",
   "source": [
    "## Types of linked list"
   ],
   "metadata": {}
  },
  {
   "cell_type": "markdown",
   "source": [
    "<p>The various types of linked list are:<ul><li>Single Linked List<br/><img src=\"Image/fig1-sll.png\" width=\"500\" alt=\"Image/fig1-sll.png\"/><br/><br/></li><li>Circular Single Linked List<br/><img src=\"Image/fig2-csll.png\" width=\"500\" alt=\"Image/fig2-csll.png\"/><br/><br/></li><li>Double Linked List<br/><img src=\"Image/fig3-dll.png\" width=\"500\" alt=\"Image/fig3-dll.png\"/><br/><br/></li><li>Circular Double Linked List<br/><img src=\"Image/fig4-cdll.png\" width=\"500\" alt=\"Image/fig4-cdll.png\"/></li></ul></p>"
   ],
   "metadata": {}
  },
  {
   "cell_type": "markdown",
   "source": [
    "## Single Linked List"
   ],
   "metadata": {}
  },
  {
   "cell_type": "markdown",
   "source": [
    "### Code"
   ],
   "metadata": {}
  },
  {
   "cell_type": "code",
   "execution_count": 114,
   "source": [
    "class Node:\n",
    "    def __init__(self, value):\n",
    "        self.data = value\n",
    "        self.next = None\n",
    "    \n",
    "    def __str__(self):\n",
    "        return f'({self.data}, {hex(id(self.next))})'\n"
   ],
   "outputs": [],
   "metadata": {}
  },
  {
   "cell_type": "code",
   "execution_count": 115,
   "source": [
    "class SingleLinkedList:\n",
    "    def __init__(self):\n",
    "        self.head = None\n",
    "        self.tail = None\n",
    "        self.length = 0\n",
    "\n",
    "\n",
    "    def __str__(self):\n",
    "        result = ''\n",
    "        if self.length > 0:\n",
    "            current_node = self.head\n",
    "\n",
    "            result += f'[[[HEAD({hex(id(self.head))})]]] -> '\n",
    "            while current_node.next:\n",
    "                result += f'{current_node} -> '\n",
    "                current_node = current_node.next\n",
    "            result += f'{current_node} <- [[[TAIL({hex(id(self.tail))})]]]'\n",
    "        else:\n",
    "            result = \"The linked list is empty\"\n",
    "        \n",
    "        return result\n",
    "\n",
    "    \n",
    "    def insert(self, value, pos=-1):\n",
    "        node = Node(value)\n",
    "        print(f'Node: {node} to be inserted at location: {pos}')\n",
    "        \n",
    "        if self.head is None:\n",
    "            #print('Inserting to empty linked list')\n",
    "            if pos not in [1, -1]:\n",
    "                raise IndexError(f\"The linked list is empty. The value of pos should be 1 or -1\")\n",
    "            \n",
    "            self.head = node\n",
    "            self.tail = node\n",
    "\n",
    "        else:\n",
    "            if pos == 1:\n",
    "                #print('Inserting to first position of linked list')\n",
    "                node.next = self.head\n",
    "                self.head = node\n",
    "            \n",
    "            elif pos == -1:\n",
    "                #print('Inserting to last position of linked list')\n",
    "                self.tail.next = node\n",
    "                self.tail = node\n",
    "            \n",
    "            else:\n",
    "                #print('Inserting to nth position of linked list')\n",
    "                if pos > self.length:\n",
    "                    raise IndexError(f\"The value of pos should be between 1 and {self.length}\")\n",
    "                \n",
    "                current_node = self.head\n",
    "                for i in range(1, pos-1):\n",
    "                    current_node = current_node.next\n",
    "                \n",
    "                node.next = current_node.next\n",
    "                current_node.next = node\n",
    "            \n",
    "        self.length += 1\n",
    "\n",
    "    \n",
    "    def traverse(self):\n",
    "        if self.length > 0:\n",
    "            current_node = self.head\n",
    "            while current_node:\n",
    "                print(current_node.data, end = ' -> ')\n",
    "                current_node = current_node.next\n",
    "            print('NULL\\n')\n",
    "\n",
    "        else:\n",
    "            print('Linked list is empty')\n",
    "\n",
    "\n",
    "    def find_index(self, search_data):\n",
    "        result = -1\n",
    "\n",
    "        if self.length > 0:\n",
    "            current_node = self.head\n",
    "            idx = 1\n",
    "            while current_node:\n",
    "                if search_data == current_node.data:\n",
    "                    result = idx\n",
    "                    break\n",
    "\n",
    "                current_node = current_node.next\n",
    "                idx += 1\n",
    "\n",
    "        return result\n",
    "\n",
    "\n",
    "    def delete(self, pos = -1):   \n",
    "        if self.head is None:\n",
    "            raise ValueError(\"Operation not permitted as linked list is empty!\")\n",
    "        \n",
    "        if pos > self.length:\n",
    "            raise IndexError(f\"The value of pos should between 1 and {self.length}\")\n",
    "        \n",
    "        if pos in [1, -1] and self.head == self.tail:\n",
    "            #print('Deleting when linked list has only 1 element')\n",
    "            self.head = self.tail = None\n",
    "\n",
    "        elif pos == 1:\n",
    "            #print('Deleting from first when linked list has more than 1 element')\n",
    "            self.head = self.head.next\n",
    "        \n",
    "        else:\n",
    "            #print('Deleting from last / nth when linked list has more than 1 element')\n",
    "            previous_node = self.head\n",
    "            current_node = self.head.next\n",
    "            idx_upper_bound = self.length if pos == -1 else pos\n",
    "            for idx in range(1, idx_upper_bound - 1):\n",
    "                previous_node = previous_node.next\n",
    "                current_node = current_node.next\n",
    "            \n",
    "            if current_node == self.tail:\n",
    "                self.tail = previous_node\n",
    "            \n",
    "            previous_node.next = current_node.next\n",
    "            current_node.next = None\n",
    "                \n",
    "        self.length -= 1\n",
    "    \n",
    "\n",
    "    def empty(self):\n",
    "        if self.head is None:\n",
    "            raise ValueError(\"Operation not permitted as linked list is empty!\")\n",
    "        \n",
    "        self.head = None\n",
    "        self.tail = None\n",
    "\n",
    "        self.length = 0\n",
    "\n"
   ],
   "outputs": [],
   "metadata": {}
  },
  {
   "cell_type": "markdown",
   "source": [
    "### Test"
   ],
   "metadata": {}
  },
  {
   "cell_type": "markdown",
   "source": [
    "#### Insertion to empty linked list"
   ],
   "metadata": {}
  },
  {
   "cell_type": "code",
   "execution_count": 116,
   "source": [
    "print('*'*150)\n",
    "print('Testing: Insertion to empty linked list\\n')\n",
    "\n",
    "sll = SingleLinkedList()\n",
    "print(f'Before Insert:\\n{sll}')\n",
    "sll.insert(1)\n",
    "print(f'After Insert:\\n{sll}\\n')\n",
    "\n",
    "print('*'*150)\n"
   ],
   "outputs": [
    {
     "output_type": "stream",
     "name": "stdout",
     "text": [
      "******************************************************************************************************************************************************\n",
      "Testing: Insertion to empty linked list\n",
      "\n",
      "Before Insert:\n",
      "The linked list is empty\n",
      "Node: (1, 0x10d293f30) to be inserted at location: -1\n",
      "After Insert:\n",
      "[[[HEAD(0x7f9676ccd3a0)]]] -> (1, 0x10d293f30) <- [[[TAIL(0x7f9676ccd3a0)]]]\n",
      "\n",
      "******************************************************************************************************************************************************\n"
     ]
    }
   ],
   "metadata": {}
  },
  {
   "cell_type": "markdown",
   "source": [
    "#### Insertion to end of linked list"
   ],
   "metadata": {}
  },
  {
   "cell_type": "code",
   "execution_count": 117,
   "source": [
    "print('*'*150)\n",
    "print('Testing: Insertion to end of linked list\\n')\n",
    "\n",
    "sll = SingleLinkedList()\n",
    "\n",
    "print(f'Before Insert:\\n{sll}')\n",
    "sll.insert('abc')\n",
    "print(f'After Insert:\\n{sll}\\n')\n",
    "\n",
    "print(f'Before Insert:\\n{sll}')\n",
    "sll.insert(123, -1)\n",
    "print(f'After Insert:\\n{sll}\\n')\n",
    "\n",
    "print(f'Before Insert:\\n{sll}')\n",
    "sll.insert(4.56, -1)\n",
    "print(f'After Insert:\\n{sll}\\n')\n",
    "\n",
    "print('*'*150)"
   ],
   "outputs": [
    {
     "output_type": "stream",
     "name": "stdout",
     "text": [
      "******************************************************************************************************************************************************\n",
      "Testing: Insertion to end of linked list\n",
      "\n",
      "Before Insert:\n",
      "The linked list is empty\n",
      "Node: (abc, 0x10d293f30) to be inserted at location: -1\n",
      "After Insert:\n",
      "[[[HEAD(0x7f9676ccdd30)]]] -> (abc, 0x10d293f30) <- [[[TAIL(0x7f9676ccdd30)]]]\n",
      "\n",
      "Before Insert:\n",
      "[[[HEAD(0x7f9676ccdd30)]]] -> (abc, 0x10d293f30) <- [[[TAIL(0x7f9676ccdd30)]]]\n",
      "Node: (123, 0x10d293f30) to be inserted at location: -1\n",
      "After Insert:\n",
      "[[[HEAD(0x7f9676ccdd30)]]] -> (abc, 0x7f9676ca5250) -> (123, 0x10d293f30) <- [[[TAIL(0x7f9676ca5250)]]]\n",
      "\n",
      "Before Insert:\n",
      "[[[HEAD(0x7f9676ccdd30)]]] -> (abc, 0x7f9676ca5250) -> (123, 0x10d293f30) <- [[[TAIL(0x7f9676ca5250)]]]\n",
      "Node: (4.56, 0x10d293f30) to be inserted at location: -1\n",
      "After Insert:\n",
      "[[[HEAD(0x7f9676ccdd30)]]] -> (abc, 0x7f9676ca5250) -> (123, 0x7f9676ca5ee0) -> (4.56, 0x10d293f30) <- [[[TAIL(0x7f9676ca5ee0)]]]\n",
      "\n",
      "******************************************************************************************************************************************************\n"
     ]
    }
   ],
   "metadata": {}
  },
  {
   "cell_type": "markdown",
   "source": [
    "#### Insertion to start of linked list"
   ],
   "metadata": {}
  },
  {
   "cell_type": "code",
   "execution_count": 118,
   "source": [
    "print('*'*150)\n",
    "print('Testing: Insertion to start of linked list\\n')\n",
    "\n",
    "sll = SingleLinkedList()\n",
    "\n",
    "print(f'Before Insert:\\n{sll}')\n",
    "sll.insert(3, 1)\n",
    "print(f'After Insert:\\n{sll}\\n')\n",
    "\n",
    "print(f'Before Insert:\\n{sll}')\n",
    "sll.insert(2, 1)\n",
    "print(f'After Insert:\\n{sll}\\n')\n",
    "\n",
    "print(f'Before Insert:\\n{sll}')\n",
    "sll.insert(1, 1)\n",
    "print(f'After Insert:\\n{sll}\\n')\n",
    "\n",
    "print('*'*150)\n"
   ],
   "outputs": [
    {
     "output_type": "stream",
     "name": "stdout",
     "text": [
      "******************************************************************************************************************************************************\n",
      "Testing: Insertion to start of linked list\n",
      "\n",
      "Before Insert:\n",
      "The linked list is empty\n",
      "Node: (3, 0x10d293f30) to be inserted at location: 1\n",
      "After Insert:\n",
      "[[[HEAD(0x7f9676ccd880)]]] -> (3, 0x10d293f30) <- [[[TAIL(0x7f9676ccd880)]]]\n",
      "\n",
      "Before Insert:\n",
      "[[[HEAD(0x7f9676ccd880)]]] -> (3, 0x10d293f30) <- [[[TAIL(0x7f9676ccd880)]]]\n",
      "Node: (2, 0x10d293f30) to be inserted at location: 1\n",
      "After Insert:\n",
      "[[[HEAD(0x7f9675b75670)]]] -> (2, 0x7f9676ccd880) -> (3, 0x10d293f30) <- [[[TAIL(0x7f9676ccd880)]]]\n",
      "\n",
      "Before Insert:\n",
      "[[[HEAD(0x7f9675b75670)]]] -> (2, 0x7f9676ccd880) -> (3, 0x10d293f30) <- [[[TAIL(0x7f9676ccd880)]]]\n",
      "Node: (1, 0x10d293f30) to be inserted at location: 1\n",
      "After Insert:\n",
      "[[[HEAD(0x7f9675b757f0)]]] -> (1, 0x7f9675b75670) -> (2, 0x7f9676ccd880) -> (3, 0x10d293f30) <- [[[TAIL(0x7f9676ccd880)]]]\n",
      "\n",
      "******************************************************************************************************************************************************\n"
     ]
    }
   ],
   "metadata": {}
  },
  {
   "cell_type": "markdown",
   "source": [
    "#### Insertion in between linked list"
   ],
   "metadata": {}
  },
  {
   "cell_type": "code",
   "execution_count": 119,
   "source": [
    "print('*'*150)\n",
    "print('Testing: Insertion to start of linked list\\n')\n",
    "\n",
    "sll = SingleLinkedList()\n",
    "sll.insert(1)\n",
    "sll.insert(3)\n",
    "sll.insert(5)\n",
    "\n",
    "print(f'\\nBefore Insert:\\n{sll}')\n",
    "sll.insert(4, 3)\n",
    "print(f'After Insert:\\n{sll}\\n')\n",
    "\n",
    "print(f'Before Insert:\\n{sll}')\n",
    "sll.insert(2, 2)\n",
    "print(f'After Insert:\\n{sll}\\n')\n",
    "\n",
    "print('*'*150)\n",
    "\n"
   ],
   "outputs": [
    {
     "output_type": "stream",
     "name": "stdout",
     "text": [
      "******************************************************************************************************************************************************\n",
      "Testing: Insertion to start of linked list\n",
      "\n",
      "Node: (1, 0x10d293f30) to be inserted at location: -1\n",
      "Node: (3, 0x10d293f30) to be inserted at location: -1\n",
      "Node: (5, 0x10d293f30) to be inserted at location: -1\n",
      "\n",
      "Before Insert:\n",
      "[[[HEAD(0x7f9675b75670)]]] -> (1, 0x7f9675b757f0) -> (3, 0x7f9676ccd700) -> (5, 0x10d293f30) <- [[[TAIL(0x7f9676ccd700)]]]\n",
      "Node: (4, 0x10d293f30) to be inserted at location: 3\n",
      "After Insert:\n",
      "[[[HEAD(0x7f9675b75670)]]] -> (1, 0x7f9675b757f0) -> (3, 0x7f9676ca5310) -> (4, 0x7f9676ccd700) -> (5, 0x10d293f30) <- [[[TAIL(0x7f9676ccd700)]]]\n",
      "\n",
      "Before Insert:\n",
      "[[[HEAD(0x7f9675b75670)]]] -> (1, 0x7f9675b757f0) -> (3, 0x7f9676ca5310) -> (4, 0x7f9676ccd700) -> (5, 0x10d293f30) <- [[[TAIL(0x7f9676ccd700)]]]\n",
      "Node: (2, 0x10d293f30) to be inserted at location: 2\n",
      "After Insert:\n",
      "[[[HEAD(0x7f9675b75670)]]] -> (1, 0x7f9676ca5c40) -> (2, 0x7f9675b757f0) -> (3, 0x7f9676ca5310) -> (4, 0x7f9676ccd700) -> (5, 0x10d293f30) <- [[[TAIL(0x7f9676ccd700)]]]\n",
      "\n",
      "******************************************************************************************************************************************************\n"
     ]
    }
   ],
   "metadata": {}
  },
  {
   "cell_type": "markdown",
   "source": [
    "#### Traversal of linked list"
   ],
   "metadata": {}
  },
  {
   "cell_type": "code",
   "execution_count": 120,
   "source": [
    "print('*'*150)\n",
    "print('Testing: Traversal of linked list\\n')\n",
    "\n",
    "sll.traverse()\n",
    "\n",
    "print('*'*150)\n"
   ],
   "outputs": [
    {
     "output_type": "stream",
     "name": "stdout",
     "text": [
      "******************************************************************************************************************************************************\n",
      "Testing: Traversal of linked list\n",
      "\n",
      "1 -> 2 -> 3 -> 4 -> 5 -> NULL\n",
      "\n",
      "******************************************************************************************************************************************************\n"
     ]
    }
   ],
   "metadata": {}
  },
  {
   "cell_type": "markdown",
   "source": [
    "#### Searching for a value"
   ],
   "metadata": {}
  },
  {
   "cell_type": "code",
   "execution_count": 121,
   "source": [
    "print('*'*150)\n",
    "print('Testing: Traversal of linked list\\n')\n",
    "\n",
    "print(f'Index of 100 in empty list = {SingleLinkedList().find_index(100)}\\n')\n",
    "\n",
    "print(f'sll = ', end='')\n",
    "sll.traverse()\n",
    "\n",
    "print(f'Index of 5 = {sll.find_index(5)}')\n",
    "print(f'Index of 100 = {sll.find_index(100)}')\n",
    "\n",
    "print('*'*150)"
   ],
   "outputs": [
    {
     "output_type": "stream",
     "name": "stdout",
     "text": [
      "******************************************************************************************************************************************************\n",
      "Testing: Traversal of linked list\n",
      "\n",
      "Index of 100 in empty list = -1\n",
      "\n",
      "sll = 1 -> 2 -> 3 -> 4 -> 5 -> NULL\n",
      "\n",
      "Index of 5 = 5\n",
      "Index of 100 = -1\n",
      "******************************************************************************************************************************************************\n"
     ]
    }
   ],
   "metadata": {}
  },
  {
   "cell_type": "markdown",
   "source": [
    "#### Deletion when list has just 1 element"
   ],
   "metadata": {}
  },
  {
   "cell_type": "code",
   "execution_count": 122,
   "source": [
    "print('*'*150)\n",
    "print('Testing: Deletion when list has just 1 element\\n')\n",
    "\n",
    "sll = SingleLinkedList()\n",
    "sll.insert(123)\n",
    "\n",
    "print(f'\\nBefore Delete:\\n{sll}')\n",
    "sll.delete()\n",
    "print(f'\\nAfter Delete:\\n{sll}')\n",
    "\n",
    "print('*'*150)\n"
   ],
   "outputs": [
    {
     "output_type": "stream",
     "name": "stdout",
     "text": [
      "******************************************************************************************************************************************************\n",
      "Testing: Deletion when list has just 1 element\n",
      "\n",
      "Node: (123, 0x10d293f30) to be inserted at location: -1\n",
      "\n",
      "Before Delete:\n",
      "[[[HEAD(0x7f9675b757f0)]]] -> (123, 0x10d293f30) <- [[[TAIL(0x7f9675b757f0)]]]\n",
      "\n",
      "After Delete:\n",
      "The linked list is empty\n",
      "******************************************************************************************************************************************************\n"
     ]
    }
   ],
   "metadata": {}
  },
  {
   "cell_type": "markdown",
   "source": [
    "#### Deletion from first"
   ],
   "metadata": {}
  },
  {
   "cell_type": "code",
   "execution_count": 123,
   "source": [
    "print('*'*150)\n",
    "print('Testing: Deletion from first\\n')\n",
    "\n",
    "sll = SingleLinkedList()\n",
    "sll.insert(1)\n",
    "sll.insert(2)\n",
    "sll.insert(3)\n",
    "\n",
    "print(f'\\nBefore Delete:\\n{sll}')\n",
    "sll.delete(pos=1)\n",
    "print(f'\\nAfter Delete:\\n{sll}')\n",
    "\n",
    "print(f'\\nBefore Delete:\\n{sll}')\n",
    "sll.delete(pos=1)\n",
    "print(f'\\nAfter Delete:\\n{sll}')\n",
    "\n",
    "print(f'\\nBefore Delete:\\n{sll}')\n",
    "sll.delete(pos=1)\n",
    "print(f'\\nAfter Delete:\\n{sll}')\n",
    "\n",
    "print('*'*150)\n"
   ],
   "outputs": [
    {
     "output_type": "stream",
     "name": "stdout",
     "text": [
      "******************************************************************************************************************************************************\n",
      "Testing: Deletion from first\n",
      "\n",
      "Node: (1, 0x10d293f30) to be inserted at location: -1\n",
      "Node: (2, 0x10d293f30) to be inserted at location: -1\n",
      "Node: (3, 0x10d293f30) to be inserted at location: -1\n",
      "\n",
      "Before Delete:\n",
      "[[[HEAD(0x7f9676ccdbb0)]]] -> (1, 0x7f9676ccda60) -> (2, 0x7f9676ca5ca0) -> (3, 0x10d293f30) <- [[[TAIL(0x7f9676ca5ca0)]]]\n",
      "\n",
      "After Delete:\n",
      "[[[HEAD(0x7f9676ccda60)]]] -> (2, 0x7f9676ca5ca0) -> (3, 0x10d293f30) <- [[[TAIL(0x7f9676ca5ca0)]]]\n",
      "\n",
      "Before Delete:\n",
      "[[[HEAD(0x7f9676ccda60)]]] -> (2, 0x7f9676ca5ca0) -> (3, 0x10d293f30) <- [[[TAIL(0x7f9676ca5ca0)]]]\n",
      "\n",
      "After Delete:\n",
      "[[[HEAD(0x7f9676ca5ca0)]]] -> (3, 0x10d293f30) <- [[[TAIL(0x7f9676ca5ca0)]]]\n",
      "\n",
      "Before Delete:\n",
      "[[[HEAD(0x7f9676ca5ca0)]]] -> (3, 0x10d293f30) <- [[[TAIL(0x7f9676ca5ca0)]]]\n",
      "\n",
      "After Delete:\n",
      "The linked list is empty\n",
      "******************************************************************************************************************************************************\n"
     ]
    }
   ],
   "metadata": {}
  },
  {
   "cell_type": "markdown",
   "source": [
    "#### Deletion from last"
   ],
   "metadata": {}
  },
  {
   "cell_type": "code",
   "execution_count": 124,
   "source": [
    "print('*'*150)\n",
    "print('Testing: Deletion from last\\n')\n",
    "\n",
    "sll = SingleLinkedList()\n",
    "sll.insert(1)\n",
    "sll.insert(2)\n",
    "sll.insert(3)\n",
    "\n",
    "print(f'\\nBefore Delete:\\n{sll}')\n",
    "sll.delete()\n",
    "print(f'\\nAfter Delete:\\n{sll}')\n",
    "\n",
    "print(f'\\nBefore Delete:\\n{sll}')\n",
    "sll.delete()\n",
    "print(f'\\nAfter Delete:\\n{sll}')\n",
    "\n",
    "print(f'\\nBefore Delete:\\n{sll}')\n",
    "sll.delete()\n",
    "print(f'\\nAfter Delete:\\n{sll}')\n",
    "\n",
    "print('*'*150)"
   ],
   "outputs": [
    {
     "output_type": "stream",
     "name": "stdout",
     "text": [
      "******************************************************************************************************************************************************\n",
      "Testing: Deletion from last\n",
      "\n",
      "Node: (1, 0x10d293f30) to be inserted at location: -1\n",
      "Node: (2, 0x10d293f30) to be inserted at location: -1\n",
      "Node: (3, 0x10d293f30) to be inserted at location: -1\n",
      "\n",
      "Before Delete:\n",
      "[[[HEAD(0x7f9676ccdd00)]]] -> (1, 0x7f9676ccd3d0) -> (2, 0x7f9676ccd4f0) -> (3, 0x10d293f30) <- [[[TAIL(0x7f9676ccd4f0)]]]\n",
      "\n",
      "After Delete:\n",
      "[[[HEAD(0x7f9676ccdd00)]]] -> (1, 0x7f9676ccd3d0) -> (2, 0x10d293f30) <- [[[TAIL(0x7f9676ccd3d0)]]]\n",
      "\n",
      "Before Delete:\n",
      "[[[HEAD(0x7f9676ccdd00)]]] -> (1, 0x7f9676ccd3d0) -> (2, 0x10d293f30) <- [[[TAIL(0x7f9676ccd3d0)]]]\n",
      "\n",
      "After Delete:\n",
      "[[[HEAD(0x7f9676ccdd00)]]] -> (1, 0x10d293f30) <- [[[TAIL(0x7f9676ccdd00)]]]\n",
      "\n",
      "Before Delete:\n",
      "[[[HEAD(0x7f9676ccdd00)]]] -> (1, 0x10d293f30) <- [[[TAIL(0x7f9676ccdd00)]]]\n",
      "\n",
      "After Delete:\n",
      "The linked list is empty\n",
      "******************************************************************************************************************************************************\n"
     ]
    }
   ],
   "metadata": {}
  },
  {
   "cell_type": "markdown",
   "source": [
    "#### Delete from nth position"
   ],
   "metadata": {}
  },
  {
   "cell_type": "code",
   "execution_count": 125,
   "source": [
    "print('*'*150)\n",
    "print('Testing: Deletion from nth place\\n')\n",
    "\n",
    "sll = SingleLinkedList()\n",
    "sll.insert(1)\n",
    "sll.insert(2)\n",
    "sll.insert(3)\n",
    "\n",
    "print(f'\\nBefore Delete:\\n{sll}')\n",
    "sll.delete(2)\n",
    "print(f'\\nAfter Delete:\\n{sll}')\n",
    "\n",
    "print(f'\\nBefore Delete:\\n{sll}')\n",
    "sll.delete(2)\n",
    "print(f'\\nAfter Delete:\\n{sll}')\n",
    "\n",
    "print('*'*150)"
   ],
   "outputs": [
    {
     "output_type": "stream",
     "name": "stdout",
     "text": [
      "******************************************************************************************************************************************************\n",
      "Testing: Deletion from nth place\n",
      "\n",
      "Node: (1, 0x10d293f30) to be inserted at location: -1\n",
      "Node: (2, 0x10d293f30) to be inserted at location: -1\n",
      "Node: (3, 0x10d293f30) to be inserted at location: -1\n",
      "\n",
      "Before Delete:\n",
      "[[[HEAD(0x7f9675b75ca0)]]] -> (1, 0x7f9675b75e50) -> (2, 0x7f9675b75c10) -> (3, 0x10d293f30) <- [[[TAIL(0x7f9675b75c10)]]]\n",
      "\n",
      "After Delete:\n",
      "[[[HEAD(0x7f9675b75ca0)]]] -> (1, 0x7f9675b75c10) -> (3, 0x10d293f30) <- [[[TAIL(0x7f9675b75c10)]]]\n",
      "\n",
      "Before Delete:\n",
      "[[[HEAD(0x7f9675b75ca0)]]] -> (1, 0x7f9675b75c10) -> (3, 0x10d293f30) <- [[[TAIL(0x7f9675b75c10)]]]\n",
      "\n",
      "After Delete:\n",
      "[[[HEAD(0x7f9675b75ca0)]]] -> (1, 0x10d293f30) <- [[[TAIL(0x7f9675b75ca0)]]]\n",
      "******************************************************************************************************************************************************\n"
     ]
    }
   ],
   "metadata": {}
  },
  {
   "cell_type": "markdown",
   "source": [
    "### Complexity Analysis: Array vs Linked List"
   ],
   "metadata": {}
  },
  {
   "cell_type": "markdown",
   "source": [
    "<table>\n",
    "<tr><th></th><th>Array</th><th>Linked List</th></tr>\n",
    "<tr><td>Creation</td><td>O(1)</td><td>O(1)</td></tr>\n",
    "<tr><td colspan=\"3\"></td></tr>\n",
    "<tr><td>Insertion at first/last position</td><td>O(1)</td><td>O(1)</td></tr>\n",
    "<tr><td>Insertion at n<sup>th</sup> position</td><td>O(1)</td><td>O(n)</td></tr>\n",
    "<tr><td colspan=\"3\"></td></tr>\n",
    "<tr><td>Search in unsorted data</td><td>O(n)</td><td>O(n)</td></tr>\n",
    "<tr><td>Search in sorted data</td><td>O(log n)</td><td>O(n)</td></tr>\n",
    "<tr><td>Traversing</td><td>O(n)</td><td>O(n)</td></tr>\n",
    "<tr><td colspan=\"3\"></td></tr>\n",
    "<tr><td>Deletion from first position</td><td>O(1)</td><td>O(1)</td></tr>\n",
    "<tr><td>Deletion from n<sup>th</sup>/last position</td><td>O(1)</td><td>O(n)</td></tr>\n",
    "<tr><td>Deletion of linked list</td><td>O(1)</td><td>O(1)</td></tr>\n",
    "<tr><td colspan=\"3\"></td></tr>\n",
    "<tr><td>Accessing n<sup>th</sup> element</td><td>O(1)</td><td>O(n)</td></tr>\n",
    "</table>\n",
    "<p>The Space complexity of a all linked list operations is O(1)</>"
   ],
   "metadata": {}
  },
  {
   "cell_type": "markdown",
   "source": [
    "## Circular Single Linked List"
   ],
   "metadata": {}
  },
  {
   "cell_type": "markdown",
   "source": [
    "### Code"
   ],
   "metadata": {}
  },
  {
   "cell_type": "code",
   "execution_count": 126,
   "source": [
    "class Node:\n",
    "    def __init__(self, data):\n",
    "        self.data = data\n",
    "        self.next = None\n",
    "    \n",
    "    def __str__(self):\n",
    "        return f'({self.data}, {hex(id(self.next))})'\n"
   ],
   "outputs": [],
   "metadata": {}
  },
  {
   "cell_type": "code",
   "execution_count": 127,
   "source": [
    "class CircularSingleLinkedList:\n",
    "    def __init__(self):\n",
    "        self.head = None\n",
    "        self.tail = None\n",
    "        self.length = 0\n",
    "    \n",
    "    \n",
    "    def __str__(self):\n",
    "        if self.head:\n",
    "            result = f'[[[HEAD ({hex(id(self.head))})]]]'\n",
    "            current_node = self.head\n",
    "            while True:\n",
    "                result += f' -> {current_node}'\n",
    "                if current_node == self.tail:\n",
    "                    break\n",
    "                current_node = current_node.next\n",
    "            result += f' <- [[[TAIL({hex(id(self.tail))})]]]'\n",
    "            return result\n",
    "        else:\n",
    "            return \"Circular Single Linked List is empty!\"\n",
    "    \n",
    "\n",
    "    def insert(self, data, pos=-1):\n",
    "        node = Node(data)\n",
    "\n",
    "        if self.head is None:\n",
    "            #print('Inserting to empty linked list')\n",
    "            if pos not in [1, -1]:\n",
    "                raise IndexError(f\"The circular single linked list is empty. The value of pos should be 1 or -1\")\n",
    "            \n",
    "            self.head = node\n",
    "            self.tail = node\n",
    "            node.next = node\n",
    "\n",
    "        else:\n",
    "            if pos == 1:\n",
    "                #print('Inserting to first position of linked list')\n",
    "                node.next = self.head\n",
    "                self.head = node\n",
    "                self.tail.next = node \n",
    "            \n",
    "            elif pos == -1:\n",
    "                #print('Inserting to last position of linked list')\n",
    "                self.tail.next = node\n",
    "                self.tail = node\n",
    "                node.next = self.head\n",
    "            \n",
    "            else:\n",
    "                #print('Inserting to nth position of linked list')\n",
    "                if pos > self.length:\n",
    "                    raise IndexError(f\"The value of pos should be between 1 and {self.length}\")\n",
    "                \n",
    "                current_node = self.head\n",
    "                for i in range(1, pos-1):\n",
    "                    current_node = current_node.next\n",
    "                \n",
    "                node.next = current_node.next\n",
    "                current_node.next = node\n",
    "        \n",
    "        self.length += 1\n",
    "    \n",
    "\n",
    "    def traverse(self):\n",
    "        if self.head is None:\n",
    "            print(\"Circular Single Linked List is empty!\")\n",
    "        else:\n",
    "            current_node = self.head\n",
    "            while True:\n",
    "                if current_node ==  self.tail:\n",
    "                    print(current_node.data, end=' <-> ')\n",
    "                    break\n",
    "                else:\n",
    "                    print(current_node.data, end=' -> ')\n",
    "                current_node = current_node.next\n",
    "            print('\\n')\n",
    "    \n",
    "    \n",
    "    def find_index(self, search_data):\n",
    "        result = -1\n",
    "\n",
    "        if self.head:\n",
    "            current_node = self.head\n",
    "            idx = 1\n",
    "            while True:\n",
    "                if search_data == current_node.data:\n",
    "                    result = idx\n",
    "                    break\n",
    "\n",
    "                if current_node == self.tail:\n",
    "                    break\n",
    "\n",
    "                current_node = current_node.next\n",
    "                idx += 1\n",
    "        \n",
    "        return result\n",
    "    \n",
    "    def empty(self):\n",
    "        if self.head is None:\n",
    "            raise ValueError(\"Operation not permitted as linked list is empty!\")\n",
    "        \n",
    "        self.tail.next = None\n",
    "\n",
    "        self.head = None\n",
    "        self.tail = None\n",
    "        \n",
    "        self.length = 0\n",
    "\n",
    "\n",
    "    def delete(self, pos=-1):\n",
    "        if self.head is None:\n",
    "            raise ValueError(\"Operation not permitted as linked list is empty!\")\n",
    "        \n",
    "        if pos > self.length:\n",
    "            raise IndexError(f\"The value of pos should between 1 and {self.length}\")\n",
    "        \n",
    "        if pos in [1, -1] and self.head == self.tail:\n",
    "            print('Deleting when linked list has only 1 element')\n",
    "            self.tail.next = None\n",
    "\n",
    "            self.head = None\n",
    "            self.tail = None\n",
    "\n",
    "        elif pos == 1:\n",
    "            print('Deleting from first when linked list has more than 1 element')\n",
    "            self.head = self.head.next\n",
    "            \n",
    "            self.tail.next = self.head\n",
    "        \n",
    "        else:\n",
    "            print('Deleting from last / nth when linked list has more than 1 element')\n",
    "            previous_node = self.head\n",
    "            current_node = self.head.next\n",
    "            upper_bound = self.length if pos == -1 else pos\n",
    "            for i in range(1, upper_bound-1):\n",
    "                previous_node = previous_node.next\n",
    "                current_node = current_node.next\n",
    "            \n",
    "            if current_node == self.tail:\n",
    "                self.tail = previous_node\n",
    "            \n",
    "            previous_node.next = current_node.next\n",
    "            current_node.next = None\n",
    "            \n",
    "        self.length -= 1\n"
   ],
   "outputs": [],
   "metadata": {}
  },
  {
   "cell_type": "markdown",
   "source": [
    "### Test"
   ],
   "metadata": {}
  },
  {
   "cell_type": "markdown",
   "source": [
    "#### Insertion to empty linked list"
   ],
   "metadata": {}
  },
  {
   "cell_type": "code",
   "execution_count": 128,
   "source": [
    "print('*'*150)\n",
    "print('Testing: Insertion to empty linked list\\n')\n",
    "\n",
    "csll = CircularSingleLinkedList()\n",
    "print(f'Before Insert:\\n{csll}')\n",
    "csll.insert(1)\n",
    "print(f'After Insert:\\n{csll}\\n')\n",
    "\n",
    "print('*'*150)\n"
   ],
   "outputs": [
    {
     "output_type": "stream",
     "name": "stdout",
     "text": [
      "******************************************************************************************************************************************************\n",
      "Testing: Insertion to empty linked list\n",
      "\n",
      "Before Insert:\n",
      "Circular Single Linked List is empty!\n",
      "After Insert:\n",
      "[[[HEAD (0x7f9676c9f340)]]] -> (1, 0x7f9676c9f340) <- [[[TAIL(0x7f9676c9f340)]]]\n",
      "\n",
      "******************************************************************************************************************************************************\n"
     ]
    }
   ],
   "metadata": {}
  },
  {
   "cell_type": "markdown",
   "source": [
    "#### Insertion to end of linked list"
   ],
   "metadata": {}
  },
  {
   "cell_type": "code",
   "execution_count": 129,
   "source": [
    "print('*'*150)\n",
    "print('Testing: Insertion to end of linked list\\n')\n",
    "\n",
    "csll = CircularSingleLinkedList()\n",
    "\n",
    "print(f'Before Insert:\\n{csll}')\n",
    "csll.insert('abc')\n",
    "print(f'After Insert:\\n{csll}\\n')\n",
    "\n",
    "print(f'Before Insert:\\n{csll}')\n",
    "csll.insert(123)\n",
    "print(f'After Insert:\\n{csll}\\n')\n",
    "\n",
    "print(f'Before Insert:\\n{csll}')\n",
    "csll.insert(4.56, -1)\n",
    "print(f'After Insert:\\n{csll}\\n')\n",
    "\n",
    "print('*'*150)"
   ],
   "outputs": [
    {
     "output_type": "stream",
     "name": "stdout",
     "text": [
      "******************************************************************************************************************************************************\n",
      "Testing: Insertion to end of linked list\n",
      "\n",
      "Before Insert:\n",
      "Circular Single Linked List is empty!\n",
      "After Insert:\n",
      "[[[HEAD (0x7f9675aecfa0)]]] -> (abc, 0x7f9675aecfa0) <- [[[TAIL(0x7f9675aecfa0)]]]\n",
      "\n",
      "Before Insert:\n",
      "[[[HEAD (0x7f9675aecfa0)]]] -> (abc, 0x7f9675aecfa0) <- [[[TAIL(0x7f9675aecfa0)]]]\n",
      "After Insert:\n",
      "[[[HEAD (0x7f9675aecfa0)]]] -> (abc, 0x7f9676d90850) -> (123, 0x7f9675aecfa0) <- [[[TAIL(0x7f9676d90850)]]]\n",
      "\n",
      "Before Insert:\n",
      "[[[HEAD (0x7f9675aecfa0)]]] -> (abc, 0x7f9676d90850) -> (123, 0x7f9675aecfa0) <- [[[TAIL(0x7f9676d90850)]]]\n",
      "After Insert:\n",
      "[[[HEAD (0x7f9675aecfa0)]]] -> (abc, 0x7f9676d90850) -> (123, 0x7f9675b0a190) -> (4.56, 0x7f9675aecfa0) <- [[[TAIL(0x7f9675b0a190)]]]\n",
      "\n",
      "******************************************************************************************************************************************************\n"
     ]
    }
   ],
   "metadata": {}
  },
  {
   "cell_type": "markdown",
   "source": [
    "#### Insertion to start of linked list"
   ],
   "metadata": {}
  },
  {
   "cell_type": "code",
   "execution_count": 130,
   "source": [
    "print('*'*150)\n",
    "print('Testing: Insertion to start of linked list\\n')\n",
    "\n",
    "csll = CircularSingleLinkedList()\n",
    "\n",
    "print(f'Before Insert:\\n{csll}')\n",
    "csll.insert(3, 1)\n",
    "print(f'After Insert:\\n{csll}\\n')\n",
    "\n",
    "print(f'Before Insert:\\n{csll}')\n",
    "csll.insert(2, 1)\n",
    "print(f'After Insert:\\n{csll}\\n')\n",
    "\n",
    "print(f'Before Insert:\\n{csll}')\n",
    "csll.insert(1, 1)\n",
    "print(f'After Insert:\\n{csll}\\n')\n",
    "\n",
    "print('*'*150)\n"
   ],
   "outputs": [
    {
     "output_type": "stream",
     "name": "stdout",
     "text": [
      "******************************************************************************************************************************************************\n",
      "Testing: Insertion to start of linked list\n",
      "\n",
      "Before Insert:\n",
      "Circular Single Linked List is empty!\n",
      "After Insert:\n",
      "[[[HEAD (0x7f9676d90ac0)]]] -> (3, 0x7f9676d90ac0) <- [[[TAIL(0x7f9676d90ac0)]]]\n",
      "\n",
      "Before Insert:\n",
      "[[[HEAD (0x7f9676d90ac0)]]] -> (3, 0x7f9676d90ac0) <- [[[TAIL(0x7f9676d90ac0)]]]\n",
      "After Insert:\n",
      "[[[HEAD (0x7f9676c9f310)]]] -> (2, 0x7f9676d90ac0) -> (3, 0x7f9676c9f310) <- [[[TAIL(0x7f9676d90ac0)]]]\n",
      "\n",
      "Before Insert:\n",
      "[[[HEAD (0x7f9676c9f310)]]] -> (2, 0x7f9676d90ac0) -> (3, 0x7f9676c9f310) <- [[[TAIL(0x7f9676d90ac0)]]]\n",
      "After Insert:\n",
      "[[[HEAD (0x7f9675b0a280)]]] -> (1, 0x7f9676c9f310) -> (2, 0x7f9676d90ac0) -> (3, 0x7f9675b0a280) <- [[[TAIL(0x7f9676d90ac0)]]]\n",
      "\n",
      "******************************************************************************************************************************************************\n"
     ]
    }
   ],
   "metadata": {}
  },
  {
   "cell_type": "markdown",
   "source": [
    "#### Insertion in between linked list"
   ],
   "metadata": {}
  },
  {
   "cell_type": "code",
   "execution_count": 131,
   "source": [
    "print('*'*150)\n",
    "print('Testing: Insertion to start of linked list\\n')\n",
    "\n",
    "csll = CircularSingleLinkedList()\n",
    "csll.insert(1)\n",
    "csll.insert(3)\n",
    "csll.insert(5)\n",
    "\n",
    "print(f'\\nBefore Insert:\\n{csll}')\n",
    "csll.insert(4, 3)\n",
    "print(f'After Insert:\\n{csll}\\n')\n",
    "\n",
    "print(f'Before Insert:\\n{csll}')\n",
    "csll.insert(2, 2)\n",
    "print(f'After Insert:\\n{csll}\\n')\n",
    "\n",
    "print('*'*150)\n",
    "\n"
   ],
   "outputs": [
    {
     "output_type": "stream",
     "name": "stdout",
     "text": [
      "******************************************************************************************************************************************************\n",
      "Testing: Insertion to start of linked list\n",
      "\n",
      "\n",
      "Before Insert:\n",
      "[[[HEAD (0x7f9676d90c40)]]] -> (1, 0x7f9675aecb50) -> (3, 0x7f9676d90130) -> (5, 0x7f9676d90c40) <- [[[TAIL(0x7f9676d90130)]]]\n",
      "After Insert:\n",
      "[[[HEAD (0x7f9676d90c40)]]] -> (1, 0x7f9675aecb50) -> (3, 0x7f9676d90e50) -> (4, 0x7f9676d90130) -> (5, 0x7f9676d90c40) <- [[[TAIL(0x7f9676d90130)]]]\n",
      "\n",
      "Before Insert:\n",
      "[[[HEAD (0x7f9676d90c40)]]] -> (1, 0x7f9675aecb50) -> (3, 0x7f9676d90e50) -> (4, 0x7f9676d90130) -> (5, 0x7f9676d90c40) <- [[[TAIL(0x7f9676d90130)]]]\n",
      "After Insert:\n",
      "[[[HEAD (0x7f9676d90c40)]]] -> (1, 0x7f9675b0a9d0) -> (2, 0x7f9675aecb50) -> (3, 0x7f9676d90e50) -> (4, 0x7f9676d90130) -> (5, 0x7f9676d90c40) <- [[[TAIL(0x7f9676d90130)]]]\n",
      "\n",
      "******************************************************************************************************************************************************\n"
     ]
    }
   ],
   "metadata": {}
  },
  {
   "cell_type": "markdown",
   "source": [
    "#### Traversal of linked list"
   ],
   "metadata": {}
  },
  {
   "cell_type": "code",
   "execution_count": 132,
   "source": [
    "print('*'*150)\n",
    "print('Testing: Traversal of linked list\\n')\n",
    "\n",
    "csll.traverse()\n",
    "\n",
    "print('*'*150)\n"
   ],
   "outputs": [
    {
     "output_type": "stream",
     "name": "stdout",
     "text": [
      "******************************************************************************************************************************************************\n",
      "Testing: Traversal of linked list\n",
      "\n",
      "1 -> 2 -> 3 -> 4 -> 5 <-> \n",
      "\n",
      "******************************************************************************************************************************************************\n"
     ]
    }
   ],
   "metadata": {}
  },
  {
   "cell_type": "markdown",
   "source": [
    "#### Searching for a value"
   ],
   "metadata": {}
  },
  {
   "cell_type": "code",
   "execution_count": 133,
   "source": [
    "print('*'*150)\n",
    "print('Testing: Traversal of linked list\\n')\n",
    "\n",
    "print(f'Index of 100 in empty list = {CircularSingleLinkedList().find_index(100)}\\n')\n",
    "\n",
    "print(f'csll = ', end='')\n",
    "csll.traverse()\n",
    "\n",
    "print(f'Index of 5 = {csll.find_index(5)}')\n",
    "print(f'Index of 100 = {csll.find_index(100)}')\n",
    "\n",
    "print('*'*150)"
   ],
   "outputs": [
    {
     "output_type": "stream",
     "name": "stdout",
     "text": [
      "******************************************************************************************************************************************************\n",
      "Testing: Traversal of linked list\n",
      "\n",
      "Index of 100 in empty list = -1\n",
      "\n",
      "csll = 1 -> 2 -> 3 -> 4 -> 5 <-> \n",
      "\n",
      "Index of 5 = 5\n",
      "Index of 100 = -1\n",
      "******************************************************************************************************************************************************\n"
     ]
    }
   ],
   "metadata": {}
  },
  {
   "cell_type": "markdown",
   "source": [
    "#### Deletion when list has just 1 element"
   ],
   "metadata": {}
  },
  {
   "cell_type": "code",
   "execution_count": 134,
   "source": [
    "print('*'*150)\n",
    "print('Testing: Deletion when list has just 1 element\\n')\n",
    "\n",
    "csll = CircularSingleLinkedList()\n",
    "csll.insert(123)\n",
    "\n",
    "print(f'\\nBefore Delete:\\n{csll}')\n",
    "csll.delete()\n",
    "print(f'\\nAfter Delete:\\n{csll}')\n",
    "\n",
    "print('*'*150)\n"
   ],
   "outputs": [
    {
     "output_type": "stream",
     "name": "stdout",
     "text": [
      "******************************************************************************************************************************************************\n",
      "Testing: Deletion when list has just 1 element\n",
      "\n",
      "\n",
      "Before Delete:\n",
      "[[[HEAD (0x7f9676c9fb80)]]] -> (123, 0x7f9676c9fb80) <- [[[TAIL(0x7f9676c9fb80)]]]\n",
      "Deleting when linked list has only 1 element\n",
      "\n",
      "After Delete:\n",
      "Circular Single Linked List is empty!\n",
      "******************************************************************************************************************************************************\n"
     ]
    }
   ],
   "metadata": {}
  },
  {
   "cell_type": "markdown",
   "source": [
    "#### Deletion from first"
   ],
   "metadata": {}
  },
  {
   "cell_type": "code",
   "execution_count": 135,
   "source": [
    "print('*'*150)\n",
    "print('Testing: Deletion from first\\n')\n",
    "\n",
    "csll = CircularSingleLinkedList()\n",
    "csll.insert(1)\n",
    "csll.insert(2)\n",
    "csll.insert(3)\n",
    "\n",
    "print(f'\\nBefore Delete:\\n{csll}')\n",
    "csll.delete(pos=1)\n",
    "print(f'\\nAfter Delete:\\n{csll}')\n",
    "\n",
    "print(f'\\nBefore Delete:\\n{csll}')\n",
    "csll.delete(pos=1)\n",
    "print(f'\\nAfter Delete:\\n{csll}')\n",
    "\n",
    "print(f'\\nBefore Delete:\\n{csll}')\n",
    "csll.delete(pos=1)\n",
    "print(f'\\nAfter Delete:\\n{csll}')\n",
    "\n",
    "print('*'*150)\n"
   ],
   "outputs": [
    {
     "output_type": "stream",
     "name": "stdout",
     "text": [
      "******************************************************************************************************************************************************\n",
      "Testing: Deletion from first\n",
      "\n",
      "\n",
      "Before Delete:\n",
      "[[[HEAD (0x7f9676d90700)]]] -> (1, 0x7f9676d909d0) -> (2, 0x7f9676c9f100) -> (3, 0x7f9676d90700) <- [[[TAIL(0x7f9676c9f100)]]]\n",
      "Deleting from first when linked list has more than 1 element\n",
      "\n",
      "After Delete:\n",
      "[[[HEAD (0x7f9676d909d0)]]] -> (2, 0x7f9676c9f100) -> (3, 0x7f9676d909d0) <- [[[TAIL(0x7f9676c9f100)]]]\n",
      "\n",
      "Before Delete:\n",
      "[[[HEAD (0x7f9676d909d0)]]] -> (2, 0x7f9676c9f100) -> (3, 0x7f9676d909d0) <- [[[TAIL(0x7f9676c9f100)]]]\n",
      "Deleting from first when linked list has more than 1 element\n",
      "\n",
      "After Delete:\n",
      "[[[HEAD (0x7f9676c9f100)]]] -> (3, 0x7f9676c9f100) <- [[[TAIL(0x7f9676c9f100)]]]\n",
      "\n",
      "Before Delete:\n",
      "[[[HEAD (0x7f9676c9f100)]]] -> (3, 0x7f9676c9f100) <- [[[TAIL(0x7f9676c9f100)]]]\n",
      "Deleting when linked list has only 1 element\n",
      "\n",
      "After Delete:\n",
      "Circular Single Linked List is empty!\n",
      "******************************************************************************************************************************************************\n"
     ]
    }
   ],
   "metadata": {}
  },
  {
   "cell_type": "markdown",
   "source": [
    "#### Deletion from last"
   ],
   "metadata": {}
  },
  {
   "cell_type": "code",
   "execution_count": 136,
   "source": [
    "print('*'*150)\n",
    "print('Testing: Deletion from last\\n')\n",
    "\n",
    "csll = CircularSingleLinkedList()\n",
    "csll.insert(1)\n",
    "csll.insert(2)\n",
    "csll.insert(3)\n",
    "\n",
    "print(f'\\nBefore Delete:\\n{csll}')\n",
    "csll.delete()\n",
    "print(f'\\nAfter Delete:\\n{csll}')\n",
    "\n",
    "print(f'\\nBefore Delete:\\n{csll}')\n",
    "csll.delete()\n",
    "print(f'\\nAfter Delete:\\n{csll}')\n",
    "\n",
    "print(f'\\nBefore Delete:\\n{csll}')\n",
    "csll.delete()\n",
    "print(f'\\nAfter Delete:\\n{csll}')\n",
    "\n",
    "print('*'*150)"
   ],
   "outputs": [
    {
     "output_type": "stream",
     "name": "stdout",
     "text": [
      "******************************************************************************************************************************************************\n",
      "Testing: Deletion from last\n",
      "\n",
      "\n",
      "Before Delete:\n",
      "[[[HEAD (0x7f9676c9fa90)]]] -> (1, 0x7f9676c9f6d0) -> (2, 0x7f9676c9f790) -> (3, 0x7f9676c9fa90) <- [[[TAIL(0x7f9676c9f790)]]]\n",
      "Deleting from last / nth when linked list has more than 1 element\n",
      "\n",
      "After Delete:\n",
      "[[[HEAD (0x7f9676c9fa90)]]] -> (1, 0x7f9676c9f6d0) -> (2, 0x7f9676c9fa90) <- [[[TAIL(0x7f9676c9f6d0)]]]\n",
      "\n",
      "Before Delete:\n",
      "[[[HEAD (0x7f9676c9fa90)]]] -> (1, 0x7f9676c9f6d0) -> (2, 0x7f9676c9fa90) <- [[[TAIL(0x7f9676c9f6d0)]]]\n",
      "Deleting from last / nth when linked list has more than 1 element\n",
      "\n",
      "After Delete:\n",
      "[[[HEAD (0x7f9676c9fa90)]]] -> (1, 0x7f9676c9fa90) <- [[[TAIL(0x7f9676c9fa90)]]]\n",
      "\n",
      "Before Delete:\n",
      "[[[HEAD (0x7f9676c9fa90)]]] -> (1, 0x7f9676c9fa90) <- [[[TAIL(0x7f9676c9fa90)]]]\n",
      "Deleting when linked list has only 1 element\n",
      "\n",
      "After Delete:\n",
      "Circular Single Linked List is empty!\n",
      "******************************************************************************************************************************************************\n"
     ]
    }
   ],
   "metadata": {}
  },
  {
   "cell_type": "markdown",
   "source": [
    "#### Delete from nth position"
   ],
   "metadata": {}
  },
  {
   "cell_type": "code",
   "execution_count": 137,
   "source": [
    "print('*'*150)\n",
    "print('Testing: Deletion from nth place\\n')\n",
    "\n",
    "csll = CircularSingleLinkedList()\n",
    "csll.insert(1)\n",
    "csll.insert(2)\n",
    "csll.insert(3)\n",
    "\n",
    "print(f'\\nBefore Delete:\\n{csll}')\n",
    "csll.delete(2)\n",
    "print(f'\\nAfter Delete:\\n{csll}')\n",
    "\n",
    "print(f'\\nBefore Delete:\\n{csll}')\n",
    "csll.delete(2)\n",
    "print(f'\\nAfter Delete:\\n{csll}')\n",
    "\n",
    "print('*'*150)"
   ],
   "outputs": [
    {
     "output_type": "stream",
     "name": "stdout",
     "text": [
      "******************************************************************************************************************************************************\n",
      "Testing: Deletion from nth place\n",
      "\n",
      "\n",
      "Before Delete:\n",
      "[[[HEAD (0x7f9676c9ff70)]]] -> (1, 0x7f9676c9f940) -> (2, 0x7f9676c9f730) -> (3, 0x7f9676c9ff70) <- [[[TAIL(0x7f9676c9f730)]]]\n",
      "Deleting from last / nth when linked list has more than 1 element\n",
      "\n",
      "After Delete:\n",
      "[[[HEAD (0x7f9676c9ff70)]]] -> (1, 0x7f9676c9f730) -> (3, 0x7f9676c9ff70) <- [[[TAIL(0x7f9676c9f730)]]]\n",
      "\n",
      "Before Delete:\n",
      "[[[HEAD (0x7f9676c9ff70)]]] -> (1, 0x7f9676c9f730) -> (3, 0x7f9676c9ff70) <- [[[TAIL(0x7f9676c9f730)]]]\n",
      "Deleting from last / nth when linked list has more than 1 element\n",
      "\n",
      "After Delete:\n",
      "[[[HEAD (0x7f9676c9ff70)]]] -> (1, 0x7f9676c9ff70) <- [[[TAIL(0x7f9676c9ff70)]]]\n",
      "******************************************************************************************************************************************************\n"
     ]
    }
   ],
   "metadata": {}
  },
  {
   "cell_type": "markdown",
   "source": [
    "### Complexity Analysis"
   ],
   "metadata": {}
  },
  {
   "cell_type": "markdown",
   "source": [
    "<table>\n",
    "<tr><th></th><th>Circular Single Linked List</th></tr>\n",
    "<tr><td>Creation</td><td>O(1)</td></tr>\n",
    "<tr><td colspan=\"2\"></td></tr>\n",
    "<tr><td>Insertion at first/last position</td><td>O(1)</td></tr>\n",
    "<tr><td>Insertion at n<sup>th</sup> position</td><td>O(n)</td></tr>\n",
    "<tr><td colspan=\"2\"></td></tr>\n",
    "<tr><td>Search in unsorted data</td><td>O(n)</td></tr>\n",
    "<tr><td>Search in sorted data</td><td>O(n)</td></tr>\n",
    "<tr><td>Traversing</td><td>O(n)</td></tr>\n",
    "<tr><td colspan=\"2\"></td></tr>\n",
    "<tr><td>Deletion from first position</td><td>O(1)</td></tr>\n",
    "<tr><td>Deletion from n<sup>th</sup>/last position</td><td>O(n)</td></tr>\n",
    "<tr><td>Deletion of linked list</td><td>O(1)</td></tr>\n",
    "<tr><td colspan=\"2\"></td></tr>\n",
    "<tr><td>Accessing n<sup>th</sup> element</td><td>O(n)</td></tr>\n",
    "</table>\n",
    "<p>The Space complexity of a all circular single linked list operations is O(1)</>"
   ],
   "metadata": {}
  },
  {
   "cell_type": "markdown",
   "source": [
    "## Double Linked List"
   ],
   "metadata": {}
  },
  {
   "cell_type": "markdown",
   "source": [
    "### Code"
   ],
   "metadata": {}
  },
  {
   "cell_type": "code",
   "execution_count": 138,
   "source": [
    "class Node:\n",
    "    def __init__(self, data):\n",
    "        self.prev = None\n",
    "        self.data = data\n",
    "        self.next = None\n",
    "    \n",
    "    def __str__(self):\n",
    "        return f'({hex(id(self.prev))}, {self.data}, {hex(id(self.next))})'\n"
   ],
   "outputs": [],
   "metadata": {}
  },
  {
   "cell_type": "code",
   "execution_count": 139,
   "source": [
    "class DoubleLinkedList:\n",
    "    def __init__(self):\n",
    "        self.head = None\n",
    "        self.tail = None\n",
    "        self.length = 0\n",
    "    \n",
    "\n",
    "    def __str__(self):\n",
    "        if self.head:\n",
    "            result = f'[HEAD({hex(id(self.head))})] -> '\n",
    "            current_node = self.head\n",
    "            while current_node:\n",
    "                if current_node == self.tail:\n",
    "                    result += f'{current_node} <- [TAIL({hex(id(self.tail))})]'\n",
    "                else:\n",
    "                    result += f'{current_node} <-> '\n",
    "                \n",
    "                current_node = current_node.next\n",
    "            return result\n",
    "        else:\n",
    "            return  \"Double Linked List is empty!\"\n",
    "    \n",
    "\n",
    "    def insert(self, data, pos=-1):\n",
    "        node = Node(data)\n",
    "\n",
    "        if self.head is None:\n",
    "            print('Inserting to empty double linked list')\n",
    "            if pos not in [1, -1]:\n",
    "                raise IndexError(f\"The double linked list is empty. The value of pos should be 1 or -1\")\n",
    "            \n",
    "            self.head = node\n",
    "            self.tail = node\n",
    "        \n",
    "        else:\n",
    "            if pos == 1:\n",
    "                print('Inserting to first position of double linked list')\n",
    "                self.head.prev = node\n",
    "                node.next = self.head\n",
    "                self.head = node\n",
    "\n",
    "            elif pos == -1:\n",
    "                print('Inserting to last position of double linked list')\n",
    "                self.tail.next = node\n",
    "                node.prev = self.tail\n",
    "                self.tail = node\n",
    "\n",
    "            else:\n",
    "                print('Inserting to nth position of linked list')\n",
    "                if pos > self.length:\n",
    "                    raise IndexError(f\"The value of pos should be between 1 and {self.length}\")\n",
    "                \n",
    "                previous_node = self.head\n",
    "                current_node = self.head.next\n",
    "                for i in range(1, pos-1):\n",
    "                    previous_node = previous_node.next\n",
    "                    current_node = current_node.next\n",
    "                \n",
    "                node.prev = previous_node\n",
    "                node.next = current_node\n",
    "                previous_node.next = node\n",
    "                current_node.prev = node\n",
    "        \n",
    "        self.length += 1\n",
    "    \n",
    "\n",
    "    def traverse(self):\n",
    "        if self.head:\n",
    "            print('NULL', end=' -> ')\n",
    "            current_node = self.head\n",
    "            while current_node:\n",
    "                if current_node == self.tail:\n",
    "                    print(f'{current_node.data} -> NULL')\n",
    "                else:\n",
    "                    print(current_node.data, end=' <-> ')\n",
    "                \n",
    "                current_node = current_node.next\n",
    "            \n",
    "        else:\n",
    "            print(\"Double Linked List is empty!\")\n",
    "    \n",
    "\n",
    "    def traverse_backwards(self):\n",
    "        if self.head:\n",
    "            print('NULL', end=' -> ')\n",
    "            current_node = self.tail\n",
    "            while current_node:\n",
    "                if current_node == self.head:\n",
    "                    print(f'{current_node.data} -> NULL')\n",
    "                else:\n",
    "                    print(current_node.data, end=' <-> ')\n",
    "                \n",
    "                current_node = current_node.prev\n",
    "            \n",
    "        else:\n",
    "            print(\"Double Linked List is empty!\")\n",
    "    \n",
    "\n",
    "    def find_index(self, search_data):\n",
    "        result = -1\n",
    "\n",
    "        if self.head:\n",
    "            current_node = self.head\n",
    "            idx = 1\n",
    "            while current_node:\n",
    "                if search_data == current_node.data:\n",
    "                    result = idx\n",
    "                    break\n",
    "\n",
    "                if current_node == self.tail:\n",
    "                    break\n",
    "\n",
    "                current_node = current_node.next\n",
    "                idx += 1\n",
    "        \n",
    "        return result\n",
    "    \n",
    "\n",
    "    def empty(self):\n",
    "        if self.head is None:\n",
    "            raise ValueError(\"Operation not permitted as double linked list is empty!\")\n",
    "        \n",
    "        current_node = self.head\n",
    "        while current_node:\n",
    "            current_node.prev = None\n",
    "            current_node = current_node.next\n",
    "        \n",
    "        self.head = None\n",
    "        self.tail = None\n",
    "        \n",
    "        self.length = 0\n",
    "    \n",
    "\n",
    "    def delete(self, pos=-1):\n",
    "        if self.head is None:\n",
    "            raise ValueError(\"Operation not permitted as double linked list is empty!\")\n",
    "        \n",
    "        if pos > self.length:\n",
    "            raise IndexError(f\"The value of pos should between 1 and {self.length}\")\n",
    "        \n",
    "        if pos in [1, -1] and self.head == self.tail:\n",
    "            print('Deleting when double linked list has only 1 element')\n",
    "            self.head = None\n",
    "            self.tail = None\n",
    "        \n",
    "        elif pos == 1:\n",
    "            print('Deleting from first when double linked list has more than 1 element')\n",
    "            self.head = self.head.next\n",
    "            self.head.prev = None\n",
    "\n",
    "        elif pos == -1:\n",
    "            print('Deleting from last when double linked list has more than 1 element')\n",
    "            self.tail = self.tail.prev\n",
    "            self.tail.next = None\n",
    "        \n",
    "        else:\n",
    "            print('Deleting the nth when double linked list has more than 1 element')\n",
    "            previous_node = self.head\n",
    "            current_node = self.head.next\n",
    "            for i in range(1, pos-1): \n",
    "                previous_node = previous_node.next\n",
    "                current_node = current_node.next\n",
    "            \n",
    "            previous_node.next = current_node.next\n",
    "\n",
    "            if current_node == self.tail:\n",
    "                self.tail =  previous_node\n",
    "            else:\n",
    "                current_node.next.prev = previous_node\n",
    "        \n",
    "        self.length -= 1\n",
    "        \n",
    "        \n"
   ],
   "outputs": [],
   "metadata": {}
  },
  {
   "cell_type": "markdown",
   "source": [
    "### Test"
   ],
   "metadata": {}
  },
  {
   "cell_type": "markdown",
   "source": [
    "#### Insertion to empty double linked list"
   ],
   "metadata": {}
  },
  {
   "cell_type": "code",
   "execution_count": 140,
   "source": [
    "print('*'*150)\n",
    "print('Testing: Insertion to empty linked list\\n')\n",
    "\n",
    "dll = DoubleLinkedList()\n",
    "print(f'Before Insert:\\n{dll}')\n",
    "dll.insert(1)\n",
    "print(f'After Insert:\\n{dll}\\n')\n",
    "\n",
    "print('*'*150)\n"
   ],
   "outputs": [
    {
     "output_type": "stream",
     "name": "stdout",
     "text": [
      "******************************************************************************************************************************************************\n",
      "Testing: Insertion to empty linked list\n",
      "\n",
      "Before Insert:\n",
      "Double Linked List is empty!\n",
      "Inserting to empty double linked list\n",
      "After Insert:\n",
      "[HEAD(0x7f9676d9aac0)] -> (0x10d293f30, 1, 0x10d293f30) <- [TAIL(0x7f9676d9aac0)]\n",
      "\n",
      "******************************************************************************************************************************************************\n"
     ]
    }
   ],
   "metadata": {}
  },
  {
   "cell_type": "markdown",
   "source": [
    "#### Insertion to end of double linked list"
   ],
   "metadata": {}
  },
  {
   "cell_type": "code",
   "execution_count": 141,
   "source": [
    "print('*'*150)\n",
    "print('Testing: Insertion to end of linked list\\n')\n",
    "\n",
    "dll = DoubleLinkedList()\n",
    "\n",
    "print(f'Before Insert:\\n{dll}')\n",
    "dll.insert('abc')\n",
    "print(f'After Insert:\\n{dll}\\n')\n",
    "\n",
    "print(f'Before Insert:\\n{dll}')\n",
    "dll.insert(123, -1)\n",
    "print(f'After Insert:\\n{dll}\\n')\n",
    "\n",
    "print(f'Before Insert:\\n{dll}')\n",
    "dll.insert(4.56, -1)\n",
    "print(f'After Insert:\\n{dll}\\n')\n",
    "\n",
    "print('*'*150)\n"
   ],
   "outputs": [
    {
     "output_type": "stream",
     "name": "stdout",
     "text": [
      "******************************************************************************************************************************************************\n",
      "Testing: Insertion to end of linked list\n",
      "\n",
      "Before Insert:\n",
      "Double Linked List is empty!\n",
      "Inserting to empty double linked list\n",
      "After Insert:\n",
      "[HEAD(0x7f9675b74b80)] -> (0x10d293f30, abc, 0x10d293f30) <- [TAIL(0x7f9675b74b80)]\n",
      "\n",
      "Before Insert:\n",
      "[HEAD(0x7f9675b74b80)] -> (0x10d293f30, abc, 0x10d293f30) <- [TAIL(0x7f9675b74b80)]\n",
      "Inserting to last position of double linked list\n",
      "After Insert:\n",
      "[HEAD(0x7f9675b74b80)] -> (0x10d293f30, abc, 0x7f9676d9a550) <-> (0x7f9675b74b80, 123, 0x10d293f30) <- [TAIL(0x7f9676d9a550)]\n",
      "\n",
      "Before Insert:\n",
      "[HEAD(0x7f9675b74b80)] -> (0x10d293f30, abc, 0x7f9676d9a550) <-> (0x7f9675b74b80, 123, 0x10d293f30) <- [TAIL(0x7f9676d9a550)]\n",
      "Inserting to last position of double linked list\n",
      "After Insert:\n",
      "[HEAD(0x7f9675b74b80)] -> (0x10d293f30, abc, 0x7f9676d9a550) <-> (0x7f9675b74b80, 123, 0x7f9676d825e0) <-> (0x7f9676d9a550, 4.56, 0x10d293f30) <- [TAIL(0x7f9676d825e0)]\n",
      "\n",
      "******************************************************************************************************************************************************\n"
     ]
    }
   ],
   "metadata": {}
  },
  {
   "cell_type": "markdown",
   "source": [
    "#### Insertion to start of double linked list"
   ],
   "metadata": {}
  },
  {
   "cell_type": "code",
   "execution_count": 142,
   "source": [
    "print('*'*150)\n",
    "print('Testing: Insertion to start of linked list\\n')\n",
    "\n",
    "dll = DoubleLinkedList()\n",
    "\n",
    "print(f'Before Insert:\\n{dll}')\n",
    "dll.insert(3, 1)\n",
    "print(f'After Insert:\\n{dll}\\n')\n",
    "\n",
    "print(f'Before Insert:\\n{dll}')\n",
    "dll.insert(2, 1)\n",
    "print(f'After Insert:\\n{dll}\\n')\n",
    "\n",
    "print(f'Before Insert:\\n{dll}')\n",
    "dll.insert(1, 1)\n",
    "print(f'After Insert:\\n{dll}\\n')\n",
    "\n",
    "print('*'*150)\n"
   ],
   "outputs": [
    {
     "output_type": "stream",
     "name": "stdout",
     "text": [
      "******************************************************************************************************************************************************\n",
      "Testing: Insertion to start of linked list\n",
      "\n",
      "Before Insert:\n",
      "Double Linked List is empty!\n",
      "Inserting to empty double linked list\n",
      "After Insert:\n",
      "[HEAD(0x7f9675b74d00)] -> (0x10d293f30, 3, 0x10d293f30) <- [TAIL(0x7f9675b74d00)]\n",
      "\n",
      "Before Insert:\n",
      "[HEAD(0x7f9675b74d00)] -> (0x10d293f30, 3, 0x10d293f30) <- [TAIL(0x7f9675b74d00)]\n",
      "Inserting to first position of double linked list\n",
      "After Insert:\n",
      "[HEAD(0x7f9676d82b20)] -> (0x10d293f30, 2, 0x7f9675b74d00) <-> (0x7f9676d82b20, 3, 0x10d293f30) <- [TAIL(0x7f9675b74d00)]\n",
      "\n",
      "Before Insert:\n",
      "[HEAD(0x7f9676d82b20)] -> (0x10d293f30, 2, 0x7f9675b74d00) <-> (0x7f9676d82b20, 3, 0x10d293f30) <- [TAIL(0x7f9675b74d00)]\n",
      "Inserting to first position of double linked list\n",
      "After Insert:\n",
      "[HEAD(0x7f9676d82310)] -> (0x10d293f30, 1, 0x7f9676d82b20) <-> (0x7f9676d82310, 2, 0x7f9675b74d00) <-> (0x7f9676d82b20, 3, 0x10d293f30) <- [TAIL(0x7f9675b74d00)]\n",
      "\n",
      "******************************************************************************************************************************************************\n"
     ]
    }
   ],
   "metadata": {}
  },
  {
   "cell_type": "markdown",
   "source": [
    "#### Insertion in between double linked list"
   ],
   "metadata": {}
  },
  {
   "cell_type": "code",
   "execution_count": 143,
   "source": [
    "print('*'*150)\n",
    "print('Testing: Insertion to start of linked list\\n')\n",
    "\n",
    "dll = DoubleLinkedList()\n",
    "dll.insert(1)\n",
    "dll.insert(3)\n",
    "dll.insert(5)\n",
    "\n",
    "print(f'\\nBefore Insert:\\n{dll}')\n",
    "dll.insert(4, 3)\n",
    "print(f'After Insert:\\n{dll}\\n')\n",
    "\n",
    "print(f'Before Insert:\\n{dll}')\n",
    "dll.insert(2, 2)\n",
    "print(f'After Insert:\\n{dll}\\n')\n",
    "\n",
    "print('*'*150)\n"
   ],
   "outputs": [
    {
     "output_type": "stream",
     "name": "stdout",
     "text": [
      "******************************************************************************************************************************************************\n",
      "Testing: Insertion to start of linked list\n",
      "\n",
      "Inserting to empty double linked list\n",
      "Inserting to last position of double linked list\n",
      "Inserting to last position of double linked list\n",
      "\n",
      "Before Insert:\n",
      "[HEAD(0x7f9676d9a760)] -> (0x10d293f30, 1, 0x7f9675b749d0) <-> (0x7f9676d9a760, 3, 0x7f9676d9a4c0) <-> (0x7f9675b749d0, 5, 0x10d293f30) <- [TAIL(0x7f9676d9a4c0)]\n",
      "Inserting to nth position of linked list\n",
      "After Insert:\n",
      "[HEAD(0x7f9676d9a760)] -> (0x10d293f30, 1, 0x7f9675b749d0) <-> (0x7f9676d9a760, 3, 0x7f9676d9a700) <-> (0x7f9675b749d0, 4, 0x7f9676d9a4c0) <-> (0x7f9676d9a700, 5, 0x10d293f30) <- [TAIL(0x7f9676d9a4c0)]\n",
      "\n",
      "Before Insert:\n",
      "[HEAD(0x7f9676d9a760)] -> (0x10d293f30, 1, 0x7f9675b749d0) <-> (0x7f9676d9a760, 3, 0x7f9676d9a700) <-> (0x7f9675b749d0, 4, 0x7f9676d9a4c0) <-> (0x7f9676d9a700, 5, 0x10d293f30) <- [TAIL(0x7f9676d9a4c0)]\n",
      "Inserting to nth position of linked list\n",
      "After Insert:\n",
      "[HEAD(0x7f9676d9a760)] -> (0x10d293f30, 1, 0x7f9676d82a00) <-> (0x7f9676d9a760, 2, 0x7f9675b749d0) <-> (0x7f9676d82a00, 3, 0x7f9676d9a700) <-> (0x7f9675b749d0, 4, 0x7f9676d9a4c0) <-> (0x7f9676d9a700, 5, 0x10d293f30) <- [TAIL(0x7f9676d9a4c0)]\n",
      "\n",
      "******************************************************************************************************************************************************\n"
     ]
    }
   ],
   "metadata": {}
  },
  {
   "cell_type": "markdown",
   "source": [
    "#### Traversal of double linked list"
   ],
   "metadata": {}
  },
  {
   "cell_type": "code",
   "execution_count": 144,
   "source": [
    "print('*'*150)\n",
    "print('Testing: Traversal of linked list\\n')\n",
    "\n",
    "dll.traverse()\n",
    "dll.traverse_backwards()\n",
    "\n",
    "print('*'*150)\n"
   ],
   "outputs": [
    {
     "output_type": "stream",
     "name": "stdout",
     "text": [
      "******************************************************************************************************************************************************\n",
      "Testing: Traversal of linked list\n",
      "\n",
      "NULL -> 1 <-> 2 <-> 3 <-> 4 <-> 5 -> NULL\n",
      "NULL -> 5 <-> 4 <-> 3 <-> 2 <-> 1 -> NULL\n",
      "******************************************************************************************************************************************************\n"
     ]
    }
   ],
   "metadata": {}
  },
  {
   "cell_type": "markdown",
   "source": [
    "#### Searching for a value"
   ],
   "metadata": {}
  },
  {
   "cell_type": "code",
   "execution_count": 145,
   "source": [
    "print('*'*150)\n",
    "print('Testing: Traversal of linked list\\n')\n",
    "\n",
    "print(f'Index of 100 in empty list = {DoubleLinkedList().find_index(100)}\\n')\n",
    "\n",
    "print(f'dll = ', end='')\n",
    "dll.traverse()\n",
    "\n",
    "print(f'Index of 5 = {dll.find_index(5)}')\n",
    "print(f'Index of 100 = {dll.find_index(100)}')\n",
    "\n",
    "print('*'*150)"
   ],
   "outputs": [
    {
     "output_type": "stream",
     "name": "stdout",
     "text": [
      "******************************************************************************************************************************************************\n",
      "Testing: Traversal of linked list\n",
      "\n",
      "Index of 100 in empty list = -1\n",
      "\n",
      "dll = NULL -> 1 <-> 2 <-> 3 <-> 4 <-> 5 -> NULL\n",
      "Index of 5 = 5\n",
      "Index of 100 = -1\n",
      "******************************************************************************************************************************************************\n"
     ]
    }
   ],
   "metadata": {}
  },
  {
   "cell_type": "markdown",
   "source": [
    "#### Deletion when list has just 1 element"
   ],
   "metadata": {}
  },
  {
   "cell_type": "code",
   "execution_count": 146,
   "source": [
    "print('*'*150)\n",
    "print('Testing: Deletion when list has just 1 element\\n')\n",
    "\n",
    "dll = DoubleLinkedList()\n",
    "dll.insert(123)\n",
    "\n",
    "print(f'\\nBefore Delete:\\n{dll}')\n",
    "dll.delete()\n",
    "print(f'\\nAfter Delete:\\n{dll}')\n",
    "\n",
    "print('*'*150)\n"
   ],
   "outputs": [
    {
     "output_type": "stream",
     "name": "stdout",
     "text": [
      "******************************************************************************************************************************************************\n",
      "Testing: Deletion when list has just 1 element\n",
      "\n",
      "Inserting to empty double linked list\n",
      "\n",
      "Before Delete:\n",
      "[HEAD(0x7f9675b74ac0)] -> (0x10d293f30, 123, 0x10d293f30) <- [TAIL(0x7f9675b74ac0)]\n",
      "Deleting when double linked list has only 1 element\n",
      "\n",
      "After Delete:\n",
      "Double Linked List is empty!\n",
      "******************************************************************************************************************************************************\n"
     ]
    }
   ],
   "metadata": {}
  },
  {
   "cell_type": "markdown",
   "source": [
    "#### Deletion from first"
   ],
   "metadata": {}
  },
  {
   "cell_type": "code",
   "execution_count": 148,
   "source": [
    "print('*'*150)\n",
    "print('Testing: Deletion from first\\n')\n",
    "\n",
    "dll = DoubleLinkedList()\n",
    "dll.insert(1)\n",
    "dll.insert(2)\n",
    "dll.insert(3)\n",
    "\n",
    "print(f'\\nBefore Delete:\\n{dll}')\n",
    "dll.delete(pos=1)\n",
    "print(f'\\nAfter Delete:\\n{dll}')\n",
    "\n",
    "print(f'\\nBefore Delete:\\n{dll}')\n",
    "dll.delete(pos=1)\n",
    "print(f'\\nAfter Delete:\\n{dll}')\n",
    "\n",
    "print(f'\\nBefore Delete:\\n{dll}')\n",
    "dll.delete(pos=1)\n",
    "print(f'\\nAfter Delete:\\n{dll}')\n",
    "\n",
    "print('*'*150)\n"
   ],
   "outputs": [
    {
     "output_type": "stream",
     "name": "stdout",
     "text": [
      "******************************************************************************************************************************************************\n",
      "Testing: Deletion from first\n",
      "\n",
      "Inserting to empty double linked list\n",
      "Inserting to last position of double linked list\n",
      "Inserting to last position of double linked list\n",
      "\n",
      "Before Delete:\n",
      "[HEAD(0x7f9676d822e0)] -> (0x10d293f30, 1, 0x7f9676d82370) <-> (0x7f9676d822e0, 2, 0x7f9676d9a400) <-> (0x7f9676d82370, 3, 0x10d293f30) <- [TAIL(0x7f9676d9a400)]\n",
      "Deleting from first when double linked list has more than 1 element\n",
      "\n",
      "After Delete:\n",
      "[HEAD(0x7f9676d82370)] -> (0x10d293f30, 2, 0x7f9676d9a400) <-> (0x7f9676d82370, 3, 0x10d293f30) <- [TAIL(0x7f9676d9a400)]\n",
      "\n",
      "Before Delete:\n",
      "[HEAD(0x7f9676d82370)] -> (0x10d293f30, 2, 0x7f9676d9a400) <-> (0x7f9676d82370, 3, 0x10d293f30) <- [TAIL(0x7f9676d9a400)]\n",
      "Deleting from first when double linked list has more than 1 element\n",
      "\n",
      "After Delete:\n",
      "[HEAD(0x7f9676d9a400)] -> (0x10d293f30, 3, 0x10d293f30) <- [TAIL(0x7f9676d9a400)]\n",
      "\n",
      "Before Delete:\n",
      "[HEAD(0x7f9676d9a400)] -> (0x10d293f30, 3, 0x10d293f30) <- [TAIL(0x7f9676d9a400)]\n",
      "Deleting when double linked list has only 1 element\n",
      "\n",
      "After Delete:\n",
      "Double Linked List is empty!\n",
      "******************************************************************************************************************************************************\n"
     ]
    }
   ],
   "metadata": {}
  },
  {
   "cell_type": "markdown",
   "source": [
    "#### Deletion from last"
   ],
   "metadata": {}
  },
  {
   "cell_type": "code",
   "execution_count": 150,
   "source": [
    "print('*'*150)\n",
    "print('Testing: Deletion from last\\n')\n",
    "\n",
    "dll = DoubleLinkedList()\n",
    "dll.insert(1)\n",
    "dll.insert(2)\n",
    "dll.insert(3)\n",
    "\n",
    "print(f'\\nBefore Delete:\\n{dll}')\n",
    "dll.delete()\n",
    "print(f'\\nAfter Delete:\\n{dll}')\n",
    "\n",
    "print(f'\\nBefore Delete:\\n{dll}')\n",
    "dll.delete()\n",
    "print(f'\\nAfter Delete:\\n{dll}')\n",
    "\n",
    "print(f'\\nBefore Delete:\\n{dll}')\n",
    "dll.delete()\n",
    "print(f'\\nAfter Delete:\\n{dll}')\n",
    "\n",
    "print('*'*150)\n"
   ],
   "outputs": [
    {
     "output_type": "stream",
     "name": "stdout",
     "text": [
      "******************************************************************************************************************************************************\n",
      "Testing: Deletion from last\n",
      "\n",
      "Inserting to empty double linked list\n",
      "Inserting to last position of double linked list\n",
      "Inserting to last position of double linked list\n",
      "\n",
      "Before Delete:\n",
      "[HEAD(0x7f9676d9a9d0)] -> (0x10d293f30, 1, 0x7f9676d9a2b0) <-> (0x7f9676d9a9d0, 2, 0x7f9676d821c0) <-> (0x7f9676d9a2b0, 3, 0x10d293f30) <- [TAIL(0x7f9676d821c0)]\n",
      "Deleting from last when double linked list has more than 1 element\n",
      "\n",
      "After Delete:\n",
      "[HEAD(0x7f9676d9a9d0)] -> (0x10d293f30, 1, 0x7f9676d9a2b0) <-> (0x7f9676d9a9d0, 2, 0x10d293f30) <- [TAIL(0x7f9676d9a2b0)]\n",
      "\n",
      "Before Delete:\n",
      "[HEAD(0x7f9676d9a9d0)] -> (0x10d293f30, 1, 0x7f9676d9a2b0) <-> (0x7f9676d9a9d0, 2, 0x10d293f30) <- [TAIL(0x7f9676d9a2b0)]\n",
      "Deleting from last when double linked list has more than 1 element\n",
      "\n",
      "After Delete:\n",
      "[HEAD(0x7f9676d9a9d0)] -> (0x10d293f30, 1, 0x10d293f30) <- [TAIL(0x7f9676d9a9d0)]\n",
      "\n",
      "Before Delete:\n",
      "[HEAD(0x7f9676d9a9d0)] -> (0x10d293f30, 1, 0x10d293f30) <- [TAIL(0x7f9676d9a9d0)]\n",
      "Deleting when double linked list has only 1 element\n",
      "\n",
      "After Delete:\n",
      "Double Linked List is empty!\n",
      "******************************************************************************************************************************************************\n"
     ]
    }
   ],
   "metadata": {}
  },
  {
   "cell_type": "markdown",
   "source": [
    "#### Delete from nth position"
   ],
   "metadata": {}
  },
  {
   "cell_type": "code",
   "execution_count": 152,
   "source": [
    "print('*'*150)\n",
    "print('Testing: Deletion from nth place\\n')\n",
    "\n",
    "dll = DoubleLinkedList()\n",
    "dll.insert(1)\n",
    "dll.insert(2)\n",
    "dll.insert(3)\n",
    "\n",
    "print(f'\\nBefore Delete:\\n{dll}')\n",
    "dll.delete(2)\n",
    "print(f'\\nAfter Delete:\\n{dll}')\n",
    "\n",
    "print(f'\\nBefore Delete:\\n{dll}')\n",
    "dll.delete(2)\n",
    "print(f'\\nAfter Delete:\\n{dll}')\n",
    "\n",
    "print('*'*150)"
   ],
   "outputs": [
    {
     "output_type": "stream",
     "name": "stdout",
     "text": [
      "******************************************************************************************************************************************************\n",
      "Testing: Deletion from nth place\n",
      "\n",
      "Inserting to empty double linked list\n",
      "Inserting to last position of double linked list\n",
      "Inserting to last position of double linked list\n",
      "\n",
      "Before Delete:\n",
      "[HEAD(0x7f9675b74880)] -> (0x10d293f30, 1, 0x7f9675b743d0) <-> (0x7f9675b74880, 2, 0x7f9675b74670) <-> (0x7f9675b743d0, 3, 0x10d293f30) <- [TAIL(0x7f9675b74670)]\n",
      "Deleting the nth when double linked list has more than 1 element\n",
      "\n",
      "After Delete:\n",
      "[HEAD(0x7f9675b74880)] -> (0x10d293f30, 1, 0x7f9675b74670) <-> (0x7f9675b74880, 3, 0x10d293f30) <- [TAIL(0x7f9675b74670)]\n",
      "\n",
      "Before Delete:\n",
      "[HEAD(0x7f9675b74880)] -> (0x10d293f30, 1, 0x7f9675b74670) <-> (0x7f9675b74880, 3, 0x10d293f30) <- [TAIL(0x7f9675b74670)]\n",
      "Deleting the nth when double linked list has more than 1 element\n",
      "\n",
      "After Delete:\n",
      "[HEAD(0x7f9675b74880)] -> (0x10d293f30, 1, 0x10d293f30) <- [TAIL(0x7f9675b74880)]\n",
      "******************************************************************************************************************************************************\n"
     ]
    }
   ],
   "metadata": {}
  },
  {
   "cell_type": "markdown",
   "source": [
    "### Complexity Analysis"
   ],
   "metadata": {}
  },
  {
   "cell_type": "markdown",
   "source": [],
   "metadata": {}
  }
 ],
 "metadata": {
  "orig_nbformat": 4,
  "language_info": {
   "name": "python",
   "version": "3.9.6",
   "mimetype": "text/x-python",
   "codemirror_mode": {
    "name": "ipython",
    "version": 3
   },
   "pygments_lexer": "ipython3",
   "nbconvert_exporter": "python",
   "file_extension": ".py"
  },
  "kernelspec": {
   "name": "python3",
   "display_name": "Python 3.9.6 64-bit"
  },
  "interpreter": {
   "hash": "aee8b7b246df8f9039afb4144a1f6fd8d2ca17a180786b69acc140d282b71a49"
  }
 },
 "nbformat": 4,
 "nbformat_minor": 2
}