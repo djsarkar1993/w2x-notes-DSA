{
 "cells": [
  {
   "cell_type": "markdown",
   "source": [
    "## What is a linked list?"
   ],
   "metadata": {}
  },
  {
   "cell_type": "markdown",
   "source": [
    "<p>A Linked List, like an array, is a linear / sequential data structure. However, the elements of a linked list, unlike an array, are not stored at contiguous memory locations; they are connected (linked) using pointers.</p>\n",
    "<p>A linked list consists of:<ul><li><b><u>nodes</u></b> where each node contains a <b><u>data field</b></u> and a <b><u>reference (link)</b></u> to the next node in the list.</li><li>a head pointer that points to the first node of the list.</li><li>a tail pointer that points to the last node of the list.</li></ul></p>\n",
    "<img src=\"Image/fig1-sll.png\" alt=\"Image/fig1-sll.png\"/>"
   ],
   "metadata": {}
  },
  {
   "cell_type": "markdown",
   "source": [
    "## Linked List vs Array"
   ],
   "metadata": {}
  },
  {
   "cell_type": "markdown",
   "source": [
    "<p>The major differences are listed below:<ul><li>The size of a linked list can <u>increase dynamically</u> while the size of an array is static.</li><li>Insertion/Deletion of an element from the middle of a linked list is <u>much faster</u> than that of an array (as no shifting of elements is needed).</li><li>Direct access of elements is <u>much faster</u> with arrays; compared to linked lists (as all previous elements must be traversed to reach any element\n",
    ").</li><li>Linked lists require <u>more memory</u> compared to arrays (as they store the reference of the next node in current node).</li></ul></p>"
   ],
   "metadata": {}
  },
  {
   "cell_type": "markdown",
   "source": [
    "## Types of linked list"
   ],
   "metadata": {}
  },
  {
   "cell_type": "markdown",
   "source": [
    "<p>The various types of linked list are:<ul><li>Single Linked List<br/><img src=\"Image/fig1-sll.png\" width=\"500\" alt=\"Image/fig1-sll.png\"/><br/><br/></li><li>Circular Single Linked List<br/><img src=\"Image/fig2-csll.png\" width=\"500\" alt=\"Image/fig2-csll.png\"/><br/><br/></li><li>Double Linked List<br/><img src=\"Image/fig3-dll.png\" width=\"500\" alt=\"Image/fig3-dll.png\"/><br/><br/></li><li>Circular Double Linked List<br/><img src=\"Image/fig4-cdll.png\" width=\"500\" alt=\"Image/fig4-cdll.png\"/></li></ul></p>"
   ],
   "metadata": {}
  },
  {
   "cell_type": "markdown",
   "source": [
    "## Single Linked List"
   ],
   "metadata": {}
  },
  {
   "cell_type": "markdown",
   "source": [
    "### Code"
   ],
   "metadata": {}
  },
  {
   "cell_type": "code",
   "execution_count": 2,
   "source": [
    "class Node:\n",
    "    def __init__(self, value):\n",
    "        self.data = value\n",
    "        self.next = None\n",
    "    \n",
    "    def __str__(self):\n",
    "        return f'({self.data}, {hex(id(self.next))})'\n"
   ],
   "outputs": [],
   "metadata": {}
  },
  {
   "cell_type": "code",
   "execution_count": 3,
   "source": [
    "class SingleLinkedList:\n",
    "    def __init__(self):\n",
    "        self.head = None\n",
    "        self.tail = None\n",
    "        self.length = 0\n",
    "\n",
    "\n",
    "    def __str__(self):\n",
    "        result = ''\n",
    "        if self.length > 0:\n",
    "            current_node = self.head\n",
    "\n",
    "            result += f'[[[HEAD({hex(id(self.head))})]]] -> '\n",
    "            while current_node.next:\n",
    "                result += f'{current_node} -> '\n",
    "                current_node = current_node.next\n",
    "            result += f'{current_node} <- [[[TAIL({hex(id(self.tail))})]]]'\n",
    "        else:\n",
    "            result = \"The linked list is empty\"\n",
    "        \n",
    "        return result\n",
    "\n",
    "    \n",
    "    def insert(self, value, pos=-1):\n",
    "        node = Node(value)\n",
    "        print(f'Node: {node} to be inserted at location: {pos}')\n",
    "        \n",
    "        if self.head is None:\n",
    "            print('Inserting to empty linked list')\n",
    "            if pos not in [1, -1]:\n",
    "                raise IndexError(f\"The linked list is empty. The value of pos should be 1 or -1\")\n",
    "            \n",
    "            self.head = node\n",
    "            self.tail = node\n",
    "\n",
    "        else:\n",
    "            if pos == 1:\n",
    "                print('Inserting to first position of linked list')\n",
    "                node.next = self.head\n",
    "                self.head = node\n",
    "            \n",
    "            elif pos == -1:\n",
    "                print('Inserting to last position of linked list')\n",
    "                self.tail.next = node\n",
    "                self.tail = node\n",
    "            \n",
    "            else:\n",
    "                print('Inserting to nth position of linked list')\n",
    "                if pos > self.length:\n",
    "                    raise IndexError(f\"The value of pos should be between 1 and {self.length}\")\n",
    "                \n",
    "                current_node = self.head\n",
    "                for i in range(1, pos-1):\n",
    "                    current_node = current_node.next\n",
    "                \n",
    "                node.next = current_node.next\n",
    "                current_node.next = node\n",
    "            \n",
    "        self.length += 1\n",
    "\n",
    "    \n",
    "    def traverse(self):\n",
    "        if self.length > 0:\n",
    "            current_node = self.head\n",
    "            while current_node:\n",
    "                print(current_node.data, end = ' -> ')\n",
    "                current_node = current_node.next\n",
    "            print('NULL\\n')\n",
    "\n",
    "        else:\n",
    "            print('Linked list is empty')\n",
    "\n",
    "\n",
    "    def find_index(self, search_data):\n",
    "        result = -1\n",
    "\n",
    "        if self.length > 0:\n",
    "            current_node = self.head\n",
    "            idx = 1\n",
    "            while current_node:\n",
    "                if search_data == current_node.data:\n",
    "                    result = idx\n",
    "                    break\n",
    "\n",
    "                current_node = current_node.next\n",
    "                idx += 1\n",
    "\n",
    "        return result\n",
    "\n",
    "\n",
    "    def empty(self):\n",
    "        if self.head is None:\n",
    "            raise ValueError(\"Operation not permitted as linked list is empty!\")\n",
    "        \n",
    "        self.head = None\n",
    "        self.tail = None\n",
    "\n",
    "        self.length = 0\n",
    "    \n",
    "    \n",
    "    def delete(self, pos = -1):   \n",
    "        if self.head is None:\n",
    "            raise ValueError(\"Operation not permitted as linked list is empty!\")\n",
    "        \n",
    "        if pos > self.length:\n",
    "            raise IndexError(f\"The value of pos should between 1 and {self.length}\")\n",
    "        \n",
    "        if pos in [1, -1] and self.head == self.tail:\n",
    "            print('Deleting when linked list has only 1 element')\n",
    "            self.head = self.tail = None\n",
    "\n",
    "        elif pos == 1:\n",
    "            print('Deleting from first when linked list has more than 1 element')\n",
    "            self.head = self.head.next\n",
    "        \n",
    "        else:\n",
    "            print('Deleting from last / nth when linked list has more than 1 element')\n",
    "            previous_node = self.head\n",
    "            current_node = self.head.next\n",
    "            idx_upper_bound = self.length if pos == -1 else pos\n",
    "            for idx in range(1, idx_upper_bound - 1):\n",
    "                previous_node = previous_node.next\n",
    "                current_node = current_node.next\n",
    "            \n",
    "            if current_node == self.tail:\n",
    "                self.tail = previous_node\n",
    "            \n",
    "            previous_node.next = current_node.next\n",
    "            current_node.next = None\n",
    "                \n",
    "        self.length -= 1\n"
   ],
   "outputs": [],
   "metadata": {}
  },
  {
   "cell_type": "markdown",
   "source": [
    "## Circular Single Linked List"
   ],
   "metadata": {}
  },
  {
   "cell_type": "markdown",
   "source": [
    "### Code"
   ],
   "metadata": {}
  },
  {
   "cell_type": "code",
   "execution_count": 4,
   "source": [
    "class Node:\n",
    "    def __init__(self, data):\n",
    "        self.data = data\n",
    "        self.next = None\n",
    "    \n",
    "    def __str__(self):\n",
    "        return f'({self.data}, {hex(id(self.next))})'\n"
   ],
   "outputs": [],
   "metadata": {}
  },
  {
   "cell_type": "code",
   "execution_count": 5,
   "source": [
    "class CircularSingleLinkedList:\n",
    "    def __init__(self):\n",
    "        self.head = None\n",
    "        self.tail = None\n",
    "        self.length = 0\n",
    "    \n",
    "    \n",
    "    def __str__(self):\n",
    "        if self.head:\n",
    "            result = f'[[[HEAD ({hex(id(self.head))})]]]'\n",
    "            current_node = self.head\n",
    "            while True:\n",
    "                result += f' -> {current_node}'\n",
    "                if current_node == self.tail:\n",
    "                    break\n",
    "                current_node = current_node.next\n",
    "            result += f' <- [[[TAIL({hex(id(self.tail))})]]]'\n",
    "            return result\n",
    "        else:\n",
    "            return \"Circular Single Linked List is empty!\"\n",
    "    \n",
    "\n",
    "    def insert(self, data, pos=-1):\n",
    "        node = Node(data)\n",
    "\n",
    "        if self.head is None:\n",
    "            print('Inserting to empty linked list')\n",
    "            if pos not in [1, -1]:\n",
    "                raise IndexError(f\"The circular single linked list is empty. The value of pos should be 1 or -1\")\n",
    "            \n",
    "            self.head = node\n",
    "            self.tail = node\n",
    "            node.next = node\n",
    "\n",
    "        else:\n",
    "            if pos == 1:\n",
    "                print('Inserting to first position of linked list')\n",
    "                node.next = self.head\n",
    "                self.head = node\n",
    "                self.tail.next = node \n",
    "            \n",
    "            elif pos == -1:\n",
    "                print('Inserting to last position of linked list')\n",
    "                self.tail.next = node\n",
    "                self.tail = node\n",
    "                node.next = self.head\n",
    "            \n",
    "            else:\n",
    "                print('Inserting to nth position of linked list')\n",
    "                if pos > self.length:\n",
    "                    raise IndexError(f\"The value of pos should be between 1 and {self.length}\")\n",
    "                \n",
    "                current_node = self.head\n",
    "                for i in range(1, pos-1):\n",
    "                    current_node = current_node.next\n",
    "                \n",
    "                node.next = current_node.next\n",
    "                current_node.next = node\n",
    "        \n",
    "        self.length += 1\n",
    "    \n",
    "\n",
    "    def traverse(self):\n",
    "        if self.head is None:\n",
    "            print(\"Circular Single Linked List is empty!\")\n",
    "        else:\n",
    "            current_node = self.head\n",
    "            while True:\n",
    "                if current_node ==  self.tail:\n",
    "                    print(current_node.data, end=' <-> ')\n",
    "                    break\n",
    "                else:\n",
    "                    print(current_node.data, end=' -> ')\n",
    "                current_node = current_node.next\n",
    "            print('\\n')\n",
    "    \n",
    "    \n",
    "    def find_index(self, search_data):\n",
    "        result = -1\n",
    "\n",
    "        if self.head:\n",
    "            current_node = self.head\n",
    "            idx = 1\n",
    "            while True:\n",
    "                if search_data == current_node.data:\n",
    "                    result = idx\n",
    "                    break\n",
    "\n",
    "                if current_node == self.tail:\n",
    "                    break\n",
    "\n",
    "                current_node = current_node.next\n",
    "                idx += 1\n",
    "        \n",
    "        return result\n",
    "    \n",
    "    def empty(self):\n",
    "        if self.head is None:\n",
    "            raise ValueError(\"Operation not permitted as linked list is empty!\")\n",
    "        \n",
    "        self.tail.next = None\n",
    "\n",
    "        self.head = None\n",
    "        self.tail = None\n",
    "        \n",
    "        self.length = 0\n",
    "\n",
    "\n",
    "    def delete(self, pos=-1):\n",
    "        if self.head is None:\n",
    "            raise ValueError(\"Operation not permitted as linked list is empty!\")\n",
    "        \n",
    "        if pos > self.length:\n",
    "            raise IndexError(f\"The value of pos should between 1 and {self.length}\")\n",
    "        \n",
    "        if pos in [1, -1] and self.head == self.tail:\n",
    "            print('Deleting when linked list has only 1 element')\n",
    "            self.tail.next = None\n",
    "\n",
    "            self.head = None\n",
    "            self.tail = None\n",
    "\n",
    "        elif pos == 1:\n",
    "            print('Deleting from first when linked list has more than 1 element')\n",
    "            self.head = self.head.next\n",
    "            \n",
    "            self.tail.next = self.head\n",
    "        \n",
    "        else:\n",
    "            print('Deleting from last / nth when linked list has more than 1 element')\n",
    "            previous_node = self.head\n",
    "            current_node = self.head.next\n",
    "            upper_bound = self.length if pos == -1 else pos\n",
    "            for i in range(1, upper_bound-1):\n",
    "                previous_node = previous_node.next\n",
    "                current_node = current_node.next\n",
    "            \n",
    "            if current_node == self.tail:\n",
    "                self.tail = previous_node\n",
    "            \n",
    "            previous_node.next = current_node.next\n",
    "            current_node.next = None\n",
    "            \n",
    "        self.length -= 1\n"
   ],
   "outputs": [],
   "metadata": {}
  },
  {
   "cell_type": "markdown",
   "source": [
    "## Double Linked List"
   ],
   "metadata": {}
  },
  {
   "cell_type": "markdown",
   "source": [
    "### Code"
   ],
   "metadata": {}
  },
  {
   "cell_type": "code",
   "execution_count": 6,
   "source": [
    "class Node:\n",
    "    def __init__(self, data):\n",
    "        self.prev = None\n",
    "        self.data = data\n",
    "        self.next = None\n",
    "    \n",
    "    def __str__(self):\n",
    "        return f'({hex(id(self.prev))}, {self.data}, {hex(id(self.next))})'\n"
   ],
   "outputs": [],
   "metadata": {}
  },
  {
   "cell_type": "code",
   "execution_count": 7,
   "source": [
    "class DoubleLinkedList:\n",
    "    def __init__(self):\n",
    "        self.head = None\n",
    "        self.tail = None\n",
    "        self.length = 0\n",
    "    \n",
    "\n",
    "    def __str__(self):\n",
    "        if self.head:\n",
    "            result = f'[HEAD({hex(id(self.head))})] -> '\n",
    "            current_node = self.head\n",
    "            while current_node:\n",
    "                if current_node == self.tail:\n",
    "                    result += f'{current_node} <- [TAIL({hex(id(self.tail))})]'\n",
    "                else:\n",
    "                    result += f'{current_node} <-> '\n",
    "                \n",
    "                current_node = current_node.next\n",
    "            return result\n",
    "        else:\n",
    "            return  \"Double Linked List is empty!\"\n",
    "    \n",
    "\n",
    "    def insert(self, data, pos=-1):\n",
    "        node = Node(data)\n",
    "\n",
    "        if self.head is None:\n",
    "            print('Inserting to empty double linked list')\n",
    "            if pos not in [1, -1]:\n",
    "                raise IndexError(f\"The double linked list is empty. The value of pos should be 1 or -1\")\n",
    "            \n",
    "            self.head = node\n",
    "            self.tail = node\n",
    "        \n",
    "        else:\n",
    "            if pos == 1:\n",
    "                print('Inserting to first position of double linked list')\n",
    "                self.head.prev = node\n",
    "                node.next = self.head\n",
    "                self.head = node\n",
    "\n",
    "            elif pos == -1:\n",
    "                print('Inserting to last position of double linked list')\n",
    "                self.tail.next = node\n",
    "                node.prev = self.tail\n",
    "                self.tail = node\n",
    "\n",
    "            else:\n",
    "                print('Inserting to nth position of linked list')\n",
    "                if pos > self.length:\n",
    "                    raise IndexError(f\"The value of pos should be between 1 and {self.length}\")\n",
    "                \n",
    "                previous_node = self.head\n",
    "                current_node = self.head.next\n",
    "                for i in range(1, pos-1):\n",
    "                    previous_node = previous_node.next\n",
    "                    current_node = current_node.next\n",
    "                \n",
    "                node.prev = previous_node\n",
    "                node.next = current_node\n",
    "                previous_node.next = node\n",
    "                current_node.prev = node\n",
    "        \n",
    "        self.length += 1\n",
    "    \n",
    "\n",
    "    def traverse(self):\n",
    "        if self.head:\n",
    "            print('NULL', end=' -> ')\n",
    "            current_node = self.head\n",
    "            while current_node:\n",
    "                if current_node == self.tail:\n",
    "                    print(f'{current_node.data} -> NULL')\n",
    "                else:\n",
    "                    print(current_node.data, end=' <-> ')\n",
    "                \n",
    "                current_node = current_node.next\n",
    "            \n",
    "        else:\n",
    "            print(\"Double Linked List is empty!\")\n",
    "    \n",
    "\n",
    "    def traverse_backwards(self):\n",
    "        if self.head:\n",
    "            print('NULL', end=' -> ')\n",
    "            current_node = self.tail\n",
    "            while current_node:\n",
    "                if current_node == self.head:\n",
    "                    print(f'{current_node.data} -> NULL')\n",
    "                else:\n",
    "                    print(current_node.data, end=' <-> ')\n",
    "                \n",
    "                current_node = current_node.prev\n",
    "            \n",
    "        else:\n",
    "            print(\"Double Linked List is empty!\")\n",
    "    \n",
    "\n",
    "    def find_index(self, search_data):\n",
    "        result = -1\n",
    "\n",
    "        if self.head:\n",
    "            current_node = self.head\n",
    "            idx = 1\n",
    "            while current_node:\n",
    "                if search_data == current_node.data:\n",
    "                    result = idx\n",
    "                    break\n",
    "\n",
    "                if current_node == self.tail:\n",
    "                    break\n",
    "\n",
    "                current_node = current_node.next\n",
    "                idx += 1\n",
    "        \n",
    "        return result\n",
    "    \n",
    "\n",
    "    def empty(self):\n",
    "        if self.head is None:\n",
    "            raise ValueError(\"Operation not permitted as double linked list is empty!\")\n",
    "        \n",
    "        current_node = self.head\n",
    "        while current_node:\n",
    "            current_node.prev = None\n",
    "            current_node = current_node.next\n",
    "        \n",
    "        self.head = None\n",
    "        self.tail = None\n",
    "        \n",
    "        self.length = 0\n",
    "    \n",
    "\n",
    "    def delete(self, pos=-1):\n",
    "        if self.head is None:\n",
    "            raise ValueError(\"Operation not permitted as double linked list is empty!\")\n",
    "        \n",
    "        if pos > self.length:\n",
    "            raise IndexError(f\"The value of pos should between 1 and {self.length}\")\n",
    "        \n",
    "        if pos in [1, -1] and self.head == self.tail:\n",
    "            print('Deleting when double linked list has only 1 element')\n",
    "            self.head = None\n",
    "            self.tail = None\n",
    "        \n",
    "        elif pos == 1:\n",
    "            print('Deleting from first when double linked list has more than 1 element')\n",
    "            self.head = self.head.next\n",
    "            self.head.prev = None\n",
    "\n",
    "        elif pos == -1:\n",
    "            print('Deleting from last when double linked list has more than 1 element')\n",
    "            self.tail = self.tail.prev\n",
    "            self.tail.next = None\n",
    "        \n",
    "        else:\n",
    "            print('Deleting the nth when double linked list has more than 1 element')\n",
    "            previous_node = self.head\n",
    "            current_node = self.head.next\n",
    "            for i in range(1, pos-1): \n",
    "                previous_node = previous_node.next\n",
    "                current_node = current_node.next\n",
    "            \n",
    "            previous_node.next = current_node.next\n",
    "\n",
    "            if current_node == self.tail:\n",
    "                self.tail =  previous_node\n",
    "            else:\n",
    "                current_node.next.prev = previous_node\n",
    "        \n",
    "        self.length -= 1\n",
    "        \n",
    "        \n"
   ],
   "outputs": [],
   "metadata": {}
  },
  {
   "cell_type": "markdown",
   "source": [
    "## Circular Double Linked List"
   ],
   "metadata": {}
  },
  {
   "cell_type": "markdown",
   "source": [
    "### Code"
   ],
   "metadata": {}
  },
  {
   "cell_type": "code",
   "execution_count": 8,
   "source": [
    "class Node:\n",
    "    def __init__(self, data):\n",
    "        self.prev = None\n",
    "        self.data = data\n",
    "        self.next = None\n",
    "    \n",
    "\n",
    "    def __str__(self):\n",
    "        return f\"({hex(id(self.prev))}, {self.data}, {hex(id(self.next))})\"\n"
   ],
   "outputs": [],
   "metadata": {}
  },
  {
   "cell_type": "code",
   "execution_count": 9,
   "source": [
    "class CircularDoubleLinkedList:\n",
    "    def __init__(self):\n",
    "        self.head = None\n",
    "        self.tail = None\n",
    "        self.length = 0\n",
    "    \n",
    "\n",
    "    def __str__(self):\n",
    "        if self.head:\n",
    "            result = f'[HEAD{hex(id(self.head))}] -> '\n",
    "            \n",
    "            current_node = self.head\n",
    "            while True:\n",
    "                if current_node == self.tail:\n",
    "                    result += f'{current_node} <- [TAIL({hex(id(self.tail))})]'\n",
    "                    break\n",
    "                else:\n",
    "                    result += f'{current_node} <-> '\n",
    "                \n",
    "                current_node = current_node.next\n",
    "            \n",
    "            return result\n",
    "        else:\n",
    "            return \"Circular double linked list is empty!\"\n",
    "    \n",
    "\n",
    "    def insert(self, data, pos=-1):\n",
    "        node = Node(data)\n",
    "\n",
    "        if self.head is None:\n",
    "            print('Inserting to empty circular double linked list')\n",
    "            if pos not in [1, -1]:\n",
    "                raise IndexError(f\"The circular double linked list is empty. The value of pos should be 1 or -1\")\n",
    "            \n",
    "            self.head = node\n",
    "            self.tail = node\n",
    "\n",
    "            node.next = node\n",
    "            node.prev = node\n",
    "\n",
    "        else:\n",
    "            if pos == 1:\n",
    "                print('Inserting to first position of circular double linked list')\n",
    "                self.head.prev = node\n",
    "                node.next = self.head\n",
    "                node.prev = self.tail\n",
    "                self.tail.next =  node\n",
    "                self.head =  node\n",
    "            \n",
    "            elif pos == -1:\n",
    "                print('Inserting to last position of circular double linked list')\n",
    "                self.tail.next = node\n",
    "                node.prev = self.tail\n",
    "                node.next = self.head\n",
    "                self.head.prev = node\n",
    "                self.tail = node\n",
    "            \n",
    "            else:\n",
    "                print('Inserting to nth position of circular double linked list')\n",
    "                if pos > self.length:\n",
    "                    raise IndexError(f\"The value of pos should be between 1 and {self.length}\")\n",
    "                \n",
    "                previous_node = self.head\n",
    "                current_node = self.head.next\n",
    "                for i in range(1, pos-1):\n",
    "                    previous_node = previous_node.next\n",
    "                    current_node = current_node.next\n",
    "                \n",
    "                node.prev = previous_node\n",
    "                node.next = current_node\n",
    "\n",
    "                previous_node.next = node\n",
    "                current_node.prev = node\n",
    "        \n",
    "        self.length += 1\n",
    "    \n",
    "\n",
    "    def traverse(self):\n",
    "        if self.head:\n",
    "            print(end='<- ')\n",
    "            current_node = self.head\n",
    "            while True:\n",
    "                if current_node == self.tail:\n",
    "                    print(f'{current_node.data} ->')\n",
    "                    break\n",
    "                else:\n",
    "                    print(current_node.data, end=' <-> ')\n",
    "                \n",
    "                current_node = current_node.next\n",
    "        else:\n",
    "            print('The circular double linked list is empty!')\n",
    "    \n",
    "\n",
    "    def traverse_backwards(self):\n",
    "        if self.head:\n",
    "            print(end='<- ')\n",
    "            current_node = self.tail\n",
    "            while True:\n",
    "                if current_node == self.head:\n",
    "                    print(f'{current_node.data} ->')\n",
    "                    break\n",
    "                else:\n",
    "                    print(current_node.data, end=' <-> ')\n",
    "                \n",
    "                current_node = current_node.prev\n",
    "        else:\n",
    "            print('The circular double linked list is empty!')\n",
    "    \n",
    "\n",
    "    def find_index(self, search_data):\n",
    "        result = -1\n",
    "\n",
    "        if self.head:\n",
    "            current_node = self.head\n",
    "            idx = 1\n",
    "            while True:\n",
    "                if search_data == current_node.data:\n",
    "                    result = idx\n",
    "                    break\n",
    "                \n",
    "                if current_node == self.tail:\n",
    "                    break\n",
    "                \n",
    "                current_node = current_node.next\n",
    "                idx += 1\n",
    "        \n",
    "        return result\n",
    "    \n",
    "\n",
    "    def empty(self):\n",
    "        if self.head is None:\n",
    "            raise ValueError(\"Operation not permitted as circular double linked list is empty!\")\n",
    "        \n",
    "        current_node = self.head\n",
    "        while True:\n",
    "            current_node.prev = None\n",
    "            \n",
    "            if current_node == self.tail:\n",
    "                break\n",
    "            \n",
    "            current_node = current_node.next\n",
    "    \n",
    "\n",
    "    def delete(self, pos=-1):\n",
    "        if self.head is None:\n",
    "            raise ValueError(\"Operation not permitted as circular double linked list is empty!\") \n",
    "        \n",
    "        if pos > self.length:\n",
    "            raise IndexError(f\"The value of pos should between 1 and {self.length}\")\n",
    "        \n",
    "        if pos in [1, -1] and self.head == self.tail:\n",
    "            print('Deleting when circular double linked list has only 1 element')\n",
    "            self.head.prev = None\n",
    "            self.head.next = None\n",
    "            self.head = None\n",
    "            self.tail = None\n",
    "        \n",
    "        elif pos == 1:\n",
    "            print('Deleting from first when circular double linked list has more than 1 element')\n",
    "            self.head = self.head.next\n",
    "            self.head.prev = self.tail\n",
    "            self.tail.next = self.head\n",
    "        \n",
    "        elif pos == -1:\n",
    "            print('Deleting from last when circular double linked list has more than 1 element')\n",
    "            self.tail = self.tail.prev\n",
    "            self.tail.next = self.head\n",
    "            self.head.prev = self.tail\n",
    "        \n",
    "        else:\n",
    "            print('Deleting the nth when double linked list has more than 1 element')\n",
    "            previous_node = self.head\n",
    "            current_node = self.head.next\n",
    "            for i in range(1, pos-1):\n",
    "                previous_node = previous_node.next\n",
    "                current_node = current_node.next\n",
    "            \n",
    "            previous_node.next = current_node.next\n",
    "\n",
    "            if current_node  == self.tail:\n",
    "                self.tail = previous_node\n",
    "                self.head.prev = previous_node\n",
    "            else:\n",
    "                current_node.next.prev = previous_node\n",
    "        \n",
    "        self.length -= 1\n",
    "            \n",
    "            \n",
    "        "
   ],
   "outputs": [],
   "metadata": {}
  },
  {
   "cell_type": "markdown",
   "source": [
    "<table>\n",
    "<tr><th></th><th>Array</th><th>Single Linked List</th><th>Circular Single Linked List</th><th>Double Linked List</th><th>Circular Double Linked List</th></tr>\n",
    "<tr><td>Creation</td><td>O(1)</td><td>O(1)</td><td>O(1)</td><td>O(1)</td><td>O(1)</td></tr>\n",
    "<tr><td colspan=\"6\" style=\"background:black;\"></td></tr>\n",
    "<tr><td>Insertion to empty list</td><td>O(1)</td><td>O(1)</td><td>O(1)</td><td>O(1)</td><td>O(1)</td></tr>\n",
    "<tr><td>Insertion at first position</td><td>O(1)</td><td>O(1)</td><td>O(1)</td><td>O(1)</td><td>O(1)</td></tr>\n",
    "<tr><td>Insertion at last position</td><td>O(1)</td><td>O(1)</td><td>O(1)</td><td>O(1)</td><td>O(1)</td></tr>\n",
    "<tr><td>Insertion at n<sup>th</sup> position</td><td>O(1)</td><td>O(n)</td><td>O(n)</td><td>O(n)</td><td>O(n)</td></tr>\n",
    "<tr><td colspan=\"6\" style=\"background:black;\"></td></tr>\n",
    "<tr><td>Search in unsorted data</td><td>O(n)</td><td>O(n)</td><td>O(n)</td><td>O(n)</td><td>O(n)</td></tr>\n",
    "<tr><td>Search in sorted data</td><td>O(log n)</td><td>O(n)</td><td>O(n)</td><td>O(n)</td><td>O(n)</td></tr>\n",
    "<tr><td>Traversing forward</td><td>O(n)</td><td>O(n)</td><td>O(n)</td><td>O(n)</td><td>O(n)</td></tr>\n",
    "<tr><td>Traversing backward</td><td>O(n)</td><td>-</td><td>-</td><td>O(n)</td><td>O(n)</td></tr>\n",
    "<tr><td colspan=\"6\" style=\"background:black;\"></td></tr>\n",
    "<tr><td>Deletion of whole list</td><td>O(1)</td><td>O(1)</td><td>O(1)</td><td>O(n)</td><td>O(n)</td></tr>\n",
    "<tr><td>Deletion when list has just one element/node</td><td>O(1)</td><td>O(1)</td><td>O(1)</td><td>O(1)</td><td>O(1)</td></tr>\n",
    "<tr><td>Deletion from first position</td><td>O(1)</td><td>O(1)</td><td>O(1)</td><td>O(1)</td><td>O(1)</td></tr>\n",
    "<tr><td>Deletion from last position</td><td>O(1)</td><td>O(n)</td><td>O(n)</td><td>O(1)</td><td>O(1)</td></tr>\n",
    "<tr><td>Deletion from n<sup>th</sup> position</td><td>O(1)</td><td>O(n)</td><td>O(n)</td><td>O(n)</td><td>O(n)</td></tr>\n",
    "<tr><td colspan=\"6\" style=\"background:black;\"></td></tr>\n",
    "<tr><td>Accessing n<sup>th</sup> element</td><td>O(1)</td><td>O(n)</td><td>O(n)</td><td>O(n)</td><td>O(n)</td></tr>\n",
    "</table>\n",
    "<p>The Space complexity of a all linked list operations is O(1)</p>"
   ],
   "metadata": {}
  },
  {
   "cell_type": "markdown",
   "source": [
    "## Complexity Analysis: Array vs. SLL vs. CSLL vs. DLL vs. CDLL"
   ],
   "metadata": {}
  },
  {
   "cell_type": "markdown",
   "source": [
    "## Tests"
   ],
   "metadata": {}
  },
  {
   "cell_type": "markdown",
   "source": [
    "### Single Linked List"
   ],
   "metadata": {}
  },
  {
   "cell_type": "markdown",
   "source": [
    "#### Insertion to empty linked list"
   ],
   "metadata": {}
  },
  {
   "cell_type": "code",
   "execution_count": 10,
   "source": [
    "print('*'*150)\n",
    "print('Testing: Insertion to empty linked list\\n')\n",
    "\n",
    "sll = SingleLinkedList()\n",
    "print(f'Before Insert:\\n{sll}')\n",
    "sll.insert(1)\n",
    "print(f'After Insert:\\n{sll}\\n')\n",
    "\n",
    "print('*'*150)\n"
   ],
   "outputs": [
    {
     "output_type": "stream",
     "name": "stdout",
     "text": [
      "******************************************************************************************************************************************************\n",
      "Testing: Insertion to empty linked list\n",
      "\n",
      "Before Insert:\n",
      "The linked list is empty\n",
      "Node: (0x10878cf30, 1, 0x10878cf30) to be inserted at location: -1\n",
      "Inserting to empty linked list\n",
      "After Insert:\n",
      "[[[HEAD(0x7fd2c74dff10)]]] -> (0x10878cf30, 1, 0x10878cf30) <- [[[TAIL(0x7fd2c74dff10)]]]\n",
      "\n",
      "******************************************************************************************************************************************************\n"
     ]
    }
   ],
   "metadata": {}
  },
  {
   "cell_type": "markdown",
   "source": [
    "#### Insertion to end of linked list"
   ],
   "metadata": {}
  },
  {
   "cell_type": "code",
   "execution_count": 11,
   "source": [
    "print('*'*150)\n",
    "print('Testing: Insertion to end of linked list\\n')\n",
    "\n",
    "sll = SingleLinkedList()\n",
    "\n",
    "print(f'Before Insert:\\n{sll}')\n",
    "sll.insert('abc')\n",
    "print(f'After Insert:\\n{sll}\\n')\n",
    "\n",
    "print(f'Before Insert:\\n{sll}')\n",
    "sll.insert(123, -1)\n",
    "print(f'After Insert:\\n{sll}\\n')\n",
    "\n",
    "print(f'Before Insert:\\n{sll}')\n",
    "sll.insert(4.56, -1)\n",
    "print(f'After Insert:\\n{sll}\\n')\n",
    "\n",
    "print('*'*150)"
   ],
   "outputs": [
    {
     "output_type": "stream",
     "name": "stdout",
     "text": [
      "******************************************************************************************************************************************************\n",
      "Testing: Insertion to end of linked list\n",
      "\n",
      "Before Insert:\n",
      "The linked list is empty\n",
      "Node: (0x10878cf30, abc, 0x10878cf30) to be inserted at location: -1\n",
      "Inserting to empty linked list\n",
      "After Insert:\n",
      "[[[HEAD(0x7fd2c74df400)]]] -> (0x10878cf30, abc, 0x10878cf30) <- [[[TAIL(0x7fd2c74df400)]]]\n",
      "\n",
      "Before Insert:\n",
      "[[[HEAD(0x7fd2c74df400)]]] -> (0x10878cf30, abc, 0x10878cf30) <- [[[TAIL(0x7fd2c74df400)]]]\n",
      "Node: (0x10878cf30, 123, 0x10878cf30) to be inserted at location: -1\n",
      "Inserting to last position of linked list\n",
      "After Insert:\n",
      "[[[HEAD(0x7fd2c74df400)]]] -> (0x10878cf30, abc, 0x7fd2c7443d00) -> (0x10878cf30, 123, 0x10878cf30) <- [[[TAIL(0x7fd2c7443d00)]]]\n",
      "\n",
      "Before Insert:\n",
      "[[[HEAD(0x7fd2c74df400)]]] -> (0x10878cf30, abc, 0x7fd2c7443d00) -> (0x10878cf30, 123, 0x10878cf30) <- [[[TAIL(0x7fd2c7443d00)]]]\n",
      "Node: (0x10878cf30, 4.56, 0x10878cf30) to be inserted at location: -1\n",
      "Inserting to last position of linked list\n",
      "After Insert:\n",
      "[[[HEAD(0x7fd2c74df400)]]] -> (0x10878cf30, abc, 0x7fd2c7443d00) -> (0x10878cf30, 123, 0x7fd2c7443e80) -> (0x10878cf30, 4.56, 0x10878cf30) <- [[[TAIL(0x7fd2c7443e80)]]]\n",
      "\n",
      "******************************************************************************************************************************************************\n"
     ]
    }
   ],
   "metadata": {}
  },
  {
   "cell_type": "markdown",
   "source": [
    "#### Insertion to start of linked list"
   ],
   "metadata": {}
  },
  {
   "cell_type": "code",
   "execution_count": 12,
   "source": [
    "print('*'*150)\n",
    "print('Testing: Insertion to start of linked list\\n')\n",
    "\n",
    "sll = SingleLinkedList()\n",
    "\n",
    "print(f'Before Insert:\\n{sll}')\n",
    "sll.insert(3, 1)\n",
    "print(f'After Insert:\\n{sll}\\n')\n",
    "\n",
    "print(f'Before Insert:\\n{sll}')\n",
    "sll.insert(2, 1)\n",
    "print(f'After Insert:\\n{sll}\\n')\n",
    "\n",
    "print(f'Before Insert:\\n{sll}')\n",
    "sll.insert(1, 1)\n",
    "print(f'After Insert:\\n{sll}\\n')\n",
    "\n",
    "print('*'*150)\n"
   ],
   "outputs": [
    {
     "output_type": "stream",
     "name": "stdout",
     "text": [
      "******************************************************************************************************************************************************\n",
      "Testing: Insertion to start of linked list\n",
      "\n",
      "Before Insert:\n",
      "The linked list is empty\n",
      "Node: (0x10878cf30, 3, 0x10878cf30) to be inserted at location: 1\n",
      "Inserting to empty linked list\n",
      "After Insert:\n",
      "[[[HEAD(0x7fd2c74dfdc0)]]] -> (0x10878cf30, 3, 0x10878cf30) <- [[[TAIL(0x7fd2c74dfdc0)]]]\n",
      "\n",
      "Before Insert:\n",
      "[[[HEAD(0x7fd2c74dfdc0)]]] -> (0x10878cf30, 3, 0x10878cf30) <- [[[TAIL(0x7fd2c74dfdc0)]]]\n",
      "Node: (0x10878cf30, 2, 0x10878cf30) to be inserted at location: 1\n",
      "Inserting to first position of linked list\n",
      "After Insert:\n",
      "[[[HEAD(0x7fd2c7443310)]]] -> (0x10878cf30, 2, 0x7fd2c74dfdc0) -> (0x10878cf30, 3, 0x10878cf30) <- [[[TAIL(0x7fd2c74dfdc0)]]]\n",
      "\n",
      "Before Insert:\n",
      "[[[HEAD(0x7fd2c7443310)]]] -> (0x10878cf30, 2, 0x7fd2c74dfdc0) -> (0x10878cf30, 3, 0x10878cf30) <- [[[TAIL(0x7fd2c74dfdc0)]]]\n",
      "Node: (0x10878cf30, 1, 0x10878cf30) to be inserted at location: 1\n",
      "Inserting to first position of linked list\n",
      "After Insert:\n",
      "[[[HEAD(0x7fd2c74434c0)]]] -> (0x10878cf30, 1, 0x7fd2c7443310) -> (0x10878cf30, 2, 0x7fd2c74dfdc0) -> (0x10878cf30, 3, 0x10878cf30) <- [[[TAIL(0x7fd2c74dfdc0)]]]\n",
      "\n",
      "******************************************************************************************************************************************************\n"
     ]
    }
   ],
   "metadata": {}
  },
  {
   "cell_type": "markdown",
   "source": [
    "#### Insertion in between linked list"
   ],
   "metadata": {}
  },
  {
   "cell_type": "code",
   "execution_count": 13,
   "source": [
    "print('*'*150)\n",
    "print('Testing: Insertion to start of linked list\\n')\n",
    "\n",
    "sll = SingleLinkedList()\n",
    "sll.insert(1)\n",
    "sll.insert(3)\n",
    "sll.insert(5)\n",
    "\n",
    "print(f'\\nBefore Insert:\\n{sll}')\n",
    "sll.insert(4, 3)\n",
    "print(f'After Insert:\\n{sll}\\n')\n",
    "\n",
    "print(f'Before Insert:\\n{sll}')\n",
    "sll.insert(2, 2)\n",
    "print(f'After Insert:\\n{sll}\\n')\n",
    "\n",
    "print('*'*150)\n",
    "\n"
   ],
   "outputs": [
    {
     "output_type": "stream",
     "name": "stdout",
     "text": [
      "******************************************************************************************************************************************************\n",
      "Testing: Insertion to start of linked list\n",
      "\n",
      "Node: (0x10878cf30, 1, 0x10878cf30) to be inserted at location: -1\n",
      "Inserting to empty linked list\n",
      "Node: (0x10878cf30, 3, 0x10878cf30) to be inserted at location: -1\n",
      "Inserting to last position of linked list\n",
      "Node: (0x10878cf30, 5, 0x10878cf30) to be inserted at location: -1\n",
      "Inserting to last position of linked list\n",
      "\n",
      "Before Insert:\n",
      "[[[HEAD(0x7fd2c74dfe50)]]] -> (0x10878cf30, 1, 0x7fd2c74df970) -> (0x10878cf30, 3, 0x7fd2c74438b0) -> (0x10878cf30, 5, 0x10878cf30) <- [[[TAIL(0x7fd2c74438b0)]]]\n",
      "Node: (0x10878cf30, 4, 0x10878cf30) to be inserted at location: 3\n",
      "Inserting to nth position of linked list\n",
      "After Insert:\n",
      "[[[HEAD(0x7fd2c74dfe50)]]] -> (0x10878cf30, 1, 0x7fd2c74df970) -> (0x10878cf30, 3, 0x7fd2c7443a00) -> (0x10878cf30, 4, 0x7fd2c74438b0) -> (0x10878cf30, 5, 0x10878cf30) <- [[[TAIL(0x7fd2c74438b0)]]]\n",
      "\n",
      "Before Insert:\n",
      "[[[HEAD(0x7fd2c74dfe50)]]] -> (0x10878cf30, 1, 0x7fd2c74df970) -> (0x10878cf30, 3, 0x7fd2c7443a00) -> (0x10878cf30, 4, 0x7fd2c74438b0) -> (0x10878cf30, 5, 0x10878cf30) <- [[[TAIL(0x7fd2c74438b0)]]]\n",
      "Node: (0x10878cf30, 2, 0x10878cf30) to be inserted at location: 2\n",
      "Inserting to nth position of linked list\n",
      "After Insert:\n",
      "[[[HEAD(0x7fd2c74dfe50)]]] -> (0x10878cf30, 1, 0x7fd2c74436d0) -> (0x10878cf30, 2, 0x7fd2c74df970) -> (0x10878cf30, 3, 0x7fd2c7443a00) -> (0x10878cf30, 4, 0x7fd2c74438b0) -> (0x10878cf30, 5, 0x10878cf30) <- [[[TAIL(0x7fd2c74438b0)]]]\n",
      "\n",
      "******************************************************************************************************************************************************\n"
     ]
    }
   ],
   "metadata": {}
  },
  {
   "cell_type": "markdown",
   "source": [
    "#### Traversal of linked list"
   ],
   "metadata": {}
  },
  {
   "cell_type": "code",
   "execution_count": 14,
   "source": [
    "print('*'*150)\n",
    "print('Testing: Traversal of linked list\\n')\n",
    "\n",
    "sll.traverse()\n",
    "\n",
    "print('*'*150)\n"
   ],
   "outputs": [
    {
     "output_type": "stream",
     "name": "stdout",
     "text": [
      "******************************************************************************************************************************************************\n",
      "Testing: Traversal of linked list\n",
      "\n",
      "1 -> 2 -> 3 -> 4 -> 5 -> NULL\n",
      "\n",
      "******************************************************************************************************************************************************\n"
     ]
    }
   ],
   "metadata": {}
  },
  {
   "cell_type": "markdown",
   "source": [
    "#### Searching for a value"
   ],
   "metadata": {}
  },
  {
   "cell_type": "code",
   "execution_count": 15,
   "source": [
    "print('*'*150)\n",
    "print('Testing: Traversal of linked list\\n')\n",
    "\n",
    "print(f'Index of 100 in empty list = {SingleLinkedList().find_index(100)}\\n')\n",
    "\n",
    "print(f'sll = ', end='')\n",
    "sll.traverse()\n",
    "\n",
    "print(f'Index of 5 = {sll.find_index(5)}')\n",
    "print(f'Index of 100 = {sll.find_index(100)}')\n",
    "\n",
    "print('*'*150)"
   ],
   "outputs": [
    {
     "output_type": "stream",
     "name": "stdout",
     "text": [
      "******************************************************************************************************************************************************\n",
      "Testing: Traversal of linked list\n",
      "\n",
      "Index of 100 in empty list = -1\n",
      "\n",
      "sll = 1 -> 2 -> 3 -> 4 -> 5 -> NULL\n",
      "\n",
      "Index of 5 = 5\n",
      "Index of 100 = -1\n",
      "******************************************************************************************************************************************************\n"
     ]
    }
   ],
   "metadata": {}
  },
  {
   "cell_type": "markdown",
   "source": [
    "#### Deletion when list has just 1 element"
   ],
   "metadata": {}
  },
  {
   "cell_type": "code",
   "execution_count": 16,
   "source": [
    "print('*'*150)\n",
    "print('Testing: Deletion when list has just 1 element\\n')\n",
    "\n",
    "sll = SingleLinkedList()\n",
    "sll.insert(123)\n",
    "\n",
    "print(f'\\nBefore Delete:\\n{sll}')\n",
    "sll.delete()\n",
    "print(f'\\nAfter Delete:\\n{sll}')\n",
    "\n",
    "print('*'*150)\n"
   ],
   "outputs": [
    {
     "output_type": "stream",
     "name": "stdout",
     "text": [
      "******************************************************************************************************************************************************\n",
      "Testing: Deletion when list has just 1 element\n",
      "\n",
      "Node: (0x10878cf30, 123, 0x10878cf30) to be inserted at location: -1\n",
      "Inserting to empty linked list\n",
      "\n",
      "Before Delete:\n",
      "[[[HEAD(0x7fd2c74dfe50)]]] -> (0x10878cf30, 123, 0x10878cf30) <- [[[TAIL(0x7fd2c74dfe50)]]]\n",
      "Deleting when linked list has only 1 element\n",
      "\n",
      "After Delete:\n",
      "The linked list is empty\n",
      "******************************************************************************************************************************************************\n"
     ]
    }
   ],
   "metadata": {}
  },
  {
   "cell_type": "markdown",
   "source": [
    "#### Deletion from first"
   ],
   "metadata": {}
  },
  {
   "cell_type": "code",
   "execution_count": 17,
   "source": [
    "print('*'*150)\n",
    "print('Testing: Deletion from first\\n')\n",
    "\n",
    "sll = SingleLinkedList()\n",
    "sll.insert(1)\n",
    "sll.insert(2)\n",
    "sll.insert(3)\n",
    "\n",
    "print(f'\\nBefore Delete:\\n{sll}')\n",
    "sll.delete(pos=1)\n",
    "print(f'\\nAfter Delete:\\n{sll}')\n",
    "\n",
    "print(f'\\nBefore Delete:\\n{sll}')\n",
    "sll.delete(pos=1)\n",
    "print(f'\\nAfter Delete:\\n{sll}')\n",
    "\n",
    "print(f'\\nBefore Delete:\\n{sll}')\n",
    "sll.delete(pos=1)\n",
    "print(f'\\nAfter Delete:\\n{sll}')\n",
    "\n",
    "print('*'*150)\n"
   ],
   "outputs": [
    {
     "output_type": "stream",
     "name": "stdout",
     "text": [
      "******************************************************************************************************************************************************\n",
      "Testing: Deletion from first\n",
      "\n",
      "Node: (0x10878cf30, 1, 0x10878cf30) to be inserted at location: -1\n",
      "Inserting to empty linked list\n",
      "Node: (0x10878cf30, 2, 0x10878cf30) to be inserted at location: -1\n",
      "Inserting to last position of linked list\n",
      "Node: (0x10878cf30, 3, 0x10878cf30) to be inserted at location: -1\n",
      "Inserting to last position of linked list\n",
      "\n",
      "Before Delete:\n",
      "[[[HEAD(0x7fd2c75005e0)]]] -> (0x10878cf30, 1, 0x7fd2c74df940) -> (0x10878cf30, 2, 0x7fd2c74df160) -> (0x10878cf30, 3, 0x10878cf30) <- [[[TAIL(0x7fd2c74df160)]]]\n",
      "Deleting from first when linked list has more than 1 element\n",
      "\n",
      "After Delete:\n",
      "[[[HEAD(0x7fd2c74df940)]]] -> (0x10878cf30, 2, 0x7fd2c74df160) -> (0x10878cf30, 3, 0x10878cf30) <- [[[TAIL(0x7fd2c74df160)]]]\n",
      "\n",
      "Before Delete:\n",
      "[[[HEAD(0x7fd2c74df940)]]] -> (0x10878cf30, 2, 0x7fd2c74df160) -> (0x10878cf30, 3, 0x10878cf30) <- [[[TAIL(0x7fd2c74df160)]]]\n",
      "Deleting from first when linked list has more than 1 element\n",
      "\n",
      "After Delete:\n",
      "[[[HEAD(0x7fd2c74df160)]]] -> (0x10878cf30, 3, 0x10878cf30) <- [[[TAIL(0x7fd2c74df160)]]]\n",
      "\n",
      "Before Delete:\n",
      "[[[HEAD(0x7fd2c74df160)]]] -> (0x10878cf30, 3, 0x10878cf30) <- [[[TAIL(0x7fd2c74df160)]]]\n",
      "Deleting when linked list has only 1 element\n",
      "\n",
      "After Delete:\n",
      "The linked list is empty\n",
      "******************************************************************************************************************************************************\n"
     ]
    }
   ],
   "metadata": {}
  },
  {
   "cell_type": "markdown",
   "source": [
    "#### Deletion from last"
   ],
   "metadata": {}
  },
  {
   "cell_type": "code",
   "execution_count": 18,
   "source": [
    "print('*'*150)\n",
    "print('Testing: Deletion from last\\n')\n",
    "\n",
    "sll = SingleLinkedList()\n",
    "sll.insert(1)\n",
    "sll.insert(2)\n",
    "sll.insert(3)\n",
    "\n",
    "print(f'\\nBefore Delete:\\n{sll}')\n",
    "sll.delete()\n",
    "print(f'\\nAfter Delete:\\n{sll}')\n",
    "\n",
    "print(f'\\nBefore Delete:\\n{sll}')\n",
    "sll.delete()\n",
    "print(f'\\nAfter Delete:\\n{sll}')\n",
    "\n",
    "print(f'\\nBefore Delete:\\n{sll}')\n",
    "sll.delete()\n",
    "print(f'\\nAfter Delete:\\n{sll}')\n",
    "\n",
    "print('*'*150)"
   ],
   "outputs": [
    {
     "output_type": "stream",
     "name": "stdout",
     "text": [
      "******************************************************************************************************************************************************\n",
      "Testing: Deletion from last\n",
      "\n",
      "Node: (0x10878cf30, 1, 0x10878cf30) to be inserted at location: -1\n",
      "Inserting to empty linked list\n",
      "Node: (0x10878cf30, 2, 0x10878cf30) to be inserted at location: -1\n",
      "Inserting to last position of linked list\n",
      "Node: (0x10878cf30, 3, 0x10878cf30) to be inserted at location: -1\n",
      "Inserting to last position of linked list\n",
      "\n",
      "Before Delete:\n",
      "[[[HEAD(0x7fd2c7443d90)]]] -> (0x10878cf30, 1, 0x7fd2c7443df0) -> (0x10878cf30, 2, 0x7fd2c74df790) -> (0x10878cf30, 3, 0x10878cf30) <- [[[TAIL(0x7fd2c74df790)]]]\n",
      "Deleting from last / nth when linked list has more than 1 element\n",
      "\n",
      "After Delete:\n",
      "[[[HEAD(0x7fd2c7443d90)]]] -> (0x10878cf30, 1, 0x7fd2c7443df0) -> (0x10878cf30, 2, 0x10878cf30) <- [[[TAIL(0x7fd2c7443df0)]]]\n",
      "\n",
      "Before Delete:\n",
      "[[[HEAD(0x7fd2c7443d90)]]] -> (0x10878cf30, 1, 0x7fd2c7443df0) -> (0x10878cf30, 2, 0x10878cf30) <- [[[TAIL(0x7fd2c7443df0)]]]\n",
      "Deleting from last / nth when linked list has more than 1 element\n",
      "\n",
      "After Delete:\n",
      "[[[HEAD(0x7fd2c7443d90)]]] -> (0x10878cf30, 1, 0x10878cf30) <- [[[TAIL(0x7fd2c7443d90)]]]\n",
      "\n",
      "Before Delete:\n",
      "[[[HEAD(0x7fd2c7443d90)]]] -> (0x10878cf30, 1, 0x10878cf30) <- [[[TAIL(0x7fd2c7443d90)]]]\n",
      "Deleting when linked list has only 1 element\n",
      "\n",
      "After Delete:\n",
      "The linked list is empty\n",
      "******************************************************************************************************************************************************\n"
     ]
    }
   ],
   "metadata": {}
  },
  {
   "cell_type": "markdown",
   "source": [
    "#### Delete from nth position"
   ],
   "metadata": {}
  },
  {
   "cell_type": "code",
   "execution_count": 19,
   "source": [
    "print('*'*150)\n",
    "print('Testing: Deletion from nth place\\n')\n",
    "\n",
    "sll = SingleLinkedList()\n",
    "sll.insert(1)\n",
    "sll.insert(2)\n",
    "sll.insert(3)\n",
    "\n",
    "print(f'\\nBefore Delete:\\n{sll}')\n",
    "sll.delete(2)\n",
    "print(f'\\nAfter Delete:\\n{sll}')\n",
    "\n",
    "print(f'\\nBefore Delete:\\n{sll}')\n",
    "sll.delete(2)\n",
    "print(f'\\nAfter Delete:\\n{sll}')\n",
    "\n",
    "print('*'*150)"
   ],
   "outputs": [
    {
     "output_type": "stream",
     "name": "stdout",
     "text": [
      "******************************************************************************************************************************************************\n",
      "Testing: Deletion from nth place\n",
      "\n",
      "Node: (0x10878cf30, 1, 0x10878cf30) to be inserted at location: -1\n",
      "Inserting to empty linked list\n",
      "Node: (0x10878cf30, 2, 0x10878cf30) to be inserted at location: -1\n",
      "Inserting to last position of linked list\n",
      "Node: (0x10878cf30, 3, 0x10878cf30) to be inserted at location: -1\n",
      "Inserting to last position of linked list\n",
      "\n",
      "Before Delete:\n",
      "[[[HEAD(0x7fd2c7443820)]]] -> (0x10878cf30, 1, 0x7fd2c74dfbe0) -> (0x10878cf30, 2, 0x7fd2c7500dc0) -> (0x10878cf30, 3, 0x10878cf30) <- [[[TAIL(0x7fd2c7500dc0)]]]\n",
      "Deleting from last / nth when linked list has more than 1 element\n",
      "\n",
      "After Delete:\n",
      "[[[HEAD(0x7fd2c7443820)]]] -> (0x10878cf30, 1, 0x7fd2c7500dc0) -> (0x10878cf30, 3, 0x10878cf30) <- [[[TAIL(0x7fd2c7500dc0)]]]\n",
      "\n",
      "Before Delete:\n",
      "[[[HEAD(0x7fd2c7443820)]]] -> (0x10878cf30, 1, 0x7fd2c7500dc0) -> (0x10878cf30, 3, 0x10878cf30) <- [[[TAIL(0x7fd2c7500dc0)]]]\n",
      "Deleting from last / nth when linked list has more than 1 element\n",
      "\n",
      "After Delete:\n",
      "[[[HEAD(0x7fd2c7443820)]]] -> (0x10878cf30, 1, 0x10878cf30) <- [[[TAIL(0x7fd2c7443820)]]]\n",
      "******************************************************************************************************************************************************\n"
     ]
    }
   ],
   "metadata": {}
  },
  {
   "cell_type": "markdown",
   "source": [
    "### Circular Single Linked List"
   ],
   "metadata": {}
  },
  {
   "cell_type": "markdown",
   "source": [
    "#### Insertion to empty linked list"
   ],
   "metadata": {}
  },
  {
   "cell_type": "code",
   "execution_count": 20,
   "source": [
    "print('*'*150)\n",
    "print('Testing: Insertion to empty linked list\\n')\n",
    "\n",
    "csll = CircularSingleLinkedList()\n",
    "print(f'Before Insert:\\n{csll}')\n",
    "csll.insert(1)\n",
    "print(f'After Insert:\\n{csll}\\n')\n",
    "\n",
    "print('*'*150)\n"
   ],
   "outputs": [
    {
     "output_type": "stream",
     "name": "stdout",
     "text": [
      "******************************************************************************************************************************************************\n",
      "Testing: Insertion to empty linked list\n",
      "\n",
      "Before Insert:\n",
      "Circular Single Linked List is empty!\n",
      "Inserting to empty linked list\n",
      "After Insert:\n",
      "[[[HEAD (0x7fd2c7443f10)]]] -> (0x10878cf30, 1, 0x7fd2c7443f10) <- [[[TAIL(0x7fd2c7443f10)]]]\n",
      "\n",
      "******************************************************************************************************************************************************\n"
     ]
    }
   ],
   "metadata": {}
  },
  {
   "cell_type": "markdown",
   "source": [
    "#### Insertion to end of linked list"
   ],
   "metadata": {}
  },
  {
   "cell_type": "code",
   "execution_count": 21,
   "source": [
    "print('*'*150)\n",
    "print('Testing: Insertion to end of linked list\\n')\n",
    "\n",
    "csll = CircularSingleLinkedList()\n",
    "\n",
    "print(f'Before Insert:\\n{csll}')\n",
    "csll.insert('abc')\n",
    "print(f'After Insert:\\n{csll}\\n')\n",
    "\n",
    "print(f'Before Insert:\\n{csll}')\n",
    "csll.insert(123)\n",
    "print(f'After Insert:\\n{csll}\\n')\n",
    "\n",
    "print(f'Before Insert:\\n{csll}')\n",
    "csll.insert(4.56, -1)\n",
    "print(f'After Insert:\\n{csll}\\n')\n",
    "\n",
    "print('*'*150)"
   ],
   "outputs": [
    {
     "output_type": "stream",
     "name": "stdout",
     "text": [
      "******************************************************************************************************************************************************\n",
      "Testing: Insertion to end of linked list\n",
      "\n",
      "Before Insert:\n",
      "Circular Single Linked List is empty!\n",
      "Inserting to empty linked list\n",
      "After Insert:\n",
      "[[[HEAD (0x7fd2c7443bb0)]]] -> (0x10878cf30, abc, 0x7fd2c7443bb0) <- [[[TAIL(0x7fd2c7443bb0)]]]\n",
      "\n",
      "Before Insert:\n",
      "[[[HEAD (0x7fd2c7443bb0)]]] -> (0x10878cf30, abc, 0x7fd2c7443bb0) <- [[[TAIL(0x7fd2c7443bb0)]]]\n",
      "Inserting to last position of linked list\n",
      "After Insert:\n",
      "[[[HEAD (0x7fd2c7443bb0)]]] -> (0x10878cf30, abc, 0x7fd2c7443190) -> (0x10878cf30, 123, 0x7fd2c7443bb0) <- [[[TAIL(0x7fd2c7443190)]]]\n",
      "\n",
      "Before Insert:\n",
      "[[[HEAD (0x7fd2c7443bb0)]]] -> (0x10878cf30, abc, 0x7fd2c7443190) -> (0x10878cf30, 123, 0x7fd2c7443bb0) <- [[[TAIL(0x7fd2c7443190)]]]\n",
      "Inserting to last position of linked list\n",
      "After Insert:\n",
      "[[[HEAD (0x7fd2c7443bb0)]]] -> (0x10878cf30, abc, 0x7fd2c7443190) -> (0x10878cf30, 123, 0x7fd2c7500280) -> (0x10878cf30, 4.56, 0x7fd2c7443bb0) <- [[[TAIL(0x7fd2c7500280)]]]\n",
      "\n",
      "******************************************************************************************************************************************************\n"
     ]
    }
   ],
   "metadata": {}
  },
  {
   "cell_type": "markdown",
   "source": [
    "#### Insertion to start of linked list"
   ],
   "metadata": {}
  },
  {
   "cell_type": "code",
   "execution_count": 22,
   "source": [
    "print('*'*150)\n",
    "print('Testing: Insertion to start of linked list\\n')\n",
    "\n",
    "csll = CircularSingleLinkedList()\n",
    "\n",
    "print(f'Before Insert:\\n{csll}')\n",
    "csll.insert(3, 1)\n",
    "print(f'After Insert:\\n{csll}\\n')\n",
    "\n",
    "print(f'Before Insert:\\n{csll}')\n",
    "csll.insert(2, 1)\n",
    "print(f'After Insert:\\n{csll}\\n')\n",
    "\n",
    "print(f'Before Insert:\\n{csll}')\n",
    "csll.insert(1, 1)\n",
    "print(f'After Insert:\\n{csll}\\n')\n",
    "\n",
    "print('*'*150)\n"
   ],
   "outputs": [
    {
     "output_type": "stream",
     "name": "stdout",
     "text": [
      "******************************************************************************************************************************************************\n",
      "Testing: Insertion to start of linked list\n",
      "\n",
      "Before Insert:\n",
      "Circular Single Linked List is empty!\n",
      "Inserting to empty linked list\n",
      "After Insert:\n",
      "[[[HEAD (0x7fd2c74dfe20)]]] -> (0x10878cf30, 3, 0x7fd2c74dfe20) <- [[[TAIL(0x7fd2c74dfe20)]]]\n",
      "\n",
      "Before Insert:\n",
      "[[[HEAD (0x7fd2c74dfe20)]]] -> (0x10878cf30, 3, 0x7fd2c74dfe20) <- [[[TAIL(0x7fd2c74dfe20)]]]\n",
      "Inserting to first position of linked list\n",
      "After Insert:\n",
      "[[[HEAD (0x7fd2c74dff40)]]] -> (0x10878cf30, 2, 0x7fd2c74dfe20) -> (0x10878cf30, 3, 0x7fd2c74dff40) <- [[[TAIL(0x7fd2c74dfe20)]]]\n",
      "\n",
      "Before Insert:\n",
      "[[[HEAD (0x7fd2c74dff40)]]] -> (0x10878cf30, 2, 0x7fd2c74dfe20) -> (0x10878cf30, 3, 0x7fd2c74dff40) <- [[[TAIL(0x7fd2c74dfe20)]]]\n",
      "Inserting to first position of linked list\n",
      "After Insert:\n",
      "[[[HEAD (0x7fd2c7500220)]]] -> (0x10878cf30, 1, 0x7fd2c74dff40) -> (0x10878cf30, 2, 0x7fd2c74dfe20) -> (0x10878cf30, 3, 0x7fd2c7500220) <- [[[TAIL(0x7fd2c74dfe20)]]]\n",
      "\n",
      "******************************************************************************************************************************************************\n"
     ]
    }
   ],
   "metadata": {}
  },
  {
   "cell_type": "markdown",
   "source": [
    "#### Insertion in between linked list"
   ],
   "metadata": {}
  },
  {
   "cell_type": "code",
   "execution_count": 23,
   "source": [
    "print('*'*150)\n",
    "print('Testing: Insertion to start of linked list\\n')\n",
    "\n",
    "csll = CircularSingleLinkedList()\n",
    "csll.insert(1)\n",
    "csll.insert(3)\n",
    "csll.insert(5)\n",
    "\n",
    "print(f'\\nBefore Insert:\\n{csll}')\n",
    "csll.insert(4, 3)\n",
    "print(f'After Insert:\\n{csll}\\n')\n",
    "\n",
    "print(f'Before Insert:\\n{csll}')\n",
    "csll.insert(2, 2)\n",
    "print(f'After Insert:\\n{csll}\\n')\n",
    "\n",
    "print('*'*150)\n",
    "\n"
   ],
   "outputs": [
    {
     "output_type": "stream",
     "name": "stdout",
     "text": [
      "******************************************************************************************************************************************************\n",
      "Testing: Insertion to start of linked list\n",
      "\n",
      "Inserting to empty linked list\n",
      "Inserting to last position of linked list\n",
      "Inserting to last position of linked list\n",
      "\n",
      "Before Insert:\n",
      "[[[HEAD (0x7fd2c74432b0)]]] -> (0x10878cf30, 1, 0x7fd2c74dfac0) -> (0x10878cf30, 3, 0x7fd2c74437c0) -> (0x10878cf30, 5, 0x7fd2c74432b0) <- [[[TAIL(0x7fd2c74437c0)]]]\n",
      "Inserting to nth position of linked list\n",
      "After Insert:\n",
      "[[[HEAD (0x7fd2c74432b0)]]] -> (0x10878cf30, 1, 0x7fd2c74dfac0) -> (0x10878cf30, 3, 0x7fd2c7500160) -> (0x10878cf30, 4, 0x7fd2c74437c0) -> (0x10878cf30, 5, 0x7fd2c74432b0) <- [[[TAIL(0x7fd2c74437c0)]]]\n",
      "\n",
      "Before Insert:\n",
      "[[[HEAD (0x7fd2c74432b0)]]] -> (0x10878cf30, 1, 0x7fd2c74dfac0) -> (0x10878cf30, 3, 0x7fd2c7500160) -> (0x10878cf30, 4, 0x7fd2c74437c0) -> (0x10878cf30, 5, 0x7fd2c74432b0) <- [[[TAIL(0x7fd2c74437c0)]]]\n",
      "Inserting to nth position of linked list\n",
      "After Insert:\n",
      "[[[HEAD (0x7fd2c74432b0)]]] -> (0x10878cf30, 1, 0x7fd2c7500a60) -> (0x10878cf30, 2, 0x7fd2c74dfac0) -> (0x10878cf30, 3, 0x7fd2c7500160) -> (0x10878cf30, 4, 0x7fd2c74437c0) -> (0x10878cf30, 5, 0x7fd2c74432b0) <- [[[TAIL(0x7fd2c74437c0)]]]\n",
      "\n",
      "******************************************************************************************************************************************************\n"
     ]
    }
   ],
   "metadata": {}
  },
  {
   "cell_type": "markdown",
   "source": [
    "#### Traversal of linked list"
   ],
   "metadata": {}
  },
  {
   "cell_type": "code",
   "execution_count": 24,
   "source": [
    "print('*'*150)\n",
    "print('Testing: Traversal of linked list\\n')\n",
    "\n",
    "csll.traverse()\n",
    "\n",
    "print('*'*150)\n"
   ],
   "outputs": [
    {
     "output_type": "stream",
     "name": "stdout",
     "text": [
      "******************************************************************************************************************************************************\n",
      "Testing: Traversal of linked list\n",
      "\n",
      "1 -> 2 -> 3 -> 4 -> 5 <-> \n",
      "\n",
      "******************************************************************************************************************************************************\n"
     ]
    }
   ],
   "metadata": {}
  },
  {
   "cell_type": "markdown",
   "source": [
    "#### Searching for a value"
   ],
   "metadata": {}
  },
  {
   "cell_type": "code",
   "execution_count": 25,
   "source": [
    "print('*'*150)\n",
    "print('Testing: Traversal of linked list\\n')\n",
    "\n",
    "print(f'Index of 100 in empty list = {CircularSingleLinkedList().find_index(100)}\\n')\n",
    "\n",
    "print(f'csll = ', end='')\n",
    "csll.traverse()\n",
    "\n",
    "print(f'Index of 5 = {csll.find_index(5)}')\n",
    "print(f'Index of 100 = {csll.find_index(100)}')\n",
    "\n",
    "print('*'*150)"
   ],
   "outputs": [
    {
     "output_type": "stream",
     "name": "stdout",
     "text": [
      "******************************************************************************************************************************************************\n",
      "Testing: Traversal of linked list\n",
      "\n",
      "Index of 100 in empty list = -1\n",
      "\n",
      "csll = 1 -> 2 -> 3 -> 4 -> 5 <-> \n",
      "\n",
      "Index of 5 = 5\n",
      "Index of 100 = -1\n",
      "******************************************************************************************************************************************************\n"
     ]
    }
   ],
   "metadata": {}
  },
  {
   "cell_type": "markdown",
   "source": [
    "#### Deletion when list has just 1 element"
   ],
   "metadata": {}
  },
  {
   "cell_type": "code",
   "execution_count": 26,
   "source": [
    "print('*'*150)\n",
    "print('Testing: Deletion when list has just 1 element\\n')\n",
    "\n",
    "csll = CircularSingleLinkedList()\n",
    "csll.insert(123)\n",
    "\n",
    "print(f'\\nBefore Delete:\\n{csll}')\n",
    "csll.delete()\n",
    "print(f'\\nAfter Delete:\\n{csll}')\n",
    "\n",
    "print('*'*150)\n"
   ],
   "outputs": [
    {
     "output_type": "stream",
     "name": "stdout",
     "text": [
      "******************************************************************************************************************************************************\n",
      "Testing: Deletion when list has just 1 element\n",
      "\n",
      "Inserting to empty linked list\n",
      "\n",
      "Before Delete:\n",
      "[[[HEAD (0x7fd2c74df670)]]] -> (0x10878cf30, 123, 0x7fd2c74df670) <- [[[TAIL(0x7fd2c74df670)]]]\n",
      "Deleting when linked list has only 1 element\n",
      "\n",
      "After Delete:\n",
      "Circular Single Linked List is empty!\n",
      "******************************************************************************************************************************************************\n"
     ]
    }
   ],
   "metadata": {}
  },
  {
   "cell_type": "markdown",
   "source": [
    "#### Deletion from first"
   ],
   "metadata": {}
  },
  {
   "cell_type": "code",
   "execution_count": 27,
   "source": [
    "print('*'*150)\n",
    "print('Testing: Deletion from first\\n')\n",
    "\n",
    "csll = CircularSingleLinkedList()\n",
    "csll.insert(1)\n",
    "csll.insert(2)\n",
    "csll.insert(3)\n",
    "\n",
    "print(f'\\nBefore Delete:\\n{csll}')\n",
    "csll.delete(pos=1)\n",
    "print(f'\\nAfter Delete:\\n{csll}')\n",
    "\n",
    "print(f'\\nBefore Delete:\\n{csll}')\n",
    "csll.delete(pos=1)\n",
    "print(f'\\nAfter Delete:\\n{csll}')\n",
    "\n",
    "print(f'\\nBefore Delete:\\n{csll}')\n",
    "csll.delete(pos=1)\n",
    "print(f'\\nAfter Delete:\\n{csll}')\n",
    "\n",
    "print('*'*150)\n"
   ],
   "outputs": [
    {
     "output_type": "stream",
     "name": "stdout",
     "text": [
      "******************************************************************************************************************************************************\n",
      "Testing: Deletion from first\n",
      "\n",
      "Inserting to empty linked list\n",
      "Inserting to last position of linked list\n",
      "Inserting to last position of linked list\n",
      "\n",
      "Before Delete:\n",
      "[[[HEAD (0x7fd2c74df790)]]] -> (0x10878cf30, 1, 0x7fd2c74dfa90) -> (0x10878cf30, 2, 0x7fd2c74df520) -> (0x10878cf30, 3, 0x7fd2c74df790) <- [[[TAIL(0x7fd2c74df520)]]]\n",
      "Deleting from first when linked list has more than 1 element\n",
      "\n",
      "After Delete:\n",
      "[[[HEAD (0x7fd2c74dfa90)]]] -> (0x10878cf30, 2, 0x7fd2c74df520) -> (0x10878cf30, 3, 0x7fd2c74dfa90) <- [[[TAIL(0x7fd2c74df520)]]]\n",
      "\n",
      "Before Delete:\n",
      "[[[HEAD (0x7fd2c74dfa90)]]] -> (0x10878cf30, 2, 0x7fd2c74df520) -> (0x10878cf30, 3, 0x7fd2c74dfa90) <- [[[TAIL(0x7fd2c74df520)]]]\n",
      "Deleting from first when linked list has more than 1 element\n",
      "\n",
      "After Delete:\n",
      "[[[HEAD (0x7fd2c74df520)]]] -> (0x10878cf30, 3, 0x7fd2c74df520) <- [[[TAIL(0x7fd2c74df520)]]]\n",
      "\n",
      "Before Delete:\n",
      "[[[HEAD (0x7fd2c74df520)]]] -> (0x10878cf30, 3, 0x7fd2c74df520) <- [[[TAIL(0x7fd2c74df520)]]]\n",
      "Deleting when linked list has only 1 element\n",
      "\n",
      "After Delete:\n",
      "Circular Single Linked List is empty!\n",
      "******************************************************************************************************************************************************\n"
     ]
    }
   ],
   "metadata": {}
  },
  {
   "cell_type": "markdown",
   "source": [
    "#### Deletion from last"
   ],
   "metadata": {}
  },
  {
   "cell_type": "code",
   "execution_count": 28,
   "source": [
    "print('*'*150)\n",
    "print('Testing: Deletion from last\\n')\n",
    "\n",
    "csll = CircularSingleLinkedList()\n",
    "csll.insert(1)\n",
    "csll.insert(2)\n",
    "csll.insert(3)\n",
    "\n",
    "print(f'\\nBefore Delete:\\n{csll}')\n",
    "csll.delete()\n",
    "print(f'\\nAfter Delete:\\n{csll}')\n",
    "\n",
    "print(f'\\nBefore Delete:\\n{csll}')\n",
    "csll.delete()\n",
    "print(f'\\nAfter Delete:\\n{csll}')\n",
    "\n",
    "print(f'\\nBefore Delete:\\n{csll}')\n",
    "csll.delete()\n",
    "print(f'\\nAfter Delete:\\n{csll}')\n",
    "\n",
    "print('*'*150)"
   ],
   "outputs": [
    {
     "output_type": "stream",
     "name": "stdout",
     "text": [
      "******************************************************************************************************************************************************\n",
      "Testing: Deletion from last\n",
      "\n",
      "Inserting to empty linked list\n",
      "Inserting to last position of linked list\n",
      "Inserting to last position of linked list\n",
      "\n",
      "Before Delete:\n",
      "[[[HEAD (0x7fd2c74433d0)]]] -> (0x10878cf30, 1, 0x7fd2c74430a0) -> (0x10878cf30, 2, 0x7fd2c7500070) -> (0x10878cf30, 3, 0x7fd2c74433d0) <- [[[TAIL(0x7fd2c7500070)]]]\n",
      "Deleting from last / nth when linked list has more than 1 element\n",
      "\n",
      "After Delete:\n",
      "[[[HEAD (0x7fd2c74433d0)]]] -> (0x10878cf30, 1, 0x7fd2c74430a0) -> (0x10878cf30, 2, 0x7fd2c74433d0) <- [[[TAIL(0x7fd2c74430a0)]]]\n",
      "\n",
      "Before Delete:\n",
      "[[[HEAD (0x7fd2c74433d0)]]] -> (0x10878cf30, 1, 0x7fd2c74430a0) -> (0x10878cf30, 2, 0x7fd2c74433d0) <- [[[TAIL(0x7fd2c74430a0)]]]\n",
      "Deleting from last / nth when linked list has more than 1 element\n",
      "\n",
      "After Delete:\n",
      "[[[HEAD (0x7fd2c74433d0)]]] -> (0x10878cf30, 1, 0x7fd2c74433d0) <- [[[TAIL(0x7fd2c74433d0)]]]\n",
      "\n",
      "Before Delete:\n",
      "[[[HEAD (0x7fd2c74433d0)]]] -> (0x10878cf30, 1, 0x7fd2c74433d0) <- [[[TAIL(0x7fd2c74433d0)]]]\n",
      "Deleting when linked list has only 1 element\n",
      "\n",
      "After Delete:\n",
      "Circular Single Linked List is empty!\n",
      "******************************************************************************************************************************************************\n"
     ]
    }
   ],
   "metadata": {}
  },
  {
   "cell_type": "markdown",
   "source": [
    "#### Delete from nth position"
   ],
   "metadata": {}
  },
  {
   "cell_type": "code",
   "execution_count": 29,
   "source": [
    "print('*'*150)\n",
    "print('Testing: Deletion from nth place\\n')\n",
    "\n",
    "csll = CircularSingleLinkedList()\n",
    "csll.insert(1)\n",
    "csll.insert(2)\n",
    "csll.insert(3)\n",
    "\n",
    "print(f'\\nBefore Delete:\\n{csll}')\n",
    "csll.delete(2)\n",
    "print(f'\\nAfter Delete:\\n{csll}')\n",
    "\n",
    "print(f'\\nBefore Delete:\\n{csll}')\n",
    "csll.delete(2)\n",
    "print(f'\\nAfter Delete:\\n{csll}')\n",
    "\n",
    "print('*'*150)"
   ],
   "outputs": [
    {
     "output_type": "stream",
     "name": "stdout",
     "text": [
      "******************************************************************************************************************************************************\n",
      "Testing: Deletion from nth place\n",
      "\n",
      "Inserting to empty linked list\n",
      "Inserting to last position of linked list\n",
      "Inserting to last position of linked list\n",
      "\n",
      "Before Delete:\n",
      "[[[HEAD (0x7fd2c7500940)]]] -> (0x10878cf30, 1, 0x7fd2c74df5e0) -> (0x10878cf30, 2, 0x7fd2c7443940) -> (0x10878cf30, 3, 0x7fd2c7500940) <- [[[TAIL(0x7fd2c7443940)]]]\n",
      "Deleting from last / nth when linked list has more than 1 element\n",
      "\n",
      "After Delete:\n",
      "[[[HEAD (0x7fd2c7500940)]]] -> (0x10878cf30, 1, 0x7fd2c7443940) -> (0x10878cf30, 3, 0x7fd2c7500940) <- [[[TAIL(0x7fd2c7443940)]]]\n",
      "\n",
      "Before Delete:\n",
      "[[[HEAD (0x7fd2c7500940)]]] -> (0x10878cf30, 1, 0x7fd2c7443940) -> (0x10878cf30, 3, 0x7fd2c7500940) <- [[[TAIL(0x7fd2c7443940)]]]\n",
      "Deleting from last / nth when linked list has more than 1 element\n",
      "\n",
      "After Delete:\n",
      "[[[HEAD (0x7fd2c7500940)]]] -> (0x10878cf30, 1, 0x7fd2c7500940) <- [[[TAIL(0x7fd2c7500940)]]]\n",
      "******************************************************************************************************************************************************\n"
     ]
    }
   ],
   "metadata": {
    "scrolled": true
   }
  },
  {
   "cell_type": "markdown",
   "source": [
    "### Double Linked List"
   ],
   "metadata": {}
  },
  {
   "cell_type": "markdown",
   "source": [
    "#### Insertion to empty double linked list"
   ],
   "metadata": {}
  },
  {
   "cell_type": "code",
   "execution_count": 30,
   "source": [
    "print('*'*150)\n",
    "print('Testing: Insertion to empty linked list\\n')\n",
    "\n",
    "dll = DoubleLinkedList()\n",
    "print(f'Before Insert:\\n{dll}')\n",
    "dll.insert(1)\n",
    "print(f'After Insert:\\n{dll}\\n')\n",
    "\n",
    "print('*'*150)\n"
   ],
   "outputs": [
    {
     "output_type": "stream",
     "name": "stdout",
     "text": [
      "******************************************************************************************************************************************************\n",
      "Testing: Insertion to empty linked list\n",
      "\n",
      "Before Insert:\n",
      "Double Linked List is empty!\n",
      "Inserting to empty double linked list\n",
      "After Insert:\n",
      "[HEAD(0x7fd2c75006d0)] -> (0x10878cf30, 1, 0x10878cf30) <- [TAIL(0x7fd2c75006d0)]\n",
      "\n",
      "******************************************************************************************************************************************************\n"
     ]
    }
   ],
   "metadata": {}
  },
  {
   "cell_type": "markdown",
   "source": [
    "#### Insertion to end of double linked list"
   ],
   "metadata": {}
  },
  {
   "cell_type": "code",
   "execution_count": 31,
   "source": [
    "print('*'*150)\n",
    "print('Testing: Insertion to end of linked list\\n')\n",
    "\n",
    "dll = DoubleLinkedList()\n",
    "\n",
    "print(f'Before Insert:\\n{dll}')\n",
    "dll.insert('abc')\n",
    "print(f'After Insert:\\n{dll}\\n')\n",
    "\n",
    "print(f'Before Insert:\\n{dll}')\n",
    "dll.insert(123, -1)\n",
    "print(f'After Insert:\\n{dll}\\n')\n",
    "\n",
    "print(f'Before Insert:\\n{dll}')\n",
    "dll.insert(4.56, -1)\n",
    "print(f'After Insert:\\n{dll}\\n')\n",
    "\n",
    "print('*'*150)\n"
   ],
   "outputs": [
    {
     "output_type": "stream",
     "name": "stdout",
     "text": [
      "******************************************************************************************************************************************************\n",
      "Testing: Insertion to end of linked list\n",
      "\n",
      "Before Insert:\n",
      "Double Linked List is empty!\n",
      "Inserting to empty double linked list\n",
      "After Insert:\n",
      "[HEAD(0x7fd2c75006d0)] -> (0x10878cf30, abc, 0x10878cf30) <- [TAIL(0x7fd2c75006d0)]\n",
      "\n",
      "Before Insert:\n",
      "[HEAD(0x7fd2c75006d0)] -> (0x10878cf30, abc, 0x10878cf30) <- [TAIL(0x7fd2c75006d0)]\n",
      "Inserting to last position of double linked list\n",
      "After Insert:\n",
      "[HEAD(0x7fd2c75006d0)] -> (0x10878cf30, abc, 0x7fd2c74df2e0) <-> (0x7fd2c75006d0, 123, 0x10878cf30) <- [TAIL(0x7fd2c74df2e0)]\n",
      "\n",
      "Before Insert:\n",
      "[HEAD(0x7fd2c75006d0)] -> (0x10878cf30, abc, 0x7fd2c74df2e0) <-> (0x7fd2c75006d0, 123, 0x10878cf30) <- [TAIL(0x7fd2c74df2e0)]\n",
      "Inserting to last position of double linked list\n",
      "After Insert:\n",
      "[HEAD(0x7fd2c75006d0)] -> (0x10878cf30, abc, 0x7fd2c74df2e0) <-> (0x7fd2c75006d0, 123, 0x7fd2c74daa30) <-> (0x7fd2c74df2e0, 4.56, 0x10878cf30) <- [TAIL(0x7fd2c74daa30)]\n",
      "\n",
      "******************************************************************************************************************************************************\n"
     ]
    }
   ],
   "metadata": {}
  },
  {
   "cell_type": "markdown",
   "source": [
    "#### Insertion to start of double linked list"
   ],
   "metadata": {}
  },
  {
   "cell_type": "code",
   "execution_count": 32,
   "source": [
    "print('*'*150)\n",
    "print('Testing: Insertion to start of linked list\\n')\n",
    "\n",
    "dll = DoubleLinkedList()\n",
    "\n",
    "print(f'Before Insert:\\n{dll}')\n",
    "dll.insert(3, 1)\n",
    "print(f'After Insert:\\n{dll}\\n')\n",
    "\n",
    "print(f'Before Insert:\\n{dll}')\n",
    "dll.insert(2, 1)\n",
    "print(f'After Insert:\\n{dll}\\n')\n",
    "\n",
    "print(f'Before Insert:\\n{dll}')\n",
    "dll.insert(1, 1)\n",
    "print(f'After Insert:\\n{dll}\\n')\n",
    "\n",
    "print('*'*150)\n"
   ],
   "outputs": [
    {
     "output_type": "stream",
     "name": "stdout",
     "text": [
      "******************************************************************************************************************************************************\n",
      "Testing: Insertion to start of linked list\n",
      "\n",
      "Before Insert:\n",
      "Double Linked List is empty!\n",
      "Inserting to empty double linked list\n",
      "After Insert:\n",
      "[HEAD(0x7fd2c74439d0)] -> (0x10878cf30, 3, 0x10878cf30) <- [TAIL(0x7fd2c74439d0)]\n",
      "\n",
      "Before Insert:\n",
      "[HEAD(0x7fd2c74439d0)] -> (0x10878cf30, 3, 0x10878cf30) <- [TAIL(0x7fd2c74439d0)]\n",
      "Inserting to first position of double linked list\n",
      "After Insert:\n",
      "[HEAD(0x7fd2c7500d00)] -> (0x10878cf30, 2, 0x7fd2c74439d0) <-> (0x7fd2c7500d00, 3, 0x10878cf30) <- [TAIL(0x7fd2c74439d0)]\n",
      "\n",
      "Before Insert:\n",
      "[HEAD(0x7fd2c7500d00)] -> (0x10878cf30, 2, 0x7fd2c74439d0) <-> (0x7fd2c7500d00, 3, 0x10878cf30) <- [TAIL(0x7fd2c74439d0)]\n",
      "Inserting to first position of double linked list\n",
      "After Insert:\n",
      "[HEAD(0x7fd2c7500cd0)] -> (0x10878cf30, 1, 0x7fd2c7500d00) <-> (0x7fd2c7500cd0, 2, 0x7fd2c74439d0) <-> (0x7fd2c7500d00, 3, 0x10878cf30) <- [TAIL(0x7fd2c74439d0)]\n",
      "\n",
      "******************************************************************************************************************************************************\n"
     ]
    }
   ],
   "metadata": {}
  },
  {
   "cell_type": "markdown",
   "source": [
    "#### Insertion in between double linked list"
   ],
   "metadata": {}
  },
  {
   "cell_type": "code",
   "execution_count": 33,
   "source": [
    "print('*'*150)\n",
    "print('Testing: Insertion to start of linked list\\n')\n",
    "\n",
    "dll = DoubleLinkedList()\n",
    "dll.insert(1)\n",
    "dll.insert(3)\n",
    "dll.insert(5)\n",
    "\n",
    "print(f'\\nBefore Insert:\\n{dll}')\n",
    "dll.insert(4, 3)\n",
    "print(f'After Insert:\\n{dll}\\n')\n",
    "\n",
    "print(f'Before Insert:\\n{dll}')\n",
    "dll.insert(2, 2)\n",
    "print(f'After Insert:\\n{dll}\\n')\n",
    "\n",
    "print('*'*150)\n"
   ],
   "outputs": [
    {
     "output_type": "stream",
     "name": "stdout",
     "text": [
      "******************************************************************************************************************************************************\n",
      "Testing: Insertion to start of linked list\n",
      "\n",
      "Inserting to empty double linked list\n",
      "Inserting to last position of double linked list\n",
      "Inserting to last position of double linked list\n",
      "\n",
      "Before Insert:\n",
      "[HEAD(0x7fd2c75003d0)] -> (0x10878cf30, 1, 0x7fd2c7500dc0) <-> (0x7fd2c75003d0, 3, 0x7fd2c7443d30) <-> (0x7fd2c7500dc0, 5, 0x10878cf30) <- [TAIL(0x7fd2c7443d30)]\n",
      "Inserting to nth position of linked list\n",
      "After Insert:\n",
      "[HEAD(0x7fd2c75003d0)] -> (0x10878cf30, 1, 0x7fd2c7500dc0) <-> (0x7fd2c75003d0, 3, 0x7fd2c74430a0) <-> (0x7fd2c7500dc0, 4, 0x7fd2c7443d30) <-> (0x7fd2c74430a0, 5, 0x10878cf30) <- [TAIL(0x7fd2c7443d30)]\n",
      "\n",
      "Before Insert:\n",
      "[HEAD(0x7fd2c75003d0)] -> (0x10878cf30, 1, 0x7fd2c7500dc0) <-> (0x7fd2c75003d0, 3, 0x7fd2c74430a0) <-> (0x7fd2c7500dc0, 4, 0x7fd2c7443d30) <-> (0x7fd2c74430a0, 5, 0x10878cf30) <- [TAIL(0x7fd2c7443d30)]\n",
      "Inserting to nth position of linked list\n",
      "After Insert:\n",
      "[HEAD(0x7fd2c75003d0)] -> (0x10878cf30, 1, 0x7fd2c74437f0) <-> (0x7fd2c75003d0, 2, 0x7fd2c7500dc0) <-> (0x7fd2c74437f0, 3, 0x7fd2c74430a0) <-> (0x7fd2c7500dc0, 4, 0x7fd2c7443d30) <-> (0x7fd2c74430a0, 5, 0x10878cf30) <- [TAIL(0x7fd2c7443d30)]\n",
      "\n",
      "******************************************************************************************************************************************************\n"
     ]
    }
   ],
   "metadata": {}
  },
  {
   "cell_type": "markdown",
   "source": [
    "#### Traversal of double linked list"
   ],
   "metadata": {}
  },
  {
   "cell_type": "code",
   "execution_count": 34,
   "source": [
    "print('*'*150)\n",
    "print('Testing: Traversal of linked list\\n')\n",
    "\n",
    "dll.traverse()\n",
    "dll.traverse_backwards()\n",
    "\n",
    "print('*'*150)\n"
   ],
   "outputs": [
    {
     "output_type": "stream",
     "name": "stdout",
     "text": [
      "******************************************************************************************************************************************************\n",
      "Testing: Traversal of linked list\n",
      "\n",
      "NULL -> 1 <-> 2 <-> 3 <-> 4 <-> 5 -> NULL\n",
      "NULL -> 5 <-> 4 <-> 3 <-> 2 <-> 1 -> NULL\n",
      "******************************************************************************************************************************************************\n"
     ]
    }
   ],
   "metadata": {}
  },
  {
   "cell_type": "markdown",
   "source": [
    "#### Searching for a value"
   ],
   "metadata": {}
  },
  {
   "cell_type": "code",
   "execution_count": 35,
   "source": [
    "print('*'*150)\n",
    "print('Testing: Traversal of linked list\\n')\n",
    "\n",
    "print(f'Index of 100 in empty list = {DoubleLinkedList().find_index(100)}\\n')\n",
    "\n",
    "print(f'dll = ', end='')\n",
    "dll.traverse()\n",
    "\n",
    "print(f'Index of 5 = {dll.find_index(5)}')\n",
    "print(f'Index of 100 = {dll.find_index(100)}')\n",
    "\n",
    "print('*'*150)"
   ],
   "outputs": [
    {
     "output_type": "stream",
     "name": "stdout",
     "text": [
      "******************************************************************************************************************************************************\n",
      "Testing: Traversal of linked list\n",
      "\n",
      "Index of 100 in empty list = -1\n",
      "\n",
      "dll = NULL -> 1 <-> 2 <-> 3 <-> 4 <-> 5 -> NULL\n",
      "Index of 5 = 5\n",
      "Index of 100 = -1\n",
      "******************************************************************************************************************************************************\n"
     ]
    }
   ],
   "metadata": {}
  },
  {
   "cell_type": "markdown",
   "source": [
    "#### Deletion when list has just 1 element"
   ],
   "metadata": {}
  },
  {
   "cell_type": "code",
   "execution_count": 36,
   "source": [
    "print('*'*150)\n",
    "print('Testing: Deletion when list has just 1 element\\n')\n",
    "\n",
    "dll = DoubleLinkedList()\n",
    "dll.insert(123)\n",
    "\n",
    "print(f'\\nBefore Delete:\\n{dll}')\n",
    "dll.delete()\n",
    "print(f'\\nAfter Delete:\\n{dll}')\n",
    "\n",
    "print('*'*150)\n"
   ],
   "outputs": [
    {
     "output_type": "stream",
     "name": "stdout",
     "text": [
      "******************************************************************************************************************************************************\n",
      "Testing: Deletion when list has just 1 element\n",
      "\n",
      "Inserting to empty double linked list\n",
      "\n",
      "Before Delete:\n",
      "[HEAD(0x7fd2c74df790)] -> (0x10878cf30, 123, 0x10878cf30) <- [TAIL(0x7fd2c74df790)]\n",
      "Deleting when double linked list has only 1 element\n",
      "\n",
      "After Delete:\n",
      "Double Linked List is empty!\n",
      "******************************************************************************************************************************************************\n"
     ]
    }
   ],
   "metadata": {}
  },
  {
   "cell_type": "markdown",
   "source": [
    "#### Deletion from first"
   ],
   "metadata": {}
  },
  {
   "cell_type": "code",
   "execution_count": 37,
   "source": [
    "print('*'*150)\n",
    "print('Testing: Deletion from first\\n')\n",
    "\n",
    "dll = DoubleLinkedList()\n",
    "dll.insert(1)\n",
    "dll.insert(2)\n",
    "dll.insert(3)\n",
    "\n",
    "print(f'\\nBefore Delete:\\n{dll}')\n",
    "dll.delete(pos=1)\n",
    "print(f'\\nAfter Delete:\\n{dll}')\n",
    "\n",
    "print(f'\\nBefore Delete:\\n{dll}')\n",
    "dll.delete(pos=1)\n",
    "print(f'\\nAfter Delete:\\n{dll}')\n",
    "\n",
    "print(f'\\nBefore Delete:\\n{dll}')\n",
    "dll.delete(pos=1)\n",
    "print(f'\\nAfter Delete:\\n{dll}')\n",
    "\n",
    "print('*'*150)\n"
   ],
   "outputs": [
    {
     "output_type": "stream",
     "name": "stdout",
     "text": [
      "******************************************************************************************************************************************************\n",
      "Testing: Deletion from first\n",
      "\n",
      "Inserting to empty double linked list\n",
      "Inserting to last position of double linked list\n",
      "Inserting to last position of double linked list\n",
      "\n",
      "Before Delete:\n",
      "[HEAD(0x7fd2c7443760)] -> (0x10878cf30, 1, 0x7fd2c74df520) <-> (0x7fd2c7443760, 2, 0x7fd2c7443640) <-> (0x7fd2c74df520, 3, 0x10878cf30) <- [TAIL(0x7fd2c7443640)]\n",
      "Deleting from first when double linked list has more than 1 element\n",
      "\n",
      "After Delete:\n",
      "[HEAD(0x7fd2c74df520)] -> (0x10878cf30, 2, 0x7fd2c7443640) <-> (0x7fd2c74df520, 3, 0x10878cf30) <- [TAIL(0x7fd2c7443640)]\n",
      "\n",
      "Before Delete:\n",
      "[HEAD(0x7fd2c74df520)] -> (0x10878cf30, 2, 0x7fd2c7443640) <-> (0x7fd2c74df520, 3, 0x10878cf30) <- [TAIL(0x7fd2c7443640)]\n",
      "Deleting from first when double linked list has more than 1 element\n",
      "\n",
      "After Delete:\n",
      "[HEAD(0x7fd2c7443640)] -> (0x10878cf30, 3, 0x10878cf30) <- [TAIL(0x7fd2c7443640)]\n",
      "\n",
      "Before Delete:\n",
      "[HEAD(0x7fd2c7443640)] -> (0x10878cf30, 3, 0x10878cf30) <- [TAIL(0x7fd2c7443640)]\n",
      "Deleting when double linked list has only 1 element\n",
      "\n",
      "After Delete:\n",
      "Double Linked List is empty!\n",
      "******************************************************************************************************************************************************\n"
     ]
    }
   ],
   "metadata": {}
  },
  {
   "cell_type": "markdown",
   "source": [
    "#### Deletion from last"
   ],
   "metadata": {}
  },
  {
   "cell_type": "code",
   "execution_count": 38,
   "source": [
    "print('*'*150)\n",
    "print('Testing: Deletion from last\\n')\n",
    "\n",
    "dll = DoubleLinkedList()\n",
    "dll.insert(1)\n",
    "dll.insert(2)\n",
    "dll.insert(3)\n",
    "\n",
    "print(f'\\nBefore Delete:\\n{dll}')\n",
    "dll.delete()\n",
    "print(f'\\nAfter Delete:\\n{dll}')\n",
    "\n",
    "print(f'\\nBefore Delete:\\n{dll}')\n",
    "dll.delete()\n",
    "print(f'\\nAfter Delete:\\n{dll}')\n",
    "\n",
    "print(f'\\nBefore Delete:\\n{dll}')\n",
    "dll.delete()\n",
    "print(f'\\nAfter Delete:\\n{dll}')\n",
    "\n",
    "print('*'*150)\n"
   ],
   "outputs": [
    {
     "output_type": "stream",
     "name": "stdout",
     "text": [
      "******************************************************************************************************************************************************\n",
      "Testing: Deletion from last\n",
      "\n",
      "Inserting to empty double linked list\n",
      "Inserting to last position of double linked list\n",
      "Inserting to last position of double linked list\n",
      "\n",
      "Before Delete:\n",
      "[HEAD(0x7fd2c7500d30)] -> (0x10878cf30, 1, 0x7fd2c7443b20) <-> (0x7fd2c7500d30, 2, 0x7fd2c74df7c0) <-> (0x7fd2c7443b20, 3, 0x10878cf30) <- [TAIL(0x7fd2c74df7c0)]\n",
      "Deleting from last when double linked list has more than 1 element\n",
      "\n",
      "After Delete:\n",
      "[HEAD(0x7fd2c7500d30)] -> (0x10878cf30, 1, 0x7fd2c7443b20) <-> (0x7fd2c7500d30, 2, 0x10878cf30) <- [TAIL(0x7fd2c7443b20)]\n",
      "\n",
      "Before Delete:\n",
      "[HEAD(0x7fd2c7500d30)] -> (0x10878cf30, 1, 0x7fd2c7443b20) <-> (0x7fd2c7500d30, 2, 0x10878cf30) <- [TAIL(0x7fd2c7443b20)]\n",
      "Deleting from last when double linked list has more than 1 element\n",
      "\n",
      "After Delete:\n",
      "[HEAD(0x7fd2c7500d30)] -> (0x10878cf30, 1, 0x10878cf30) <- [TAIL(0x7fd2c7500d30)]\n",
      "\n",
      "Before Delete:\n",
      "[HEAD(0x7fd2c7500d30)] -> (0x10878cf30, 1, 0x10878cf30) <- [TAIL(0x7fd2c7500d30)]\n",
      "Deleting when double linked list has only 1 element\n",
      "\n",
      "After Delete:\n",
      "Double Linked List is empty!\n",
      "******************************************************************************************************************************************************\n"
     ]
    }
   ],
   "metadata": {}
  },
  {
   "cell_type": "markdown",
   "source": [
    "#### Delete from nth position"
   ],
   "metadata": {}
  },
  {
   "cell_type": "code",
   "execution_count": 39,
   "source": [
    "print('*'*150)\n",
    "print('Testing: Deletion from nth place\\n')\n",
    "\n",
    "dll = DoubleLinkedList()\n",
    "dll.insert(1)\n",
    "dll.insert(2)\n",
    "dll.insert(3)\n",
    "\n",
    "print(f'\\nBefore Delete:\\n{dll}')\n",
    "dll.delete(2)\n",
    "print(f'\\nAfter Delete:\\n{dll}')\n",
    "\n",
    "print(f'\\nBefore Delete:\\n{dll}')\n",
    "dll.delete(2)\n",
    "print(f'\\nAfter Delete:\\n{dll}')\n",
    "\n",
    "print('*'*150)"
   ],
   "outputs": [
    {
     "output_type": "stream",
     "name": "stdout",
     "text": [
      "******************************************************************************************************************************************************\n",
      "Testing: Deletion from nth place\n",
      "\n",
      "Inserting to empty double linked list\n",
      "Inserting to last position of double linked list\n",
      "Inserting to last position of double linked list\n",
      "\n",
      "Before Delete:\n",
      "[HEAD(0x7fd2c75009a0)] -> (0x10878cf30, 1, 0x7fd2c7500190) <-> (0x7fd2c75009a0, 2, 0x7fd2c7500fa0) <-> (0x7fd2c7500190, 3, 0x10878cf30) <- [TAIL(0x7fd2c7500fa0)]\n",
      "Deleting the nth when double linked list has more than 1 element\n",
      "\n",
      "After Delete:\n",
      "[HEAD(0x7fd2c75009a0)] -> (0x10878cf30, 1, 0x7fd2c7500fa0) <-> (0x7fd2c75009a0, 3, 0x10878cf30) <- [TAIL(0x7fd2c7500fa0)]\n",
      "\n",
      "Before Delete:\n",
      "[HEAD(0x7fd2c75009a0)] -> (0x10878cf30, 1, 0x7fd2c7500fa0) <-> (0x7fd2c75009a0, 3, 0x10878cf30) <- [TAIL(0x7fd2c7500fa0)]\n",
      "Deleting the nth when double linked list has more than 1 element\n",
      "\n",
      "After Delete:\n",
      "[HEAD(0x7fd2c75009a0)] -> (0x10878cf30, 1, 0x10878cf30) <- [TAIL(0x7fd2c75009a0)]\n",
      "******************************************************************************************************************************************************\n"
     ]
    }
   ],
   "metadata": {
    "scrolled": false
   }
  },
  {
   "cell_type": "markdown",
   "source": [
    "### Circular Double Linked List"
   ],
   "metadata": {}
  },
  {
   "cell_type": "markdown",
   "source": [
    "#### Insertion to empty circular double linked list"
   ],
   "metadata": {}
  },
  {
   "cell_type": "code",
   "execution_count": 40,
   "source": [
    "print('*'*150)\n",
    "print('Testing: Insertion to empty linked list\\n')\n",
    "\n",
    "cdll = CircularDoubleLinkedList()\n",
    "print(f'Before Insert:\\n{cdll}')\n",
    "cdll.insert(1)\n",
    "print(f'After Insert:\\n{cdll}\\n')\n",
    "\n",
    "print('*'*150)\n"
   ],
   "outputs": [
    {
     "output_type": "stream",
     "name": "stdout",
     "text": [
      "******************************************************************************************************************************************************\n",
      "Testing: Insertion to empty linked list\n",
      "\n",
      "Before Insert:\n",
      "Circular double linked list is empty!\n",
      "Inserting to empty circular double linked list\n",
      "After Insert:\n",
      "[HEAD0x7fd2c7500370] -> (0x7fd2c7500370, 1, 0x7fd2c7500370) <- [TAIL(0x7fd2c7500370)]\n",
      "\n",
      "******************************************************************************************************************************************************\n"
     ]
    }
   ],
   "metadata": {}
  },
  {
   "cell_type": "markdown",
   "source": [
    "#### Insertion to end of circular double linked list"
   ],
   "metadata": {}
  },
  {
   "cell_type": "code",
   "execution_count": 41,
   "source": [
    "print('*'*150)\n",
    "print('Testing: Insertion to end of linked list\\n')\n",
    "\n",
    "cdll = CircularDoubleLinkedList()\n",
    "\n",
    "print(f'Before Insert:\\n{cdll}')\n",
    "cdll.insert('abc')\n",
    "print(f'After Insert:\\n{cdll}\\n')\n",
    "\n",
    "print(f'Before Insert:\\n{cdll}')\n",
    "cdll.insert(123, -1)\n",
    "print(f'After Insert:\\n{cdll}\\n')\n",
    "\n",
    "print(f'Before Insert:\\n{cdll}')\n",
    "cdll.insert(4.56, -1)\n",
    "print(f'After Insert:\\n{cdll}\\n')\n",
    "\n",
    "print('*'*150)\n"
   ],
   "outputs": [
    {
     "output_type": "stream",
     "name": "stdout",
     "text": [
      "******************************************************************************************************************************************************\n",
      "Testing: Insertion to end of linked list\n",
      "\n",
      "Before Insert:\n",
      "Circular double linked list is empty!\n",
      "Inserting to empty circular double linked list\n",
      "After Insert:\n",
      "[HEAD0x7fd2c61f2700] -> (0x7fd2c61f2700, abc, 0x7fd2c61f2700) <- [TAIL(0x7fd2c61f2700)]\n",
      "\n",
      "Before Insert:\n",
      "[HEAD0x7fd2c61f2700] -> (0x7fd2c61f2700, abc, 0x7fd2c61f2700) <- [TAIL(0x7fd2c61f2700)]\n",
      "Inserting to last position of circular double linked list\n",
      "After Insert:\n",
      "[HEAD0x7fd2c61f2700] -> (0x7fd2c7500eb0, abc, 0x7fd2c7500eb0) <-> (0x7fd2c61f2700, 123, 0x7fd2c61f2700) <- [TAIL(0x7fd2c7500eb0)]\n",
      "\n",
      "Before Insert:\n",
      "[HEAD0x7fd2c61f2700] -> (0x7fd2c7500eb0, abc, 0x7fd2c7500eb0) <-> (0x7fd2c61f2700, 123, 0x7fd2c61f2700) <- [TAIL(0x7fd2c7500eb0)]\n",
      "Inserting to last position of circular double linked list\n",
      "After Insert:\n",
      "[HEAD0x7fd2c61f2700] -> (0x7fd2c7443400, abc, 0x7fd2c7500eb0) <-> (0x7fd2c61f2700, 123, 0x7fd2c7443400) <-> (0x7fd2c7500eb0, 4.56, 0x7fd2c61f2700) <- [TAIL(0x7fd2c7443400)]\n",
      "\n",
      "******************************************************************************************************************************************************\n"
     ]
    }
   ],
   "metadata": {}
  },
  {
   "cell_type": "markdown",
   "source": [
    "#### Insertion to start of circular double linked list"
   ],
   "metadata": {}
  },
  {
   "cell_type": "code",
   "execution_count": 42,
   "source": [
    "print('*'*150)\n",
    "print('Testing: Insertion to start of linked list\\n')\n",
    "\n",
    "cdll = CircularDoubleLinkedList()\n",
    "\n",
    "print(f'Before Insert:\\n{cdll}')\n",
    "cdll.insert(3, 1)\n",
    "print(f'After Insert:\\n{cdll}\\n')\n",
    "\n",
    "print(f'Before Insert:\\n{cdll}')\n",
    "cdll.insert(2, 1)\n",
    "print(f'After Insert:\\n{cdll}\\n')\n",
    "\n",
    "print(f'Before Insert:\\n{cdll}')\n",
    "cdll.insert(1, 1)\n",
    "print(f'After Insert:\\n{cdll}\\n')\n",
    "\n",
    "print('*'*150)\n"
   ],
   "outputs": [
    {
     "output_type": "stream",
     "name": "stdout",
     "text": [
      "******************************************************************************************************************************************************\n",
      "Testing: Insertion to start of linked list\n",
      "\n",
      "Before Insert:\n",
      "Circular double linked list is empty!\n",
      "Inserting to empty circular double linked list\n",
      "After Insert:\n",
      "[HEAD0x7fd2c7443d60] -> (0x7fd2c7443d60, 3, 0x7fd2c7443d60) <- [TAIL(0x7fd2c7443d60)]\n",
      "\n",
      "Before Insert:\n",
      "[HEAD0x7fd2c7443d60] -> (0x7fd2c7443d60, 3, 0x7fd2c7443d60) <- [TAIL(0x7fd2c7443d60)]\n",
      "Inserting to first position of circular double linked list\n",
      "After Insert:\n",
      "[HEAD0x7fd2c7500b80] -> (0x7fd2c7443d60, 2, 0x7fd2c7443d60) <-> (0x7fd2c7500b80, 3, 0x7fd2c7500b80) <- [TAIL(0x7fd2c7443d60)]\n",
      "\n",
      "Before Insert:\n",
      "[HEAD0x7fd2c7500b80] -> (0x7fd2c7443d60, 2, 0x7fd2c7443d60) <-> (0x7fd2c7500b80, 3, 0x7fd2c7500b80) <- [TAIL(0x7fd2c7443d60)]\n",
      "Inserting to first position of circular double linked list\n",
      "After Insert:\n",
      "[HEAD0x7fd2c74df8e0] -> (0x7fd2c7443d60, 1, 0x7fd2c7500b80) <-> (0x7fd2c74df8e0, 2, 0x7fd2c7443d60) <-> (0x7fd2c7500b80, 3, 0x7fd2c74df8e0) <- [TAIL(0x7fd2c7443d60)]\n",
      "\n",
      "******************************************************************************************************************************************************\n"
     ]
    }
   ],
   "metadata": {}
  },
  {
   "cell_type": "markdown",
   "source": [
    "#### Insertion in between circular double linked list"
   ],
   "metadata": {}
  },
  {
   "cell_type": "code",
   "execution_count": 43,
   "source": [
    "print('*'*150)\n",
    "print('Testing: Insertion to start of linked list\\n')\n",
    "\n",
    "cdll = CircularDoubleLinkedList()\n",
    "cdll.insert(1)\n",
    "cdll.insert(3)\n",
    "cdll.insert(5)\n",
    "\n",
    "print(f'\\nBefore Insert:\\n{cdll}')\n",
    "cdll.insert(4, 3)\n",
    "print(f'After Insert:\\n{cdll}\\n')\n",
    "\n",
    "print(f'Before Insert:\\n{cdll}')\n",
    "cdll.insert(2, 2)\n",
    "print(f'After Insert:\\n{cdll}\\n')\n",
    "\n",
    "print('*'*150)\n"
   ],
   "outputs": [
    {
     "output_type": "stream",
     "name": "stdout",
     "text": [
      "******************************************************************************************************************************************************\n",
      "Testing: Insertion to start of linked list\n",
      "\n",
      "Inserting to empty circular double linked list\n",
      "Inserting to last position of circular double linked list\n",
      "Inserting to last position of circular double linked list\n",
      "\n",
      "Before Insert:\n",
      "[HEAD0x7fd2c7443070] -> (0x7fd2c74dfa60, 1, 0x7fd2c7500a30) <-> (0x7fd2c7443070, 3, 0x7fd2c74dfa60) <-> (0x7fd2c7500a30, 5, 0x7fd2c7443070) <- [TAIL(0x7fd2c74dfa60)]\n",
      "Inserting to nth position of circular double linked list\n",
      "After Insert:\n",
      "[HEAD0x7fd2c7443070] -> (0x7fd2c74dfa60, 1, 0x7fd2c7500a30) <-> (0x7fd2c7443070, 3, 0x7fd2c7443250) <-> (0x7fd2c7500a30, 4, 0x7fd2c74dfa60) <-> (0x7fd2c7443250, 5, 0x7fd2c7443070) <- [TAIL(0x7fd2c74dfa60)]\n",
      "\n",
      "Before Insert:\n",
      "[HEAD0x7fd2c7443070] -> (0x7fd2c74dfa60, 1, 0x7fd2c7500a30) <-> (0x7fd2c7443070, 3, 0x7fd2c7443250) <-> (0x7fd2c7500a30, 4, 0x7fd2c74dfa60) <-> (0x7fd2c7443250, 5, 0x7fd2c7443070) <- [TAIL(0x7fd2c74dfa60)]\n",
      "Inserting to nth position of circular double linked list\n",
      "After Insert:\n",
      "[HEAD0x7fd2c7443070] -> (0x7fd2c74dfa60, 1, 0x7fd2c74da280) <-> (0x7fd2c7443070, 2, 0x7fd2c7500a30) <-> (0x7fd2c74da280, 3, 0x7fd2c7443250) <-> (0x7fd2c7500a30, 4, 0x7fd2c74dfa60) <-> (0x7fd2c7443250, 5, 0x7fd2c7443070) <- [TAIL(0x7fd2c74dfa60)]\n",
      "\n",
      "******************************************************************************************************************************************************\n"
     ]
    }
   ],
   "metadata": {}
  },
  {
   "cell_type": "markdown",
   "source": [
    "#### Traversal of circular double linked list"
   ],
   "metadata": {}
  },
  {
   "cell_type": "code",
   "execution_count": 44,
   "source": [
    "print('*'*150)\n",
    "print('Testing: Traversal of linked list\\n')\n",
    "\n",
    "cdll.traverse()\n",
    "cdll.traverse_backwards()\n",
    "\n",
    "print('*'*150)\n"
   ],
   "outputs": [
    {
     "output_type": "stream",
     "name": "stdout",
     "text": [
      "******************************************************************************************************************************************************\n",
      "Testing: Traversal of linked list\n",
      "\n",
      "<- 1 <-> 2 <-> 3 <-> 4 <-> 5 ->\n",
      "<- 5 <-> 4 <-> 3 <-> 2 <-> 1 ->\n",
      "******************************************************************************************************************************************************\n"
     ]
    }
   ],
   "metadata": {}
  },
  {
   "cell_type": "markdown",
   "source": [
    "#### Searching for a value"
   ],
   "metadata": {}
  },
  {
   "cell_type": "code",
   "execution_count": 45,
   "source": [
    "print('*'*150)\n",
    "print('Testing: Traversal of linked list\\n')\n",
    "\n",
    "print(f'Index of 100 in empty list = {CircularDoubleLinkedList().find_index(100)}\\n')\n",
    "\n",
    "print(f'cdll = ', end='')\n",
    "cdll.traverse()\n",
    "\n",
    "print(f'Index of 5 = {cdll.find_index(4)}')\n",
    "print(f'Index of 100 = {cdll.find_index(100)}')\n",
    "\n",
    "print('*'*150)"
   ],
   "outputs": [
    {
     "output_type": "stream",
     "name": "stdout",
     "text": [
      "******************************************************************************************************************************************************\n",
      "Testing: Traversal of linked list\n",
      "\n",
      "Index of 100 in empty list = -1\n",
      "\n",
      "cdll = <- 1 <-> 2 <-> 3 <-> 4 <-> 5 ->\n",
      "Index of 5 = 4\n",
      "Index of 100 = -1\n",
      "******************************************************************************************************************************************************\n"
     ]
    }
   ],
   "metadata": {}
  },
  {
   "cell_type": "markdown",
   "source": [
    "#### Deletion when list has just 1 element"
   ],
   "metadata": {}
  },
  {
   "cell_type": "code",
   "execution_count": 46,
   "source": [
    "print('*'*150)\n",
    "print('Testing: Deletion when list has just 1 element\\n')\n",
    "\n",
    "cdll = CircularDoubleLinkedList()\n",
    "cdll.insert(123)\n",
    "\n",
    "print(f'\\nBefore Delete:\\n{cdll}')\n",
    "cdll.delete()\n",
    "print(f'\\nAfter Delete:\\n{cdll}')\n",
    "\n",
    "print('*'*150)\n"
   ],
   "outputs": [
    {
     "output_type": "stream",
     "name": "stdout",
     "text": [
      "******************************************************************************************************************************************************\n",
      "Testing: Deletion when list has just 1 element\n",
      "\n",
      "Inserting to empty circular double linked list\n",
      "\n",
      "Before Delete:\n",
      "[HEAD0x7fd2c7443be0] -> (0x7fd2c7443be0, 123, 0x7fd2c7443be0) <- [TAIL(0x7fd2c7443be0)]\n",
      "Deleting when circular double linked list has only 1 element\n",
      "\n",
      "After Delete:\n",
      "Circular double linked list is empty!\n",
      "******************************************************************************************************************************************************\n"
     ]
    }
   ],
   "metadata": {}
  },
  {
   "cell_type": "markdown",
   "source": [
    "#### Deletion from first"
   ],
   "metadata": {}
  },
  {
   "cell_type": "code",
   "execution_count": 47,
   "source": [
    "print('*'*150)\n",
    "print('Testing: Deletion from first\\n')\n",
    "\n",
    "cdll = CircularDoubleLinkedList()\n",
    "cdll.insert(1)\n",
    "cdll.insert(2)\n",
    "cdll.insert(3)\n",
    "\n",
    "print(f'\\nBefore Delete:\\n{cdll}')\n",
    "cdll.delete(pos=1)\n",
    "print(f'\\nAfter Delete:\\n{cdll}')\n",
    "\n",
    "print(f'\\nBefore Delete:\\n{cdll}')\n",
    "cdll.delete(pos=1)\n",
    "print(f'\\nAfter Delete:\\n{cdll}')\n",
    "\n",
    "print(f'\\nBefore Delete:\\n{cdll}')\n",
    "cdll.delete(pos=1)\n",
    "print(f'\\nAfter Delete:\\n{cdll}')\n",
    "\n",
    "print('*'*150)\n"
   ],
   "outputs": [
    {
     "output_type": "stream",
     "name": "stdout",
     "text": [
      "******************************************************************************************************************************************************\n",
      "Testing: Deletion from first\n",
      "\n",
      "Inserting to empty circular double linked list\n",
      "Inserting to last position of circular double linked list\n",
      "Inserting to last position of circular double linked list\n",
      "\n",
      "Before Delete:\n",
      "[HEAD0x7fd2c7443fa0] -> (0x7fd2c7443c10, 1, 0x7fd2c75004c0) <-> (0x7fd2c7443fa0, 2, 0x7fd2c7443c10) <-> (0x7fd2c75004c0, 3, 0x7fd2c7443fa0) <- [TAIL(0x7fd2c7443c10)]\n",
      "Deleting from first when circular double linked list has more than 1 element\n",
      "\n",
      "After Delete:\n",
      "[HEAD0x7fd2c75004c0] -> (0x7fd2c7443c10, 2, 0x7fd2c7443c10) <-> (0x7fd2c75004c0, 3, 0x7fd2c75004c0) <- [TAIL(0x7fd2c7443c10)]\n",
      "\n",
      "Before Delete:\n",
      "[HEAD0x7fd2c75004c0] -> (0x7fd2c7443c10, 2, 0x7fd2c7443c10) <-> (0x7fd2c75004c0, 3, 0x7fd2c75004c0) <- [TAIL(0x7fd2c7443c10)]\n",
      "Deleting from first when circular double linked list has more than 1 element\n",
      "\n",
      "After Delete:\n",
      "[HEAD0x7fd2c7443c10] -> (0x7fd2c7443c10, 3, 0x7fd2c7443c10) <- [TAIL(0x7fd2c7443c10)]\n",
      "\n",
      "Before Delete:\n",
      "[HEAD0x7fd2c7443c10] -> (0x7fd2c7443c10, 3, 0x7fd2c7443c10) <- [TAIL(0x7fd2c7443c10)]\n",
      "Deleting when circular double linked list has only 1 element\n",
      "\n",
      "After Delete:\n",
      "Circular double linked list is empty!\n",
      "******************************************************************************************************************************************************\n"
     ]
    }
   ],
   "metadata": {}
  },
  {
   "cell_type": "markdown",
   "source": [
    "#### Deletion from last"
   ],
   "metadata": {}
  },
  {
   "cell_type": "code",
   "execution_count": 48,
   "source": [
    "print('*'*150)\n",
    "print('Testing: Deletion from last\\n')\n",
    "\n",
    "cdll = CircularDoubleLinkedList()\n",
    "cdll.insert(1)\n",
    "cdll.insert(2)\n",
    "cdll.insert(3)\n",
    "\n",
    "print(f'\\nBefore Delete:\\n{cdll}')\n",
    "cdll.delete()\n",
    "print(f'\\nAfter Delete:\\n{cdll}')\n",
    "\n",
    "print(f'\\nBefore Delete:\\n{cdll}')\n",
    "cdll.delete()\n",
    "print(f'\\nAfter Delete:\\n{cdll}')\n",
    "\n",
    "print(f'\\nBefore Delete:\\n{cdll}')\n",
    "cdll.delete()\n",
    "print(f'\\nAfter Delete:\\n{cdll}')\n",
    "\n",
    "print('*'*150)\n"
   ],
   "outputs": [
    {
     "output_type": "stream",
     "name": "stdout",
     "text": [
      "******************************************************************************************************************************************************\n",
      "Testing: Deletion from last\n",
      "\n",
      "Inserting to empty circular double linked list\n",
      "Inserting to last position of circular double linked list\n",
      "Inserting to last position of circular double linked list\n",
      "\n",
      "Before Delete:\n",
      "[HEAD0x7fd2c7443880] -> (0x7fd2c7443310, 1, 0x7fd2c7443c70) <-> (0x7fd2c7443880, 2, 0x7fd2c7443310) <-> (0x7fd2c7443c70, 3, 0x7fd2c7443880) <- [TAIL(0x7fd2c7443310)]\n",
      "Deleting from last when circular double linked list has more than 1 element\n",
      "\n",
      "After Delete:\n",
      "[HEAD0x7fd2c7443880] -> (0x7fd2c7443c70, 1, 0x7fd2c7443c70) <-> (0x7fd2c7443880, 2, 0x7fd2c7443880) <- [TAIL(0x7fd2c7443c70)]\n",
      "\n",
      "Before Delete:\n",
      "[HEAD0x7fd2c7443880] -> (0x7fd2c7443c70, 1, 0x7fd2c7443c70) <-> (0x7fd2c7443880, 2, 0x7fd2c7443880) <- [TAIL(0x7fd2c7443c70)]\n",
      "Deleting from last when circular double linked list has more than 1 element\n",
      "\n",
      "After Delete:\n",
      "[HEAD0x7fd2c7443880] -> (0x7fd2c7443880, 1, 0x7fd2c7443880) <- [TAIL(0x7fd2c7443880)]\n",
      "\n",
      "Before Delete:\n",
      "[HEAD0x7fd2c7443880] -> (0x7fd2c7443880, 1, 0x7fd2c7443880) <- [TAIL(0x7fd2c7443880)]\n",
      "Deleting when circular double linked list has only 1 element\n",
      "\n",
      "After Delete:\n",
      "Circular double linked list is empty!\n",
      "******************************************************************************************************************************************************\n"
     ]
    }
   ],
   "metadata": {}
  },
  {
   "cell_type": "markdown",
   "source": [
    "#### Delete from nth position"
   ],
   "metadata": {}
  },
  {
   "cell_type": "code",
   "execution_count": 49,
   "source": [
    "print('*'*150)\n",
    "print('Testing: Deletion from nth place\\n')\n",
    "\n",
    "cdll = CircularDoubleLinkedList()\n",
    "cdll.insert(1)\n",
    "cdll.insert(2)\n",
    "cdll.insert(3)\n",
    "\n",
    "print(f'\\nBefore Delete:\\n{cdll}')\n",
    "cdll.delete(2)\n",
    "print(f'\\nAfter Delete:\\n{cdll}')\n",
    "\n",
    "print(f'\\nBefore Delete:\\n{cdll}')\n",
    "cdll.delete(2)\n",
    "print(f'\\nAfter Delete:\\n{cdll}')\n",
    "\n",
    "print('*'*150)"
   ],
   "outputs": [
    {
     "output_type": "stream",
     "name": "stdout",
     "text": [
      "******************************************************************************************************************************************************\n",
      "Testing: Deletion from nth place\n",
      "\n",
      "Inserting to empty circular double linked list\n",
      "Inserting to last position of circular double linked list\n",
      "Inserting to last position of circular double linked list\n",
      "\n",
      "Before Delete:\n",
      "[HEAD0x7fd2c74da910] -> (0x7fd2c74da580, 1, 0x7fd2c7443460) <-> (0x7fd2c74da910, 2, 0x7fd2c74da580) <-> (0x7fd2c7443460, 3, 0x7fd2c74da910) <- [TAIL(0x7fd2c74da580)]\n",
      "Deleting the nth when double linked list has more than 1 element\n",
      "\n",
      "After Delete:\n",
      "[HEAD0x7fd2c74da910] -> (0x7fd2c74da580, 1, 0x7fd2c74da580) <-> (0x7fd2c74da910, 3, 0x7fd2c74da910) <- [TAIL(0x7fd2c74da580)]\n",
      "\n",
      "Before Delete:\n",
      "[HEAD0x7fd2c74da910] -> (0x7fd2c74da580, 1, 0x7fd2c74da580) <-> (0x7fd2c74da910, 3, 0x7fd2c74da910) <- [TAIL(0x7fd2c74da580)]\n",
      "Deleting the nth when double linked list has more than 1 element\n",
      "\n",
      "After Delete:\n",
      "[HEAD0x7fd2c74da910] -> (0x7fd2c74da910, 1, 0x7fd2c74da910) <- [TAIL(0x7fd2c74da910)]\n",
      "******************************************************************************************************************************************************\n"
     ]
    }
   ],
   "metadata": {}
  },
  {
   "cell_type": "code",
   "execution_count": null,
   "source": [],
   "outputs": [],
   "metadata": {}
  }
 ],
 "metadata": {
  "interpreter": {
   "hash": "aee8b7b246df8f9039afb4144a1f6fd8d2ca17a180786b69acc140d282b71a49"
  },
  "kernelspec": {
   "name": "python3",
   "display_name": "Python 3.9.6 64-bit"
  },
  "language_info": {
   "codemirror_mode": {
    "name": "ipython",
    "version": 3
   },
   "file_extension": ".py",
   "mimetype": "text/x-python",
   "name": "python",
   "nbconvert_exporter": "python",
   "pygments_lexer": "ipython3",
   "version": "3.9.6"
  }
 },
 "nbformat": 4,
 "nbformat_minor": 2
}