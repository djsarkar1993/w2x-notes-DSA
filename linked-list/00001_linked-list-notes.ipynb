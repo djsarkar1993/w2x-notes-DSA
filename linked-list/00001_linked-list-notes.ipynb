{
 "cells": [
  {
   "cell_type": "markdown",
   "source": [
    "## What is a linked list?"
   ],
   "metadata": {}
  },
  {
   "cell_type": "markdown",
   "source": [
    "<p>A Linked List, like an array, is a linear / sequential data structure. However, the elements of a linked list, unlike an array, are not stored at contiguous memory locations; they are connected (linked) using pointers.</p>\n",
    "<p>A linked list consists of:<ul><li><b><u>nodes</u></b> where each node contains a <b><u>data field</b></u> and a <b><u>reference (link)</b></u> to the next node in the list.</li><li>a head pointer that points to the first node of the list.</li><li>a tail pointer that points to the last node of the list.</li></ul></p>"
   ],
   "metadata": {}
  },
  {
   "cell_type": "markdown",
   "source": [
    "![Image/fig1-aLinkedList.png](Image/fig1-aLinkedList.png)"
   ],
   "metadata": {}
  },
  {
   "cell_type": "markdown",
   "source": [
    "## Linked List vs Array"
   ],
   "metadata": {}
  },
  {
   "cell_type": "markdown",
   "source": [
    "<p>The major differences are listed below:<ul><li>The size of a linked list can <u>increase dynamically</u> while the size of an array is static.</li><li>Insertion/Deletion of an element from the middle of a linked list is <u>much faster</u> than that of an array (as no shifting of elements is needed).</li><li>Direct access of elements is <u>much faster</u> with arrays; compared to linked lists (as all previous elements must be traversed to reach any element\n",
    ").</li><li>Linked lists require <u>more memory</u> compared to arrays (as they store the reference of the next node in current node).</li></ul></p>"
   ],
   "metadata": {}
  },
  {
   "cell_type": "markdown",
   "source": [],
   "metadata": {}
  }
 ],
 "metadata": {
  "orig_nbformat": 4,
  "language_info": {
   "name": "python",
   "version": "3.9.6",
   "mimetype": "text/x-python",
   "codemirror_mode": {
    "name": "ipython",
    "version": 3
   },
   "pygments_lexer": "ipython3",
   "nbconvert_exporter": "python",
   "file_extension": ".py"
  },
  "kernelspec": {
   "name": "python3",
   "display_name": "Python 3.9.6 64-bit"
  },
  "interpreter": {
   "hash": "aee8b7b246df8f9039afb4144a1f6fd8d2ca17a180786b69acc140d282b71a49"
  }
 },
 "nbformat": 4,
 "nbformat_minor": 2
}