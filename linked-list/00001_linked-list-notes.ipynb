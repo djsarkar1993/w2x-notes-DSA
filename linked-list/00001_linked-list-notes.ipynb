{
 "cells": [
  {
   "cell_type": "markdown",
   "metadata": {},
   "source": [
    "## What is a linked list?"
   ]
  },
  {
   "cell_type": "markdown",
   "metadata": {},
   "source": [
    "<p>A Linked List, like an array, is a linear / sequential data structure. However, the elements of a linked list, unlike an array, are not stored at contiguous memory locations; they are connected (linked) using pointers.</p>\n",
    "<p>A linked list consists of:<ul><li><b><u>nodes</u></b> where each node contains a <b><u>data field</b></u> and a <b><u>reference (link)</b></u> to the next node in the list.</li><li>a head pointer that points to the first node of the list.</li><li>a tail pointer that points to the last node of the list.</li></ul></p>\n",
    "<img src=\"Image/fig1-sll.png\" alt=\"Image/fig1-sll.png\"/>"
   ]
  },
  {
   "cell_type": "markdown",
   "metadata": {},
   "source": [
    "## Linked List vs Array"
   ]
  },
  {
   "cell_type": "markdown",
   "metadata": {},
   "source": [
    "<p>The major differences are listed below:<ul><li>The size of a linked list can <u>increase dynamically</u> while the size of an array is static.</li><li>Insertion/Deletion of an element from the middle of a linked list is <u>much faster</u> than that of an array (as no shifting of elements is needed).</li><li>Direct access of elements is <u>much faster</u> with arrays; compared to linked lists (as all previous elements must be traversed to reach any element\n",
    ").</li><li>Linked lists require <u>more memory</u> compared to arrays (as they store the reference of the next node in current node).</li></ul></p>"
   ]
  },
  {
   "cell_type": "markdown",
   "metadata": {},
   "source": [
    "## Types of linked list"
   ]
  },
  {
   "cell_type": "markdown",
   "metadata": {},
   "source": [
    "<p>The various types of linked list are:<ul><li>Single Linked List<br/><img src=\"Image/fig1-sll.png\" width=\"500\" alt=\"Image/fig1-sll.png\"/><br/><br/></li><li>Circular Single Linked List<br/><img src=\"Image/fig2-csll.png\" width=\"500\" alt=\"Image/fig2-csll.png\"/><br/><br/></li><li>Double Linked List<br/><img src=\"Image/fig3-dll.png\" width=\"500\" alt=\"Image/fig3-dll.png\"/><br/><br/></li><li>Circular Double Linked List<br/><img src=\"Image/fig4-cdll.png\" width=\"500\" alt=\"Image/fig4-cdll.png\"/></li></ul></p>"
   ]
  },
  {
   "cell_type": "markdown",
   "metadata": {},
   "source": [
    "## Single Linked List"
   ]
  },
  {
   "cell_type": "markdown",
   "metadata": {},
   "source": [
    "### Code"
   ]
  },
  {
   "cell_type": "code",
   "execution_count": 1,
   "metadata": {},
   "outputs": [],
   "source": [
    "class Node:\n",
    "    def __init__(self, value):\n",
    "        self.data = value\n",
    "        self.next = None\n",
    "    \n",
    "    def __str__(self):\n",
    "        return f'({self.data}, {hex(id(self.next))})'\n"
   ]
  },
  {
   "cell_type": "code",
   "execution_count": 2,
   "metadata": {},
   "outputs": [],
   "source": [
    "class SingleLinkedList:\n",
    "    def __init__(self):\n",
    "        self.head = None\n",
    "        self.tail = None\n",
    "        self.length = 0\n",
    "\n",
    "\n",
    "    def __str__(self):\n",
    "        result = ''\n",
    "        if self.length > 0:\n",
    "            current_node = self.head\n",
    "\n",
    "            result += f'[[[HEAD({hex(id(self.head))})]]] -> '\n",
    "            while current_node.next:\n",
    "                result += f'{current_node} -> '\n",
    "                current_node = current_node.next\n",
    "            result += f'{current_node} <- [[[TAIL({hex(id(self.tail))})]]]'\n",
    "        else:\n",
    "            result = \"The linked list is empty\"\n",
    "        \n",
    "        return result\n",
    "\n",
    "    \n",
    "    def insert(self, value, pos=-1):\n",
    "        node = Node(value)\n",
    "        print(f'Node: {node} to be inserted at location: {pos}')\n",
    "        \n",
    "        if self.head is None:\n",
    "            print('Inserting to empty linked list')\n",
    "            if pos not in [1, -1]:\n",
    "                raise IndexError(f\"The linked list is empty. The value of pos should be 1 or -1\")\n",
    "            \n",
    "            self.head = node\n",
    "            self.tail = node\n",
    "\n",
    "        else:\n",
    "            if pos == 1:\n",
    "                print('Inserting to first position of linked list')\n",
    "                node.next = self.head\n",
    "                self.head = node\n",
    "            \n",
    "            elif pos == -1:\n",
    "                print('Inserting to last position of linked list')\n",
    "                self.tail.next = node\n",
    "                self.tail = node\n",
    "            \n",
    "            else:\n",
    "                print('Inserting to nth position of linked list')\n",
    "                if pos > self.length:\n",
    "                    raise IndexError(f\"The value of pos should be between 1 and {self.length}\")\n",
    "                \n",
    "                current_node = self.head\n",
    "                for i in range(1, pos-1):\n",
    "                    current_node = current_node.next\n",
    "                \n",
    "                node.next = current_node.next\n",
    "                current_node.next = node\n",
    "            \n",
    "        self.length += 1\n",
    "\n",
    "    \n",
    "    def traverse(self):\n",
    "        if self.length > 0:\n",
    "            current_node = self.head\n",
    "            while current_node:\n",
    "                print(current_node.data, end = ' -> ')\n",
    "                current_node = current_node.next\n",
    "            print('NULL\\n')\n",
    "\n",
    "        else:\n",
    "            print('Linked list is empty')\n",
    "\n",
    "\n",
    "    def find_index(self, search_data):\n",
    "        result = -1\n",
    "\n",
    "        if self.length > 0:\n",
    "            current_node = self.head\n",
    "            idx = 1\n",
    "            while current_node:\n",
    "                if search_data == current_node.data:\n",
    "                    result = idx\n",
    "                    break\n",
    "\n",
    "                current_node = current_node.next\n",
    "                idx += 1\n",
    "\n",
    "        return result\n",
    "\n",
    "\n",
    "    def delete(self, pos = -1):   \n",
    "        if self.head is None:\n",
    "            raise ValueError(\"Operation not permitted as linked list is empty!\")\n",
    "        \n",
    "        if pos > self.length:\n",
    "            raise IndexError(f\"The value of pos should between 1 and {self.length}\")\n",
    "        \n",
    "        if pos in [1, -1] and self.head == self.tail:\n",
    "            print('Deleting when linked list has only 1 element')\n",
    "            self.head = self.tail = None\n",
    "\n",
    "        elif pos == 1:\n",
    "            print('Deleting from first when linked list has more than 1 element')\n",
    "            self.head = self.head.next\n",
    "        \n",
    "        else:\n",
    "            print('Deleting from last / nth when linked list has more than 1 element')\n",
    "            previous_node = self.head\n",
    "            current_node = self.head.next\n",
    "            idx_upper_bound = self.length if pos == -1 else pos\n",
    "            for idx in range(1, idx_upper_bound - 1):\n",
    "                previous_node = previous_node.next\n",
    "                current_node = current_node.next\n",
    "            \n",
    "            if current_node == self.tail:\n",
    "                self.tail = previous_node\n",
    "            \n",
    "            previous_node.next = current_node.next\n",
    "            current_node.next = None\n",
    "                \n",
    "        self.length -= 1\n",
    "    \n",
    "\n",
    "    def empty(self):\n",
    "        if self.head is None:\n",
    "            raise ValueError(\"Operation not permitted as linked list is empty!\")\n",
    "        \n",
    "        self.head = None\n",
    "        self.tail = None\n",
    "\n",
    "        self.length = 0\n",
    "\n"
   ]
  },
  {
   "cell_type": "markdown",
   "metadata": {},
   "source": [
    "### Test"
   ]
  },
  {
   "cell_type": "markdown",
   "metadata": {},
   "source": [
    "#### Insertion to empty linked list"
   ]
  },
  {
   "cell_type": "code",
   "execution_count": 3,
   "metadata": {},
   "outputs": [
    {
     "name": "stdout",
     "output_type": "stream",
     "text": [
      "******************************************************************************************************************************************************\n",
      "Testing: Insertion to empty linked list\n",
      "\n",
      "Before Insert:\n",
      "The linked list is empty\n",
      "Node: (1, 0x5f834ce8) to be inserted at location: -1\n",
      "Inserting to empty linked list\n",
      "After Insert:\n",
      "[[[HEAD(0x638e628)]]] -> (1, 0x5f834ce8) <- [[[TAIL(0x638e628)]]]\n",
      "\n",
      "******************************************************************************************************************************************************\n"
     ]
    }
   ],
   "source": [
    "print('*'*150)\n",
    "print('Testing: Insertion to empty linked list\\n')\n",
    "\n",
    "sll = SingleLinkedList()\n",
    "print(f'Before Insert:\\n{sll}')\n",
    "sll.insert(1)\n",
    "print(f'After Insert:\\n{sll}\\n')\n",
    "\n",
    "print('*'*150)\n"
   ]
  },
  {
   "cell_type": "markdown",
   "metadata": {},
   "source": [
    "#### Insertion to end of linked list"
   ]
  },
  {
   "cell_type": "code",
   "execution_count": 4,
   "metadata": {},
   "outputs": [
    {
     "name": "stdout",
     "output_type": "stream",
     "text": [
      "******************************************************************************************************************************************************\n",
      "Testing: Insertion to end of linked list\n",
      "\n",
      "Before Insert:\n",
      "The linked list is empty\n",
      "Node: (abc, 0x5f834ce8) to be inserted at location: -1\n",
      "Inserting to empty linked list\n",
      "After Insert:\n",
      "[[[HEAD(0x638e028)]]] -> (abc, 0x5f834ce8) <- [[[TAIL(0x638e028)]]]\n",
      "\n",
      "Before Insert:\n",
      "[[[HEAD(0x638e028)]]] -> (abc, 0x5f834ce8) <- [[[TAIL(0x638e028)]]]\n",
      "Node: (123, 0x5f834ce8) to be inserted at location: -1\n",
      "Inserting to last position of linked list\n",
      "After Insert:\n",
      "[[[HEAD(0x638e028)]]] -> (abc, 0x638e628) -> (123, 0x5f834ce8) <- [[[TAIL(0x638e628)]]]\n",
      "\n",
      "Before Insert:\n",
      "[[[HEAD(0x638e028)]]] -> (abc, 0x638e628) -> (123, 0x5f834ce8) <- [[[TAIL(0x638e628)]]]\n",
      "Node: (4.56, 0x5f834ce8) to be inserted at location: -1\n",
      "Inserting to last position of linked list\n",
      "After Insert:\n",
      "[[[HEAD(0x638e028)]]] -> (abc, 0x638e628) -> (123, 0x681a040) -> (4.56, 0x5f834ce8) <- [[[TAIL(0x681a040)]]]\n",
      "\n",
      "******************************************************************************************************************************************************\n"
     ]
    }
   ],
   "source": [
    "print('*'*150)\n",
    "print('Testing: Insertion to end of linked list\\n')\n",
    "\n",
    "sll = SingleLinkedList()\n",
    "\n",
    "print(f'Before Insert:\\n{sll}')\n",
    "sll.insert('abc')\n",
    "print(f'After Insert:\\n{sll}\\n')\n",
    "\n",
    "print(f'Before Insert:\\n{sll}')\n",
    "sll.insert(123, -1)\n",
    "print(f'After Insert:\\n{sll}\\n')\n",
    "\n",
    "print(f'Before Insert:\\n{sll}')\n",
    "sll.insert(4.56, -1)\n",
    "print(f'After Insert:\\n{sll}\\n')\n",
    "\n",
    "print('*'*150)"
   ]
  },
  {
   "cell_type": "markdown",
   "metadata": {},
   "source": [
    "#### Insertion to start of linked list"
   ]
  },
  {
   "cell_type": "code",
   "execution_count": 5,
   "metadata": {},
   "outputs": [
    {
     "name": "stdout",
     "output_type": "stream",
     "text": [
      "******************************************************************************************************************************************************\n",
      "Testing: Insertion to start of linked list\n",
      "\n",
      "Before Insert:\n",
      "The linked list is empty\n",
      "Node: (3, 0x5f834ce8) to be inserted at location: 1\n",
      "Inserting to empty linked list\n",
      "After Insert:\n",
      "[[[HEAD(0x638e028)]]] -> (3, 0x5f834ce8) <- [[[TAIL(0x638e028)]]]\n",
      "\n",
      "Before Insert:\n",
      "[[[HEAD(0x638e028)]]] -> (3, 0x5f834ce8) <- [[[TAIL(0x638e028)]]]\n",
      "Node: (2, 0x5f834ce8) to be inserted at location: 1\n",
      "Inserting to first position of linked list\n",
      "After Insert:\n",
      "[[[HEAD(0x638e2b0)]]] -> (2, 0x638e028) -> (3, 0x5f834ce8) <- [[[TAIL(0x638e028)]]]\n",
      "\n",
      "Before Insert:\n",
      "[[[HEAD(0x638e2b0)]]] -> (2, 0x638e028) -> (3, 0x5f834ce8) <- [[[TAIL(0x638e028)]]]\n",
      "Node: (1, 0x5f834ce8) to be inserted at location: 1\n",
      "Inserting to first position of linked list\n",
      "After Insert:\n",
      "[[[HEAD(0x681a3a0)]]] -> (1, 0x638e2b0) -> (2, 0x638e028) -> (3, 0x5f834ce8) <- [[[TAIL(0x638e028)]]]\n",
      "\n",
      "******************************************************************************************************************************************************\n"
     ]
    }
   ],
   "source": [
    "print('*'*150)\n",
    "print('Testing: Insertion to start of linked list\\n')\n",
    "\n",
    "sll = SingleLinkedList()\n",
    "\n",
    "print(f'Before Insert:\\n{sll}')\n",
    "sll.insert(3, 1)\n",
    "print(f'After Insert:\\n{sll}\\n')\n",
    "\n",
    "print(f'Before Insert:\\n{sll}')\n",
    "sll.insert(2, 1)\n",
    "print(f'After Insert:\\n{sll}\\n')\n",
    "\n",
    "print(f'Before Insert:\\n{sll}')\n",
    "sll.insert(1, 1)\n",
    "print(f'After Insert:\\n{sll}\\n')\n",
    "\n",
    "print('*'*150)\n"
   ]
  },
  {
   "cell_type": "markdown",
   "metadata": {},
   "source": [
    "#### Insertion in between linked list"
   ]
  },
  {
   "cell_type": "code",
   "execution_count": 6,
   "metadata": {},
   "outputs": [
    {
     "name": "stdout",
     "output_type": "stream",
     "text": [
      "******************************************************************************************************************************************************\n",
      "Testing: Insertion to start of linked list\n",
      "\n",
      "Node: (1, 0x5f834ce8) to be inserted at location: -1\n",
      "Inserting to empty linked list\n",
      "Node: (3, 0x5f834ce8) to be inserted at location: -1\n",
      "Inserting to last position of linked list\n",
      "Node: (5, 0x5f834ce8) to be inserted at location: -1\n",
      "Inserting to last position of linked list\n",
      "\n",
      "Before Insert:\n",
      "[[[HEAD(0x638e2b0)]]] -> (1, 0x638e028) -> (3, 0x681ad60) -> (5, 0x5f834ce8) <- [[[TAIL(0x681ad60)]]]\n",
      "Node: (4, 0x5f834ce8) to be inserted at location: 3\n",
      "Inserting to nth position of linked list\n",
      "After Insert:\n",
      "[[[HEAD(0x638e2b0)]]] -> (1, 0x638e028) -> (3, 0x681ae80) -> (4, 0x681ad60) -> (5, 0x5f834ce8) <- [[[TAIL(0x681ad60)]]]\n",
      "\n",
      "Before Insert:\n",
      "[[[HEAD(0x638e2b0)]]] -> (1, 0x638e028) -> (3, 0x681ae80) -> (4, 0x681ad60) -> (5, 0x5f834ce8) <- [[[TAIL(0x681ad60)]]]\n",
      "Node: (2, 0x5f834ce8) to be inserted at location: 2\n",
      "Inserting to nth position of linked list\n",
      "After Insert:\n",
      "[[[HEAD(0x638e2b0)]]] -> (1, 0x681aec8) -> (2, 0x638e028) -> (3, 0x681ae80) -> (4, 0x681ad60) -> (5, 0x5f834ce8) <- [[[TAIL(0x681ad60)]]]\n",
      "\n",
      "******************************************************************************************************************************************************\n"
     ]
    }
   ],
   "source": [
    "print('*'*150)\n",
    "print('Testing: Insertion to start of linked list\\n')\n",
    "\n",
    "sll = SingleLinkedList()\n",
    "sll.insert(1)\n",
    "sll.insert(3)\n",
    "sll.insert(5)\n",
    "\n",
    "print(f'\\nBefore Insert:\\n{sll}')\n",
    "sll.insert(4, 3)\n",
    "print(f'After Insert:\\n{sll}\\n')\n",
    "\n",
    "print(f'Before Insert:\\n{sll}')\n",
    "sll.insert(2, 2)\n",
    "print(f'After Insert:\\n{sll}\\n')\n",
    "\n",
    "print('*'*150)\n",
    "\n"
   ]
  },
  {
   "cell_type": "markdown",
   "metadata": {},
   "source": [
    "#### Traversal of linked list"
   ]
  },
  {
   "cell_type": "code",
   "execution_count": 7,
   "metadata": {},
   "outputs": [
    {
     "name": "stdout",
     "output_type": "stream",
     "text": [
      "******************************************************************************************************************************************************\n",
      "Testing: Traversal of linked list\n",
      "\n",
      "1 -> 2 -> 3 -> 4 -> 5 -> NULL\n",
      "\n",
      "******************************************************************************************************************************************************\n"
     ]
    }
   ],
   "source": [
    "print('*'*150)\n",
    "print('Testing: Traversal of linked list\\n')\n",
    "\n",
    "sll.traverse()\n",
    "\n",
    "print('*'*150)\n"
   ]
  },
  {
   "cell_type": "markdown",
   "metadata": {},
   "source": [
    "#### Searching for a value"
   ]
  },
  {
   "cell_type": "code",
   "execution_count": 8,
   "metadata": {},
   "outputs": [
    {
     "name": "stdout",
     "output_type": "stream",
     "text": [
      "******************************************************************************************************************************************************\n",
      "Testing: Traversal of linked list\n",
      "\n",
      "Index of 100 in empty list = -1\n",
      "\n",
      "sll = 1 -> 2 -> 3 -> 4 -> 5 -> NULL\n",
      "\n",
      "Index of 5 = 5\n",
      "Index of 100 = -1\n",
      "******************************************************************************************************************************************************\n"
     ]
    }
   ],
   "source": [
    "print('*'*150)\n",
    "print('Testing: Traversal of linked list\\n')\n",
    "\n",
    "print(f'Index of 100 in empty list = {SingleLinkedList().find_index(100)}\\n')\n",
    "\n",
    "print(f'sll = ', end='')\n",
    "sll.traverse()\n",
    "\n",
    "print(f'Index of 5 = {sll.find_index(5)}')\n",
    "print(f'Index of 100 = {sll.find_index(100)}')\n",
    "\n",
    "print('*'*150)"
   ]
  },
  {
   "cell_type": "markdown",
   "metadata": {},
   "source": [
    "#### Deletion when list has just 1 element"
   ]
  },
  {
   "cell_type": "code",
   "execution_count": 9,
   "metadata": {},
   "outputs": [
    {
     "name": "stdout",
     "output_type": "stream",
     "text": [
      "******************************************************************************************************************************************************\n",
      "Testing: Deletion when list has just 1 element\n",
      "\n",
      "Node: (123, 0x5f834ce8) to be inserted at location: -1\n",
      "Inserting to empty linked list\n",
      "\n",
      "Before Delete:\n",
      "[[[HEAD(0x638efb8)]]] -> (123, 0x5f834ce8) <- [[[TAIL(0x638efb8)]]]\n",
      "Deleting when linked list has only 1 element\n",
      "\n",
      "After Delete:\n",
      "The linked list is empty\n",
      "******************************************************************************************************************************************************\n"
     ]
    }
   ],
   "source": [
    "print('*'*150)\n",
    "print('Testing: Deletion when list has just 1 element\\n')\n",
    "\n",
    "sll = SingleLinkedList()\n",
    "sll.insert(123)\n",
    "\n",
    "print(f'\\nBefore Delete:\\n{sll}')\n",
    "sll.delete()\n",
    "print(f'\\nAfter Delete:\\n{sll}')\n",
    "\n",
    "print('*'*150)\n"
   ]
  },
  {
   "cell_type": "markdown",
   "metadata": {},
   "source": [
    "#### Deletion from first"
   ]
  },
  {
   "cell_type": "code",
   "execution_count": 10,
   "metadata": {},
   "outputs": [
    {
     "name": "stdout",
     "output_type": "stream",
     "text": [
      "******************************************************************************************************************************************************\n",
      "Testing: Deletion from first\n",
      "\n",
      "Node: (1, 0x5f834ce8) to be inserted at location: -1\n",
      "Inserting to empty linked list\n",
      "Node: (2, 0x5f834ce8) to be inserted at location: -1\n",
      "Inserting to last position of linked list\n",
      "Node: (3, 0x5f834ce8) to be inserted at location: -1\n",
      "Inserting to last position of linked list\n",
      "\n",
      "Before Delete:\n",
      "[[[HEAD(0x681aca0)]]] -> (1, 0x681aad8) -> (2, 0x681ac10) -> (3, 0x5f834ce8) <- [[[TAIL(0x681ac10)]]]\n",
      "Deleting from first when linked list has more than 1 element\n",
      "\n",
      "After Delete:\n",
      "[[[HEAD(0x681aad8)]]] -> (2, 0x681ac10) -> (3, 0x5f834ce8) <- [[[TAIL(0x681ac10)]]]\n",
      "\n",
      "Before Delete:\n",
      "[[[HEAD(0x681aad8)]]] -> (2, 0x681ac10) -> (3, 0x5f834ce8) <- [[[TAIL(0x681ac10)]]]\n",
      "Deleting from first when linked list has more than 1 element\n",
      "\n",
      "After Delete:\n",
      "[[[HEAD(0x681ac10)]]] -> (3, 0x5f834ce8) <- [[[TAIL(0x681ac10)]]]\n",
      "\n",
      "Before Delete:\n",
      "[[[HEAD(0x681ac10)]]] -> (3, 0x5f834ce8) <- [[[TAIL(0x681ac10)]]]\n",
      "Deleting when linked list has only 1 element\n",
      "\n",
      "After Delete:\n",
      "The linked list is empty\n",
      "******************************************************************************************************************************************************\n"
     ]
    }
   ],
   "source": [
    "print('*'*150)\n",
    "print('Testing: Deletion from first\\n')\n",
    "\n",
    "sll = SingleLinkedList()\n",
    "sll.insert(1)\n",
    "sll.insert(2)\n",
    "sll.insert(3)\n",
    "\n",
    "print(f'\\nBefore Delete:\\n{sll}')\n",
    "sll.delete(pos=1)\n",
    "print(f'\\nAfter Delete:\\n{sll}')\n",
    "\n",
    "print(f'\\nBefore Delete:\\n{sll}')\n",
    "sll.delete(pos=1)\n",
    "print(f'\\nAfter Delete:\\n{sll}')\n",
    "\n",
    "print(f'\\nBefore Delete:\\n{sll}')\n",
    "sll.delete(pos=1)\n",
    "print(f'\\nAfter Delete:\\n{sll}')\n",
    "\n",
    "print('*'*150)\n"
   ]
  },
  {
   "cell_type": "markdown",
   "metadata": {},
   "source": [
    "#### Deletion from last"
   ]
  },
  {
   "cell_type": "code",
   "execution_count": 11,
   "metadata": {},
   "outputs": [
    {
     "name": "stdout",
     "output_type": "stream",
     "text": [
      "******************************************************************************************************************************************************\n",
      "Testing: Deletion from last\n",
      "\n",
      "Node: (1, 0x5f834ce8) to be inserted at location: -1\n",
      "Inserting to empty linked list\n",
      "Node: (2, 0x5f834ce8) to be inserted at location: -1\n",
      "Inserting to last position of linked list\n",
      "Node: (3, 0x5f834ce8) to be inserted at location: -1\n",
      "Inserting to last position of linked list\n",
      "\n",
      "Before Delete:\n",
      "[[[HEAD(0x681a9d0)]]] -> (1, 0x681abf8) -> (2, 0x681a550) -> (3, 0x5f834ce8) <- [[[TAIL(0x681a550)]]]\n",
      "Deleting from last / nth when linked list has more than 1 element\n",
      "\n",
      "After Delete:\n",
      "[[[HEAD(0x681a9d0)]]] -> (1, 0x681abf8) -> (2, 0x5f834ce8) <- [[[TAIL(0x681abf8)]]]\n",
      "\n",
      "Before Delete:\n",
      "[[[HEAD(0x681a9d0)]]] -> (1, 0x681abf8) -> (2, 0x5f834ce8) <- [[[TAIL(0x681abf8)]]]\n",
      "Deleting from last / nth when linked list has more than 1 element\n",
      "\n",
      "After Delete:\n",
      "[[[HEAD(0x681a9d0)]]] -> (1, 0x5f834ce8) <- [[[TAIL(0x681a9d0)]]]\n",
      "\n",
      "Before Delete:\n",
      "[[[HEAD(0x681a9d0)]]] -> (1, 0x5f834ce8) <- [[[TAIL(0x681a9d0)]]]\n",
      "Deleting when linked list has only 1 element\n",
      "\n",
      "After Delete:\n",
      "The linked list is empty\n",
      "******************************************************************************************************************************************************\n"
     ]
    }
   ],
   "source": [
    "print('*'*150)\n",
    "print('Testing: Deletion from last\\n')\n",
    "\n",
    "sll = SingleLinkedList()\n",
    "sll.insert(1)\n",
    "sll.insert(2)\n",
    "sll.insert(3)\n",
    "\n",
    "print(f'\\nBefore Delete:\\n{sll}')\n",
    "sll.delete()\n",
    "print(f'\\nAfter Delete:\\n{sll}')\n",
    "\n",
    "print(f'\\nBefore Delete:\\n{sll}')\n",
    "sll.delete()\n",
    "print(f'\\nAfter Delete:\\n{sll}')\n",
    "\n",
    "print(f'\\nBefore Delete:\\n{sll}')\n",
    "sll.delete()\n",
    "print(f'\\nAfter Delete:\\n{sll}')\n",
    "\n",
    "print('*'*150)"
   ]
  },
  {
   "cell_type": "markdown",
   "metadata": {},
   "source": [
    "#### Delete from nth position"
   ]
  },
  {
   "cell_type": "code",
   "execution_count": 12,
   "metadata": {},
   "outputs": [
    {
     "name": "stdout",
     "output_type": "stream",
     "text": [
      "******************************************************************************************************************************************************\n",
      "Testing: Deletion from nth place\n",
      "\n",
      "Node: (1, 0x5f834ce8) to be inserted at location: -1\n",
      "Inserting to empty linked list\n",
      "Node: (2, 0x5f834ce8) to be inserted at location: -1\n",
      "Inserting to last position of linked list\n",
      "Node: (3, 0x5f834ce8) to be inserted at location: -1\n",
      "Inserting to last position of linked list\n",
      "\n",
      "Before Delete:\n",
      "[[[HEAD(0x681ae80)]]] -> (1, 0x681ab38) -> (2, 0x681a640) -> (3, 0x5f834ce8) <- [[[TAIL(0x681a640)]]]\n",
      "Deleting from last / nth when linked list has more than 1 element\n",
      "\n",
      "After Delete:\n",
      "[[[HEAD(0x681ae80)]]] -> (1, 0x681a640) -> (3, 0x5f834ce8) <- [[[TAIL(0x681a640)]]]\n",
      "\n",
      "Before Delete:\n",
      "[[[HEAD(0x681ae80)]]] -> (1, 0x681a640) -> (3, 0x5f834ce8) <- [[[TAIL(0x681a640)]]]\n",
      "Deleting from last / nth when linked list has more than 1 element\n",
      "\n",
      "After Delete:\n",
      "[[[HEAD(0x681ae80)]]] -> (1, 0x5f834ce8) <- [[[TAIL(0x681ae80)]]]\n",
      "******************************************************************************************************************************************************\n"
     ]
    }
   ],
   "source": [
    "print('*'*150)\n",
    "print('Testing: Deletion from nth place\\n')\n",
    "\n",
    "sll = SingleLinkedList()\n",
    "sll.insert(1)\n",
    "sll.insert(2)\n",
    "sll.insert(3)\n",
    "\n",
    "print(f'\\nBefore Delete:\\n{sll}')\n",
    "sll.delete(2)\n",
    "print(f'\\nAfter Delete:\\n{sll}')\n",
    "\n",
    "print(f'\\nBefore Delete:\\n{sll}')\n",
    "sll.delete(2)\n",
    "print(f'\\nAfter Delete:\\n{sll}')\n",
    "\n",
    "print('*'*150)"
   ]
  },
  {
   "cell_type": "markdown",
   "metadata": {},
   "source": [
    "## Circular Single Linked List"
   ]
  },
  {
   "cell_type": "markdown",
   "metadata": {},
   "source": [
    "### Code"
   ]
  },
  {
   "cell_type": "code",
   "execution_count": 13,
   "metadata": {},
   "outputs": [],
   "source": [
    "class Node:\n",
    "    def __init__(self, data):\n",
    "        self.data = data\n",
    "        self.next = None\n",
    "    \n",
    "    def __str__(self):\n",
    "        return f'({self.data}, {hex(id(self.next))})'\n"
   ]
  },
  {
   "cell_type": "code",
   "execution_count": 14,
   "metadata": {},
   "outputs": [],
   "source": [
    "class CircularSingleLinkedList:\n",
    "    def __init__(self):\n",
    "        self.head = None\n",
    "        self.tail = None\n",
    "        self.length = 0\n",
    "    \n",
    "    \n",
    "    def __str__(self):\n",
    "        if self.head:\n",
    "            result = f'[[[HEAD ({hex(id(self.head))})]]]'\n",
    "            current_node = self.head\n",
    "            while True:\n",
    "                result += f' -> {current_node}'\n",
    "                if current_node == self.tail:\n",
    "                    break\n",
    "                current_node = current_node.next\n",
    "            result += f' <- [[[TAIL({hex(id(self.tail))})]]]'\n",
    "            return result\n",
    "        else:\n",
    "            return \"Circular Single Linked List is empty!\"\n",
    "    \n",
    "\n",
    "    def insert(self, data, pos=-1):\n",
    "        node = Node(data)\n",
    "\n",
    "        if self.head is None:\n",
    "            #print('Inserting to empty linked list')\n",
    "            if pos not in [1, -1]:\n",
    "                raise IndexError(f\"The circular single linked list is empty. The value of pos should be 1 or -1\")\n",
    "            \n",
    "            self.head = node\n",
    "            self.tail = node\n",
    "            node.next = node\n",
    "\n",
    "        else:\n",
    "            if pos == 1:\n",
    "                #print('Inserting to first position of linked list')\n",
    "                node.next = self.head\n",
    "                self.head = node\n",
    "                self.tail.next = node \n",
    "            \n",
    "            elif pos == -1:\n",
    "                #print('Inserting to last position of linked list')\n",
    "                self.tail.next = node\n",
    "                self.tail = node\n",
    "                node.next = self.head\n",
    "            \n",
    "            else:\n",
    "                #print('Inserting to nth position of linked list')\n",
    "                if pos > self.length:\n",
    "                    raise IndexError(f\"The value of pos should be between 1 and {self.length}\")\n",
    "                \n",
    "                current_node = self.head\n",
    "                for i in range(1, pos-1):\n",
    "                    current_node = current_node.next\n",
    "                \n",
    "                node.next = current_node.next\n",
    "                current_node.next = node\n",
    "        \n",
    "        self.length += 1\n",
    "    \n",
    "\n",
    "    def traverse(self):\n",
    "        if self.head is None:\n",
    "            print(\"Circular Single Linked List is empty!\")\n",
    "        else:\n",
    "            current_node = self.head\n",
    "            while True:\n",
    "                if current_node ==  self.tail:\n",
    "                    print(current_node.data, end=' <-> ')\n",
    "                    break\n",
    "                else:\n",
    "                    print(current_node.data, end=' -> ')\n",
    "                current_node = current_node.next\n",
    "            print('\\n')\n",
    "    \n",
    "    \n",
    "    def find_index(self, search_data):\n",
    "        result = -1\n",
    "\n",
    "        if self.head:\n",
    "            current_node = self.head\n",
    "            idx = 1\n",
    "            while True:\n",
    "                if search_data == current_node.data:\n",
    "                    result = idx\n",
    "                    break\n",
    "\n",
    "                if current_node == self.tail:\n",
    "                    break\n",
    "\n",
    "                current_node = current_node.next\n",
    "                idx += 1\n",
    "        \n",
    "        return result\n",
    "    \n",
    "    def empty(self):\n",
    "        if self.head is None:\n",
    "            raise ValueError(\"Operation not permitted as linked list is empty!\")\n",
    "        \n",
    "        self.tail.next = None\n",
    "\n",
    "        self.head = None\n",
    "        self.tail = None\n",
    "        \n",
    "        self.length = 0\n",
    "\n",
    "\n",
    "    def delete(self, pos=-1):\n",
    "        if self.head is None:\n",
    "            raise ValueError(\"Operation not permitted as linked list is empty!\")\n",
    "        \n",
    "        if pos > self.length:\n",
    "            raise IndexError(f\"The value of pos should between 1 and {self.length}\")\n",
    "        \n",
    "        if pos in [1, -1] and self.head == self.tail:\n",
    "            print('Deleting when linked list has only 1 element')\n",
    "            self.tail.next = None\n",
    "\n",
    "            self.head = None\n",
    "            self.tail = None\n",
    "\n",
    "        elif pos == 1:\n",
    "            print('Deleting from first when linked list has more than 1 element')\n",
    "            self.head = self.head.next\n",
    "            \n",
    "            self.tail.next = self.head\n",
    "        \n",
    "        else:\n",
    "            print('Deleting from last / nth when linked list has more than 1 element')\n",
    "            previous_node = self.head\n",
    "            current_node = self.head.next\n",
    "            upper_bound = self.length if pos == -1 else pos\n",
    "            for i in range(1, upper_bound-1):\n",
    "                previous_node = previous_node.next\n",
    "                current_node = current_node.next\n",
    "            \n",
    "            if current_node == self.tail:\n",
    "                self.tail = previous_node\n",
    "            \n",
    "            previous_node.next = current_node.next\n",
    "            current_node.next = None\n",
    "            \n",
    "        self.length -= 1\n"
   ]
  },
  {
   "cell_type": "markdown",
   "metadata": {},
   "source": [
    "### Test"
   ]
  },
  {
   "cell_type": "markdown",
   "metadata": {},
   "source": [
    "#### Insertion to empty linked list"
   ]
  },
  {
   "cell_type": "code",
   "execution_count": 15,
   "metadata": {},
   "outputs": [
    {
     "name": "stdout",
     "output_type": "stream",
     "text": [
      "******************************************************************************************************************************************************\n",
      "Testing: Insertion to empty linked list\n",
      "\n",
      "Before Insert:\n",
      "Circular Single Linked List is empty!\n",
      "After Insert:\n",
      "[[[HEAD (0x683b9a0)]]] -> (1, 0x683b9a0) <- [[[TAIL(0x683b9a0)]]]\n",
      "\n",
      "******************************************************************************************************************************************************\n"
     ]
    }
   ],
   "source": [
    "print('*'*150)\n",
    "print('Testing: Insertion to empty linked list\\n')\n",
    "\n",
    "csll = CircularSingleLinkedList()\n",
    "print(f'Before Insert:\\n{csll}')\n",
    "csll.insert(1)\n",
    "print(f'After Insert:\\n{csll}\\n')\n",
    "\n",
    "print('*'*150)\n"
   ]
  },
  {
   "cell_type": "markdown",
   "metadata": {},
   "source": [
    "#### Insertion to end of linked list"
   ]
  },
  {
   "cell_type": "code",
   "execution_count": 16,
   "metadata": {},
   "outputs": [
    {
     "name": "stdout",
     "output_type": "stream",
     "text": [
      "******************************************************************************************************************************************************\n",
      "Testing: Insertion to end of linked list\n",
      "\n",
      "Before Insert:\n",
      "Circular Single Linked List is empty!\n",
      "After Insert:\n",
      "[[[HEAD (0x683b760)]]] -> (abc, 0x683b760) <- [[[TAIL(0x683b760)]]]\n",
      "\n",
      "Before Insert:\n",
      "[[[HEAD (0x683b760)]]] -> (abc, 0x683b760) <- [[[TAIL(0x683b760)]]]\n",
      "After Insert:\n",
      "[[[HEAD (0x683b760)]]] -> (abc, 0x683bee0) -> (123, 0x683b760) <- [[[TAIL(0x683bee0)]]]\n",
      "\n",
      "Before Insert:\n",
      "[[[HEAD (0x683b760)]]] -> (abc, 0x683bee0) -> (123, 0x683b760) <- [[[TAIL(0x683bee0)]]]\n",
      "After Insert:\n",
      "[[[HEAD (0x683b760)]]] -> (abc, 0x683bee0) -> (123, 0x681a3a0) -> (4.56, 0x683b760) <- [[[TAIL(0x681a3a0)]]]\n",
      "\n",
      "******************************************************************************************************************************************************\n"
     ]
    }
   ],
   "source": [
    "print('*'*150)\n",
    "print('Testing: Insertion to end of linked list\\n')\n",
    "\n",
    "csll = CircularSingleLinkedList()\n",
    "\n",
    "print(f'Before Insert:\\n{csll}')\n",
    "csll.insert('abc')\n",
    "print(f'After Insert:\\n{csll}\\n')\n",
    "\n",
    "print(f'Before Insert:\\n{csll}')\n",
    "csll.insert(123)\n",
    "print(f'After Insert:\\n{csll}\\n')\n",
    "\n",
    "print(f'Before Insert:\\n{csll}')\n",
    "csll.insert(4.56, -1)\n",
    "print(f'After Insert:\\n{csll}\\n')\n",
    "\n",
    "print('*'*150)"
   ]
  },
  {
   "cell_type": "markdown",
   "metadata": {},
   "source": [
    "#### Insertion to start of linked list"
   ]
  },
  {
   "cell_type": "code",
   "execution_count": 17,
   "metadata": {},
   "outputs": [
    {
     "name": "stdout",
     "output_type": "stream",
     "text": [
      "******************************************************************************************************************************************************\n",
      "Testing: Insertion to start of linked list\n",
      "\n",
      "Before Insert:\n",
      "Circular Single Linked List is empty!\n",
      "After Insert:\n",
      "[[[HEAD (0x683bf40)]]] -> (3, 0x683bf40) <- [[[TAIL(0x683bf40)]]]\n",
      "\n",
      "Before Insert:\n",
      "[[[HEAD (0x683bf40)]]] -> (3, 0x683bf40) <- [[[TAIL(0x683bf40)]]]\n",
      "After Insert:\n",
      "[[[HEAD (0x683b8f8)]]] -> (2, 0x683bf40) -> (3, 0x683b8f8) <- [[[TAIL(0x683bf40)]]]\n",
      "\n",
      "Before Insert:\n",
      "[[[HEAD (0x683b8f8)]]] -> (2, 0x683bf40) -> (3, 0x683b8f8) <- [[[TAIL(0x683bf40)]]]\n",
      "After Insert:\n",
      "[[[HEAD (0x681a4a8)]]] -> (1, 0x683b8f8) -> (2, 0x683bf40) -> (3, 0x681a4a8) <- [[[TAIL(0x683bf40)]]]\n",
      "\n",
      "******************************************************************************************************************************************************\n"
     ]
    }
   ],
   "source": [
    "print('*'*150)\n",
    "print('Testing: Insertion to start of linked list\\n')\n",
    "\n",
    "csll = CircularSingleLinkedList()\n",
    "\n",
    "print(f'Before Insert:\\n{csll}')\n",
    "csll.insert(3, 1)\n",
    "print(f'After Insert:\\n{csll}\\n')\n",
    "\n",
    "print(f'Before Insert:\\n{csll}')\n",
    "csll.insert(2, 1)\n",
    "print(f'After Insert:\\n{csll}\\n')\n",
    "\n",
    "print(f'Before Insert:\\n{csll}')\n",
    "csll.insert(1, 1)\n",
    "print(f'After Insert:\\n{csll}\\n')\n",
    "\n",
    "print('*'*150)\n"
   ]
  },
  {
   "cell_type": "markdown",
   "metadata": {},
   "source": [
    "#### Insertion in between linked list"
   ]
  },
  {
   "cell_type": "code",
   "execution_count": 18,
   "metadata": {},
   "outputs": [
    {
     "name": "stdout",
     "output_type": "stream",
     "text": [
      "******************************************************************************************************************************************************\n",
      "Testing: Insertion to start of linked list\n",
      "\n",
      "\n",
      "Before Insert:\n",
      "[[[HEAD (0x681ad48)]]] -> (1, 0x681af58) -> (3, 0x681abf8) -> (5, 0x681ad48) <- [[[TAIL(0x681abf8)]]]\n",
      "After Insert:\n",
      "[[[HEAD (0x681ad48)]]] -> (1, 0x681af58) -> (3, 0x681a928) -> (4, 0x681abf8) -> (5, 0x681ad48) <- [[[TAIL(0x681abf8)]]]\n",
      "\n",
      "Before Insert:\n",
      "[[[HEAD (0x681ad48)]]] -> (1, 0x681af58) -> (3, 0x681a928) -> (4, 0x681abf8) -> (5, 0x681ad48) <- [[[TAIL(0x681abf8)]]]\n",
      "After Insert:\n",
      "[[[HEAD (0x681ad48)]]] -> (1, 0x681a550) -> (2, 0x681af58) -> (3, 0x681a928) -> (4, 0x681abf8) -> (5, 0x681ad48) <- [[[TAIL(0x681abf8)]]]\n",
      "\n",
      "******************************************************************************************************************************************************\n"
     ]
    }
   ],
   "source": [
    "print('*'*150)\n",
    "print('Testing: Insertion to start of linked list\\n')\n",
    "\n",
    "csll = CircularSingleLinkedList()\n",
    "csll.insert(1)\n",
    "csll.insert(3)\n",
    "csll.insert(5)\n",
    "\n",
    "print(f'\\nBefore Insert:\\n{csll}')\n",
    "csll.insert(4, 3)\n",
    "print(f'After Insert:\\n{csll}\\n')\n",
    "\n",
    "print(f'Before Insert:\\n{csll}')\n",
    "csll.insert(2, 2)\n",
    "print(f'After Insert:\\n{csll}\\n')\n",
    "\n",
    "print('*'*150)\n",
    "\n"
   ]
  },
  {
   "cell_type": "markdown",
   "metadata": {},
   "source": [
    "#### Traversal of linked list"
   ]
  },
  {
   "cell_type": "code",
   "execution_count": 19,
   "metadata": {},
   "outputs": [
    {
     "name": "stdout",
     "output_type": "stream",
     "text": [
      "******************************************************************************************************************************************************\n",
      "Testing: Traversal of linked list\n",
      "\n",
      "1 -> 2 -> 3 -> 4 -> 5 <-> \n",
      "\n",
      "******************************************************************************************************************************************************\n"
     ]
    }
   ],
   "source": [
    "print('*'*150)\n",
    "print('Testing: Traversal of linked list\\n')\n",
    "\n",
    "csll.traverse()\n",
    "\n",
    "print('*'*150)\n"
   ]
  },
  {
   "cell_type": "markdown",
   "metadata": {},
   "source": [
    "#### Searching for a value"
   ]
  },
  {
   "cell_type": "code",
   "execution_count": 20,
   "metadata": {},
   "outputs": [
    {
     "name": "stdout",
     "output_type": "stream",
     "text": [
      "******************************************************************************************************************************************************\n",
      "Testing: Traversal of linked list\n",
      "\n",
      "Index of 100 in empty list = -1\n",
      "\n",
      "csll = 1 -> 2 -> 3 -> 4 -> 5 <-> \n",
      "\n",
      "Index of 5 = 5\n",
      "Index of 100 = -1\n",
      "******************************************************************************************************************************************************\n"
     ]
    }
   ],
   "source": [
    "print('*'*150)\n",
    "print('Testing: Traversal of linked list\\n')\n",
    "\n",
    "print(f'Index of 100 in empty list = {CircularSingleLinkedList().find_index(100)}\\n')\n",
    "\n",
    "print(f'csll = ', end='')\n",
    "csll.traverse()\n",
    "\n",
    "print(f'Index of 5 = {csll.find_index(5)}')\n",
    "print(f'Index of 100 = {csll.find_index(100)}')\n",
    "\n",
    "print('*'*150)"
   ]
  },
  {
   "cell_type": "markdown",
   "metadata": {},
   "source": [
    "#### Deletion when list has just 1 element"
   ]
  },
  {
   "cell_type": "code",
   "execution_count": 21,
   "metadata": {},
   "outputs": [
    {
     "name": "stdout",
     "output_type": "stream",
     "text": [
      "******************************************************************************************************************************************************\n",
      "Testing: Deletion when list has just 1 element\n",
      "\n",
      "\n",
      "Before Delete:\n",
      "[[[HEAD (0x681a1a8)]]] -> (123, 0x681a1a8) <- [[[TAIL(0x681a1a8)]]]\n",
      "Deleting when linked list has only 1 element\n",
      "\n",
      "After Delete:\n",
      "Circular Single Linked List is empty!\n",
      "******************************************************************************************************************************************************\n"
     ]
    }
   ],
   "source": [
    "print('*'*150)\n",
    "print('Testing: Deletion when list has just 1 element\\n')\n",
    "\n",
    "csll = CircularSingleLinkedList()\n",
    "csll.insert(123)\n",
    "\n",
    "print(f'\\nBefore Delete:\\n{csll}')\n",
    "csll.delete()\n",
    "print(f'\\nAfter Delete:\\n{csll}')\n",
    "\n",
    "print('*'*150)\n"
   ]
  },
  {
   "cell_type": "markdown",
   "metadata": {},
   "source": [
    "#### Deletion from first"
   ]
  },
  {
   "cell_type": "code",
   "execution_count": 22,
   "metadata": {},
   "outputs": [
    {
     "name": "stdout",
     "output_type": "stream",
     "text": [
      "******************************************************************************************************************************************************\n",
      "Testing: Deletion from first\n",
      "\n",
      "\n",
      "Before Delete:\n",
      "[[[HEAD (0x681a3a0)]]] -> (1, 0x681a790) -> (2, 0x681a190) -> (3, 0x681a3a0) <- [[[TAIL(0x681a190)]]]\n",
      "Deleting from first when linked list has more than 1 element\n",
      "\n",
      "After Delete:\n",
      "[[[HEAD (0x681a790)]]] -> (2, 0x681a190) -> (3, 0x681a790) <- [[[TAIL(0x681a190)]]]\n",
      "\n",
      "Before Delete:\n",
      "[[[HEAD (0x681a790)]]] -> (2, 0x681a190) -> (3, 0x681a790) <- [[[TAIL(0x681a190)]]]\n",
      "Deleting from first when linked list has more than 1 element\n",
      "\n",
      "After Delete:\n",
      "[[[HEAD (0x681a190)]]] -> (3, 0x681a190) <- [[[TAIL(0x681a190)]]]\n",
      "\n",
      "Before Delete:\n",
      "[[[HEAD (0x681a190)]]] -> (3, 0x681a190) <- [[[TAIL(0x681a190)]]]\n",
      "Deleting when linked list has only 1 element\n",
      "\n",
      "After Delete:\n",
      "Circular Single Linked List is empty!\n",
      "******************************************************************************************************************************************************\n"
     ]
    }
   ],
   "source": [
    "print('*'*150)\n",
    "print('Testing: Deletion from first\\n')\n",
    "\n",
    "csll = CircularSingleLinkedList()\n",
    "csll.insert(1)\n",
    "csll.insert(2)\n",
    "csll.insert(3)\n",
    "\n",
    "print(f'\\nBefore Delete:\\n{csll}')\n",
    "csll.delete(pos=1)\n",
    "print(f'\\nAfter Delete:\\n{csll}')\n",
    "\n",
    "print(f'\\nBefore Delete:\\n{csll}')\n",
    "csll.delete(pos=1)\n",
    "print(f'\\nAfter Delete:\\n{csll}')\n",
    "\n",
    "print(f'\\nBefore Delete:\\n{csll}')\n",
    "csll.delete(pos=1)\n",
    "print(f'\\nAfter Delete:\\n{csll}')\n",
    "\n",
    "print('*'*150)\n"
   ]
  },
  {
   "cell_type": "markdown",
   "metadata": {},
   "source": [
    "#### Deletion from last"
   ]
  },
  {
   "cell_type": "code",
   "execution_count": 23,
   "metadata": {},
   "outputs": [
    {
     "name": "stdout",
     "output_type": "stream",
     "text": [
      "******************************************************************************************************************************************************\n",
      "Testing: Deletion from last\n",
      "\n",
      "\n",
      "Before Delete:\n",
      "[[[HEAD (0x681aa00)]]] -> (1, 0x681a970) -> (2, 0x681ae38) -> (3, 0x681aa00) <- [[[TAIL(0x681ae38)]]]\n",
      "Deleting from last / nth when linked list has more than 1 element\n",
      "\n",
      "After Delete:\n",
      "[[[HEAD (0x681aa00)]]] -> (1, 0x681a970) -> (2, 0x681aa00) <- [[[TAIL(0x681a970)]]]\n",
      "\n",
      "Before Delete:\n",
      "[[[HEAD (0x681aa00)]]] -> (1, 0x681a970) -> (2, 0x681aa00) <- [[[TAIL(0x681a970)]]]\n",
      "Deleting from last / nth when linked list has more than 1 element\n",
      "\n",
      "After Delete:\n",
      "[[[HEAD (0x681aa00)]]] -> (1, 0x681aa00) <- [[[TAIL(0x681aa00)]]]\n",
      "\n",
      "Before Delete:\n",
      "[[[HEAD (0x681aa00)]]] -> (1, 0x681aa00) <- [[[TAIL(0x681aa00)]]]\n",
      "Deleting when linked list has only 1 element\n",
      "\n",
      "After Delete:\n",
      "Circular Single Linked List is empty!\n",
      "******************************************************************************************************************************************************\n"
     ]
    }
   ],
   "source": [
    "print('*'*150)\n",
    "print('Testing: Deletion from last\\n')\n",
    "\n",
    "csll = CircularSingleLinkedList()\n",
    "csll.insert(1)\n",
    "csll.insert(2)\n",
    "csll.insert(3)\n",
    "\n",
    "print(f'\\nBefore Delete:\\n{csll}')\n",
    "csll.delete()\n",
    "print(f'\\nAfter Delete:\\n{csll}')\n",
    "\n",
    "print(f'\\nBefore Delete:\\n{csll}')\n",
    "csll.delete()\n",
    "print(f'\\nAfter Delete:\\n{csll}')\n",
    "\n",
    "print(f'\\nBefore Delete:\\n{csll}')\n",
    "csll.delete()\n",
    "print(f'\\nAfter Delete:\\n{csll}')\n",
    "\n",
    "print('*'*150)"
   ]
  },
  {
   "cell_type": "markdown",
   "metadata": {},
   "source": [
    "#### Delete from nth position"
   ]
  },
  {
   "cell_type": "code",
   "execution_count": 24,
   "metadata": {},
   "outputs": [
    {
     "name": "stdout",
     "output_type": "stream",
     "text": [
      "******************************************************************************************************************************************************\n",
      "Testing: Deletion from nth place\n",
      "\n",
      "\n",
      "Before Delete:\n",
      "[[[HEAD (0x681a6a0)]]] -> (1, 0x681a9e8) -> (2, 0x681ad30) -> (3, 0x681a6a0) <- [[[TAIL(0x681ad30)]]]\n",
      "Deleting from last / nth when linked list has more than 1 element\n",
      "\n",
      "After Delete:\n",
      "[[[HEAD (0x681a6a0)]]] -> (1, 0x681ad30) -> (3, 0x681a6a0) <- [[[TAIL(0x681ad30)]]]\n",
      "\n",
      "Before Delete:\n",
      "[[[HEAD (0x681a6a0)]]] -> (1, 0x681ad30) -> (3, 0x681a6a0) <- [[[TAIL(0x681ad30)]]]\n",
      "Deleting from last / nth when linked list has more than 1 element\n",
      "\n",
      "After Delete:\n",
      "[[[HEAD (0x681a6a0)]]] -> (1, 0x681a6a0) <- [[[TAIL(0x681a6a0)]]]\n",
      "******************************************************************************************************************************************************\n"
     ]
    }
   ],
   "source": [
    "print('*'*150)\n",
    "print('Testing: Deletion from nth place\\n')\n",
    "\n",
    "csll = CircularSingleLinkedList()\n",
    "csll.insert(1)\n",
    "csll.insert(2)\n",
    "csll.insert(3)\n",
    "\n",
    "print(f'\\nBefore Delete:\\n{csll}')\n",
    "csll.delete(2)\n",
    "print(f'\\nAfter Delete:\\n{csll}')\n",
    "\n",
    "print(f'\\nBefore Delete:\\n{csll}')\n",
    "csll.delete(2)\n",
    "print(f'\\nAfter Delete:\\n{csll}')\n",
    "\n",
    "print('*'*150)"
   ]
  },
  {
   "cell_type": "markdown",
   "metadata": {},
   "source": [
    "## Double Linked List"
   ]
  },
  {
   "cell_type": "markdown",
   "metadata": {},
   "source": [
    "### Code"
   ]
  },
  {
   "cell_type": "code",
   "execution_count": 25,
   "metadata": {},
   "outputs": [],
   "source": [
    "class Node:\n",
    "    def __init__(self, data):\n",
    "        self.prev = None\n",
    "        self.data = data\n",
    "        self.next = None\n",
    "    \n",
    "    def __str__(self):\n",
    "        return f'({hex(id(self.prev))}, {self.data}, {hex(id(self.next))})'\n"
   ]
  },
  {
   "cell_type": "code",
   "execution_count": 26,
   "metadata": {},
   "outputs": [],
   "source": [
    "class DoubleLinkedList:\n",
    "    def __init__(self):\n",
    "        self.head = None\n",
    "        self.tail = None\n",
    "        self.length = 0\n",
    "    \n",
    "\n",
    "    def __str__(self):\n",
    "        if self.head:\n",
    "            result = f'[HEAD({hex(id(self.head))})] -> '\n",
    "            current_node = self.head\n",
    "            while current_node:\n",
    "                if current_node == self.tail:\n",
    "                    result += f'{current_node} <- [TAIL({hex(id(self.tail))})]'\n",
    "                else:\n",
    "                    result += f'{current_node} <-> '\n",
    "                \n",
    "                current_node = current_node.next\n",
    "            return result\n",
    "        else:\n",
    "            return  \"Double Linked List is empty!\"\n",
    "    \n",
    "\n",
    "    def insert(self, data, pos=-1):\n",
    "        node = Node(data)\n",
    "\n",
    "        if self.head is None:\n",
    "            print('Inserting to empty double linked list')\n",
    "            if pos not in [1, -1]:\n",
    "                raise IndexError(f\"The double linked list is empty. The value of pos should be 1 or -1\")\n",
    "            \n",
    "            self.head = node\n",
    "            self.tail = node\n",
    "        \n",
    "        else:\n",
    "            if pos == 1:\n",
    "                print('Inserting to first position of double linked list')\n",
    "                self.head.prev = node\n",
    "                node.next = self.head\n",
    "                self.head = node\n",
    "\n",
    "            elif pos == -1:\n",
    "                print('Inserting to last position of double linked list')\n",
    "                self.tail.next = node\n",
    "                node.prev = self.tail\n",
    "                self.tail = node\n",
    "\n",
    "            else:\n",
    "                print('Inserting to nth position of linked list')\n",
    "                if pos > self.length:\n",
    "                    raise IndexError(f\"The value of pos should be between 1 and {self.length}\")\n",
    "                \n",
    "                previous_node = self.head\n",
    "                current_node = self.head.next\n",
    "                for i in range(1, pos-1):\n",
    "                    previous_node = previous_node.next\n",
    "                    current_node = current_node.next\n",
    "                \n",
    "                node.prev = previous_node\n",
    "                node.next = current_node\n",
    "                previous_node.next = node\n",
    "                current_node.prev = node\n",
    "        \n",
    "        self.length += 1\n",
    "    \n",
    "\n",
    "    def traverse(self):\n",
    "        if self.head:\n",
    "            print('NULL', end=' -> ')\n",
    "            current_node = self.head\n",
    "            while current_node:\n",
    "                if current_node == self.tail:\n",
    "                    print(f'{current_node.data} -> NULL')\n",
    "                else:\n",
    "                    print(current_node.data, end=' <-> ')\n",
    "                \n",
    "                current_node = current_node.next\n",
    "            \n",
    "        else:\n",
    "            print(\"Double Linked List is empty!\")\n",
    "    \n",
    "\n",
    "    def traverse_backwards(self):\n",
    "        if self.head:\n",
    "            print('NULL', end=' -> ')\n",
    "            current_node = self.tail\n",
    "            while current_node:\n",
    "                if current_node == self.head:\n",
    "                    print(f'{current_node.data} -> NULL')\n",
    "                else:\n",
    "                    print(current_node.data, end=' <-> ')\n",
    "                \n",
    "                current_node = current_node.prev\n",
    "            \n",
    "        else:\n",
    "            print(\"Double Linked List is empty!\")\n",
    "    \n",
    "\n",
    "    def find_index(self, search_data):\n",
    "        result = -1\n",
    "\n",
    "        if self.head:\n",
    "            current_node = self.head\n",
    "            idx = 1\n",
    "            while current_node:\n",
    "                if search_data == current_node.data:\n",
    "                    result = idx\n",
    "                    break\n",
    "\n",
    "                if current_node == self.tail:\n",
    "                    break\n",
    "\n",
    "                current_node = current_node.next\n",
    "                idx += 1\n",
    "        \n",
    "        return result\n",
    "    \n",
    "\n",
    "    def empty(self):\n",
    "        if self.head is None:\n",
    "            raise ValueError(\"Operation not permitted as double linked list is empty!\")\n",
    "        \n",
    "        current_node = self.head\n",
    "        while current_node:\n",
    "            current_node.prev = None\n",
    "            current_node = current_node.next\n",
    "        \n",
    "        self.head = None\n",
    "        self.tail = None\n",
    "        \n",
    "        self.length = 0\n",
    "    \n",
    "\n",
    "    def delete(self, pos=-1):\n",
    "        if self.head is None:\n",
    "            raise ValueError(\"Operation not permitted as double linked list is empty!\")\n",
    "        \n",
    "        if pos > self.length:\n",
    "            raise IndexError(f\"The value of pos should between 1 and {self.length}\")\n",
    "        \n",
    "        if pos in [1, -1] and self.head == self.tail:\n",
    "            print('Deleting when double linked list has only 1 element')\n",
    "            self.head = None\n",
    "            self.tail = None\n",
    "        \n",
    "        elif pos == 1:\n",
    "            print('Deleting from first when double linked list has more than 1 element')\n",
    "            self.head = self.head.next\n",
    "            self.head.prev = None\n",
    "\n",
    "        elif pos == -1:\n",
    "            print('Deleting from last when double linked list has more than 1 element')\n",
    "            self.tail = self.tail.prev\n",
    "            self.tail.next = None\n",
    "        \n",
    "        else:\n",
    "            print('Deleting the nth when double linked list has more than 1 element')\n",
    "            previous_node = self.head\n",
    "            current_node = self.head.next\n",
    "            for i in range(1, pos-1): \n",
    "                previous_node = previous_node.next\n",
    "                current_node = current_node.next\n",
    "            \n",
    "            previous_node.next = current_node.next\n",
    "\n",
    "            if current_node == self.tail:\n",
    "                self.tail =  previous_node\n",
    "            else:\n",
    "                current_node.next.prev = previous_node\n",
    "        \n",
    "        self.length -= 1\n",
    "        \n",
    "        \n"
   ]
  },
  {
   "cell_type": "markdown",
   "metadata": {},
   "source": [
    "### Test"
   ]
  },
  {
   "cell_type": "markdown",
   "metadata": {},
   "source": [
    "#### Insertion to empty double linked list"
   ]
  },
  {
   "cell_type": "code",
   "execution_count": 27,
   "metadata": {},
   "outputs": [
    {
     "name": "stdout",
     "output_type": "stream",
     "text": [
      "******************************************************************************************************************************************************\n",
      "Testing: Insertion to empty linked list\n",
      "\n",
      "Before Insert:\n",
      "Double Linked List is empty!\n",
      "Inserting to empty double linked list\n",
      "After Insert:\n",
      "[HEAD(0x683b070)] -> (0x5f834ce8, 1, 0x5f834ce8) <- [TAIL(0x683b070)]\n",
      "\n",
      "******************************************************************************************************************************************************\n"
     ]
    }
   ],
   "source": [
    "print('*'*150)\n",
    "print('Testing: Insertion to empty linked list\\n')\n",
    "\n",
    "dll = DoubleLinkedList()\n",
    "print(f'Before Insert:\\n{dll}')\n",
    "dll.insert(1)\n",
    "print(f'After Insert:\\n{dll}\\n')\n",
    "\n",
    "print('*'*150)\n"
   ]
  },
  {
   "cell_type": "markdown",
   "metadata": {},
   "source": [
    "#### Insertion to end of double linked list"
   ]
  },
  {
   "cell_type": "code",
   "execution_count": 28,
   "metadata": {},
   "outputs": [
    {
     "name": "stdout",
     "output_type": "stream",
     "text": [
      "******************************************************************************************************************************************************\n",
      "Testing: Insertion to end of linked list\n",
      "\n",
      "Before Insert:\n",
      "Double Linked List is empty!\n",
      "Inserting to empty double linked list\n",
      "After Insert:\n",
      "[HEAD(0x683b730)] -> (0x5f834ce8, abc, 0x5f834ce8) <- [TAIL(0x683b730)]\n",
      "\n",
      "Before Insert:\n",
      "[HEAD(0x683b730)] -> (0x5f834ce8, abc, 0x5f834ce8) <- [TAIL(0x683b730)]\n",
      "Inserting to last position of double linked list\n",
      "After Insert:\n",
      "[HEAD(0x683b730)] -> (0x5f834ce8, abc, 0x6377bb0) <-> (0x683b730, 123, 0x5f834ce8) <- [TAIL(0x6377bb0)]\n",
      "\n",
      "Before Insert:\n",
      "[HEAD(0x683b730)] -> (0x5f834ce8, abc, 0x6377bb0) <-> (0x683b730, 123, 0x5f834ce8) <- [TAIL(0x6377bb0)]\n",
      "Inserting to last position of double linked list\n",
      "After Insert:\n",
      "[HEAD(0x683b730)] -> (0x5f834ce8, abc, 0x6377bb0) <-> (0x683b730, 123, 0x683ae20) <-> (0x6377bb0, 4.56, 0x5f834ce8) <- [TAIL(0x683ae20)]\n",
      "\n",
      "******************************************************************************************************************************************************\n"
     ]
    }
   ],
   "source": [
    "print('*'*150)\n",
    "print('Testing: Insertion to end of linked list\\n')\n",
    "\n",
    "dll = DoubleLinkedList()\n",
    "\n",
    "print(f'Before Insert:\\n{dll}')\n",
    "dll.insert('abc')\n",
    "print(f'After Insert:\\n{dll}\\n')\n",
    "\n",
    "print(f'Before Insert:\\n{dll}')\n",
    "dll.insert(123, -1)\n",
    "print(f'After Insert:\\n{dll}\\n')\n",
    "\n",
    "print(f'Before Insert:\\n{dll}')\n",
    "dll.insert(4.56, -1)\n",
    "print(f'After Insert:\\n{dll}\\n')\n",
    "\n",
    "print('*'*150)\n"
   ]
  },
  {
   "cell_type": "markdown",
   "metadata": {},
   "source": [
    "#### Insertion to start of double linked list"
   ]
  },
  {
   "cell_type": "code",
   "execution_count": 29,
   "metadata": {},
   "outputs": [
    {
     "name": "stdout",
     "output_type": "stream",
     "text": [
      "******************************************************************************************************************************************************\n",
      "Testing: Insertion to start of linked list\n",
      "\n",
      "Before Insert:\n",
      "Double Linked List is empty!\n",
      "Inserting to empty double linked list\n",
      "After Insert:\n",
      "[HEAD(0x638e298)] -> (0x5f834ce8, 3, 0x5f834ce8) <- [TAIL(0x638e298)]\n",
      "\n",
      "Before Insert:\n",
      "[HEAD(0x638e298)] -> (0x5f834ce8, 3, 0x5f834ce8) <- [TAIL(0x638e298)]\n",
      "Inserting to first position of double linked list\n",
      "After Insert:\n",
      "[HEAD(0x683ad00)] -> (0x5f834ce8, 2, 0x638e298) <-> (0x683ad00, 3, 0x5f834ce8) <- [TAIL(0x638e298)]\n",
      "\n",
      "Before Insert:\n",
      "[HEAD(0x683ad00)] -> (0x5f834ce8, 2, 0x638e298) <-> (0x683ad00, 3, 0x5f834ce8) <- [TAIL(0x638e298)]\n",
      "Inserting to first position of double linked list\n",
      "After Insert:\n",
      "[HEAD(0x683a598)] -> (0x5f834ce8, 1, 0x683ad00) <-> (0x683a598, 2, 0x638e298) <-> (0x683ad00, 3, 0x5f834ce8) <- [TAIL(0x638e298)]\n",
      "\n",
      "******************************************************************************************************************************************************\n"
     ]
    }
   ],
   "source": [
    "print('*'*150)\n",
    "print('Testing: Insertion to start of linked list\\n')\n",
    "\n",
    "dll = DoubleLinkedList()\n",
    "\n",
    "print(f'Before Insert:\\n{dll}')\n",
    "dll.insert(3, 1)\n",
    "print(f'After Insert:\\n{dll}\\n')\n",
    "\n",
    "print(f'Before Insert:\\n{dll}')\n",
    "dll.insert(2, 1)\n",
    "print(f'After Insert:\\n{dll}\\n')\n",
    "\n",
    "print(f'Before Insert:\\n{dll}')\n",
    "dll.insert(1, 1)\n",
    "print(f'After Insert:\\n{dll}\\n')\n",
    "\n",
    "print('*'*150)\n"
   ]
  },
  {
   "cell_type": "markdown",
   "metadata": {},
   "source": [
    "#### Insertion in between double linked list"
   ]
  },
  {
   "cell_type": "code",
   "execution_count": 30,
   "metadata": {},
   "outputs": [
    {
     "name": "stdout",
     "output_type": "stream",
     "text": [
      "******************************************************************************************************************************************************\n",
      "Testing: Insertion to start of linked list\n",
      "\n",
      "Inserting to empty double linked list\n",
      "Inserting to last position of double linked list\n",
      "Inserting to last position of double linked list\n",
      "\n",
      "Before Insert:\n",
      "[HEAD(0x683a610)] -> (0x5f834ce8, 1, 0x638e238) <-> (0x683a610, 3, 0x683a5b0) <-> (0x638e238, 5, 0x5f834ce8) <- [TAIL(0x683a5b0)]\n",
      "Inserting to nth position of linked list\n",
      "After Insert:\n",
      "[HEAD(0x683a610)] -> (0x5f834ce8, 1, 0x638e238) <-> (0x683a610, 3, 0x4e38a48) <-> (0x638e238, 4, 0x683a5b0) <-> (0x4e38a48, 5, 0x5f834ce8) <- [TAIL(0x683a5b0)]\n",
      "\n",
      "Before Insert:\n",
      "[HEAD(0x683a610)] -> (0x5f834ce8, 1, 0x638e238) <-> (0x683a610, 3, 0x4e38a48) <-> (0x638e238, 4, 0x683a5b0) <-> (0x4e38a48, 5, 0x5f834ce8) <- [TAIL(0x683a5b0)]\n",
      "Inserting to nth position of linked list\n",
      "After Insert:\n",
      "[HEAD(0x683a610)] -> (0x5f834ce8, 1, 0x683a580) <-> (0x683a610, 2, 0x638e238) <-> (0x683a580, 3, 0x4e38a48) <-> (0x638e238, 4, 0x683a5b0) <-> (0x4e38a48, 5, 0x5f834ce8) <- [TAIL(0x683a5b0)]\n",
      "\n",
      "******************************************************************************************************************************************************\n"
     ]
    }
   ],
   "source": [
    "print('*'*150)\n",
    "print('Testing: Insertion to start of linked list\\n')\n",
    "\n",
    "dll = DoubleLinkedList()\n",
    "dll.insert(1)\n",
    "dll.insert(3)\n",
    "dll.insert(5)\n",
    "\n",
    "print(f'\\nBefore Insert:\\n{dll}')\n",
    "dll.insert(4, 3)\n",
    "print(f'After Insert:\\n{dll}\\n')\n",
    "\n",
    "print(f'Before Insert:\\n{dll}')\n",
    "dll.insert(2, 2)\n",
    "print(f'After Insert:\\n{dll}\\n')\n",
    "\n",
    "print('*'*150)\n"
   ]
  },
  {
   "cell_type": "markdown",
   "metadata": {},
   "source": [
    "#### Traversal of double linked list"
   ]
  },
  {
   "cell_type": "code",
   "execution_count": 31,
   "metadata": {},
   "outputs": [
    {
     "name": "stdout",
     "output_type": "stream",
     "text": [
      "******************************************************************************************************************************************************\n",
      "Testing: Traversal of linked list\n",
      "\n",
      "NULL -> 1 <-> 2 <-> 3 <-> 4 <-> 5 -> NULL\n",
      "NULL -> 5 <-> 4 <-> 3 <-> 2 <-> 1 -> NULL\n",
      "******************************************************************************************************************************************************\n"
     ]
    }
   ],
   "source": [
    "print('*'*150)\n",
    "print('Testing: Traversal of linked list\\n')\n",
    "\n",
    "dll.traverse()\n",
    "dll.traverse_backwards()\n",
    "\n",
    "print('*'*150)\n"
   ]
  },
  {
   "cell_type": "markdown",
   "metadata": {},
   "source": [
    "#### Searching for a value"
   ]
  },
  {
   "cell_type": "code",
   "execution_count": 32,
   "metadata": {},
   "outputs": [
    {
     "name": "stdout",
     "output_type": "stream",
     "text": [
      "******************************************************************************************************************************************************\n",
      "Testing: Traversal of linked list\n",
      "\n",
      "Index of 100 in empty list = -1\n",
      "\n",
      "dll = NULL -> 1 <-> 2 <-> 3 <-> 4 <-> 5 -> NULL\n",
      "Index of 5 = 5\n",
      "Index of 100 = -1\n",
      "******************************************************************************************************************************************************\n"
     ]
    }
   ],
   "source": [
    "print('*'*150)\n",
    "print('Testing: Traversal of linked list\\n')\n",
    "\n",
    "print(f'Index of 100 in empty list = {DoubleLinkedList().find_index(100)}\\n')\n",
    "\n",
    "print(f'dll = ', end='')\n",
    "dll.traverse()\n",
    "\n",
    "print(f'Index of 5 = {dll.find_index(5)}')\n",
    "print(f'Index of 100 = {dll.find_index(100)}')\n",
    "\n",
    "print('*'*150)"
   ]
  },
  {
   "cell_type": "markdown",
   "metadata": {},
   "source": [
    "#### Deletion when list has just 1 element"
   ]
  },
  {
   "cell_type": "code",
   "execution_count": 33,
   "metadata": {},
   "outputs": [
    {
     "name": "stdout",
     "output_type": "stream",
     "text": [
      "******************************************************************************************************************************************************\n",
      "Testing: Deletion when list has just 1 element\n",
      "\n",
      "Inserting to empty double linked list\n",
      "\n",
      "Before Delete:\n",
      "[HEAD(0x683bd78)] -> (0x5f834ce8, 123, 0x5f834ce8) <- [TAIL(0x683bd78)]\n",
      "Deleting when double linked list has only 1 element\n",
      "\n",
      "After Delete:\n",
      "Double Linked List is empty!\n",
      "******************************************************************************************************************************************************\n"
     ]
    }
   ],
   "source": [
    "print('*'*150)\n",
    "print('Testing: Deletion when list has just 1 element\\n')\n",
    "\n",
    "dll = DoubleLinkedList()\n",
    "dll.insert(123)\n",
    "\n",
    "print(f'\\nBefore Delete:\\n{dll}')\n",
    "dll.delete()\n",
    "print(f'\\nAfter Delete:\\n{dll}')\n",
    "\n",
    "print('*'*150)\n"
   ]
  },
  {
   "cell_type": "markdown",
   "metadata": {},
   "source": [
    "#### Deletion from first"
   ]
  },
  {
   "cell_type": "code",
   "execution_count": 34,
   "metadata": {},
   "outputs": [
    {
     "name": "stdout",
     "output_type": "stream",
     "text": [
      "******************************************************************************************************************************************************\n",
      "Testing: Deletion from first\n",
      "\n",
      "Inserting to empty double linked list\n",
      "Inserting to last position of double linked list\n",
      "Inserting to last position of double linked list\n",
      "\n",
      "Before Delete:\n",
      "[HEAD(0x683a730)] -> (0x5f834ce8, 1, 0x683b970) <-> (0x683a730, 2, 0x683a958) <-> (0x683b970, 3, 0x5f834ce8) <- [TAIL(0x683a958)]\n",
      "Deleting from first when double linked list has more than 1 element\n",
      "\n",
      "After Delete:\n",
      "[HEAD(0x683b970)] -> (0x5f834ce8, 2, 0x683a958) <-> (0x683b970, 3, 0x5f834ce8) <- [TAIL(0x683a958)]\n",
      "\n",
      "Before Delete:\n",
      "[HEAD(0x683b970)] -> (0x5f834ce8, 2, 0x683a958) <-> (0x683b970, 3, 0x5f834ce8) <- [TAIL(0x683a958)]\n",
      "Deleting from first when double linked list has more than 1 element\n",
      "\n",
      "After Delete:\n",
      "[HEAD(0x683a958)] -> (0x5f834ce8, 3, 0x5f834ce8) <- [TAIL(0x683a958)]\n",
      "\n",
      "Before Delete:\n",
      "[HEAD(0x683a958)] -> (0x5f834ce8, 3, 0x5f834ce8) <- [TAIL(0x683a958)]\n",
      "Deleting when double linked list has only 1 element\n",
      "\n",
      "After Delete:\n",
      "Double Linked List is empty!\n",
      "******************************************************************************************************************************************************\n"
     ]
    }
   ],
   "source": [
    "print('*'*150)\n",
    "print('Testing: Deletion from first\\n')\n",
    "\n",
    "dll = DoubleLinkedList()\n",
    "dll.insert(1)\n",
    "dll.insert(2)\n",
    "dll.insert(3)\n",
    "\n",
    "print(f'\\nBefore Delete:\\n{dll}')\n",
    "dll.delete(pos=1)\n",
    "print(f'\\nAfter Delete:\\n{dll}')\n",
    "\n",
    "print(f'\\nBefore Delete:\\n{dll}')\n",
    "dll.delete(pos=1)\n",
    "print(f'\\nAfter Delete:\\n{dll}')\n",
    "\n",
    "print(f'\\nBefore Delete:\\n{dll}')\n",
    "dll.delete(pos=1)\n",
    "print(f'\\nAfter Delete:\\n{dll}')\n",
    "\n",
    "print('*'*150)\n"
   ]
  },
  {
   "cell_type": "markdown",
   "metadata": {},
   "source": [
    "#### Deletion from last"
   ]
  },
  {
   "cell_type": "code",
   "execution_count": 35,
   "metadata": {},
   "outputs": [
    {
     "name": "stdout",
     "output_type": "stream",
     "text": [
      "******************************************************************************************************************************************************\n",
      "Testing: Deletion from last\n",
      "\n",
      "Inserting to empty double linked list\n",
      "Inserting to last position of double linked list\n",
      "Inserting to last position of double linked list\n",
      "\n",
      "Before Delete:\n",
      "[HEAD(0x683ae38)] -> (0x5f834ce8, 1, 0x683aac0) <-> (0x683ae38, 2, 0x683a688) <-> (0x683aac0, 3, 0x5f834ce8) <- [TAIL(0x683a688)]\n",
      "Deleting from last when double linked list has more than 1 element\n",
      "\n",
      "After Delete:\n",
      "[HEAD(0x683ae38)] -> (0x5f834ce8, 1, 0x683aac0) <-> (0x683ae38, 2, 0x5f834ce8) <- [TAIL(0x683aac0)]\n",
      "\n",
      "Before Delete:\n",
      "[HEAD(0x683ae38)] -> (0x5f834ce8, 1, 0x683aac0) <-> (0x683ae38, 2, 0x5f834ce8) <- [TAIL(0x683aac0)]\n",
      "Deleting from last when double linked list has more than 1 element\n",
      "\n",
      "After Delete:\n",
      "[HEAD(0x683ae38)] -> (0x5f834ce8, 1, 0x5f834ce8) <- [TAIL(0x683ae38)]\n",
      "\n",
      "Before Delete:\n",
      "[HEAD(0x683ae38)] -> (0x5f834ce8, 1, 0x5f834ce8) <- [TAIL(0x683ae38)]\n",
      "Deleting when double linked list has only 1 element\n",
      "\n",
      "After Delete:\n",
      "Double Linked List is empty!\n",
      "******************************************************************************************************************************************************\n"
     ]
    }
   ],
   "source": [
    "print('*'*150)\n",
    "print('Testing: Deletion from last\\n')\n",
    "\n",
    "dll = DoubleLinkedList()\n",
    "dll.insert(1)\n",
    "dll.insert(2)\n",
    "dll.insert(3)\n",
    "\n",
    "print(f'\\nBefore Delete:\\n{dll}')\n",
    "dll.delete()\n",
    "print(f'\\nAfter Delete:\\n{dll}')\n",
    "\n",
    "print(f'\\nBefore Delete:\\n{dll}')\n",
    "dll.delete()\n",
    "print(f'\\nAfter Delete:\\n{dll}')\n",
    "\n",
    "print(f'\\nBefore Delete:\\n{dll}')\n",
    "dll.delete()\n",
    "print(f'\\nAfter Delete:\\n{dll}')\n",
    "\n",
    "print('*'*150)\n"
   ]
  },
  {
   "cell_type": "markdown",
   "metadata": {},
   "source": [
    "#### Delete from nth position"
   ]
  },
  {
   "cell_type": "code",
   "execution_count": 36,
   "metadata": {},
   "outputs": [
    {
     "name": "stdout",
     "output_type": "stream",
     "text": [
      "******************************************************************************************************************************************************\n",
      "Testing: Deletion from nth place\n",
      "\n",
      "Inserting to empty double linked list\n",
      "Inserting to last position of double linked list\n",
      "Inserting to last position of double linked list\n",
      "\n",
      "Before Delete:\n",
      "[HEAD(0x683a628)] -> (0x5f834ce8, 1, 0x683a028) <-> (0x683a628, 2, 0x683a088) <-> (0x683a028, 3, 0x5f834ce8) <- [TAIL(0x683a088)]\n",
      "Deleting the nth when double linked list has more than 1 element\n",
      "\n",
      "After Delete:\n",
      "[HEAD(0x683a628)] -> (0x5f834ce8, 1, 0x683a088) <-> (0x683a628, 3, 0x5f834ce8) <- [TAIL(0x683a088)]\n",
      "\n",
      "Before Delete:\n",
      "[HEAD(0x683a628)] -> (0x5f834ce8, 1, 0x683a088) <-> (0x683a628, 3, 0x5f834ce8) <- [TAIL(0x683a088)]\n",
      "Deleting the nth when double linked list has more than 1 element\n",
      "\n",
      "After Delete:\n",
      "[HEAD(0x683a628)] -> (0x5f834ce8, 1, 0x5f834ce8) <- [TAIL(0x683a628)]\n",
      "******************************************************************************************************************************************************\n"
     ]
    }
   ],
   "source": [
    "print('*'*150)\n",
    "print('Testing: Deletion from nth place\\n')\n",
    "\n",
    "dll = DoubleLinkedList()\n",
    "dll.insert(1)\n",
    "dll.insert(2)\n",
    "dll.insert(3)\n",
    "\n",
    "print(f'\\nBefore Delete:\\n{dll}')\n",
    "dll.delete(2)\n",
    "print(f'\\nAfter Delete:\\n{dll}')\n",
    "\n",
    "print(f'\\nBefore Delete:\\n{dll}')\n",
    "dll.delete(2)\n",
    "print(f'\\nAfter Delete:\\n{dll}')\n",
    "\n",
    "print('*'*150)"
   ]
  },
  {
   "cell_type": "markdown",
   "metadata": {},
   "source": [
    "## Complexity Analysis: Array vs. SLL vs. CSLL vs. DLL vs. CDLL"
   ]
  },
  {
   "cell_type": "markdown",
   "metadata": {},
   "source": [
    "<table>\n",
    "<tr><th></th><th>Array</th><th>Single Linked List</th><th>Circular Single Linked List</th><th>Double Linked List</th><th>Circular Double Linked List</th></tr>\n",
    "<tr><td>Creation</td><td>O(1)</td><td>O(1)</td><td>O(1)</td><td>O(1)</td><td></td></tr>\n",
    "<tr><td colspan=\"6\" style=\"background:black;\"></td></tr>\n",
    "<tr><td>Insertion to empty list</td><td>O(1)</td><td>O(1)</td><td>O(1)</td><td>O(1)</td><td></td></tr>\n",
    "<tr><td>Insertion at first position</td><td>O(1)</td><td>O(1)</td><td>O(1)</td><td>O(1)</td><td></td></tr>\n",
    "<tr><td>Insertion at last position</td><td>O(1)</td><td>O(1)</td><td>O(1)</td><td>O(1)</td><td></td></tr>\n",
    "<tr><td>Insertion at n<sup>th</sup> position</td><td>O(1)</td><td>O(n)</td><td>O(n)</td><td>O(n)</td><td></td></tr>\n",
    "<tr><td colspan=\"6\" style=\"background:black;\"></td></tr>\n",
    "<tr><td>Search in unsorted data</td><td>O(n)</td><td>O(n)</td><td>O(n)</td><td>O(n)</td><td></td></tr>\n",
    "<tr><td>Search in sorted data</td><td>O(log n)</td><td>O(n)</td><td>O(n)</td><td>O(n)</td><td></td></tr>\n",
    "<tr><td>Traversing forward</td><td>O(n)</td><td>O(n)</td><td>O(n)</td><td>O(n)</td><td></td></tr>\n",
    "<tr><td>Traversing backward</td><td>O(n)</td><td>-</td><td>-</td><td>O(n)</td><td></td></tr>\n",
    "<tr><td colspan=\"6\" style=\"background:black;\"></td></tr>\n",
    "<tr><td>Deletion of whole list</td><td>O(1)</td><td>O(1)</td><td>O(1)</td><td>O(n)</td><td></td></tr>\n",
    "<tr><td>Deletion when list has just one element/node</td><td>O(1)</td><td>O(1)</td><td>O(1)</td><td>O(1)</td><td></td></tr>\n",
    "<tr><td>Deletion from first position</td><td>O(1)</td><td>O(1)</td><td>O(1)</td><td>O(1)</td><td></td></tr>\n",
    "<tr><td>Deletion from last position</td><td>O(1)</td><td>O(n)</td><td>O(n)</td><td>O(1)</td><td></td></tr>\n",
    "<tr><td>Deletion from n<sup>th</sup> position</td><td>O(1)</td><td>O(n)</td><td>O(n)</td><td>O(n)</td><td></td></tr>\n",
    "<tr><td colspan=\"6\" style=\"background:black;\"></td></tr>\n",
    "<tr><td>Accessing n<sup>th</sup> element</td><td>O(1)</td><td>O(n)</td><td>O(n)</td><td>O(n)</td><td></td></tr>\n",
    "</table>\n",
    "<p>The Space complexity of a all linked list operations is O(1)</p>"
   ]
  },
  {
   "cell_type": "code",
   "execution_count": null,
   "metadata": {},
   "outputs": [],
   "source": []
  }
 ],
 "metadata": {
  "interpreter": {
   "hash": "aee8b7b246df8f9039afb4144a1f6fd8d2ca17a180786b69acc140d282b71a49"
  },
  "kernelspec": {
   "display_name": "Python 3",
   "language": "python",
   "name": "python3"
  },
  "language_info": {
   "codemirror_mode": {
    "name": "ipython",
    "version": 3
   },
   "file_extension": ".py",
   "mimetype": "text/x-python",
   "name": "python",
   "nbconvert_exporter": "python",
   "pygments_lexer": "ipython3",
   "version": "3.8.5"
  }
 },
 "nbformat": 4,
 "nbformat_minor": 2
}
