{
 "cells": [
  {
   "cell_type": "markdown",
   "source": [
    "# Remove duplicates from unsorted linked list"
   ],
   "metadata": {}
  },
  {
   "cell_type": "markdown",
   "source": [
    "## Brute Force sol. | Time O(n<sup>2</sup>) | Space O(1)"
   ],
   "metadata": {}
  },
  {
   "cell_type": "markdown",
   "source": [
    "### Code"
   ],
   "metadata": {}
  },
  {
   "cell_type": "markdown",
   "source": [
    "#### SLL"
   ],
   "metadata": {}
  },
  {
   "cell_type": "code",
   "execution_count": 1,
   "source": [
    "def removeDuplicatesSLL_Brute(ll):\n",
    "    if ll.head is None or ll.head == ll.tail:\n",
    "        return ll\n",
    "    \n",
    "    else:\n",
    "        p1 = ll.head\n",
    "        while p1 is not None and p1.next is not None:\n",
    "            p2 = p1\n",
    "\n",
    "            while p2.next is not None:\n",
    "                if p1.value == p2.next.value:\n",
    "                    p2.next = p2.next.next\n",
    "\n",
    "                    if p2.next is None:\n",
    "                        ll.tail = p2\n",
    "                else:\n",
    "                    p2 = p2.next\n",
    "            \n",
    "            p1 = p1.next\n",
    "            \n",
    "        \n",
    "        return ll\n"
   ],
   "outputs": [],
   "metadata": {}
  },
  {
   "cell_type": "markdown",
   "source": [
    "#### CSLL"
   ],
   "metadata": {}
  },
  {
   "cell_type": "code",
   "execution_count": 2,
   "source": [
    "def removeDuplicatesCSLL_Brute(ll):\n",
    "    if ll.head is None and ll.head == ll.tail:\n",
    "        return ll\n",
    "    \n",
    "    else:\n",
    "        ll.tail.next = None\n",
    "\n",
    "        p1 = ll.head\n",
    "        while p1 is not None and p1.next is not None:\n",
    "            p2 = p1\n",
    "\n",
    "            while p2.next is not None:\n",
    "                if p1.value == p2.next.value:\n",
    "                    p2.next = p2.next.next\n",
    "\n",
    "                    if p2.next is None:\n",
    "                        ll.tail = p2\n",
    "                \n",
    "                else:\n",
    "                    p2 = p2.next\n",
    "        \n",
    "            p1 = p1.next\n",
    "        \n",
    "        ll.tail.next = ll.head\n",
    "\n",
    "        return ll\n"
   ],
   "outputs": [],
   "metadata": {}
  },
  {
   "cell_type": "markdown",
   "source": [
    "#### DLL"
   ],
   "metadata": {}
  },
  {
   "cell_type": "code",
   "execution_count": 3,
   "source": [
    "def removeDuplicatesDLL_Brute(ll):\n",
    "    if ll.head is None and ll.head == ll.tail:\n",
    "        return ll\n",
    "    \n",
    "    else:\n",
    "        p1 = ll.head\n",
    "        while p1 is not None and p1.next is not None:\n",
    "            p2 = p1\n",
    "\n",
    "            while p2.next is not None:\n",
    "                if p1.value == p2.next.value:\n",
    "                    p2.next = p2.next.next\n",
    "\n",
    "                    if p2.next is None:\n",
    "                        ll.tail = p2\n",
    "                    else:\n",
    "                        p2.next.prev = p2\n",
    "                \n",
    "                else:\n",
    "                    p2 = p2.next\n",
    "            \n",
    "            p1 = p1.next\n",
    "        \n",
    "        return  ll\n",
    "                "
   ],
   "outputs": [],
   "metadata": {}
  },
  {
   "cell_type": "markdown",
   "source": [
    "#### CDLL"
   ],
   "metadata": {}
  },
  {
   "cell_type": "code",
   "execution_count": 4,
   "source": [
    "def removeDuplicatesCDLL_Brute(ll):\n",
    "    if ll.head is None and ll.head == ll.tail:\n",
    "        return ll\n",
    "    \n",
    "    else:\n",
    "        ll.head.prev = None\n",
    "        ll.tail.next = None\n",
    "\n",
    "        p1 = ll.head\n",
    "        while p1 is not None and p1.next is not None:\n",
    "            p2 = p1\n",
    "\n",
    "            while p2.next is not None:\n",
    "                if p1.value == p2.next.value:\n",
    "                    p2.next = p2.next.next\n",
    "\n",
    "                    if p2.next is None:\n",
    "                        ll.tail = p2\n",
    "                    else:\n",
    "                        p2.next.prev = p2\n",
    "                \n",
    "                else:\n",
    "                    p2 = p2.next\n",
    "            \n",
    "            p1 = p1.next\n",
    "        \n",
    "        ll.head.prev = ll.tail\n",
    "        ll.tail.next = ll.head\n",
    "\n",
    "        return ll\n"
   ],
   "outputs": [],
   "metadata": {}
  },
  {
   "cell_type": "markdown",
   "source": [
    "### Tests"
   ],
   "metadata": {}
  },
  {
   "cell_type": "markdown",
   "source": [
    "#### SLL"
   ],
   "metadata": {}
  },
  {
   "cell_type": "code",
   "execution_count": 5,
   "source": [
    "from linkedLists import SLL\n",
    "\n",
    "ll = SLL()\n",
    "\n",
    "inputs = [\n",
    "    [3],\n",
    "    [1,3,5,2,4],\n",
    "    [1,1,1,1,1],\n",
    "    [1,2,3,1,2,3,1,2,1],\n",
    "    [1,2,1,3,1,2,3,4,4],\n",
    "    [1,2,3,3,3,4,5,6,4,6,7,7,6]\n",
    "]\n",
    "\n",
    "for ip in inputs:\n",
    "    for e in ip:\n",
    "        ll.insert(e, hidePrints=True)\n",
    "    \n",
    "    print(f'LL Before = {ll}')\n",
    "    removeDuplicatesSLL_Brute(ll)\n",
    "    print(f'LL After = {ll}')\n",
    "    ll.empty()\n",
    "\n",
    "    print('-'*100)"
   ],
   "outputs": [
    {
     "output_type": "stream",
     "name": "stdout",
     "text": [
      "LL Before = H(3) -> 3 -> NULL <- T(3)\n",
      "LL After = H(3) -> 3 -> NULL <- T(3)\n",
      "----------------------------------------------------------------------------------------------------\n",
      "LL Before = H(1) -> 1 -> 3 -> 5 -> 2 -> 4 -> NULL <- T(4)\n",
      "LL After = H(1) -> 1 -> 3 -> 5 -> 2 -> 4 -> NULL <- T(4)\n",
      "----------------------------------------------------------------------------------------------------\n",
      "LL Before = H(1) -> 1 -> 1 -> 1 -> 1 -> 1 -> NULL <- T(1)\n",
      "LL After = H(1) -> 1 -> NULL <- T(1)\n",
      "----------------------------------------------------------------------------------------------------\n",
      "LL Before = H(1) -> 1 -> 2 -> 3 -> 1 -> 2 -> 3 -> 1 -> 2 -> 1 -> NULL <- T(1)\n",
      "LL After = H(1) -> 1 -> 2 -> 3 -> NULL <- T(3)\n",
      "----------------------------------------------------------------------------------------------------\n",
      "LL Before = H(1) -> 1 -> 2 -> 1 -> 3 -> 1 -> 2 -> 3 -> 4 -> 4 -> NULL <- T(4)\n",
      "LL After = H(1) -> 1 -> 2 -> 3 -> 4 -> NULL <- T(4)\n",
      "----------------------------------------------------------------------------------------------------\n",
      "LL Before = H(1) -> 1 -> 2 -> 3 -> 3 -> 3 -> 4 -> 5 -> 6 -> 4 -> 6 -> 7 -> 7 -> 6 -> NULL <- T(6)\n",
      "LL After = H(1) -> 1 -> 2 -> 3 -> 4 -> 5 -> 6 -> 7 -> NULL <- T(7)\n",
      "----------------------------------------------------------------------------------------------------\n"
     ]
    }
   ],
   "metadata": {}
  },
  {
   "cell_type": "markdown",
   "source": [
    "#### CSLL"
   ],
   "metadata": {}
  },
  {
   "cell_type": "code",
   "execution_count": 6,
   "source": [
    "from linkedLists import CSLL\n",
    "\n",
    "ll = CSLL()\n",
    "\n",
    "inputs = [\n",
    "    [3],\n",
    "    [1,3,5,2,4],\n",
    "    [1,1,1,1,1],\n",
    "    [1,2,3,1,2,3,1,2,1],\n",
    "    [1,2,1,3,1,2,3,4,4],\n",
    "    [1,2,3,3,3,4,5,6,4,6,7,7,6]\n",
    "]\n",
    "\n",
    "for ip in inputs:\n",
    "    for e in ip:\n",
    "        ll.insert(e, hidePrints=True)\n",
    "    \n",
    "    print(f'LL Before = {ll} [tail.next = {ll.tail.next.value}]')\n",
    "    removeDuplicatesCSLL_Brute(ll)\n",
    "    print(f'LL After = {ll} [tail.next = {ll.tail.next.value}]')\n",
    "    ll.empty()\n",
    "\n",
    "    print('-'*100)"
   ],
   "outputs": [
    {
     "output_type": "stream",
     "name": "stdout",
     "text": [
      "LL Before = H(3) -> 3 -> ... <- T(3) [tail.next = 3]\n",
      "LL After = H(3) -> 3 -> ... <- T(3) [tail.next = 3]\n",
      "----------------------------------------------------------------------------------------------------\n",
      "LL Before = H(1) -> 1 -> 3 -> 5 -> 2 -> 4 -> ... <- T(4) [tail.next = 1]\n",
      "LL After = H(1) -> 1 -> 3 -> 5 -> 2 -> 4 -> ... <- T(4) [tail.next = 1]\n",
      "----------------------------------------------------------------------------------------------------\n",
      "LL Before = H(1) -> 1 -> 1 -> 1 -> 1 -> 1 -> ... <- T(1) [tail.next = 1]\n",
      "LL After = H(1) -> 1 -> ... <- T(1) [tail.next = 1]\n",
      "----------------------------------------------------------------------------------------------------\n",
      "LL Before = H(1) -> 1 -> 2 -> 3 -> 1 -> 2 -> 3 -> 1 -> 2 -> 1 -> ... <- T(1) [tail.next = 1]\n",
      "LL After = H(1) -> 1 -> 2 -> 3 -> ... <- T(3) [tail.next = 1]\n",
      "----------------------------------------------------------------------------------------------------\n",
      "LL Before = H(1) -> 1 -> 2 -> 1 -> 3 -> 1 -> 2 -> 3 -> 4 -> 4 -> ... <- T(4) [tail.next = 1]\n",
      "LL After = H(1) -> 1 -> 2 -> 3 -> 4 -> ... <- T(4) [tail.next = 1]\n",
      "----------------------------------------------------------------------------------------------------\n",
      "LL Before = H(1) -> 1 -> 2 -> 3 -> 3 -> 3 -> 4 -> 5 -> 6 -> 4 -> 6 -> 7 -> 7 -> 6 -> ... <- T(6) [tail.next = 1]\n",
      "LL After = H(1) -> 1 -> 2 -> 3 -> 4 -> 5 -> 6 -> 7 -> ... <- T(7) [tail.next = 1]\n",
      "----------------------------------------------------------------------------------------------------\n"
     ]
    }
   ],
   "metadata": {}
  },
  {
   "cell_type": "markdown",
   "source": [
    "#### DLL"
   ],
   "metadata": {}
  },
  {
   "cell_type": "code",
   "execution_count": 7,
   "source": [
    "from linkedLists import DLL\n",
    "\n",
    "ll = DLL()\n",
    "\n",
    "inputs = [\n",
    "    [3],\n",
    "    [1,3,5,2,4],\n",
    "    [1,1,1,1,1],\n",
    "    [1,2,3,1,2,3,1,2,1],\n",
    "    [1,2,1,3,1,2,3,4,4],\n",
    "    [1,2,3,3,3,4,5,6,4,6,7,7,6]\n",
    "]\n",
    "\n",
    "for ip in inputs:\n",
    "    for e in ip:\n",
    "        ll.insert(e, hidePrints=True)\n",
    "    \n",
    "    print(f'LL Before = {ll}')\n",
    "    removeDuplicatesDLL_Brute(ll)\n",
    "    print(f'LL After = {ll}')\n",
    "    print(f'LL After (Backwards) = {ll.traverse_backwards()}')\n",
    "    ll.empty()\n",
    "\n",
    "    print('-'*100)"
   ],
   "outputs": [
    {
     "output_type": "stream",
     "name": "stdout",
     "text": [
      "LL Before = H(3) -> NULL <- 3 -> NULL <- T(3)\n",
      "LL After = H(3) -> NULL <- 3 -> NULL <- T(3)\n",
      "LL After (Backwards) = T(3) -> NULL <- 3 -> NULL <- H(3)\n",
      "----------------------------------------------------------------------------------------------------\n",
      "LL Before = H(1) -> NULL <- 1 <-> 3 <-> 5 <-> 2 <-> 4 -> NULL <- T(4)\n",
      "LL After = H(1) -> NULL <- 1 <-> 3 <-> 5 <-> 2 <-> 4 -> NULL <- T(4)\n",
      "LL After (Backwards) = T(4) -> NULL <- 4 <-> 2 <-> 5 <-> 3 <-> 1 -> NULL <- H(1)\n",
      "----------------------------------------------------------------------------------------------------\n",
      "LL Before = H(1) -> NULL <- 1 <-> 1 <-> 1 <-> 1 <-> 1 -> NULL <- T(1)\n",
      "LL After = H(1) -> NULL <- 1 -> NULL <- T(1)\n",
      "LL After (Backwards) = T(1) -> NULL <- 1 -> NULL <- H(1)\n",
      "----------------------------------------------------------------------------------------------------\n",
      "LL Before = H(1) -> NULL <- 1 <-> 2 <-> 3 <-> 1 <-> 2 <-> 3 <-> 1 <-> 2 <-> 1 -> NULL <- T(1)\n",
      "LL After = H(1) -> NULL <- 1 <-> 2 <-> 3 -> NULL <- T(3)\n",
      "LL After (Backwards) = T(3) -> NULL <- 3 <-> 2 <-> 1 -> NULL <- H(1)\n",
      "----------------------------------------------------------------------------------------------------\n",
      "LL Before = H(1) -> NULL <- 1 <-> 2 <-> 1 <-> 3 <-> 1 <-> 2 <-> 3 <-> 4 <-> 4 -> NULL <- T(4)\n",
      "LL After = H(1) -> NULL <- 1 <-> 2 <-> 3 <-> 4 -> NULL <- T(4)\n",
      "LL After (Backwards) = T(4) -> NULL <- 4 <-> 3 <-> 2 <-> 1 -> NULL <- H(1)\n",
      "----------------------------------------------------------------------------------------------------\n",
      "LL Before = H(1) -> NULL <- 1 <-> 2 <-> 3 <-> 3 <-> 3 <-> 4 <-> 5 <-> 6 <-> 4 <-> 6 <-> 7 <-> 7 <-> 6 -> NULL <- T(6)\n",
      "LL After = H(1) -> NULL <- 1 <-> 2 <-> 3 <-> 4 <-> 5 <-> 6 <-> 7 -> NULL <- T(7)\n",
      "LL After (Backwards) = T(7) -> NULL <- 7 <-> 6 <-> 5 <-> 4 <-> 3 <-> 2 <-> 1 -> NULL <- H(1)\n",
      "----------------------------------------------------------------------------------------------------\n"
     ]
    }
   ],
   "metadata": {}
  },
  {
   "cell_type": "markdown",
   "source": [
    "#### CDLL"
   ],
   "metadata": {}
  },
  {
   "cell_type": "code",
   "execution_count": 8,
   "source": [
    "from linkedLists import CDLL\n",
    "\n",
    "ll = CDLL()\n",
    "\n",
    "inputs = [\n",
    "    [3],\n",
    "    [1,3,5,2,4],\n",
    "    [1,1,1,1,1],\n",
    "    [1,2,3,1,2,3,1,2,1],\n",
    "    [1,2,1,3,1,2,3,4,4],\n",
    "    [1,2,3,3,3,4,5,6,4,6,7,7,6]\n",
    "]\n",
    "\n",
    "for ip in inputs:\n",
    "    for e in ip:\n",
    "        ll.insert(e, hidePrints=True)\n",
    "    \n",
    "    print(f'LL Before = {ll} [head.prev = {ll.head.prev.value} & tail.next = {ll.tail.next.value}]')\n",
    "    removeDuplicatesCDLL_Brute(ll)\n",
    "    print(f'LL After = {ll} [head.prev = {ll.head.prev.value} & tail.next = {ll.tail.next.value}]')\n",
    "    print(f'LL After (Backwards) = {ll.traverse_backwards()}')\n",
    "    ll.empty()\n",
    "\n",
    "    print('-'*100)"
   ],
   "outputs": [
    {
     "output_type": "stream",
     "name": "stdout",
     "text": [
      "LL Before = H(3) -> ... <- 3 -> ... <- T(3) [head.prev = 3 & tail.next = 3]\n",
      "LL After = H(3) -> ... <- 3 -> ... <- T(3) [head.prev = 3 & tail.next = 3]\n",
      "LL After (Backwards) = T(3) -> ... <- 3 -> ... <- H(3)\n",
      "----------------------------------------------------------------------------------------------------\n",
      "LL Before = H(1) -> ... <- 1 <-> 3 <-> 5 <-> 2 <-> 4 -> ... <- T(4) [head.prev = 4 & tail.next = 1]\n",
      "LL After = H(1) -> ... <- 1 <-> 3 <-> 5 <-> 2 <-> 4 -> ... <- T(4) [head.prev = 4 & tail.next = 1]\n",
      "LL After (Backwards) = T(4) -> ... <- 4 <-> 2 <-> 5 <-> 3 <-> 1 -> ... <- H(1)\n",
      "----------------------------------------------------------------------------------------------------\n",
      "LL Before = H(1) -> ... <- 1 <-> 1 <-> 1 <-> 1 <-> 1 -> ... <- T(1) [head.prev = 1 & tail.next = 1]\n",
      "LL After = H(1) -> ... <- 1 -> ... <- T(1) [head.prev = 1 & tail.next = 1]\n",
      "LL After (Backwards) = T(1) -> ... <- 1 -> ... <- H(1)\n",
      "----------------------------------------------------------------------------------------------------\n",
      "LL Before = H(1) -> ... <- 1 <-> 2 <-> 3 <-> 1 <-> 2 <-> 3 <-> 1 <-> 2 <-> 1 -> ... <- T(1) [head.prev = 1 & tail.next = 1]\n",
      "LL After = H(1) -> ... <- 1 <-> 2 <-> 3 -> ... <- T(3) [head.prev = 3 & tail.next = 1]\n",
      "LL After (Backwards) = T(3) -> ... <- 3 <-> 2 <-> 1 -> ... <- H(1)\n",
      "----------------------------------------------------------------------------------------------------\n",
      "LL Before = H(1) -> ... <- 1 <-> 2 <-> 1 <-> 3 <-> 1 <-> 2 <-> 3 <-> 4 <-> 4 -> ... <- T(4) [head.prev = 4 & tail.next = 1]\n",
      "LL After = H(1) -> ... <- 1 <-> 2 <-> 3 <-> 4 -> ... <- T(4) [head.prev = 4 & tail.next = 1]\n",
      "LL After (Backwards) = T(4) -> ... <- 4 <-> 3 <-> 2 <-> 1 -> ... <- H(1)\n",
      "----------------------------------------------------------------------------------------------------\n",
      "LL Before = H(1) -> ... <- 1 <-> 2 <-> 3 <-> 3 <-> 3 <-> 4 <-> 5 <-> 6 <-> 4 <-> 6 <-> 7 <-> 7 <-> 6 -> ... <- T(6) [head.prev = 6 & tail.next = 1]\n",
      "LL After = H(1) -> ... <- 1 <-> 2 <-> 3 <-> 4 <-> 5 <-> 6 <-> 7 -> ... <- T(7) [head.prev = 7 & tail.next = 1]\n",
      "LL After (Backwards) = T(7) -> ... <- 7 <-> 6 <-> 5 <-> 4 <-> 3 <-> 2 <-> 1 -> ... <- H(1)\n",
      "----------------------------------------------------------------------------------------------------\n"
     ]
    }
   ],
   "metadata": {}
  },
  {
   "cell_type": "markdown",
   "source": [
    "## Hashing sol. | Time O(n) | Space O(n)"
   ],
   "metadata": {}
  },
  {
   "cell_type": "markdown",
   "source": [
    "### Code"
   ],
   "metadata": {}
  },
  {
   "cell_type": "markdown",
   "source": [
    "#### SLL"
   ],
   "metadata": {}
  },
  {
   "cell_type": "code",
   "execution_count": 9,
   "source": [
    "def removeDuplicatesSLL_Hashing(ll):\n",
    "    if ll.head is None or ll.head == ll.tail:\n",
    "        return ll\n",
    "    \n",
    "    else:\n",
    "        hash = set()\n",
    "\n",
    "        current_node = ll.head\n",
    "        hash.add(current_node.value)\n",
    "\n",
    "        while current_node.next is not None:\n",
    "            if current_node.next.value in hash:\n",
    "                current_node.next = current_node.next.next\n",
    "\n",
    "                if current_node.next is None:\n",
    "                    ll.tail = current_node\n",
    "                \n",
    "            else:\n",
    "                current_node = current_node.next\n",
    "                hash.add(current_node.value)        \n",
    "        \n",
    "        return  ll"
   ],
   "outputs": [],
   "metadata": {}
  },
  {
   "cell_type": "markdown",
   "source": [
    "#### CSLL"
   ],
   "metadata": {}
  },
  {
   "cell_type": "code",
   "execution_count": 10,
   "source": [
    "def removeDuplicatesCSLL_Hashing(ll):\n",
    "    if ll.head is None or ll.head == ll.tail:\n",
    "        return ll\n",
    "    \n",
    "    else:\n",
    "        ll.tail.next = None\n",
    "\n",
    "        hash = set()\n",
    "\n",
    "        current_node = ll.head\n",
    "        hash.add(current_node.value)\n",
    "        while current_node.next is not None:\n",
    "            if current_node.next.value in hash:\n",
    "                current_node.next = current_node.next.next\n",
    "\n",
    "                if current_node.next is None:\n",
    "                    ll.tail = current_node\n",
    "                \n",
    "            else:\n",
    "                current_node = current_node.next\n",
    "                hash.add(current_node.value)\n",
    "        \n",
    "        ll.tail.next = ll.head\n",
    "\n",
    "        return ll\n"
   ],
   "outputs": [],
   "metadata": {}
  },
  {
   "cell_type": "markdown",
   "source": [
    "#### DLL"
   ],
   "metadata": {}
  },
  {
   "cell_type": "code",
   "execution_count": 11,
   "source": [
    "def removeDuplicatesDLL_Hashing(ll):\n",
    "    if ll.head is None or ll.head == ll.tail:\n",
    "        return ll\n",
    "    \n",
    "    else:\n",
    "        hash = set()\n",
    "\n",
    "        current_node = ll.head\n",
    "        hash.add(current_node.value)\n",
    "        while current_node.next is not None:\n",
    "            if current_node.next.value in hash:\n",
    "                current_node.next = current_node.next.next\n",
    "\n",
    "                if current_node.next is None:\n",
    "                    ll.tail = current_node\n",
    "                else:\n",
    "                    current_node.next.prev = current_node\n",
    "            \n",
    "            else:\n",
    "                current_node = current_node.next\n",
    "                hash.add(current_node.value)\n",
    "        \n",
    "        return ll\n"
   ],
   "outputs": [],
   "metadata": {}
  },
  {
   "cell_type": "markdown",
   "source": [
    "#### CDLL"
   ],
   "metadata": {}
  },
  {
   "cell_type": "code",
   "execution_count": 12,
   "source": [
    "def removeDuplicatesCDLL_Hashing(ll):\n",
    "    if ll.head is None or ll.head == ll.tail:\n",
    "        return ll\n",
    "    \n",
    "    else:\n",
    "        ll.head.prev = None\n",
    "        ll.tail.next = None\n",
    "\n",
    "        hash = set()\n",
    "\n",
    "        current_node = ll.head\n",
    "        hash.add(current_node.value)\n",
    "        while current_node.next is not None:\n",
    "            if current_node.next.value in hash:\n",
    "                current_node.next = current_node.next.next\n",
    "\n",
    "                if current_node.next is None:\n",
    "                    ll.tail = current_node\n",
    "                else:\n",
    "                    current_node.next.prev = current_node\n",
    "            \n",
    "            else:\n",
    "                current_node = current_node.next\n",
    "                hash.add(current_node.value)\n",
    "        \n",
    "        ll.head.prev = ll.tail\n",
    "        ll.tail.next = ll.head\n",
    "\n",
    "        return ll\n"
   ],
   "outputs": [],
   "metadata": {}
  },
  {
   "cell_type": "markdown",
   "source": [
    "### Tests"
   ],
   "metadata": {}
  },
  {
   "cell_type": "markdown",
   "source": [
    "#### SLL"
   ],
   "metadata": {}
  },
  {
   "cell_type": "code",
   "execution_count": 13,
   "source": [
    "from linkedLists import SLL\n",
    "\n",
    "ll = SLL()\n",
    "\n",
    "inputs = [\n",
    "    [3],\n",
    "    [1,3,5,2,4],\n",
    "    [1,1,1,1,1],\n",
    "    [1,2,3,1,2,3,1,2,1],\n",
    "    [1,2,1,3,1,2,3,4,4],\n",
    "    [1,2,3,3,3,4,5,6,4,6,7,7,6]\n",
    "]\n",
    "\n",
    "for ip in inputs:\n",
    "    for e in ip:\n",
    "        ll.insert(e, hidePrints=True)\n",
    "    \n",
    "    print(f'LL Before = {ll}')\n",
    "    removeDuplicatesSLL_Hashing(ll)\n",
    "    print(f'LL After = {ll}')\n",
    "    ll.empty()\n",
    "\n",
    "    print('-'*100)"
   ],
   "outputs": [
    {
     "output_type": "stream",
     "name": "stdout",
     "text": [
      "LL Before = H(3) -> 3 -> NULL <- T(3)\n",
      "LL After = H(3) -> 3 -> NULL <- T(3)\n",
      "----------------------------------------------------------------------------------------------------\n",
      "LL Before = H(1) -> 1 -> 3 -> 5 -> 2 -> 4 -> NULL <- T(4)\n",
      "LL After = H(1) -> 1 -> 3 -> 5 -> 2 -> 4 -> NULL <- T(4)\n",
      "----------------------------------------------------------------------------------------------------\n",
      "LL Before = H(1) -> 1 -> 1 -> 1 -> 1 -> 1 -> NULL <- T(1)\n",
      "LL After = H(1) -> 1 -> NULL <- T(1)\n",
      "----------------------------------------------------------------------------------------------------\n",
      "LL Before = H(1) -> 1 -> 2 -> 3 -> 1 -> 2 -> 3 -> 1 -> 2 -> 1 -> NULL <- T(1)\n",
      "LL After = H(1) -> 1 -> 2 -> 3 -> NULL <- T(3)\n",
      "----------------------------------------------------------------------------------------------------\n",
      "LL Before = H(1) -> 1 -> 2 -> 1 -> 3 -> 1 -> 2 -> 3 -> 4 -> 4 -> NULL <- T(4)\n",
      "LL After = H(1) -> 1 -> 2 -> 3 -> 4 -> NULL <- T(4)\n",
      "----------------------------------------------------------------------------------------------------\n",
      "LL Before = H(1) -> 1 -> 2 -> 3 -> 3 -> 3 -> 4 -> 5 -> 6 -> 4 -> 6 -> 7 -> 7 -> 6 -> NULL <- T(6)\n",
      "LL After = H(1) -> 1 -> 2 -> 3 -> 4 -> 5 -> 6 -> 7 -> NULL <- T(7)\n",
      "----------------------------------------------------------------------------------------------------\n"
     ]
    }
   ],
   "metadata": {}
  },
  {
   "cell_type": "markdown",
   "source": [
    "#### CSLL"
   ],
   "metadata": {}
  },
  {
   "cell_type": "code",
   "execution_count": 14,
   "source": [
    "from linkedLists import CSLL\n",
    "\n",
    "ll = CSLL()\n",
    "\n",
    "inputs = [\n",
    "    [3],\n",
    "    [1,3,5,2,4],\n",
    "    [1,1,1,1,1],\n",
    "    [1,2,3,1,2,3,1,2,1],\n",
    "    [1,2,1,3,1,2,3,4,4],\n",
    "    [1,2,3,3,3,4,5,6,4,6,7,7,6]\n",
    "]\n",
    "\n",
    "for ip in inputs:\n",
    "    for e in ip:\n",
    "        ll.insert(e, hidePrints=True)\n",
    "    \n",
    "    print(f'LL Before = {ll} [tail.next = {ll.tail.next.value}]')\n",
    "    removeDuplicatesCSLL_Hashing(ll)\n",
    "    print(f'LL After = {ll} [tail.next = {ll.tail.next.value}]')\n",
    "    ll.empty()\n",
    "\n",
    "    print('-'*100)"
   ],
   "outputs": [
    {
     "output_type": "stream",
     "name": "stdout",
     "text": [
      "LL Before = H(3) -> 3 -> ... <- T(3) [tail.next = 3]\n",
      "LL After = H(3) -> 3 -> ... <- T(3) [tail.next = 3]\n",
      "----------------------------------------------------------------------------------------------------\n",
      "LL Before = H(1) -> 1 -> 3 -> 5 -> 2 -> 4 -> ... <- T(4) [tail.next = 1]\n",
      "LL After = H(1) -> 1 -> 3 -> 5 -> 2 -> 4 -> ... <- T(4) [tail.next = 1]\n",
      "----------------------------------------------------------------------------------------------------\n",
      "LL Before = H(1) -> 1 -> 1 -> 1 -> 1 -> 1 -> ... <- T(1) [tail.next = 1]\n",
      "LL After = H(1) -> 1 -> ... <- T(1) [tail.next = 1]\n",
      "----------------------------------------------------------------------------------------------------\n",
      "LL Before = H(1) -> 1 -> 2 -> 3 -> 1 -> 2 -> 3 -> 1 -> 2 -> 1 -> ... <- T(1) [tail.next = 1]\n",
      "LL After = H(1) -> 1 -> 2 -> 3 -> ... <- T(3) [tail.next = 1]\n",
      "----------------------------------------------------------------------------------------------------\n",
      "LL Before = H(1) -> 1 -> 2 -> 1 -> 3 -> 1 -> 2 -> 3 -> 4 -> 4 -> ... <- T(4) [tail.next = 1]\n",
      "LL After = H(1) -> 1 -> 2 -> 3 -> 4 -> ... <- T(4) [tail.next = 1]\n",
      "----------------------------------------------------------------------------------------------------\n",
      "LL Before = H(1) -> 1 -> 2 -> 3 -> 3 -> 3 -> 4 -> 5 -> 6 -> 4 -> 6 -> 7 -> 7 -> 6 -> ... <- T(6) [tail.next = 1]\n",
      "LL After = H(1) -> 1 -> 2 -> 3 -> 4 -> 5 -> 6 -> 7 -> ... <- T(7) [tail.next = 1]\n",
      "----------------------------------------------------------------------------------------------------\n"
     ]
    }
   ],
   "metadata": {}
  },
  {
   "cell_type": "markdown",
   "source": [
    "#### DLL"
   ],
   "metadata": {}
  },
  {
   "cell_type": "code",
   "execution_count": 15,
   "source": [
    "from linkedLists import DLL\n",
    "\n",
    "ll = DLL()\n",
    "\n",
    "inputs = [\n",
    "    [3],\n",
    "    [1,3,5,2,4],\n",
    "    [1,1,1,1,1],\n",
    "    [1,2,3,1,2,3,1,2,1],\n",
    "    [1,2,1,3,1,2,3,4,4],\n",
    "    [1,2,3,3,3,4,5,6,4,6,7,7,6]\n",
    "]\n",
    "\n",
    "for ip in inputs:\n",
    "    for e in ip:\n",
    "        ll.insert(e, hidePrints=True)\n",
    "    \n",
    "    print(f'LL Before = {ll}')\n",
    "    removeDuplicatesDLL_Hashing(ll)\n",
    "    print(f'LL After = {ll}')\n",
    "    print(f'LL After (backwards) = {ll.traverse_backwards()}')\n",
    "    ll.empty()\n",
    "\n",
    "    print('-'*100)"
   ],
   "outputs": [
    {
     "output_type": "stream",
     "name": "stdout",
     "text": [
      "LL Before = H(3) -> NULL <- 3 -> NULL <- T(3)\n",
      "LL After = H(3) -> NULL <- 3 -> NULL <- T(3)\n",
      "LL After (backwards) = T(3) -> NULL <- 3 -> NULL <- H(3)\n",
      "----------------------------------------------------------------------------------------------------\n",
      "LL Before = H(1) -> NULL <- 1 <-> 3 <-> 5 <-> 2 <-> 4 -> NULL <- T(4)\n",
      "LL After = H(1) -> NULL <- 1 <-> 3 <-> 5 <-> 2 <-> 4 -> NULL <- T(4)\n",
      "LL After (backwards) = T(4) -> NULL <- 4 <-> 2 <-> 5 <-> 3 <-> 1 -> NULL <- H(1)\n",
      "----------------------------------------------------------------------------------------------------\n",
      "LL Before = H(1) -> NULL <- 1 <-> 1 <-> 1 <-> 1 <-> 1 -> NULL <- T(1)\n",
      "LL After = H(1) -> NULL <- 1 -> NULL <- T(1)\n",
      "LL After (backwards) = T(1) -> NULL <- 1 -> NULL <- H(1)\n",
      "----------------------------------------------------------------------------------------------------\n",
      "LL Before = H(1) -> NULL <- 1 <-> 2 <-> 3 <-> 1 <-> 2 <-> 3 <-> 1 <-> 2 <-> 1 -> NULL <- T(1)\n",
      "LL After = H(1) -> NULL <- 1 <-> 2 <-> 3 -> NULL <- T(3)\n",
      "LL After (backwards) = T(3) -> NULL <- 3 <-> 2 <-> 1 -> NULL <- H(1)\n",
      "----------------------------------------------------------------------------------------------------\n",
      "LL Before = H(1) -> NULL <- 1 <-> 2 <-> 1 <-> 3 <-> 1 <-> 2 <-> 3 <-> 4 <-> 4 -> NULL <- T(4)\n",
      "LL After = H(1) -> NULL <- 1 <-> 2 <-> 3 <-> 4 -> NULL <- T(4)\n",
      "LL After (backwards) = T(4) -> NULL <- 4 <-> 3 <-> 2 <-> 1 -> NULL <- H(1)\n",
      "----------------------------------------------------------------------------------------------------\n",
      "LL Before = H(1) -> NULL <- 1 <-> 2 <-> 3 <-> 3 <-> 3 <-> 4 <-> 5 <-> 6 <-> 4 <-> 6 <-> 7 <-> 7 <-> 6 -> NULL <- T(6)\n",
      "LL After = H(1) -> NULL <- 1 <-> 2 <-> 3 <-> 4 <-> 5 <-> 6 <-> 7 -> NULL <- T(7)\n",
      "LL After (backwards) = T(7) -> NULL <- 7 <-> 6 <-> 5 <-> 4 <-> 3 <-> 2 <-> 1 -> NULL <- H(1)\n",
      "----------------------------------------------------------------------------------------------------\n"
     ]
    }
   ],
   "metadata": {}
  },
  {
   "cell_type": "markdown",
   "source": [
    "#### CDLL"
   ],
   "metadata": {}
  },
  {
   "cell_type": "code",
   "execution_count": 16,
   "source": [
    "from linkedLists import CDLL\n",
    "\n",
    "ll = CDLL()\n",
    "\n",
    "inputs = [\n",
    "    [3],\n",
    "    [1,3,5,2,4],\n",
    "    [1,1,1,1,1],\n",
    "    [1,2,3,1,2,3,1,2,1],\n",
    "    [1,2,1,3,1,2,3,4,4],\n",
    "    [1,2,3,3,3,4,5,6,4,6,7,7,6]\n",
    "]\n",
    "\n",
    "for ip in inputs:\n",
    "    for e in ip:\n",
    "        ll.insert(e, hidePrints=True)\n",
    "    \n",
    "    print(f'LL Before = {ll} [head.prev = {ll.head.prev.value} & tail.next = {ll.tail.next.value}]')\n",
    "    removeDuplicatesCDLL_Hashing(ll)\n",
    "    print(f'LL After = {ll} [head.prev = {ll.head.prev.value} & tail.next = {ll.tail.next.value}]')\n",
    "    print(f'LL After (backwards) = {ll.traverse_backwards()}')\n",
    "    ll.empty()\n",
    "\n",
    "    print('-'*100)"
   ],
   "outputs": [
    {
     "output_type": "stream",
     "name": "stdout",
     "text": [
      "LL Before = H(3) -> ... <- 3 -> ... <- T(3) [head.prev = 3 & tail.next = 3]\n",
      "LL After = H(3) -> ... <- 3 -> ... <- T(3) [head.prev = 3 & tail.next = 3]\n",
      "LL After (backwards) = T(3) -> ... <- 3 -> ... <- H(3)\n",
      "----------------------------------------------------------------------------------------------------\n",
      "LL Before = H(1) -> ... <- 1 <-> 3 <-> 5 <-> 2 <-> 4 -> ... <- T(4) [head.prev = 4 & tail.next = 1]\n",
      "LL After = H(1) -> ... <- 1 <-> 3 <-> 5 <-> 2 <-> 4 -> ... <- T(4) [head.prev = 4 & tail.next = 1]\n",
      "LL After (backwards) = T(4) -> ... <- 4 <-> 2 <-> 5 <-> 3 <-> 1 -> ... <- H(1)\n",
      "----------------------------------------------------------------------------------------------------\n",
      "LL Before = H(1) -> ... <- 1 <-> 1 <-> 1 <-> 1 <-> 1 -> ... <- T(1) [head.prev = 1 & tail.next = 1]\n",
      "LL After = H(1) -> ... <- 1 -> ... <- T(1) [head.prev = 1 & tail.next = 1]\n",
      "LL After (backwards) = T(1) -> ... <- 1 -> ... <- H(1)\n",
      "----------------------------------------------------------------------------------------------------\n",
      "LL Before = H(1) -> ... <- 1 <-> 2 <-> 3 <-> 1 <-> 2 <-> 3 <-> 1 <-> 2 <-> 1 -> ... <- T(1) [head.prev = 1 & tail.next = 1]\n",
      "LL After = H(1) -> ... <- 1 <-> 2 <-> 3 -> ... <- T(3) [head.prev = 3 & tail.next = 1]\n",
      "LL After (backwards) = T(3) -> ... <- 3 <-> 2 <-> 1 -> ... <- H(1)\n",
      "----------------------------------------------------------------------------------------------------\n",
      "LL Before = H(1) -> ... <- 1 <-> 2 <-> 1 <-> 3 <-> 1 <-> 2 <-> 3 <-> 4 <-> 4 -> ... <- T(4) [head.prev = 4 & tail.next = 1]\n",
      "LL After = H(1) -> ... <- 1 <-> 2 <-> 3 <-> 4 -> ... <- T(4) [head.prev = 4 & tail.next = 1]\n",
      "LL After (backwards) = T(4) -> ... <- 4 <-> 3 <-> 2 <-> 1 -> ... <- H(1)\n",
      "----------------------------------------------------------------------------------------------------\n",
      "LL Before = H(1) -> ... <- 1 <-> 2 <-> 3 <-> 3 <-> 3 <-> 4 <-> 5 <-> 6 <-> 4 <-> 6 <-> 7 <-> 7 <-> 6 -> ... <- T(6) [head.prev = 6 & tail.next = 1]\n",
      "LL After = H(1) -> ... <- 1 <-> 2 <-> 3 <-> 4 <-> 5 <-> 6 <-> 7 -> ... <- T(7) [head.prev = 7 & tail.next = 1]\n",
      "LL After (backwards) = T(7) -> ... <- 7 <-> 6 <-> 5 <-> 4 <-> 3 <-> 2 <-> 1 -> ... <- H(1)\n",
      "----------------------------------------------------------------------------------------------------\n"
     ]
    }
   ],
   "metadata": {
    "scrolled": false
   }
  },
  {
   "cell_type": "code",
   "execution_count": null,
   "source": [],
   "outputs": [],
   "metadata": {}
  }
 ],
 "metadata": {
  "interpreter": {
   "hash": "aee8b7b246df8f9039afb4144a1f6fd8d2ca17a180786b69acc140d282b71a49"
  },
  "kernelspec": {
   "display_name": "Python 3 (ipykernel)",
   "language": "python",
   "name": "python3"
  },
  "language_info": {
   "codemirror_mode": {
    "name": "ipython",
    "version": 3
   },
   "file_extension": ".py",
   "mimetype": "text/x-python",
   "name": "python",
   "nbconvert_exporter": "python",
   "pygments_lexer": "ipython3",
   "version": "3.9.6"
  }
 },
 "nbformat": 4,
 "nbformat_minor": 2
}