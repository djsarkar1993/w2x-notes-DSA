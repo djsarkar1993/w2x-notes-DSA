{
 "cells": [
  {
   "cell_type": "markdown",
   "source": [
    "# Remove duplicates from sorted linked list"
   ],
   "metadata": {}
  },
  {
   "cell_type": "markdown",
   "source": [
    "## Optimal sol. | Time O(n) | Space O(n)"
   ],
   "metadata": {}
  },
  {
   "cell_type": "markdown",
   "source": [
    "### Code"
   ],
   "metadata": {}
  },
  {
   "cell_type": "markdown",
   "source": [
    "#### SLL"
   ],
   "metadata": {}
  },
  {
   "cell_type": "code",
   "execution_count": 33,
   "source": [
    "def removeDuplicatesSLL(ll):\n",
    "    if ll.head is None or ll.head == ll.tail:\n",
    "        return ll\n",
    "    \n",
    "    else:\n",
    "        current_node = ll.head\n",
    "\n",
    "        while current_node:\n",
    "            next_distinct_node = current_node.next\n",
    "\n",
    "            while next_distinct_node is not None and current_node.value == next_distinct_node.value:\n",
    "                next_distinct_node = next_distinct_node.next\n",
    "\n",
    "            if next_distinct_node is None:\n",
    "                ll.tail = current_node\n",
    "            \n",
    "            current_node.next = next_distinct_node\n",
    "            current_node = current_node.next\n",
    "        \n",
    "        return ll\n"
   ],
   "outputs": [],
   "metadata": {}
  },
  {
   "cell_type": "markdown",
   "source": [
    "#### CSLL"
   ],
   "metadata": {}
  },
  {
   "cell_type": "code",
   "execution_count": 34,
   "source": [
    "def removeDuplicatesCSLL(ll):\n",
    "    if ll.head is None or ll.head == ll.tail:\n",
    "        return ll\n",
    "    \n",
    "    else:\n",
    "        ll.tail.next = None\n",
    "\n",
    "        current_node = ll.head\n",
    "        while current_node:\n",
    "            next_distinct_node = current_node.next\n",
    "\n",
    "            while next_distinct_node and current_node.value == next_distinct_node.value:\n",
    "                next_distinct_node = next_distinct_node.next\n",
    "            \n",
    "            if next_distinct_node is None:\n",
    "                ll.tail = current_node\n",
    "            \n",
    "            current_node.next = next_distinct_node\n",
    "            current_node = current_node.next\n",
    "        \n",
    "        ll.tail.next = ll.head\n",
    "\n",
    "        return ll\n"
   ],
   "outputs": [],
   "metadata": {}
  },
  {
   "cell_type": "markdown",
   "source": [
    "#### DLL"
   ],
   "metadata": {}
  },
  {
   "cell_type": "code",
   "execution_count": 35,
   "source": [
    "def removeDuplicatesDLL(ll):\n",
    "    if ll.head is None or ll.head == ll.tail:\n",
    "        return ll\n",
    "    \n",
    "    else:\n",
    "        current_node = ll.head\n",
    "\n",
    "        while current_node:\n",
    "            next_distinct_node = current_node.next\n",
    "\n",
    "            while next_distinct_node and current_node.value == next_distinct_node.value:\n",
    "                next_distinct_node = next_distinct_node.next\n",
    "            \n",
    "            \n",
    "            current_node.next = next_distinct_node\n",
    "            if next_distinct_node is None:\n",
    "                ll.tail = current_node\n",
    "            else:\n",
    "                next_distinct_node.prev = current_node\n",
    "\n",
    "            current_node = current_node.next\n",
    "        \n",
    "        return  ll\n"
   ],
   "outputs": [],
   "metadata": {}
  },
  {
   "cell_type": "markdown",
   "source": [
    "#### CDLL"
   ],
   "metadata": {}
  },
  {
   "cell_type": "code",
   "execution_count": 36,
   "source": [
    "def removeDuplicatesCDLL(ll):\n",
    "    if ll.head is None or ll.head == ll.tail:\n",
    "        return ll\n",
    "    \n",
    "    else:\n",
    "        ll.head.prev = None\n",
    "        ll.tail.next = None\n",
    "\n",
    "        current_node = ll.head\n",
    "        while current_node:\n",
    "            next_distinct_node = current_node.next\n",
    "            \n",
    "            while next_distinct_node and current_node.value == next_distinct_node.value:\n",
    "                next_distinct_node = next_distinct_node.next\n",
    "            \n",
    "            current_node.next = next_distinct_node\n",
    "            if next_distinct_node is None:\n",
    "                ll.tail = current_node\n",
    "            else:\n",
    "                next_distinct_node.prev = current_node\n",
    "            \n",
    "            current_node = current_node.next\n",
    "        \n",
    "        ll.head.prev = ll.tail\n",
    "        ll.tail.next = ll.head\n",
    "\n",
    "        return ll\n"
   ],
   "outputs": [],
   "metadata": {}
  },
  {
   "cell_type": "markdown",
   "source": [
    "### Tests"
   ],
   "metadata": {}
  },
  {
   "cell_type": "markdown",
   "source": [
    "#### SLL"
   ],
   "metadata": {}
  },
  {
   "cell_type": "code",
   "execution_count": 37,
   "source": [
    "from linkedLists import SLL\n",
    "\n",
    "ll = SLL()\n",
    "\n",
    "inputs = [\n",
    "    [1,1,1,3,4,4,4,5,6,6], \n",
    "    [1,1,1,1,1,4,4,5,6,6], \n",
    "    [1,1,1,1,1], \n",
    "    [1,9,11,15,16,17], \n",
    "    [1], \n",
    "    [-5,-1,-1,-1,5,5,5,8,8,9,10,11,11], \n",
    "    [1,2,3,4,5,6,7,8,9,10,11,12,12]\n",
    "]\n",
    "\n",
    "for ip in inputs:\n",
    "    for e in ip:\n",
    "        ll.insert(e, hidePrints=True)\n",
    "        \n",
    "    print(f'LL Before = {ll}')\n",
    "    removeDuplicatesSLL(ll)\n",
    "    print(f'LL After = {ll}')\n",
    "    ll.empty()\n",
    "\n",
    "    print(f'-'*100)\n"
   ],
   "outputs": [
    {
     "output_type": "stream",
     "name": "stdout",
     "text": [
      "LL Before = H(1) -> 1 -> 1 -> 1 -> 3 -> 4 -> 4 -> 4 -> 5 -> 6 -> 6 -> NULL <- T(6)\n",
      "LL After = H(1) -> 1 -> 3 -> 4 -> 5 -> 6 -> NULL <- T(6)\n",
      "----------------------------------------------------------------------------------------------------\n",
      "LL Before = H(1) -> 1 -> 1 -> 1 -> 1 -> 1 -> 4 -> 4 -> 5 -> 6 -> 6 -> NULL <- T(6)\n",
      "LL After = H(1) -> 1 -> 4 -> 5 -> 6 -> NULL <- T(6)\n",
      "----------------------------------------------------------------------------------------------------\n",
      "LL Before = H(1) -> 1 -> 1 -> 1 -> 1 -> 1 -> NULL <- T(1)\n",
      "LL After = H(1) -> 1 -> NULL <- T(1)\n",
      "----------------------------------------------------------------------------------------------------\n",
      "LL Before = H(1) -> 1 -> 9 -> 11 -> 15 -> 16 -> 17 -> NULL <- T(17)\n",
      "LL After = H(1) -> 1 -> 9 -> 11 -> 15 -> 16 -> 17 -> NULL <- T(17)\n",
      "----------------------------------------------------------------------------------------------------\n",
      "LL Before = H(1) -> 1 -> NULL <- T(1)\n",
      "LL After = H(1) -> 1 -> NULL <- T(1)\n",
      "----------------------------------------------------------------------------------------------------\n",
      "LL Before = H(-5) -> -5 -> -1 -> -1 -> -1 -> 5 -> 5 -> 5 -> 8 -> 8 -> 9 -> 10 -> 11 -> 11 -> NULL <- T(11)\n",
      "LL After = H(-5) -> -5 -> -1 -> 5 -> 8 -> 9 -> 10 -> 11 -> NULL <- T(11)\n",
      "----------------------------------------------------------------------------------------------------\n",
      "LL Before = H(1) -> 1 -> 2 -> 3 -> 4 -> 5 -> 6 -> 7 -> 8 -> 9 -> 10 -> 11 -> 12 -> 12 -> NULL <- T(12)\n",
      "LL After = H(1) -> 1 -> 2 -> 3 -> 4 -> 5 -> 6 -> 7 -> 8 -> 9 -> 10 -> 11 -> 12 -> NULL <- T(12)\n",
      "----------------------------------------------------------------------------------------------------\n"
     ]
    }
   ],
   "metadata": {}
  },
  {
   "cell_type": "markdown",
   "source": [
    "#### CSLL"
   ],
   "metadata": {}
  },
  {
   "cell_type": "code",
   "execution_count": 38,
   "source": [
    "from linkedLists import CSLL\n",
    "\n",
    "ll = CSLL()\n",
    "\n",
    "inputs = [\n",
    "    [1,1,1,3,4,4,4,5,6,6], \n",
    "    [1,1,1,1,1,4,4,5,6,6], \n",
    "    [1,1,1,1,1], \n",
    "    [1,9,11,15,16,17], \n",
    "    [1], \n",
    "    [-5,-1,-1,-1,5,5,5,8,8,9,10,11,11], \n",
    "    [1,2,3,4,5,6,7,8,9,10,11,12,12]\n",
    "]\n",
    "\n",
    "for ip in inputs:\n",
    "    for e in ip:\n",
    "        ll.insert(e, hidePrints=True)\n",
    "        \n",
    "    print(f'LL Before = {ll}')\n",
    "    removeDuplicatesCSLL(ll)\n",
    "    print(f'LL After = {ll}')\n",
    "    ll.empty()\n",
    "\n",
    "    print(f'-'*100)"
   ],
   "outputs": [
    {
     "output_type": "stream",
     "name": "stdout",
     "text": [
      "LL Before = H(1) -> 1 -> 1 -> 1 -> 3 -> 4 -> 4 -> 4 -> 5 -> 6 -> 6 -> ... <- T(6)\n",
      "LL After = H(1) -> 1 -> 3 -> 4 -> 5 -> 6 -> ... <- T(6)\n",
      "----------------------------------------------------------------------------------------------------\n",
      "LL Before = H(1) -> 1 -> 1 -> 1 -> 1 -> 1 -> 4 -> 4 -> 5 -> 6 -> 6 -> ... <- T(6)\n",
      "LL After = H(1) -> 1 -> 4 -> 5 -> 6 -> ... <- T(6)\n",
      "----------------------------------------------------------------------------------------------------\n",
      "LL Before = H(1) -> 1 -> 1 -> 1 -> 1 -> 1 -> ... <- T(1)\n",
      "LL After = H(1) -> 1 -> ... <- T(1)\n",
      "----------------------------------------------------------------------------------------------------\n",
      "LL Before = H(1) -> 1 -> 9 -> 11 -> 15 -> 16 -> 17 -> ... <- T(17)\n",
      "LL After = H(1) -> 1 -> 9 -> 11 -> 15 -> 16 -> 17 -> ... <- T(17)\n",
      "----------------------------------------------------------------------------------------------------\n",
      "LL Before = H(1) -> 1 -> ... <- T(1)\n",
      "LL After = H(1) -> 1 -> ... <- T(1)\n",
      "----------------------------------------------------------------------------------------------------\n",
      "LL Before = H(-5) -> -5 -> -1 -> -1 -> -1 -> 5 -> 5 -> 5 -> 8 -> 8 -> 9 -> 10 -> 11 -> 11 -> ... <- T(11)\n",
      "LL After = H(-5) -> -5 -> -1 -> 5 -> 8 -> 9 -> 10 -> 11 -> ... <- T(11)\n",
      "----------------------------------------------------------------------------------------------------\n",
      "LL Before = H(1) -> 1 -> 2 -> 3 -> 4 -> 5 -> 6 -> 7 -> 8 -> 9 -> 10 -> 11 -> 12 -> 12 -> ... <- T(12)\n",
      "LL After = H(1) -> 1 -> 2 -> 3 -> 4 -> 5 -> 6 -> 7 -> 8 -> 9 -> 10 -> 11 -> 12 -> ... <- T(12)\n",
      "----------------------------------------------------------------------------------------------------\n"
     ]
    }
   ],
   "metadata": {}
  },
  {
   "cell_type": "markdown",
   "source": [
    "#### DLL"
   ],
   "metadata": {}
  },
  {
   "cell_type": "code",
   "execution_count": 39,
   "source": [
    "from linkedLists import DLL\n",
    "\n",
    "ll = DLL()\n",
    "\n",
    "inputs = [\n",
    "    [1,1,1,3,4,4,4,5,6,6], \n",
    "    [1,1,1,1,1,4,4,5,6,6], \n",
    "    [1,1,1,1,1], \n",
    "    [1,9,11,15,16,17], \n",
    "    [1], \n",
    "    [-5,-1,-1,-1,5,5,5,8,8,9,10,11,11], \n",
    "    [1,2,3,4,5,6,7,8,9,10,11,12,12]\n",
    "]\n",
    "\n",
    "for ip in inputs:\n",
    "    for e in ip:\n",
    "        ll.insert(e, hidePrints=True)\n",
    "        \n",
    "    print(f'LL Before = {ll}')\n",
    "    removeDuplicatesDLL(ll)\n",
    "    print(f'LL After = {ll}')\n",
    "    print(f'LL After (backwards) = {ll.traverse_backwards()}')\n",
    "    ll.empty()\n",
    "\n",
    "    print(f'-'*100)"
   ],
   "outputs": [
    {
     "output_type": "stream",
     "name": "stdout",
     "text": [
      "LL Before = H(1) -> NULL <- 1 <-> 1 <-> 1 <-> 3 <-> 4 <-> 4 <-> 4 <-> 5 <-> 6 <-> 6 -> NULL <- T(6)\n",
      "LL After = H(1) -> NULL <- 1 <-> 3 <-> 4 <-> 5 <-> 6 -> NULL <- T(6)\n",
      "LL After (backwards) = T(6) -> NULL <- 6 <-> 5 <-> 4 <-> 3 <-> 1 -> NULL <- H(1)\n",
      "----------------------------------------------------------------------------------------------------\n",
      "LL Before = H(1) -> NULL <- 1 <-> 1 <-> 1 <-> 1 <-> 1 <-> 4 <-> 4 <-> 5 <-> 6 <-> 6 -> NULL <- T(6)\n",
      "LL After = H(1) -> NULL <- 1 <-> 4 <-> 5 <-> 6 -> NULL <- T(6)\n",
      "LL After (backwards) = T(6) -> NULL <- 6 <-> 5 <-> 4 <-> 1 -> NULL <- H(1)\n",
      "----------------------------------------------------------------------------------------------------\n",
      "LL Before = H(1) -> NULL <- 1 <-> 1 <-> 1 <-> 1 <-> 1 -> NULL <- T(1)\n",
      "LL After = H(1) -> NULL <- 1 -> NULL <- T(1)\n",
      "LL After (backwards) = T(1) -> NULL <- 1 -> NULL <- H(1)\n",
      "----------------------------------------------------------------------------------------------------\n",
      "LL Before = H(1) -> NULL <- 1 <-> 9 <-> 11 <-> 15 <-> 16 <-> 17 -> NULL <- T(17)\n",
      "LL After = H(1) -> NULL <- 1 <-> 9 <-> 11 <-> 15 <-> 16 <-> 17 -> NULL <- T(17)\n",
      "LL After (backwards) = T(17) -> NULL <- 17 <-> 16 <-> 15 <-> 11 <-> 9 <-> 1 -> NULL <- H(1)\n",
      "----------------------------------------------------------------------------------------------------\n",
      "LL Before = H(1) -> NULL <- 1 -> NULL <- T(1)\n",
      "LL After = H(1) -> NULL <- 1 -> NULL <- T(1)\n",
      "LL After (backwards) = T(1) -> NULL <- 1 -> NULL <- H(1)\n",
      "----------------------------------------------------------------------------------------------------\n",
      "LL Before = H(-5) -> NULL <- -5 <-> -1 <-> -1 <-> -1 <-> 5 <-> 5 <-> 5 <-> 8 <-> 8 <-> 9 <-> 10 <-> 11 <-> 11 -> NULL <- T(11)\n",
      "LL After = H(-5) -> NULL <- -5 <-> -1 <-> 5 <-> 8 <-> 9 <-> 10 <-> 11 -> NULL <- T(11)\n",
      "LL After (backwards) = T(11) -> NULL <- 11 <-> 10 <-> 9 <-> 8 <-> 5 <-> -1 <-> -5 -> NULL <- H(-5)\n",
      "----------------------------------------------------------------------------------------------------\n",
      "LL Before = H(1) -> NULL <- 1 <-> 2 <-> 3 <-> 4 <-> 5 <-> 6 <-> 7 <-> 8 <-> 9 <-> 10 <-> 11 <-> 12 <-> 12 -> NULL <- T(12)\n",
      "LL After = H(1) -> NULL <- 1 <-> 2 <-> 3 <-> 4 <-> 5 <-> 6 <-> 7 <-> 8 <-> 9 <-> 10 <-> 11 <-> 12 -> NULL <- T(12)\n",
      "LL After (backwards) = T(12) -> NULL <- 12 <-> 11 <-> 10 <-> 9 <-> 8 <-> 7 <-> 6 <-> 5 <-> 4 <-> 3 <-> 2 <-> 1 -> NULL <- H(1)\n",
      "----------------------------------------------------------------------------------------------------\n"
     ]
    }
   ],
   "metadata": {}
  },
  {
   "cell_type": "markdown",
   "source": [
    "#### CDLL"
   ],
   "metadata": {}
  },
  {
   "cell_type": "code",
   "execution_count": 40,
   "source": [
    "from linkedLists import CDLL\n",
    "\n",
    "ll = CDLL()\n",
    "\n",
    "inputs = [\n",
    "    [1,1,1,3,4,4,4,5,6,6], \n",
    "    [1,1,1,1,1,4,4,5,6,6], \n",
    "    [1,1,1,1,1], \n",
    "    [1,9,11,15,16,17], \n",
    "    [1], \n",
    "    [-5,-1,-1,-1,5,5,5,8,8,9,10,11,11], \n",
    "    [1,2,3,4,5,6,7,8,9,10,11,12,12]\n",
    "]\n",
    "\n",
    "for ip in inputs:\n",
    "    for e in ip:\n",
    "        ll.insert(e, hidePrints=True)\n",
    "        \n",
    "    print(f'LL Before = {ll}')\n",
    "    removeDuplicatesCDLL(ll)\n",
    "    print(f'LL After = {ll}')\n",
    "    print(f'LL After (backwards) = {ll.traverse_backwards()}')\n",
    "    ll.empty()\n",
    "\n",
    "    print(f'-'*100)"
   ],
   "outputs": [
    {
     "output_type": "stream",
     "name": "stdout",
     "text": [
      "LL Before = H(1) -> ... <- 1 <-> 1 <-> 1 <-> 3 <-> 4 <-> 4 <-> 4 <-> 5 <-> 6 <-> 6 -> ... <- T(6)\n",
      "LL After = H(1) -> ... <- 1 <-> 3 <-> 4 <-> 5 <-> 6 -> ... <- T(6)\n",
      "LL After (backwards) = T(6) -> ... <- 6 <-> 5 <-> 4 <-> 3 <-> 1 -> ... <- H(1)\n",
      "----------------------------------------------------------------------------------------------------\n",
      "LL Before = H(1) -> ... <- 1 <-> 1 <-> 1 <-> 1 <-> 1 <-> 4 <-> 4 <-> 5 <-> 6 <-> 6 -> ... <- T(6)\n",
      "LL After = H(1) -> ... <- 1 <-> 4 <-> 5 <-> 6 -> ... <- T(6)\n",
      "LL After (backwards) = T(6) -> ... <- 6 <-> 5 <-> 4 <-> 1 -> ... <- H(1)\n",
      "----------------------------------------------------------------------------------------------------\n",
      "LL Before = H(1) -> ... <- 1 <-> 1 <-> 1 <-> 1 <-> 1 -> ... <- T(1)\n",
      "LL After = H(1) -> ... <- 1 -> ... <- T(1)\n",
      "LL After (backwards) = T(1) -> ... <- 1 -> ... <- H(1)\n",
      "----------------------------------------------------------------------------------------------------\n",
      "LL Before = H(1) -> ... <- 1 <-> 9 <-> 11 <-> 15 <-> 16 <-> 17 -> ... <- T(17)\n",
      "LL After = H(1) -> ... <- 1 <-> 9 <-> 11 <-> 15 <-> 16 <-> 17 -> ... <- T(17)\n",
      "LL After (backwards) = T(17) -> ... <- 17 <-> 16 <-> 15 <-> 11 <-> 9 <-> 1 -> ... <- H(1)\n",
      "----------------------------------------------------------------------------------------------------\n",
      "LL Before = H(1) -> ... <- 1 -> ... <- T(1)\n",
      "LL After = H(1) -> ... <- 1 -> ... <- T(1)\n",
      "LL After (backwards) = T(1) -> ... <- 1 -> ... <- H(1)\n",
      "----------------------------------------------------------------------------------------------------\n",
      "LL Before = H(-5) -> ... <- -5 <-> -1 <-> -1 <-> -1 <-> 5 <-> 5 <-> 5 <-> 8 <-> 8 <-> 9 <-> 10 <-> 11 <-> 11 -> ... <- T(11)\n",
      "LL After = H(-5) -> ... <- -5 <-> -1 <-> 5 <-> 8 <-> 9 <-> 10 <-> 11 -> ... <- T(11)\n",
      "LL After (backwards) = T(11) -> ... <- 11 <-> 10 <-> 9 <-> 8 <-> 5 <-> -1 <-> -5 -> ... <- H(-5)\n",
      "----------------------------------------------------------------------------------------------------\n",
      "LL Before = H(1) -> ... <- 1 <-> 2 <-> 3 <-> 4 <-> 5 <-> 6 <-> 7 <-> 8 <-> 9 <-> 10 <-> 11 <-> 12 <-> 12 -> ... <- T(12)\n",
      "LL After = H(1) -> ... <- 1 <-> 2 <-> 3 <-> 4 <-> 5 <-> 6 <-> 7 <-> 8 <-> 9 <-> 10 <-> 11 <-> 12 -> ... <- T(12)\n",
      "LL After (backwards) = T(12) -> ... <- 12 <-> 11 <-> 10 <-> 9 <-> 8 <-> 7 <-> 6 <-> 5 <-> 4 <-> 3 <-> 2 <-> 1 -> ... <- H(1)\n",
      "----------------------------------------------------------------------------------------------------\n"
     ]
    }
   ],
   "metadata": {}
  },
  {
   "cell_type": "markdown",
   "source": [],
   "metadata": {}
  }
 ],
 "metadata": {
  "orig_nbformat": 4,
  "language_info": {
   "name": "python",
   "version": "3.9.6",
   "mimetype": "text/x-python",
   "codemirror_mode": {
    "name": "ipython",
    "version": 3
   },
   "pygments_lexer": "ipython3",
   "nbconvert_exporter": "python",
   "file_extension": ".py"
  },
  "kernelspec": {
   "name": "python3",
   "display_name": "Python 3.9.6 64-bit"
  },
  "interpreter": {
   "hash": "aee8b7b246df8f9039afb4144a1f6fd8d2ca17a180786b69acc140d282b71a49"
  }
 },
 "nbformat": 4,
 "nbformat_minor": 2
}