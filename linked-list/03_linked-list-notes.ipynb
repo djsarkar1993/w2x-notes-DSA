{
 "cells": [
  {
   "cell_type": "markdown",
   "source": [
    "## What is a linked list?"
   ],
   "metadata": {}
  },
  {
   "cell_type": "markdown",
   "source": [
    "<p>A Linked List, like an array, is a linear / sequential data structure. However, the elements of a linked list, unlike an array, are not stored at contiguous memory locations; they are connected (linked) using pointers.</p>\n",
    "<p>A linked list consists of:<ul><li><b><u>nodes</u></b> where each node contains a <b><u>data field</b></u> and a <b><u>reference (link)</b></u> to the next node in the list.</li><li>a head pointer that points to the first node of the list.</li><li>a tail pointer that points to the last node of the list.</li></ul></p>\n",
    "<img src=\"Image/fig1-sll.png\" alt=\"Image/fig1-sll.png\"/>"
   ],
   "metadata": {}
  },
  {
   "cell_type": "markdown",
   "source": [
    "## Linked List vs Array"
   ],
   "metadata": {}
  },
  {
   "cell_type": "markdown",
   "source": [
    "<p>The major differences are listed below:<ul><li>The size of a linked list can <u>increase dynamically</u> while the size of an array is static.</li><li>Insertion/Deletion of an element from the middle of a linked list is <u>much faster</u> than that of an array (as no shifting of elements is needed).</li><li>Direct access of elements is <u>much faster</u> with arrays; compared to linked lists (as all previous elements must be traversed to reach any element\n",
    ").</li><li>Linked lists require <u>more memory</u> compared to arrays (as they store the reference of the next node in current node).</li></ul></p>"
   ],
   "metadata": {}
  },
  {
   "cell_type": "markdown",
   "source": [
    "## Types of linked list"
   ],
   "metadata": {}
  },
  {
   "cell_type": "markdown",
   "source": [
    "<p>The various types of linked list are:<ul><li>Single Linked List<br/><img src=\"Image/fig1-sll.png\" width=\"500\" alt=\"Image/fig1-sll.png\"/><br/><br/></li><li>Circular Single Linked List<br/><img src=\"Image/fig2-csll.png\" width=\"500\" alt=\"Image/fig2-csll.png\"/><br/><br/></li><li>Double Linked List<br/><img src=\"Image/fig3-dll.png\" width=\"500\" alt=\"Image/fig3-dll.png\"/><br/><br/></li><li>Circular Double Linked List<br/><img src=\"Image/fig4-cdll.png\" width=\"500\" alt=\"Image/fig4-cdll.png\"/></li></ul></p>"
   ],
   "metadata": {}
  },
  {
   "cell_type": "markdown",
   "source": [
    "## Single Linked List"
   ],
   "metadata": {}
  },
  {
   "cell_type": "markdown",
   "source": [
    "### Code"
   ],
   "metadata": {}
  },
  {
   "cell_type": "code",
   "execution_count": 1,
   "source": [
    "class SLLNode:\n",
    "    def __init__(self, value):\n",
    "        self.data = value\n",
    "        self.next = None\n",
    "    \n",
    "    def __str__(self):\n",
    "        return f'({self.data}, {hex(id(self.next))})'\n"
   ],
   "outputs": [],
   "metadata": {}
  },
  {
   "cell_type": "code",
   "execution_count": 2,
   "source": [
    "class SingleLinkedList:\n",
    "    def __init__(self):\n",
    "        self.head = None\n",
    "        self.tail = None\n",
    "        self.length = 0\n",
    "\n",
    "\n",
    "    def __str__(self):\n",
    "        result = ''\n",
    "        if self.length > 0:\n",
    "            current_node = self.head\n",
    "\n",
    "            result += f'[[[HEAD({hex(id(self.head))})]]] -> '\n",
    "            while current_node.next:\n",
    "                result += f'{current_node} -> '\n",
    "                current_node = current_node.next\n",
    "            result += f'{current_node} <- [[[TAIL({hex(id(self.tail))})]]]'\n",
    "        else:\n",
    "            result = \"The linked list is empty\"\n",
    "        \n",
    "        return result\n",
    "\n",
    "    \n",
    "    def insert(self, value, pos=-1):\n",
    "        node = SLLNode(value)\n",
    "        \n",
    "        if self.head is None:\n",
    "            print('Inserting to empty linked list')\n",
    "            if pos not in [1, -1]:\n",
    "                raise IndexError(f\"The linked list is empty. The value of pos should be 1 or -1\")\n",
    "            \n",
    "            self.head = node\n",
    "            self.tail = node\n",
    "\n",
    "        else:\n",
    "            if pos == 1:\n",
    "                print('Inserting to first position of linked list')\n",
    "                node.next = self.head\n",
    "                self.head = node\n",
    "            \n",
    "            elif pos == -1:\n",
    "                print('Inserting to last position of linked list')\n",
    "                self.tail.next = node\n",
    "                self.tail = node\n",
    "            \n",
    "            else:\n",
    "                print('Inserting to nth position of linked list')\n",
    "                if pos > self.length:\n",
    "                    raise IndexError(f\"The value of pos should be between 1 and {self.length}\")\n",
    "                \n",
    "                previous_node = self.head\n",
    "                current_node = self.head.next\n",
    "                for i in range(1, pos-1):\n",
    "                    previous_node = previous_node.next\n",
    "                    current_node = current_node.next\n",
    "                \n",
    "                node.next = current_node\n",
    "                previous_node.next = node\n",
    "            \n",
    "        self.length += 1\n",
    "\n",
    "    \n",
    "    def traverse(self):\n",
    "        if self.length > 0:\n",
    "            current_node = self.head\n",
    "            while current_node:\n",
    "                print(current_node.data, end = ' -> ')\n",
    "                current_node = current_node.next\n",
    "            print('NULL\\n')\n",
    "\n",
    "        else:\n",
    "            print('Linked list is empty')\n",
    "\n",
    "\n",
    "    def find_index(self, search_data):\n",
    "        result = -1\n",
    "\n",
    "        if self.length > 0:\n",
    "            current_node = self.head\n",
    "            idx = 1\n",
    "            while current_node:\n",
    "                if search_data == current_node.data:\n",
    "                    result = idx\n",
    "                    break\n",
    "\n",
    "                current_node = current_node.next\n",
    "                idx += 1\n",
    "\n",
    "        return result\n",
    "\n",
    "\n",
    "    def empty(self):\n",
    "        if self.head is None:\n",
    "            raise ValueError(\"Operation not permitted as linked list is empty!\")\n",
    "        \n",
    "        self.head = None\n",
    "        self.tail = None\n",
    "\n",
    "        self.length = 0\n",
    "    \n",
    "    \n",
    "    def delete(self, pos = -1):   \n",
    "        if self.head is None:\n",
    "            raise ValueError(\"Operation not permitted as linked list is empty!\")\n",
    "        \n",
    "        if pos > self.length:\n",
    "            raise IndexError(f\"The value of pos should between 1 and {self.length}\")\n",
    "        \n",
    "        if pos in [1, -1] and self.head == self.tail:\n",
    "            print('Deleting when linked list has only 1 element')\n",
    "            self.head = None\n",
    "            self.tail = None\n",
    "\n",
    "        elif pos == 1:\n",
    "            print('Deleting from first when linked list has more than 1 element')\n",
    "            self.head = self.head.next\n",
    "        \n",
    "        else:\n",
    "            print('Deleting from last / nth when linked list has more than 1 element')\n",
    "            pos_upper_bound = self.length if pos == -1 else pos\n",
    "\n",
    "            previous_node = self.head\n",
    "            current_node = self.head.next\n",
    "\n",
    "            for i in range(1, pos_upper_bound - 1):\n",
    "                previous_node = previous_node.next\n",
    "                current_node = current_node.next\n",
    "            \n",
    "            if current_node == self.tail:\n",
    "                self.tail = previous_node\n",
    "            \n",
    "            previous_node.next = current_node.next\n",
    "                \n",
    "        self.length -= 1\n"
   ],
   "outputs": [],
   "metadata": {}
  },
  {
   "cell_type": "markdown",
   "source": [
    "## Circular Single Linked List"
   ],
   "metadata": {}
  },
  {
   "cell_type": "markdown",
   "source": [
    "### Code"
   ],
   "metadata": {}
  },
  {
   "cell_type": "code",
   "execution_count": 3,
   "source": [
    "class CSLLNode:\n",
    "    def __init__(self, data):\n",
    "        self.data = data\n",
    "        self.next = None\n",
    "    \n",
    "    def __str__(self):\n",
    "        return f'({self.data}, {hex(id(self.next))})'\n"
   ],
   "outputs": [],
   "metadata": {}
  },
  {
   "cell_type": "code",
   "execution_count": 4,
   "source": [
    "class CircularSingleLinkedList:\n",
    "    def __init__(self):\n",
    "        self.head = None\n",
    "        self.tail = None\n",
    "        self.length = 0\n",
    "    \n",
    "    \n",
    "    def __str__(self):\n",
    "        if self.head:\n",
    "            result = f'[[[HEAD ({hex(id(self.head))})]]]'\n",
    "            current_node = self.head\n",
    "            while True:\n",
    "                result += f' -> {current_node}'\n",
    "                if current_node == self.tail:\n",
    "                    break\n",
    "                current_node = current_node.next\n",
    "            result += f' <- [[[TAIL({hex(id(self.tail))})]]]'\n",
    "            return result\n",
    "        else:\n",
    "            return \"Circular Single Linked List is empty!\"\n",
    "    \n",
    "\n",
    "    def insert(self, data, pos=-1):\n",
    "        node = CSLLNode(data)\n",
    "\n",
    "        if self.head is None:\n",
    "            print('Inserting to empty linked list')\n",
    "            if pos not in [1, -1]:\n",
    "                raise IndexError(f\"The circular single linked list is empty. The value of pos should be 1 or -1\")\n",
    "            \n",
    "            self.head = node\n",
    "            self.tail = node\n",
    "            node.next = node\n",
    "\n",
    "        else:\n",
    "            if pos == 1:\n",
    "                print('Inserting to first position of linked list')\n",
    "                node.next = self.head\n",
    "                self.head = node\n",
    "                self.tail.next = node \n",
    "            \n",
    "            elif pos == -1:\n",
    "                print('Inserting to last position of linked list')\n",
    "                self.tail.next = node\n",
    "                self.tail = node\n",
    "                node.next = self.head\n",
    "            \n",
    "            else:\n",
    "                print('Inserting to nth position of linked list')\n",
    "                if pos > self.length:\n",
    "                    raise IndexError(f\"The value of pos should be between 1 and {self.length}\")\n",
    "                \n",
    "                previous_node = self.head\n",
    "                current_node = self.head.next\n",
    "                for i in range(1, pos-1):\n",
    "                    previous_node = previous_node.next\n",
    "                    current_node = current_node.next\n",
    "                \n",
    "                node.next = current_node\n",
    "                previous_node.next = node\n",
    "        \n",
    "        self.length += 1\n",
    "    \n",
    "\n",
    "    def traverse(self):\n",
    "        if self.head is None:\n",
    "            print(\"Circular Single Linked List is empty!\")\n",
    "        else:\n",
    "            current_node = self.head\n",
    "            while True:\n",
    "                if current_node ==  self.tail:\n",
    "                    print(current_node.data, end=' <-> ')\n",
    "                    break\n",
    "                else:\n",
    "                    print(current_node.data, end=' -> ')\n",
    "                current_node = current_node.next\n",
    "            print('\\n')\n",
    "    \n",
    "    \n",
    "    def find_index(self, search_data):\n",
    "        result = -1\n",
    "\n",
    "        if self.head:\n",
    "            current_node = self.head\n",
    "            idx = 1\n",
    "            while True:\n",
    "                if search_data == current_node.data:\n",
    "                    result = idx\n",
    "                    break\n",
    "\n",
    "                if current_node == self.tail:\n",
    "                    break\n",
    "\n",
    "                current_node = current_node.next\n",
    "                idx += 1\n",
    "        \n",
    "        return result\n",
    "    \n",
    "    def empty(self):\n",
    "        if self.head is None:\n",
    "            raise ValueError(\"Operation not permitted as linked list is empty!\")\n",
    "        \n",
    "        self.tail.next = None\n",
    "\n",
    "        self.head = None\n",
    "        self.tail = None\n",
    "        \n",
    "        self.length = 0\n",
    "\n",
    "\n",
    "    def delete(self, pos=-1):\n",
    "        if self.head is None:\n",
    "            raise ValueError(\"Operation not permitted as linked list is empty!\")\n",
    "        \n",
    "        if pos > self.length:\n",
    "            raise IndexError(f\"The value of pos should between 1 and {self.length}\")\n",
    "        \n",
    "        if pos in [1, -1] and self.head == self.tail:\n",
    "            print('Deleting when linked list has only 1 element')\n",
    "            self.tail.next = None\n",
    "\n",
    "            self.head = None\n",
    "            self.tail = None\n",
    "\n",
    "        elif pos == 1:\n",
    "            print('Deleting from first when linked list has more than 1 element')\n",
    "            self.head = self.head.next\n",
    "            \n",
    "            self.tail.next = self.head\n",
    "        \n",
    "        else:\n",
    "            print('Deleting from last / nth when linked list has more than 1 element')\n",
    "            pos_upper_bound = self.length if pos == -1 else pos\n",
    "\n",
    "            previous_node = self.head\n",
    "            current_node = self.head.next\n",
    "            \n",
    "            for i in range(1, pos_upper_bound-1):\n",
    "                previous_node = previous_node.next\n",
    "                current_node = current_node.next\n",
    "            \n",
    "            if current_node == self.tail:\n",
    "                self.tail = previous_node\n",
    "            \n",
    "            previous_node.next = current_node.next\n",
    "            \n",
    "        self.length -= 1\n"
   ],
   "outputs": [],
   "metadata": {}
  },
  {
   "cell_type": "markdown",
   "source": [
    "## Double Linked List"
   ],
   "metadata": {}
  },
  {
   "cell_type": "markdown",
   "source": [
    "### Code"
   ],
   "metadata": {}
  },
  {
   "cell_type": "code",
   "execution_count": 5,
   "source": [
    "class DLLNode:\n",
    "    def __init__(self, data):\n",
    "        self.prev = None\n",
    "        self.data = data\n",
    "        self.next = None\n",
    "    \n",
    "    def __str__(self):\n",
    "        return f'({hex(id(self.prev))}, {self.data}, {hex(id(self.next))})'\n"
   ],
   "outputs": [],
   "metadata": {}
  },
  {
   "cell_type": "code",
   "execution_count": 6,
   "source": [
    "class DoubleLinkedList:\n",
    "    def __init__(self):\n",
    "        self.head = None\n",
    "        self.tail = None\n",
    "        self.length = 0\n",
    "    \n",
    "\n",
    "    def __str__(self):\n",
    "        if self.head:\n",
    "            result = f'[HEAD({hex(id(self.head))})] -> '\n",
    "            current_node = self.head\n",
    "            while current_node:\n",
    "                if current_node == self.tail:\n",
    "                    result += f'{current_node} <- [TAIL({hex(id(self.tail))})]'\n",
    "                else:\n",
    "                    result += f'{current_node} <-> '\n",
    "                \n",
    "                current_node = current_node.next\n",
    "            return result\n",
    "        else:\n",
    "            return  \"Double Linked List is empty!\"\n",
    "    \n",
    "\n",
    "    def insert(self, data, pos=-1):\n",
    "        node = DLLNode(data)\n",
    "\n",
    "        if self.head is None:\n",
    "            print('Inserting to empty double linked list')\n",
    "            if pos not in [1, -1]:\n",
    "                raise IndexError(f\"The double linked list is empty. The value of pos should be 1 or -1\")\n",
    "            \n",
    "            self.head = node\n",
    "            self.tail = node\n",
    "        \n",
    "        else:\n",
    "            if pos == 1:\n",
    "                print('Inserting to first position of double linked list')\n",
    "                self.head.prev = node\n",
    "                node.next = self.head\n",
    "                self.head = node\n",
    "\n",
    "            elif pos == -1:\n",
    "                print('Inserting to last position of double linked list')\n",
    "                self.tail.next = node\n",
    "                node.prev = self.tail\n",
    "                self.tail = node\n",
    "\n",
    "            else:\n",
    "                print('Inserting to nth position of linked list')\n",
    "                if pos > self.length:\n",
    "                    raise IndexError(f\"The value of pos should be between 1 and {self.length}\")\n",
    "                \n",
    "                previous_node = self.head\n",
    "                current_node = self.head.next\n",
    "                for i in range(1, pos-1):\n",
    "                    previous_node = previous_node.next\n",
    "                    current_node = current_node.next\n",
    "                \n",
    "                node.prev = previous_node\n",
    "                node.next = current_node\n",
    "\n",
    "                previous_node.next = node\n",
    "                current_node.prev = node\n",
    "        \n",
    "        self.length += 1\n",
    "    \n",
    "\n",
    "    def traverse(self):\n",
    "        if self.head:\n",
    "            print('NULL', end=' -> ')\n",
    "            current_node = self.head\n",
    "            while current_node:\n",
    "                if current_node == self.tail:\n",
    "                    print(f'{current_node.data} -> NULL')\n",
    "                else:\n",
    "                    print(current_node.data, end=' <-> ')\n",
    "                \n",
    "                current_node = current_node.next\n",
    "            \n",
    "        else:\n",
    "            print(\"Double Linked List is empty!\")\n",
    "    \n",
    "\n",
    "    def traverse_backwards(self):\n",
    "        if self.head:\n",
    "            print('NULL', end=' -> ')\n",
    "            current_node = self.tail\n",
    "            while current_node:\n",
    "                if current_node == self.head:\n",
    "                    print(f'{current_node.data} -> NULL')\n",
    "                else:\n",
    "                    print(current_node.data, end=' <-> ')\n",
    "                \n",
    "                current_node = current_node.prev\n",
    "            \n",
    "        else:\n",
    "            print(\"Double Linked List is empty!\")\n",
    "    \n",
    "\n",
    "    def find_index(self, search_data):\n",
    "        result = -1\n",
    "\n",
    "        if self.head:\n",
    "            current_node = self.head\n",
    "            idx = 1\n",
    "            while current_node:\n",
    "                if search_data == current_node.data:\n",
    "                    result = idx\n",
    "                    break\n",
    "\n",
    "                if current_node == self.tail:\n",
    "                    break\n",
    "\n",
    "                current_node = current_node.next\n",
    "                idx += 1\n",
    "        \n",
    "        return result\n",
    "    \n",
    "\n",
    "    def empty(self):\n",
    "        if self.head is None:\n",
    "            raise ValueError(\"Operation not permitted as double linked list is empty!\")\n",
    "        \n",
    "        current_node = self.head\n",
    "        while current_node:\n",
    "            current_node.prev = None\n",
    "            current_node = current_node.next\n",
    "        \n",
    "        self.head = None\n",
    "        self.tail = None\n",
    "        \n",
    "        self.length = 0\n",
    "    \n",
    "\n",
    "    def delete(self, pos=-1):\n",
    "        if self.head is None:\n",
    "            raise ValueError(\"Operation not permitted as double linked list is empty!\")\n",
    "        \n",
    "        if pos > self.length:\n",
    "            raise IndexError(f\"The value of pos should between 1 and {self.length}\")\n",
    "        \n",
    "        if pos in [1, -1] and self.head == self.tail:\n",
    "            print('Deleting when double linked list has only 1 element')\n",
    "            self.head = None\n",
    "            self.tail = None\n",
    "        \n",
    "        elif pos == 1:\n",
    "            print('Deleting from first when double linked list has more than 1 element')\n",
    "            self.head = self.head.next\n",
    "            self.head.prev = None\n",
    "\n",
    "        elif pos == -1:\n",
    "            print('Deleting from last when double linked list has more than 1 element')\n",
    "            self.tail = self.tail.prev\n",
    "            self.tail.next = None\n",
    "        \n",
    "        else:\n",
    "            print('Deleting the nth when double linked list has more than 1 element')\n",
    "            previous_node = self.head\n",
    "            current_node = self.head.next\n",
    "            for i in range(1, pos-1): \n",
    "                previous_node = previous_node.next\n",
    "                current_node = current_node.next\n",
    "            \n",
    "            previous_node.next = current_node.next\n",
    "\n",
    "            if current_node == self.tail:\n",
    "                self.tail =  previous_node\n",
    "            else:\n",
    "                current_node.next.prev = previous_node\n",
    "        \n",
    "        self.length -= 1\n",
    "        \n",
    "        \n"
   ],
   "outputs": [],
   "metadata": {}
  },
  {
   "cell_type": "markdown",
   "source": [
    "## Circular Double Linked List"
   ],
   "metadata": {}
  },
  {
   "cell_type": "markdown",
   "source": [
    "### Code"
   ],
   "metadata": {}
  },
  {
   "cell_type": "code",
   "execution_count": 7,
   "source": [
    "class CDLLNode:\n",
    "    def __init__(self, data):\n",
    "        self.prev = None\n",
    "        self.data = data\n",
    "        self.next = None\n",
    "    \n",
    "\n",
    "    def __str__(self):\n",
    "        return f\"({hex(id(self.prev))}, {self.data}, {hex(id(self.next))})\"\n"
   ],
   "outputs": [],
   "metadata": {}
  },
  {
   "cell_type": "code",
   "execution_count": 8,
   "source": [
    "class CircularDoubleLinkedList:\n",
    "    def __init__(self):\n",
    "        self.head = None\n",
    "        self.tail = None\n",
    "        self.length = 0\n",
    "    \n",
    "\n",
    "    def __str__(self):\n",
    "        if self.head:\n",
    "            result = f'[HEAD{hex(id(self.head))}] -> '\n",
    "            \n",
    "            current_node = self.head\n",
    "            while True:\n",
    "                if current_node == self.tail:\n",
    "                    result += f'{current_node} <- [TAIL({hex(id(self.tail))})]'\n",
    "                    break\n",
    "                else:\n",
    "                    result += f'{current_node} <-> '\n",
    "                \n",
    "                current_node = current_node.next\n",
    "            \n",
    "            return result\n",
    "        else:\n",
    "            return \"Circular double linked list is empty!\"\n",
    "    \n",
    "\n",
    "    def insert(self, data, pos=-1):\n",
    "        node = CDLLNode(data)\n",
    "\n",
    "        if self.head is None:\n",
    "            print('Inserting to empty circular double linked list')\n",
    "            if pos not in [1, -1]:\n",
    "                raise IndexError(f\"The circular double linked list is empty. The value of pos should be 1 or -1\")\n",
    "            \n",
    "            self.head = node\n",
    "            self.tail = node\n",
    "\n",
    "            node.prev = node\n",
    "            node.next = node\n",
    "\n",
    "        else:\n",
    "            if pos == 1:\n",
    "                print('Inserting to first position of circular double linked list')\n",
    "                self.head.prev = node\n",
    "                self.tail.next =  node\n",
    "                \n",
    "                node.next = self.head\n",
    "                node.prev = self.tail\n",
    "                \n",
    "                self.head =  node\n",
    "            \n",
    "            elif pos == -1:\n",
    "                print('Inserting to last position of circular double linked list')\n",
    "                self.tail.next = node\n",
    "                self.head.prev = node\n",
    "\n",
    "                node.prev = self.tail\n",
    "                node.next = self.head\n",
    "                \n",
    "                self.tail = node\n",
    "            \n",
    "            else:\n",
    "                print('Inserting to nth position of circular double linked list')\n",
    "                if pos > self.length:\n",
    "                    raise IndexError(f\"The value of pos should be between 1 and {self.length}\")\n",
    "                \n",
    "                previous_node = self.head\n",
    "                current_node = self.head.next\n",
    "                for i in range(1, pos-1):\n",
    "                    previous_node = previous_node.next\n",
    "                    current_node = current_node.next\n",
    "                \n",
    "                node.prev = previous_node\n",
    "                node.next = current_node\n",
    "\n",
    "                previous_node.next = node\n",
    "                current_node.prev = node\n",
    "        \n",
    "        self.length += 1\n",
    "    \n",
    "\n",
    "    def traverse(self):\n",
    "        if self.head:\n",
    "            print(end='<- ')\n",
    "            current_node = self.head\n",
    "            while True:\n",
    "                if current_node == self.tail:\n",
    "                    print(f'{current_node.data} ->')\n",
    "                    break\n",
    "                else:\n",
    "                    print(current_node.data, end=' <-> ')\n",
    "                \n",
    "                current_node = current_node.next\n",
    "        else:\n",
    "            print('The circular double linked list is empty!')\n",
    "    \n",
    "\n",
    "    def traverse_backwards(self):\n",
    "        if self.head:\n",
    "            print(end='<- ')\n",
    "            current_node = self.tail\n",
    "            while True:\n",
    "                if current_node == self.head:\n",
    "                    print(f'{current_node.data} ->')\n",
    "                    break\n",
    "                else:\n",
    "                    print(current_node.data, end=' <-> ')\n",
    "                \n",
    "                current_node = current_node.prev\n",
    "        else:\n",
    "            print('The circular double linked list is empty!')\n",
    "    \n",
    "\n",
    "    def find_index(self, search_data):\n",
    "        result = -1\n",
    "\n",
    "        if self.head:\n",
    "            current_node = self.head\n",
    "            idx = 1\n",
    "            while True:\n",
    "                if search_data == current_node.data:\n",
    "                    result = idx\n",
    "                    break\n",
    "                \n",
    "                if current_node == self.tail:\n",
    "                    break\n",
    "                \n",
    "                current_node = current_node.next\n",
    "                idx += 1\n",
    "        \n",
    "        return result\n",
    "    \n",
    "\n",
    "    def empty(self):\n",
    "        if self.head is None:\n",
    "            raise ValueError(\"Operation not permitted as circular double linked list is empty!\")\n",
    "        \n",
    "        self.tail.next = None\n",
    "\n",
    "        current_node = self.head\n",
    "        while current_node:\n",
    "            current_node.prev = None\n",
    "            current_node = current_node.next\n",
    "        \n",
    "        self.head = None\n",
    "        self.tail = None\n",
    "    \n",
    "\n",
    "    def delete(self, pos=-1):\n",
    "        if self.head is None:\n",
    "            raise ValueError(\"Operation not permitted as circular double linked list is empty!\") \n",
    "        \n",
    "        if pos > self.length:\n",
    "            raise IndexError(f\"The value of pos should between 1 and {self.length}\")\n",
    "        \n",
    "        if pos in [1, -1] and self.head == self.tail:\n",
    "            print('Deleting when circular double linked list has only 1 element')\n",
    "            self.head.prev = None\n",
    "            self.tail.next = None\n",
    "\n",
    "            self.head = None\n",
    "            self.tail = None\n",
    "        \n",
    "        elif pos == 1:\n",
    "            print('Deleting from first when circular double linked list has more than 1 element')\n",
    "            self.head = self.head.next\n",
    "\n",
    "            self.head.prev = self.tail\n",
    "            self.tail.next = self.head\n",
    "        \n",
    "        elif pos == -1:\n",
    "            print('Deleting from last when circular double linked list has more than 1 element')\n",
    "            self.tail = self.tail.prev\n",
    "\n",
    "            self.tail.next = self.head\n",
    "            self.head.prev = self.tail\n",
    "        \n",
    "        else:\n",
    "            print('Deleting the nth when double linked list has more than 1 element')\n",
    "            previous_node = self.head\n",
    "            current_node = self.head.next\n",
    "            for i in range(1, pos-1):\n",
    "                previous_node = previous_node.next\n",
    "                current_node = current_node.next\n",
    "            \n",
    "            if current_node  == self.tail:\n",
    "                self.tail = previous_node\n",
    "\n",
    "            previous_node.next = current_node.next\n",
    "            current_node.next.prev = previous_node\n",
    "        \n",
    "        self.length -= 1\n",
    "            \n",
    "            \n",
    "        "
   ],
   "outputs": [],
   "metadata": {}
  },
  {
   "cell_type": "markdown",
   "source": [
    "<table><tr><th></th><th>Array</th><th>Single Linked List</th><th>Circular Single Linked List</th><th>Double Linked List</th><th>Circular Double Linked List</th></tr><tr><td>Creation</td><td>O(1)</td><td>O(1)</td><td>O(1)</td><td>O(1)</td><td>O(1)</td></tr><tr><td colspan=\"6\" style=\"background:black;\"></td></tr><tr><td>Insertion to empty list</td><td>O(1)</td><td>O(1)</td><td>O(1)</td><td>O(1)</td><td>O(1)</td></tr><tr><td>Insertion at first position</td><td>O(1)</td><td>O(1)</td><td>O(1)</td><td>O(1)</td><td>O(1)</td></tr><tr><td>Insertion at last position</td><td>O(1)</td><td>O(1)</td><td>O(1)</td><td>O(1)</td><td>O(1)</td></tr><tr><td>Insertion at n<sup>th</sup> position</td><td>O(1)</td><td>O(n)</td><td>O(n)</td><td>O(n)</td><td>O(n)</td></tr><tr><td colspan=\"6\" style=\"background:black;\"></td></tr><tr><td>Search in unsorted data</td><td>O(n)</td><td>O(n)</td><td>O(n)</td><td>O(n)</td><td>O(n)</td></tr><tr><td>Search in sorted data</td><td>O(log n)</td><td>O(n)</td><td>O(n)</td><td>O(n)</td><td>O(n)</td></tr><tr><td>Traversing forward</td><td>O(n)</td><td>O(n)</td><td>O(n)</td><td>O(n)</td><td>O(n)</td></tr><tr><td>Traversing backward</td><td>O(n)</td><td>-</td><td>-</td><td>O(n)</td><td>O(n)</td></tr><tr><td colspan=\"6\" style=\"background:black;\"></td></tr><tr><td>Deletion of whole list</td><td>O(1)</td><td>O(1)</td><td>O(1)</td><td>O(n)</td><td>O(n)</td></tr><tr><td>Deletion when list has just one element/node</td><td>O(1)</td><td>O(1)</td><td>O(1)</td><td>O(1)</td><td>O(1)</td></tr><tr><td>Deletion from first position</td><td>O(1)</td><td>O(1)</td><td>O(1)</td><td>O(1)</td><td>O(1)</td></tr><tr><td>Deletion from last position</td><td>O(1)</td><td>O(n)</td><td>O(n)</td><td>O(1)</td><td>O(1)</td></tr><tr><td>Deletion from n<sup>th</sup> position</td><td>O(1)</td><td>O(n)</td><td>O(n)</td><td>O(n)</td><td>O(n)</td></tr><tr><td colspan=\"6\" style=\"background:black;\"></td></tr><tr><td>Accessing n<sup>th</sup> element</td><td>O(1)</td><td>O(n)</td><td>O(n)</td><td>O(n)</td><td>O(n)</td></tr></table>\n",
    "<p>The Space complexity of a all linked list operations is O(1)</p>"
   ],
   "metadata": {}
  },
  {
   "cell_type": "markdown",
   "source": [
    "## Complexity Analysis: Array vs. SLL vs. CSLL vs. DLL vs. CDLL"
   ],
   "metadata": {}
  },
  {
   "cell_type": "markdown",
   "source": [
    "## Tests"
   ],
   "metadata": {}
  },
  {
   "cell_type": "markdown",
   "source": [
    "### Single Linked List"
   ],
   "metadata": {}
  },
  {
   "cell_type": "markdown",
   "source": [
    "#### Insertion to empty linked list"
   ],
   "metadata": {}
  },
  {
   "cell_type": "code",
   "execution_count": 9,
   "source": [
    "print('*'*150)\n",
    "print('Testing: Insertion to empty linked list\\n')\n",
    "\n",
    "sll = SingleLinkedList()\n",
    "print(f'Before Insert:\\n{sll}')\n",
    "sll.insert(1)\n",
    "print(f'After Insert:\\n{sll}\\n')\n",
    "\n",
    "print('*'*150)\n"
   ],
   "outputs": [
    {
     "output_type": "stream",
     "name": "stdout",
     "text": [
      "******************************************************************************************************************************************************\n",
      "Testing: Insertion to empty linked list\n",
      "\n",
      "Before Insert:\n",
      "The linked list is empty\n",
      "Inserting to empty linked list\n",
      "After Insert:\n",
      "[[[HEAD(0x7fbe36b79190)]]] -> (1, 0x105edef30) <- [[[TAIL(0x7fbe36b79190)]]]\n",
      "\n",
      "******************************************************************************************************************************************************\n"
     ]
    }
   ],
   "metadata": {}
  },
  {
   "cell_type": "markdown",
   "source": [
    "#### Insertion to end of linked list"
   ],
   "metadata": {}
  },
  {
   "cell_type": "code",
   "execution_count": 10,
   "source": [
    "print('*'*150)\n",
    "print('Testing: Insertion to end of linked list\\n')\n",
    "\n",
    "sll = SingleLinkedList()\n",
    "\n",
    "print(f'Before Insert:\\n{sll}')\n",
    "sll.insert('abc')\n",
    "print(f'After Insert:\\n{sll}\\n')\n",
    "\n",
    "print(f'Before Insert:\\n{sll}')\n",
    "sll.insert(123, -1)\n",
    "print(f'After Insert:\\n{sll}\\n')\n",
    "\n",
    "print(f'Before Insert:\\n{sll}')\n",
    "sll.insert(4.56, -1)\n",
    "print(f'After Insert:\\n{sll}\\n')\n",
    "\n",
    "print('*'*150)"
   ],
   "outputs": [
    {
     "output_type": "stream",
     "name": "stdout",
     "text": [
      "******************************************************************************************************************************************************\n",
      "Testing: Insertion to end of linked list\n",
      "\n",
      "Before Insert:\n",
      "The linked list is empty\n",
      "Inserting to empty linked list\n",
      "After Insert:\n",
      "[[[HEAD(0x7fbe36b5efd0)]]] -> (abc, 0x105edef30) <- [[[TAIL(0x7fbe36b5efd0)]]]\n",
      "\n",
      "Before Insert:\n",
      "[[[HEAD(0x7fbe36b5efd0)]]] -> (abc, 0x105edef30) <- [[[TAIL(0x7fbe36b5efd0)]]]\n",
      "Inserting to last position of linked list\n",
      "After Insert:\n",
      "[[[HEAD(0x7fbe36b5efd0)]]] -> (abc, 0x7fbe36b79d60) -> (123, 0x105edef30) <- [[[TAIL(0x7fbe36b79d60)]]]\n",
      "\n",
      "Before Insert:\n",
      "[[[HEAD(0x7fbe36b5efd0)]]] -> (abc, 0x7fbe36b79d60) -> (123, 0x105edef30) <- [[[TAIL(0x7fbe36b79d60)]]]\n",
      "Inserting to last position of linked list\n",
      "After Insert:\n",
      "[[[HEAD(0x7fbe36b5efd0)]]] -> (abc, 0x7fbe36b79d60) -> (123, 0x7fbe36b3dd60) -> (4.56, 0x105edef30) <- [[[TAIL(0x7fbe36b3dd60)]]]\n",
      "\n",
      "******************************************************************************************************************************************************\n"
     ]
    }
   ],
   "metadata": {}
  },
  {
   "cell_type": "markdown",
   "source": [
    "#### Insertion to start of linked list"
   ],
   "metadata": {}
  },
  {
   "cell_type": "code",
   "execution_count": 11,
   "source": [
    "print('*'*150)\n",
    "print('Testing: Insertion to start of linked list\\n')\n",
    "\n",
    "sll = SingleLinkedList()\n",
    "\n",
    "print(f'Before Insert:\\n{sll}')\n",
    "sll.insert(3, 1)\n",
    "print(f'After Insert:\\n{sll}\\n')\n",
    "\n",
    "print(f'Before Insert:\\n{sll}')\n",
    "sll.insert(2, 1)\n",
    "print(f'After Insert:\\n{sll}\\n')\n",
    "\n",
    "print(f'Before Insert:\\n{sll}')\n",
    "sll.insert(1, 1)\n",
    "print(f'After Insert:\\n{sll}\\n')\n",
    "\n",
    "print('*'*150)\n"
   ],
   "outputs": [
    {
     "output_type": "stream",
     "name": "stdout",
     "text": [
      "******************************************************************************************************************************************************\n",
      "Testing: Insertion to start of linked list\n",
      "\n",
      "Before Insert:\n",
      "The linked list is empty\n",
      "Inserting to empty linked list\n",
      "After Insert:\n",
      "[[[HEAD(0x7fbe36b79d60)]]] -> (3, 0x105edef30) <- [[[TAIL(0x7fbe36b79d60)]]]\n",
      "\n",
      "Before Insert:\n",
      "[[[HEAD(0x7fbe36b79d60)]]] -> (3, 0x105edef30) <- [[[TAIL(0x7fbe36b79d60)]]]\n",
      "Inserting to first position of linked list\n",
      "After Insert:\n",
      "[[[HEAD(0x7fbe36b5e670)]]] -> (2, 0x7fbe36b79d60) -> (3, 0x105edef30) <- [[[TAIL(0x7fbe36b79d60)]]]\n",
      "\n",
      "Before Insert:\n",
      "[[[HEAD(0x7fbe36b5e670)]]] -> (2, 0x7fbe36b79d60) -> (3, 0x105edef30) <- [[[TAIL(0x7fbe36b79d60)]]]\n",
      "Inserting to first position of linked list\n",
      "After Insert:\n",
      "[[[HEAD(0x7fbe36b79a30)]]] -> (1, 0x7fbe36b5e670) -> (2, 0x7fbe36b79d60) -> (3, 0x105edef30) <- [[[TAIL(0x7fbe36b79d60)]]]\n",
      "\n",
      "******************************************************************************************************************************************************\n"
     ]
    }
   ],
   "metadata": {}
  },
  {
   "cell_type": "markdown",
   "source": [
    "#### Insertion in between linked list"
   ],
   "metadata": {}
  },
  {
   "cell_type": "code",
   "execution_count": 12,
   "source": [
    "print('*'*150)\n",
    "print('Testing: Insertion to start of linked list\\n')\n",
    "\n",
    "sll = SingleLinkedList()\n",
    "sll.insert(1)\n",
    "sll.insert(3)\n",
    "sll.insert(5)\n",
    "\n",
    "print(f'\\nBefore Insert:\\n{sll}')\n",
    "sll.insert(4, 3)\n",
    "print(f'After Insert:\\n{sll}\\n')\n",
    "\n",
    "print(f'Before Insert:\\n{sll}')\n",
    "sll.insert(2, 2)\n",
    "print(f'After Insert:\\n{sll}\\n')\n",
    "\n",
    "print('*'*150)\n",
    "\n"
   ],
   "outputs": [
    {
     "output_type": "stream",
     "name": "stdout",
     "text": [
      "******************************************************************************************************************************************************\n",
      "Testing: Insertion to start of linked list\n",
      "\n",
      "Inserting to empty linked list\n",
      "Inserting to last position of linked list\n",
      "Inserting to last position of linked list\n",
      "\n",
      "Before Insert:\n",
      "[[[HEAD(0x7fbe36b5e670)]]] -> (1, 0x7fbe36b5e190) -> (3, 0x7fbe36b79a30) -> (5, 0x105edef30) <- [[[TAIL(0x7fbe36b79a30)]]]\n",
      "Inserting to nth position of linked list\n",
      "After Insert:\n",
      "[[[HEAD(0x7fbe36b5e670)]]] -> (1, 0x7fbe36b5e190) -> (3, 0x7fbe36b3dee0) -> (4, 0x7fbe36b79a30) -> (5, 0x105edef30) <- [[[TAIL(0x7fbe36b79a30)]]]\n",
      "\n",
      "Before Insert:\n",
      "[[[HEAD(0x7fbe36b5e670)]]] -> (1, 0x7fbe36b5e190) -> (3, 0x7fbe36b3dee0) -> (4, 0x7fbe36b79a30) -> (5, 0x105edef30) <- [[[TAIL(0x7fbe36b79a30)]]]\n",
      "Inserting to nth position of linked list\n",
      "After Insert:\n",
      "[[[HEAD(0x7fbe36b5e670)]]] -> (1, 0x7fbe36b3dd90) -> (2, 0x7fbe36b5e190) -> (3, 0x7fbe36b3dee0) -> (4, 0x7fbe36b79a30) -> (5, 0x105edef30) <- [[[TAIL(0x7fbe36b79a30)]]]\n",
      "\n",
      "******************************************************************************************************************************************************\n"
     ]
    }
   ],
   "metadata": {}
  },
  {
   "cell_type": "markdown",
   "source": [
    "#### Traversal of linked list"
   ],
   "metadata": {}
  },
  {
   "cell_type": "code",
   "execution_count": 13,
   "source": [
    "print('*'*150)\n",
    "print('Testing: Traversal of linked list\\n')\n",
    "\n",
    "sll.traverse()\n",
    "\n",
    "print('*'*150)\n"
   ],
   "outputs": [
    {
     "output_type": "stream",
     "name": "stdout",
     "text": [
      "******************************************************************************************************************************************************\n",
      "Testing: Traversal of linked list\n",
      "\n",
      "1 -> 2 -> 3 -> 4 -> 5 -> NULL\n",
      "\n",
      "******************************************************************************************************************************************************\n"
     ]
    }
   ],
   "metadata": {}
  },
  {
   "cell_type": "markdown",
   "source": [
    "#### Searching for a value"
   ],
   "metadata": {}
  },
  {
   "cell_type": "code",
   "execution_count": 14,
   "source": [
    "print('*'*150)\n",
    "print('Testing: Traversal of linked list\\n')\n",
    "\n",
    "print(f'Index of 100 in empty list = {SingleLinkedList().find_index(100)}\\n')\n",
    "\n",
    "print(f'sll = ', end='')\n",
    "sll.traverse()\n",
    "\n",
    "print(f'Index of 5 = {sll.find_index(5)}')\n",
    "print(f'Index of 100 = {sll.find_index(100)}')\n",
    "\n",
    "print('*'*150)"
   ],
   "outputs": [
    {
     "output_type": "stream",
     "name": "stdout",
     "text": [
      "******************************************************************************************************************************************************\n",
      "Testing: Traversal of linked list\n",
      "\n",
      "Index of 100 in empty list = -1\n",
      "\n",
      "sll = 1 -> 2 -> 3 -> 4 -> 5 -> NULL\n",
      "\n",
      "Index of 5 = 5\n",
      "Index of 100 = -1\n",
      "******************************************************************************************************************************************************\n"
     ]
    }
   ],
   "metadata": {}
  },
  {
   "cell_type": "markdown",
   "source": [
    "#### Deletion when list has just 1 element"
   ],
   "metadata": {}
  },
  {
   "cell_type": "code",
   "execution_count": 15,
   "source": [
    "print('*'*150)\n",
    "print('Testing: Deletion when list has just 1 element\\n')\n",
    "\n",
    "sll = SingleLinkedList()\n",
    "sll.insert(123)\n",
    "\n",
    "print(f'\\nBefore Delete:\\n{sll}')\n",
    "sll.delete()\n",
    "print(f'\\nAfter Delete:\\n{sll}')\n",
    "\n",
    "print('*'*150)\n"
   ],
   "outputs": [
    {
     "output_type": "stream",
     "name": "stdout",
     "text": [
      "******************************************************************************************************************************************************\n",
      "Testing: Deletion when list has just 1 element\n",
      "\n",
      "Inserting to empty linked list\n",
      "\n",
      "Before Delete:\n",
      "[[[HEAD(0x7fbe36b5e190)]]] -> (123, 0x105edef30) <- [[[TAIL(0x7fbe36b5e190)]]]\n",
      "Deleting when linked list has only 1 element\n",
      "\n",
      "After Delete:\n",
      "The linked list is empty\n",
      "******************************************************************************************************************************************************\n"
     ]
    }
   ],
   "metadata": {}
  },
  {
   "cell_type": "markdown",
   "source": [
    "#### Deletion from first"
   ],
   "metadata": {}
  },
  {
   "cell_type": "code",
   "execution_count": 16,
   "source": [
    "print('*'*150)\n",
    "print('Testing: Deletion from first\\n')\n",
    "\n",
    "sll = SingleLinkedList()\n",
    "sll.insert(1)\n",
    "sll.insert(2)\n",
    "sll.insert(3)\n",
    "\n",
    "print(f'\\nBefore Delete:\\n{sll}')\n",
    "sll.delete(pos=1)\n",
    "print(f'\\nAfter Delete:\\n{sll}')\n",
    "\n",
    "print(f'\\nBefore Delete:\\n{sll}')\n",
    "sll.delete(pos=1)\n",
    "print(f'\\nAfter Delete:\\n{sll}')\n",
    "\n",
    "print(f'\\nBefore Delete:\\n{sll}')\n",
    "sll.delete(pos=1)\n",
    "print(f'\\nAfter Delete:\\n{sll}')\n",
    "\n",
    "print('*'*150)\n"
   ],
   "outputs": [
    {
     "output_type": "stream",
     "name": "stdout",
     "text": [
      "******************************************************************************************************************************************************\n",
      "Testing: Deletion from first\n",
      "\n",
      "Inserting to empty linked list\n",
      "Inserting to last position of linked list\n",
      "Inserting to last position of linked list\n",
      "\n",
      "Before Delete:\n",
      "[[[HEAD(0x7fbe36b799d0)]]] -> (1, 0x7fbe36b79ac0) -> (2, 0x7fbe36b3ddc0) -> (3, 0x105edef30) <- [[[TAIL(0x7fbe36b3ddc0)]]]\n",
      "Deleting from first when linked list has more than 1 element\n",
      "\n",
      "After Delete:\n",
      "[[[HEAD(0x7fbe36b79ac0)]]] -> (2, 0x7fbe36b3ddc0) -> (3, 0x105edef30) <- [[[TAIL(0x7fbe36b3ddc0)]]]\n",
      "\n",
      "Before Delete:\n",
      "[[[HEAD(0x7fbe36b79ac0)]]] -> (2, 0x7fbe36b3ddc0) -> (3, 0x105edef30) <- [[[TAIL(0x7fbe36b3ddc0)]]]\n",
      "Deleting from first when linked list has more than 1 element\n",
      "\n",
      "After Delete:\n",
      "[[[HEAD(0x7fbe36b3ddc0)]]] -> (3, 0x105edef30) <- [[[TAIL(0x7fbe36b3ddc0)]]]\n",
      "\n",
      "Before Delete:\n",
      "[[[HEAD(0x7fbe36b3ddc0)]]] -> (3, 0x105edef30) <- [[[TAIL(0x7fbe36b3ddc0)]]]\n",
      "Deleting when linked list has only 1 element\n",
      "\n",
      "After Delete:\n",
      "The linked list is empty\n",
      "******************************************************************************************************************************************************\n"
     ]
    }
   ],
   "metadata": {}
  },
  {
   "cell_type": "markdown",
   "source": [
    "#### Deletion from last"
   ],
   "metadata": {}
  },
  {
   "cell_type": "code",
   "execution_count": 17,
   "source": [
    "print('*'*150)\n",
    "print('Testing: Deletion from last\\n')\n",
    "\n",
    "sll = SingleLinkedList()\n",
    "sll.insert(1)\n",
    "sll.insert(2)\n",
    "sll.insert(3)\n",
    "\n",
    "print(f'\\nBefore Delete:\\n{sll}')\n",
    "sll.delete()\n",
    "print(f'\\nAfter Delete:\\n{sll}')\n",
    "\n",
    "print(f'\\nBefore Delete:\\n{sll}')\n",
    "sll.delete()\n",
    "print(f'\\nAfter Delete:\\n{sll}')\n",
    "\n",
    "print(f'\\nBefore Delete:\\n{sll}')\n",
    "sll.delete()\n",
    "print(f'\\nAfter Delete:\\n{sll}')\n",
    "\n",
    "print('*'*150)"
   ],
   "outputs": [
    {
     "output_type": "stream",
     "name": "stdout",
     "text": [
      "******************************************************************************************************************************************************\n",
      "Testing: Deletion from last\n",
      "\n",
      "Inserting to empty linked list\n",
      "Inserting to last position of linked list\n",
      "Inserting to last position of linked list\n",
      "\n",
      "Before Delete:\n",
      "[[[HEAD(0x7fbe36b3ddf0)]]] -> (1, 0x7fbe36b3d700) -> (2, 0x7fbe36b79f40) -> (3, 0x105edef30) <- [[[TAIL(0x7fbe36b79f40)]]]\n",
      "Deleting from last / nth when linked list has more than 1 element\n",
      "\n",
      "After Delete:\n",
      "[[[HEAD(0x7fbe36b3ddf0)]]] -> (1, 0x7fbe36b3d700) -> (2, 0x105edef30) <- [[[TAIL(0x7fbe36b3d700)]]]\n",
      "\n",
      "Before Delete:\n",
      "[[[HEAD(0x7fbe36b3ddf0)]]] -> (1, 0x7fbe36b3d700) -> (2, 0x105edef30) <- [[[TAIL(0x7fbe36b3d700)]]]\n",
      "Deleting from last / nth when linked list has more than 1 element\n",
      "\n",
      "After Delete:\n",
      "[[[HEAD(0x7fbe36b3ddf0)]]] -> (1, 0x105edef30) <- [[[TAIL(0x7fbe36b3ddf0)]]]\n",
      "\n",
      "Before Delete:\n",
      "[[[HEAD(0x7fbe36b3ddf0)]]] -> (1, 0x105edef30) <- [[[TAIL(0x7fbe36b3ddf0)]]]\n",
      "Deleting when linked list has only 1 element\n",
      "\n",
      "After Delete:\n",
      "The linked list is empty\n",
      "******************************************************************************************************************************************************\n"
     ]
    }
   ],
   "metadata": {}
  },
  {
   "cell_type": "markdown",
   "source": [
    "#### Delete from nth position"
   ],
   "metadata": {}
  },
  {
   "cell_type": "code",
   "execution_count": 18,
   "source": [
    "print('*'*150)\n",
    "print('Testing: Deletion from nth place\\n')\n",
    "\n",
    "sll = SingleLinkedList()\n",
    "sll.insert(1)\n",
    "sll.insert(2)\n",
    "sll.insert(3)\n",
    "\n",
    "print(f'\\nBefore Delete:\\n{sll}')\n",
    "sll.delete(2)\n",
    "print(f'\\nAfter Delete:\\n{sll}')\n",
    "\n",
    "print(f'\\nBefore Delete:\\n{sll}')\n",
    "sll.delete(2)\n",
    "print(f'\\nAfter Delete:\\n{sll}')\n",
    "\n",
    "print('*'*150)"
   ],
   "outputs": [
    {
     "output_type": "stream",
     "name": "stdout",
     "text": [
      "******************************************************************************************************************************************************\n",
      "Testing: Deletion from nth place\n",
      "\n",
      "Inserting to empty linked list\n",
      "Inserting to last position of linked list\n",
      "Inserting to last position of linked list\n",
      "\n",
      "Before Delete:\n",
      "[[[HEAD(0x7fbe36b3d850)]]] -> (1, 0x7fbe36b3d7f0) -> (2, 0x7fbe36b3dd30) -> (3, 0x105edef30) <- [[[TAIL(0x7fbe36b3dd30)]]]\n",
      "Deleting from last / nth when linked list has more than 1 element\n",
      "\n",
      "After Delete:\n",
      "[[[HEAD(0x7fbe36b3d850)]]] -> (1, 0x7fbe36b3dd30) -> (3, 0x105edef30) <- [[[TAIL(0x7fbe36b3dd30)]]]\n",
      "\n",
      "Before Delete:\n",
      "[[[HEAD(0x7fbe36b3d850)]]] -> (1, 0x7fbe36b3dd30) -> (3, 0x105edef30) <- [[[TAIL(0x7fbe36b3dd30)]]]\n",
      "Deleting from last / nth when linked list has more than 1 element\n",
      "\n",
      "After Delete:\n",
      "[[[HEAD(0x7fbe36b3d850)]]] -> (1, 0x105edef30) <- [[[TAIL(0x7fbe36b3d850)]]]\n",
      "******************************************************************************************************************************************************\n"
     ]
    }
   ],
   "metadata": {}
  },
  {
   "cell_type": "markdown",
   "source": [
    "### Circular Single Linked List"
   ],
   "metadata": {}
  },
  {
   "cell_type": "markdown",
   "source": [
    "#### Insertion to empty linked list"
   ],
   "metadata": {}
  },
  {
   "cell_type": "code",
   "execution_count": 19,
   "source": [
    "print('*'*150)\n",
    "print('Testing: Insertion to empty linked list\\n')\n",
    "\n",
    "csll = CircularSingleLinkedList()\n",
    "print(f'Before Insert:\\n{csll}')\n",
    "csll.insert(1)\n",
    "print(f'After Insert:\\n{csll}\\n')\n",
    "\n",
    "print('*'*150)\n"
   ],
   "outputs": [
    {
     "output_type": "stream",
     "name": "stdout",
     "text": [
      "******************************************************************************************************************************************************\n",
      "Testing: Insertion to empty linked list\n",
      "\n",
      "Before Insert:\n",
      "Circular Single Linked List is empty!\n",
      "Inserting to empty linked list\n",
      "After Insert:\n",
      "[[[HEAD (0x7fbe36b5e430)]]] -> (1, 0x7fbe36b5e430) <- [[[TAIL(0x7fbe36b5e430)]]]\n",
      "\n",
      "******************************************************************************************************************************************************\n"
     ]
    }
   ],
   "metadata": {}
  },
  {
   "cell_type": "markdown",
   "source": [
    "#### Insertion to end of linked list"
   ],
   "metadata": {}
  },
  {
   "cell_type": "code",
   "execution_count": 20,
   "source": [
    "print('*'*150)\n",
    "print('Testing: Insertion to end of linked list\\n')\n",
    "\n",
    "csll = CircularSingleLinkedList()\n",
    "\n",
    "print(f'Before Insert:\\n{csll}')\n",
    "csll.insert('abc')\n",
    "print(f'After Insert:\\n{csll}\\n')\n",
    "\n",
    "print(f'Before Insert:\\n{csll}')\n",
    "csll.insert(123)\n",
    "print(f'After Insert:\\n{csll}\\n')\n",
    "\n",
    "print(f'Before Insert:\\n{csll}')\n",
    "csll.insert(4.56, -1)\n",
    "print(f'After Insert:\\n{csll}\\n')\n",
    "\n",
    "print('*'*150)"
   ],
   "outputs": [
    {
     "output_type": "stream",
     "name": "stdout",
     "text": [
      "******************************************************************************************************************************************************\n",
      "Testing: Insertion to end of linked list\n",
      "\n",
      "Before Insert:\n",
      "Circular Single Linked List is empty!\n",
      "Inserting to empty linked list\n",
      "After Insert:\n",
      "[[[HEAD (0x7fbe36b5e040)]]] -> (abc, 0x7fbe36b5e040) <- [[[TAIL(0x7fbe36b5e040)]]]\n",
      "\n",
      "Before Insert:\n",
      "[[[HEAD (0x7fbe36b5e040)]]] -> (abc, 0x7fbe36b5e040) <- [[[TAIL(0x7fbe36b5e040)]]]\n",
      "Inserting to last position of linked list\n",
      "After Insert:\n",
      "[[[HEAD (0x7fbe36b5e040)]]] -> (abc, 0x7fbe36b5e340) -> (123, 0x7fbe36b5e040) <- [[[TAIL(0x7fbe36b5e340)]]]\n",
      "\n",
      "Before Insert:\n",
      "[[[HEAD (0x7fbe36b5e040)]]] -> (abc, 0x7fbe36b5e340) -> (123, 0x7fbe36b5e040) <- [[[TAIL(0x7fbe36b5e340)]]]\n",
      "Inserting to last position of linked list\n",
      "After Insert:\n",
      "[[[HEAD (0x7fbe36b5e040)]]] -> (abc, 0x7fbe36b5e340) -> (123, 0x7fbe36b79c40) -> (4.56, 0x7fbe36b5e040) <- [[[TAIL(0x7fbe36b79c40)]]]\n",
      "\n",
      "******************************************************************************************************************************************************\n"
     ]
    }
   ],
   "metadata": {}
  },
  {
   "cell_type": "markdown",
   "source": [
    "#### Insertion to start of linked list"
   ],
   "metadata": {}
  },
  {
   "cell_type": "code",
   "execution_count": 21,
   "source": [
    "print('*'*150)\n",
    "print('Testing: Insertion to start of linked list\\n')\n",
    "\n",
    "csll = CircularSingleLinkedList()\n",
    "\n",
    "print(f'Before Insert:\\n{csll}')\n",
    "csll.insert(3, 1)\n",
    "print(f'After Insert:\\n{csll}\\n')\n",
    "\n",
    "print(f'Before Insert:\\n{csll}')\n",
    "csll.insert(2, 1)\n",
    "print(f'After Insert:\\n{csll}\\n')\n",
    "\n",
    "print(f'Before Insert:\\n{csll}')\n",
    "csll.insert(1, 1)\n",
    "print(f'After Insert:\\n{csll}\\n')\n",
    "\n",
    "print('*'*150)\n"
   ],
   "outputs": [
    {
     "output_type": "stream",
     "name": "stdout",
     "text": [
      "******************************************************************************************************************************************************\n",
      "Testing: Insertion to start of linked list\n",
      "\n",
      "Before Insert:\n",
      "Circular Single Linked List is empty!\n",
      "Inserting to empty linked list\n",
      "After Insert:\n",
      "[[[HEAD (0x7fbe36b5ee50)]]] -> (3, 0x7fbe36b5ee50) <- [[[TAIL(0x7fbe36b5ee50)]]]\n",
      "\n",
      "Before Insert:\n",
      "[[[HEAD (0x7fbe36b5ee50)]]] -> (3, 0x7fbe36b5ee50) <- [[[TAIL(0x7fbe36b5ee50)]]]\n",
      "Inserting to first position of linked list\n",
      "After Insert:\n",
      "[[[HEAD (0x7fbe36b3da30)]]] -> (2, 0x7fbe36b5ee50) -> (3, 0x7fbe36b3da30) <- [[[TAIL(0x7fbe36b5ee50)]]]\n",
      "\n",
      "Before Insert:\n",
      "[[[HEAD (0x7fbe36b3da30)]]] -> (2, 0x7fbe36b5ee50) -> (3, 0x7fbe36b3da30) <- [[[TAIL(0x7fbe36b5ee50)]]]\n",
      "Inserting to first position of linked list\n",
      "After Insert:\n",
      "[[[HEAD (0x7fbe36b79ee0)]]] -> (1, 0x7fbe36b3da30) -> (2, 0x7fbe36b5ee50) -> (3, 0x7fbe36b79ee0) <- [[[TAIL(0x7fbe36b5ee50)]]]\n",
      "\n",
      "******************************************************************************************************************************************************\n"
     ]
    }
   ],
   "metadata": {}
  },
  {
   "cell_type": "markdown",
   "source": [
    "#### Insertion in between linked list"
   ],
   "metadata": {}
  },
  {
   "cell_type": "code",
   "execution_count": 22,
   "source": [
    "print('*'*150)\n",
    "print('Testing: Insertion to start of linked list\\n')\n",
    "\n",
    "csll = CircularSingleLinkedList()\n",
    "csll.insert(1)\n",
    "csll.insert(3)\n",
    "csll.insert(5)\n",
    "\n",
    "print(f'\\nBefore Insert:\\n{csll}')\n",
    "csll.insert(4, 3)\n",
    "print(f'After Insert:\\n{csll}\\n')\n",
    "\n",
    "print(f'Before Insert:\\n{csll}')\n",
    "csll.insert(2, 2)\n",
    "print(f'After Insert:\\n{csll}\\n')\n",
    "\n",
    "print('*'*150)\n",
    "\n"
   ],
   "outputs": [
    {
     "output_type": "stream",
     "name": "stdout",
     "text": [
      "******************************************************************************************************************************************************\n",
      "Testing: Insertion to start of linked list\n",
      "\n",
      "Inserting to empty linked list\n",
      "Inserting to last position of linked list\n",
      "Inserting to last position of linked list\n",
      "\n",
      "Before Insert:\n",
      "[[[HEAD (0x7fbe36b79c70)]]] -> (1, 0x7fbe36b3d340) -> (3, 0x7fbe36b796d0) -> (5, 0x7fbe36b79c70) <- [[[TAIL(0x7fbe36b796d0)]]]\n",
      "Inserting to nth position of linked list\n",
      "After Insert:\n",
      "[[[HEAD (0x7fbe36b79c70)]]] -> (1, 0x7fbe36b3d340) -> (3, 0x7fbe36b79130) -> (4, 0x7fbe36b796d0) -> (5, 0x7fbe36b79c70) <- [[[TAIL(0x7fbe36b796d0)]]]\n",
      "\n",
      "Before Insert:\n",
      "[[[HEAD (0x7fbe36b79c70)]]] -> (1, 0x7fbe36b3d340) -> (3, 0x7fbe36b79130) -> (4, 0x7fbe36b796d0) -> (5, 0x7fbe36b79c70) <- [[[TAIL(0x7fbe36b796d0)]]]\n",
      "Inserting to nth position of linked list\n",
      "After Insert:\n",
      "[[[HEAD (0x7fbe36b79c70)]]] -> (1, 0x7fbe36b79ac0) -> (2, 0x7fbe36b3d340) -> (3, 0x7fbe36b79130) -> (4, 0x7fbe36b796d0) -> (5, 0x7fbe36b79c70) <- [[[TAIL(0x7fbe36b796d0)]]]\n",
      "\n",
      "******************************************************************************************************************************************************\n"
     ]
    }
   ],
   "metadata": {}
  },
  {
   "cell_type": "markdown",
   "source": [
    "#### Traversal of linked list"
   ],
   "metadata": {}
  },
  {
   "cell_type": "code",
   "execution_count": 23,
   "source": [
    "print('*'*150)\n",
    "print('Testing: Traversal of linked list\\n')\n",
    "\n",
    "csll.traverse()\n",
    "\n",
    "print('*'*150)\n"
   ],
   "outputs": [
    {
     "output_type": "stream",
     "name": "stdout",
     "text": [
      "******************************************************************************************************************************************************\n",
      "Testing: Traversal of linked list\n",
      "\n",
      "1 -> 2 -> 3 -> 4 -> 5 <-> \n",
      "\n",
      "******************************************************************************************************************************************************\n"
     ]
    }
   ],
   "metadata": {}
  },
  {
   "cell_type": "markdown",
   "source": [
    "#### Searching for a value"
   ],
   "metadata": {}
  },
  {
   "cell_type": "code",
   "execution_count": 24,
   "source": [
    "print('*'*150)\n",
    "print('Testing: Traversal of linked list\\n')\n",
    "\n",
    "print(f'Index of 100 in empty list = {CircularSingleLinkedList().find_index(100)}\\n')\n",
    "\n",
    "print(f'csll = ', end='')\n",
    "csll.traverse()\n",
    "\n",
    "print(f'Index of 5 = {csll.find_index(5)}')\n",
    "print(f'Index of 100 = {csll.find_index(100)}')\n",
    "\n",
    "print('*'*150)"
   ],
   "outputs": [
    {
     "output_type": "stream",
     "name": "stdout",
     "text": [
      "******************************************************************************************************************************************************\n",
      "Testing: Traversal of linked list\n",
      "\n",
      "Index of 100 in empty list = -1\n",
      "\n",
      "csll = 1 -> 2 -> 3 -> 4 -> 5 <-> \n",
      "\n",
      "Index of 5 = 5\n",
      "Index of 100 = -1\n",
      "******************************************************************************************************************************************************\n"
     ]
    }
   ],
   "metadata": {}
  },
  {
   "cell_type": "markdown",
   "source": [
    "#### Deletion when list has just 1 element"
   ],
   "metadata": {}
  },
  {
   "cell_type": "code",
   "execution_count": 25,
   "source": [
    "print('*'*150)\n",
    "print('Testing: Deletion when list has just 1 element\\n')\n",
    "\n",
    "csll = CircularSingleLinkedList()\n",
    "csll.insert(123)\n",
    "\n",
    "print(f'\\nBefore Delete:\\n{csll}')\n",
    "csll.delete()\n",
    "print(f'\\nAfter Delete:\\n{csll}')\n",
    "\n",
    "print('*'*150)\n"
   ],
   "outputs": [
    {
     "output_type": "stream",
     "name": "stdout",
     "text": [
      "******************************************************************************************************************************************************\n",
      "Testing: Deletion when list has just 1 element\n",
      "\n",
      "Inserting to empty linked list\n",
      "\n",
      "Before Delete:\n",
      "[[[HEAD (0x7fbe36b5e970)]]] -> (123, 0x7fbe36b5e970) <- [[[TAIL(0x7fbe36b5e970)]]]\n",
      "Deleting when linked list has only 1 element\n",
      "\n",
      "After Delete:\n",
      "Circular Single Linked List is empty!\n",
      "******************************************************************************************************************************************************\n"
     ]
    }
   ],
   "metadata": {}
  },
  {
   "cell_type": "markdown",
   "source": [
    "#### Deletion from first"
   ],
   "metadata": {}
  },
  {
   "cell_type": "code",
   "execution_count": 26,
   "source": [
    "print('*'*150)\n",
    "print('Testing: Deletion from first\\n')\n",
    "\n",
    "csll = CircularSingleLinkedList()\n",
    "csll.insert(1)\n",
    "csll.insert(2)\n",
    "csll.insert(3)\n",
    "\n",
    "print(f'\\nBefore Delete:\\n{csll}')\n",
    "csll.delete(pos=1)\n",
    "print(f'\\nAfter Delete:\\n{csll}')\n",
    "\n",
    "print(f'\\nBefore Delete:\\n{csll}')\n",
    "csll.delete(pos=1)\n",
    "print(f'\\nAfter Delete:\\n{csll}')\n",
    "\n",
    "print(f'\\nBefore Delete:\\n{csll}')\n",
    "csll.delete(pos=1)\n",
    "print(f'\\nAfter Delete:\\n{csll}')\n",
    "\n",
    "print('*'*150)\n"
   ],
   "outputs": [
    {
     "output_type": "stream",
     "name": "stdout",
     "text": [
      "******************************************************************************************************************************************************\n",
      "Testing: Deletion from first\n",
      "\n",
      "Inserting to empty linked list\n",
      "Inserting to last position of linked list\n",
      "Inserting to last position of linked list\n",
      "\n",
      "Before Delete:\n",
      "[[[HEAD (0x7fbe36b5e4c0)]]] -> (1, 0x7fbe36b5ee80) -> (2, 0x7fbe36b5e280) -> (3, 0x7fbe36b5e4c0) <- [[[TAIL(0x7fbe36b5e280)]]]\n",
      "Deleting from first when linked list has more than 1 element\n",
      "\n",
      "After Delete:\n",
      "[[[HEAD (0x7fbe36b5ee80)]]] -> (2, 0x7fbe36b5e280) -> (3, 0x7fbe36b5ee80) <- [[[TAIL(0x7fbe36b5e280)]]]\n",
      "\n",
      "Before Delete:\n",
      "[[[HEAD (0x7fbe36b5ee80)]]] -> (2, 0x7fbe36b5e280) -> (3, 0x7fbe36b5ee80) <- [[[TAIL(0x7fbe36b5e280)]]]\n",
      "Deleting from first when linked list has more than 1 element\n",
      "\n",
      "After Delete:\n",
      "[[[HEAD (0x7fbe36b5e280)]]] -> (3, 0x7fbe36b5e280) <- [[[TAIL(0x7fbe36b5e280)]]]\n",
      "\n",
      "Before Delete:\n",
      "[[[HEAD (0x7fbe36b5e280)]]] -> (3, 0x7fbe36b5e280) <- [[[TAIL(0x7fbe36b5e280)]]]\n",
      "Deleting when linked list has only 1 element\n",
      "\n",
      "After Delete:\n",
      "Circular Single Linked List is empty!\n",
      "******************************************************************************************************************************************************\n"
     ]
    }
   ],
   "metadata": {}
  },
  {
   "cell_type": "markdown",
   "source": [
    "#### Deletion from last"
   ],
   "metadata": {}
  },
  {
   "cell_type": "code",
   "execution_count": 27,
   "source": [
    "print('*'*150)\n",
    "print('Testing: Deletion from last\\n')\n",
    "\n",
    "csll = CircularSingleLinkedList()\n",
    "csll.insert(1)\n",
    "csll.insert(2)\n",
    "csll.insert(3)\n",
    "\n",
    "print(f'\\nBefore Delete:\\n{csll}')\n",
    "csll.delete()\n",
    "print(f'\\nAfter Delete:\\n{csll}')\n",
    "\n",
    "print(f'\\nBefore Delete:\\n{csll}')\n",
    "csll.delete()\n",
    "print(f'\\nAfter Delete:\\n{csll}')\n",
    "\n",
    "print(f'\\nBefore Delete:\\n{csll}')\n",
    "csll.delete()\n",
    "print(f'\\nAfter Delete:\\n{csll}')\n",
    "\n",
    "print('*'*150)"
   ],
   "outputs": [
    {
     "output_type": "stream",
     "name": "stdout",
     "text": [
      "******************************************************************************************************************************************************\n",
      "Testing: Deletion from last\n",
      "\n",
      "Inserting to empty linked list\n",
      "Inserting to last position of linked list\n",
      "Inserting to last position of linked list\n",
      "\n",
      "Before Delete:\n",
      "[[[HEAD (0x7fbe36b3dca0)]]] -> (1, 0x7fbe36b5e6d0) -> (2, 0x7fbe36b3d940) -> (3, 0x7fbe36b3dca0) <- [[[TAIL(0x7fbe36b3d940)]]]\n",
      "Deleting from last / nth when linked list has more than 1 element\n",
      "\n",
      "After Delete:\n",
      "[[[HEAD (0x7fbe36b3dca0)]]] -> (1, 0x7fbe36b5e6d0) -> (2, 0x7fbe36b3dca0) <- [[[TAIL(0x7fbe36b5e6d0)]]]\n",
      "\n",
      "Before Delete:\n",
      "[[[HEAD (0x7fbe36b3dca0)]]] -> (1, 0x7fbe36b5e6d0) -> (2, 0x7fbe36b3dca0) <- [[[TAIL(0x7fbe36b5e6d0)]]]\n",
      "Deleting from last / nth when linked list has more than 1 element\n",
      "\n",
      "After Delete:\n",
      "[[[HEAD (0x7fbe36b3dca0)]]] -> (1, 0x7fbe36b3dca0) <- [[[TAIL(0x7fbe36b3dca0)]]]\n",
      "\n",
      "Before Delete:\n",
      "[[[HEAD (0x7fbe36b3dca0)]]] -> (1, 0x7fbe36b3dca0) <- [[[TAIL(0x7fbe36b3dca0)]]]\n",
      "Deleting when linked list has only 1 element\n",
      "\n",
      "After Delete:\n",
      "Circular Single Linked List is empty!\n",
      "******************************************************************************************************************************************************\n"
     ]
    }
   ],
   "metadata": {}
  },
  {
   "cell_type": "markdown",
   "source": [
    "#### Delete from nth position"
   ],
   "metadata": {}
  },
  {
   "cell_type": "code",
   "execution_count": 28,
   "source": [
    "print('*'*150)\n",
    "print('Testing: Deletion from nth place\\n')\n",
    "\n",
    "csll = CircularSingleLinkedList()\n",
    "csll.insert(1)\n",
    "csll.insert(2)\n",
    "csll.insert(3)\n",
    "\n",
    "print(f'\\nBefore Delete:\\n{csll}')\n",
    "csll.delete(2)\n",
    "print(f'\\nAfter Delete:\\n{csll}')\n",
    "\n",
    "print(f'\\nBefore Delete:\\n{csll}')\n",
    "csll.delete(2)\n",
    "print(f'\\nAfter Delete:\\n{csll}')\n",
    "\n",
    "print('*'*150)"
   ],
   "outputs": [
    {
     "output_type": "stream",
     "name": "stdout",
     "text": [
      "******************************************************************************************************************************************************\n",
      "Testing: Deletion from nth place\n",
      "\n",
      "Inserting to empty linked list\n",
      "Inserting to last position of linked list\n",
      "Inserting to last position of linked list\n",
      "\n",
      "Before Delete:\n",
      "[[[HEAD (0x7fbe36b3de50)]]] -> (1, 0x7fbe36b3db80) -> (2, 0x7fbe36b3df10) -> (3, 0x7fbe36b3de50) <- [[[TAIL(0x7fbe36b3df10)]]]\n",
      "Deleting from last / nth when linked list has more than 1 element\n",
      "\n",
      "After Delete:\n",
      "[[[HEAD (0x7fbe36b3de50)]]] -> (1, 0x7fbe36b3df10) -> (3, 0x7fbe36b3de50) <- [[[TAIL(0x7fbe36b3df10)]]]\n",
      "\n",
      "Before Delete:\n",
      "[[[HEAD (0x7fbe36b3de50)]]] -> (1, 0x7fbe36b3df10) -> (3, 0x7fbe36b3de50) <- [[[TAIL(0x7fbe36b3df10)]]]\n",
      "Deleting from last / nth when linked list has more than 1 element\n",
      "\n",
      "After Delete:\n",
      "[[[HEAD (0x7fbe36b3de50)]]] -> (1, 0x7fbe36b3de50) <- [[[TAIL(0x7fbe36b3de50)]]]\n",
      "******************************************************************************************************************************************************\n"
     ]
    }
   ],
   "metadata": {
    "scrolled": true
   }
  },
  {
   "cell_type": "markdown",
   "source": [
    "### Double Linked List"
   ],
   "metadata": {}
  },
  {
   "cell_type": "markdown",
   "source": [
    "#### Insertion to empty double linked list"
   ],
   "metadata": {}
  },
  {
   "cell_type": "code",
   "execution_count": 29,
   "source": [
    "print('*'*150)\n",
    "print('Testing: Insertion to empty linked list\\n')\n",
    "\n",
    "dll = DoubleLinkedList()\n",
    "print(f'Before Insert:\\n{dll}')\n",
    "dll.insert(1)\n",
    "print(f'After Insert:\\n{dll}\\n')\n",
    "\n",
    "print('*'*150)\n"
   ],
   "outputs": [
    {
     "output_type": "stream",
     "name": "stdout",
     "text": [
      "******************************************************************************************************************************************************\n",
      "Testing: Insertion to empty linked list\n",
      "\n",
      "Before Insert:\n",
      "Double Linked List is empty!\n",
      "Inserting to empty double linked list\n",
      "After Insert:\n",
      "[HEAD(0x7fbe36b797f0)] -> (0x105edef30, 1, 0x105edef30) <- [TAIL(0x7fbe36b797f0)]\n",
      "\n",
      "******************************************************************************************************************************************************\n"
     ]
    }
   ],
   "metadata": {}
  },
  {
   "cell_type": "markdown",
   "source": [
    "#### Insertion to end of double linked list"
   ],
   "metadata": {}
  },
  {
   "cell_type": "code",
   "execution_count": 30,
   "source": [
    "print('*'*150)\n",
    "print('Testing: Insertion to end of linked list\\n')\n",
    "\n",
    "dll = DoubleLinkedList()\n",
    "\n",
    "print(f'Before Insert:\\n{dll}')\n",
    "dll.insert('abc')\n",
    "print(f'After Insert:\\n{dll}\\n')\n",
    "\n",
    "print(f'Before Insert:\\n{dll}')\n",
    "dll.insert(123, -1)\n",
    "print(f'After Insert:\\n{dll}\\n')\n",
    "\n",
    "print(f'Before Insert:\\n{dll}')\n",
    "dll.insert(4.56, -1)\n",
    "print(f'After Insert:\\n{dll}\\n')\n",
    "\n",
    "print('*'*150)\n"
   ],
   "outputs": [
    {
     "output_type": "stream",
     "name": "stdout",
     "text": [
      "******************************************************************************************************************************************************\n",
      "Testing: Insertion to end of linked list\n",
      "\n",
      "Before Insert:\n",
      "Double Linked List is empty!\n",
      "Inserting to empty double linked list\n",
      "After Insert:\n",
      "[HEAD(0x7fbe36b3dd90)] -> (0x105edef30, abc, 0x105edef30) <- [TAIL(0x7fbe36b3dd90)]\n",
      "\n",
      "Before Insert:\n",
      "[HEAD(0x7fbe36b3dd90)] -> (0x105edef30, abc, 0x105edef30) <- [TAIL(0x7fbe36b3dd90)]\n",
      "Inserting to last position of double linked list\n",
      "After Insert:\n",
      "[HEAD(0x7fbe36b3dd90)] -> (0x105edef30, abc, 0x7fbe36b792e0) <-> (0x7fbe36b3dd90, 123, 0x105edef30) <- [TAIL(0x7fbe36b792e0)]\n",
      "\n",
      "Before Insert:\n",
      "[HEAD(0x7fbe36b3dd90)] -> (0x105edef30, abc, 0x7fbe36b792e0) <-> (0x7fbe36b3dd90, 123, 0x105edef30) <- [TAIL(0x7fbe36b792e0)]\n",
      "Inserting to last position of double linked list\n",
      "After Insert:\n",
      "[HEAD(0x7fbe36b3dd90)] -> (0x105edef30, abc, 0x7fbe36b792e0) <-> (0x7fbe36b3dd90, 123, 0x7fbe36b78370) <-> (0x7fbe36b792e0, 4.56, 0x105edef30) <- [TAIL(0x7fbe36b78370)]\n",
      "\n",
      "******************************************************************************************************************************************************\n"
     ]
    }
   ],
   "metadata": {}
  },
  {
   "cell_type": "markdown",
   "source": [
    "#### Insertion to start of double linked list"
   ],
   "metadata": {}
  },
  {
   "cell_type": "code",
   "execution_count": 31,
   "source": [
    "print('*'*150)\n",
    "print('Testing: Insertion to start of linked list\\n')\n",
    "\n",
    "dll = DoubleLinkedList()\n",
    "\n",
    "print(f'Before Insert:\\n{dll}')\n",
    "dll.insert(3, 1)\n",
    "print(f'After Insert:\\n{dll}\\n')\n",
    "\n",
    "print(f'Before Insert:\\n{dll}')\n",
    "dll.insert(2, 1)\n",
    "print(f'After Insert:\\n{dll}\\n')\n",
    "\n",
    "print(f'Before Insert:\\n{dll}')\n",
    "dll.insert(1, 1)\n",
    "print(f'After Insert:\\n{dll}\\n')\n",
    "\n",
    "print('*'*150)\n"
   ],
   "outputs": [
    {
     "output_type": "stream",
     "name": "stdout",
     "text": [
      "******************************************************************************************************************************************************\n",
      "Testing: Insertion to start of linked list\n",
      "\n",
      "Before Insert:\n",
      "Double Linked List is empty!\n",
      "Inserting to empty double linked list\n",
      "After Insert:\n",
      "[HEAD(0x7fbe36b5ed60)] -> (0x105edef30, 3, 0x105edef30) <- [TAIL(0x7fbe36b5ed60)]\n",
      "\n",
      "Before Insert:\n",
      "[HEAD(0x7fbe36b5ed60)] -> (0x105edef30, 3, 0x105edef30) <- [TAIL(0x7fbe36b5ed60)]\n",
      "Inserting to first position of double linked list\n",
      "After Insert:\n",
      "[HEAD(0x7fbe36b3d9a0)] -> (0x105edef30, 2, 0x7fbe36b5ed60) <-> (0x7fbe36b3d9a0, 3, 0x105edef30) <- [TAIL(0x7fbe36b5ed60)]\n",
      "\n",
      "Before Insert:\n",
      "[HEAD(0x7fbe36b3d9a0)] -> (0x105edef30, 2, 0x7fbe36b5ed60) <-> (0x7fbe36b3d9a0, 3, 0x105edef30) <- [TAIL(0x7fbe36b5ed60)]\n",
      "Inserting to first position of double linked list\n",
      "After Insert:\n",
      "[HEAD(0x7fbe36b3d9d0)] -> (0x105edef30, 1, 0x7fbe36b3d9a0) <-> (0x7fbe36b3d9d0, 2, 0x7fbe36b5ed60) <-> (0x7fbe36b3d9a0, 3, 0x105edef30) <- [TAIL(0x7fbe36b5ed60)]\n",
      "\n",
      "******************************************************************************************************************************************************\n"
     ]
    }
   ],
   "metadata": {}
  },
  {
   "cell_type": "markdown",
   "source": [
    "#### Insertion in between double linked list"
   ],
   "metadata": {}
  },
  {
   "cell_type": "code",
   "execution_count": 32,
   "source": [
    "print('*'*150)\n",
    "print('Testing: Insertion to start of linked list\\n')\n",
    "\n",
    "dll = DoubleLinkedList()\n",
    "dll.insert(1)\n",
    "dll.insert(3)\n",
    "dll.insert(5)\n",
    "\n",
    "print(f'\\nBefore Insert:\\n{dll}')\n",
    "dll.insert(4, 3)\n",
    "print(f'After Insert:\\n{dll}\\n')\n",
    "\n",
    "print(f'Before Insert:\\n{dll}')\n",
    "dll.insert(2, 2)\n",
    "print(f'After Insert:\\n{dll}\\n')\n",
    "\n",
    "print('*'*150)\n"
   ],
   "outputs": [
    {
     "output_type": "stream",
     "name": "stdout",
     "text": [
      "******************************************************************************************************************************************************\n",
      "Testing: Insertion to start of linked list\n",
      "\n",
      "Inserting to empty double linked list\n",
      "Inserting to last position of double linked list\n",
      "Inserting to last position of double linked list\n",
      "\n",
      "Before Insert:\n",
      "[HEAD(0x7fbe36b79a00)] -> (0x105edef30, 1, 0x7fbe36b79640) <-> (0x7fbe36b79a00, 3, 0x7fbe36b5ef10) <-> (0x7fbe36b79640, 5, 0x105edef30) <- [TAIL(0x7fbe36b5ef10)]\n",
      "Inserting to nth position of linked list\n",
      "After Insert:\n",
      "[HEAD(0x7fbe36b79a00)] -> (0x105edef30, 1, 0x7fbe36b79640) <-> (0x7fbe36b79a00, 3, 0x7fbe36b5e460) <-> (0x7fbe36b79640, 4, 0x7fbe36b5ef10) <-> (0x7fbe36b5e460, 5, 0x105edef30) <- [TAIL(0x7fbe36b5ef10)]\n",
      "\n",
      "Before Insert:\n",
      "[HEAD(0x7fbe36b79a00)] -> (0x105edef30, 1, 0x7fbe36b79640) <-> (0x7fbe36b79a00, 3, 0x7fbe36b5e460) <-> (0x7fbe36b79640, 4, 0x7fbe36b5ef10) <-> (0x7fbe36b5e460, 5, 0x105edef30) <- [TAIL(0x7fbe36b5ef10)]\n",
      "Inserting to nth position of linked list\n",
      "After Insert:\n",
      "[HEAD(0x7fbe36b79a00)] -> (0x105edef30, 1, 0x7fbe36b782b0) <-> (0x7fbe36b79a00, 2, 0x7fbe36b79640) <-> (0x7fbe36b782b0, 3, 0x7fbe36b5e460) <-> (0x7fbe36b79640, 4, 0x7fbe36b5ef10) <-> (0x7fbe36b5e460, 5, 0x105edef30) <- [TAIL(0x7fbe36b5ef10)]\n",
      "\n",
      "******************************************************************************************************************************************************\n"
     ]
    }
   ],
   "metadata": {}
  },
  {
   "cell_type": "markdown",
   "source": [
    "#### Traversal of double linked list"
   ],
   "metadata": {}
  },
  {
   "cell_type": "code",
   "execution_count": 33,
   "source": [
    "print('*'*150)\n",
    "print('Testing: Traversal of linked list\\n')\n",
    "\n",
    "dll.traverse()\n",
    "dll.traverse_backwards()\n",
    "\n",
    "print('*'*150)\n"
   ],
   "outputs": [
    {
     "output_type": "stream",
     "name": "stdout",
     "text": [
      "******************************************************************************************************************************************************\n",
      "Testing: Traversal of linked list\n",
      "\n",
      "NULL -> 1 <-> 2 <-> 3 <-> 4 <-> 5 -> NULL\n",
      "NULL -> 5 <-> 4 <-> 3 <-> 2 <-> 1 -> NULL\n",
      "******************************************************************************************************************************************************\n"
     ]
    }
   ],
   "metadata": {}
  },
  {
   "cell_type": "markdown",
   "source": [
    "#### Searching for a value"
   ],
   "metadata": {}
  },
  {
   "cell_type": "code",
   "execution_count": 34,
   "source": [
    "print('*'*150)\n",
    "print('Testing: Traversal of linked list\\n')\n",
    "\n",
    "print(f'Index of 100 in empty list = {DoubleLinkedList().find_index(100)}\\n')\n",
    "\n",
    "print(f'dll = ', end='')\n",
    "dll.traverse()\n",
    "\n",
    "print(f'Index of 5 = {dll.find_index(5)}')\n",
    "print(f'Index of 100 = {dll.find_index(100)}')\n",
    "\n",
    "print('*'*150)"
   ],
   "outputs": [
    {
     "output_type": "stream",
     "name": "stdout",
     "text": [
      "******************************************************************************************************************************************************\n",
      "Testing: Traversal of linked list\n",
      "\n",
      "Index of 100 in empty list = -1\n",
      "\n",
      "dll = NULL -> 1 <-> 2 <-> 3 <-> 4 <-> 5 -> NULL\n",
      "Index of 5 = 5\n",
      "Index of 100 = -1\n",
      "******************************************************************************************************************************************************\n"
     ]
    }
   ],
   "metadata": {}
  },
  {
   "cell_type": "markdown",
   "source": [
    "#### Deletion when list has just 1 element"
   ],
   "metadata": {}
  },
  {
   "cell_type": "code",
   "execution_count": 35,
   "source": [
    "print('*'*150)\n",
    "print('Testing: Deletion when list has just 1 element\\n')\n",
    "\n",
    "dll = DoubleLinkedList()\n",
    "dll.insert(123)\n",
    "\n",
    "print(f'\\nBefore Delete:\\n{dll}')\n",
    "dll.delete()\n",
    "print(f'\\nAfter Delete:\\n{dll}')\n",
    "\n",
    "print('*'*150)\n"
   ],
   "outputs": [
    {
     "output_type": "stream",
     "name": "stdout",
     "text": [
      "******************************************************************************************************************************************************\n",
      "Testing: Deletion when list has just 1 element\n",
      "\n",
      "Inserting to empty double linked list\n",
      "\n",
      "Before Delete:\n",
      "[HEAD(0x7fbe36b5e2b0)] -> (0x105edef30, 123, 0x105edef30) <- [TAIL(0x7fbe36b5e2b0)]\n",
      "Deleting when double linked list has only 1 element\n",
      "\n",
      "After Delete:\n",
      "Double Linked List is empty!\n",
      "******************************************************************************************************************************************************\n"
     ]
    }
   ],
   "metadata": {}
  },
  {
   "cell_type": "markdown",
   "source": [
    "#### Deletion from first"
   ],
   "metadata": {}
  },
  {
   "cell_type": "code",
   "execution_count": 36,
   "source": [
    "print('*'*150)\n",
    "print('Testing: Deletion from first\\n')\n",
    "\n",
    "dll = DoubleLinkedList()\n",
    "dll.insert(1)\n",
    "dll.insert(2)\n",
    "dll.insert(3)\n",
    "\n",
    "print(f'\\nBefore Delete:\\n{dll}')\n",
    "dll.delete(pos=1)\n",
    "print(f'\\nAfter Delete:\\n{dll}')\n",
    "\n",
    "print(f'\\nBefore Delete:\\n{dll}')\n",
    "dll.delete(pos=1)\n",
    "print(f'\\nAfter Delete:\\n{dll}')\n",
    "\n",
    "print(f'\\nBefore Delete:\\n{dll}')\n",
    "dll.delete(pos=1)\n",
    "print(f'\\nAfter Delete:\\n{dll}')\n",
    "\n",
    "print('*'*150)\n"
   ],
   "outputs": [
    {
     "output_type": "stream",
     "name": "stdout",
     "text": [
      "******************************************************************************************************************************************************\n",
      "Testing: Deletion from first\n",
      "\n",
      "Inserting to empty double linked list\n",
      "Inserting to last position of double linked list\n",
      "Inserting to last position of double linked list\n",
      "\n",
      "Before Delete:\n",
      "[HEAD(0x7fbe36b3da90)] -> (0x105edef30, 1, 0x7fbe36b3da00) <-> (0x7fbe36b3da90, 2, 0x7fbe36b5e400) <-> (0x7fbe36b3da00, 3, 0x105edef30) <- [TAIL(0x7fbe36b5e400)]\n",
      "Deleting from first when double linked list has more than 1 element\n",
      "\n",
      "After Delete:\n",
      "[HEAD(0x7fbe36b3da00)] -> (0x105edef30, 2, 0x7fbe36b5e400) <-> (0x7fbe36b3da00, 3, 0x105edef30) <- [TAIL(0x7fbe36b5e400)]\n",
      "\n",
      "Before Delete:\n",
      "[HEAD(0x7fbe36b3da00)] -> (0x105edef30, 2, 0x7fbe36b5e400) <-> (0x7fbe36b3da00, 3, 0x105edef30) <- [TAIL(0x7fbe36b5e400)]\n",
      "Deleting from first when double linked list has more than 1 element\n",
      "\n",
      "After Delete:\n",
      "[HEAD(0x7fbe36b5e400)] -> (0x105edef30, 3, 0x105edef30) <- [TAIL(0x7fbe36b5e400)]\n",
      "\n",
      "Before Delete:\n",
      "[HEAD(0x7fbe36b5e400)] -> (0x105edef30, 3, 0x105edef30) <- [TAIL(0x7fbe36b5e400)]\n",
      "Deleting when double linked list has only 1 element\n",
      "\n",
      "After Delete:\n",
      "Double Linked List is empty!\n",
      "******************************************************************************************************************************************************\n"
     ]
    }
   ],
   "metadata": {}
  },
  {
   "cell_type": "markdown",
   "source": [
    "#### Deletion from last"
   ],
   "metadata": {}
  },
  {
   "cell_type": "code",
   "execution_count": 37,
   "source": [
    "print('*'*150)\n",
    "print('Testing: Deletion from last\\n')\n",
    "\n",
    "dll = DoubleLinkedList()\n",
    "dll.insert(1)\n",
    "dll.insert(2)\n",
    "dll.insert(3)\n",
    "\n",
    "print(f'\\nBefore Delete:\\n{dll}')\n",
    "dll.delete()\n",
    "print(f'\\nAfter Delete:\\n{dll}')\n",
    "\n",
    "print(f'\\nBefore Delete:\\n{dll}')\n",
    "dll.delete()\n",
    "print(f'\\nAfter Delete:\\n{dll}')\n",
    "\n",
    "print(f'\\nBefore Delete:\\n{dll}')\n",
    "dll.delete()\n",
    "print(f'\\nAfter Delete:\\n{dll}')\n",
    "\n",
    "print('*'*150)\n"
   ],
   "outputs": [
    {
     "output_type": "stream",
     "name": "stdout",
     "text": [
      "******************************************************************************************************************************************************\n",
      "Testing: Deletion from last\n",
      "\n",
      "Inserting to empty double linked list\n",
      "Inserting to last position of double linked list\n",
      "Inserting to last position of double linked list\n",
      "\n",
      "Before Delete:\n",
      "[HEAD(0x7fbe36b3da90)] -> (0x105edef30, 1, 0x7fbe36b79400) <-> (0x7fbe36b3da90, 2, 0x7fbe36b79e20) <-> (0x7fbe36b79400, 3, 0x105edef30) <- [TAIL(0x7fbe36b79e20)]\n",
      "Deleting from last when double linked list has more than 1 element\n",
      "\n",
      "After Delete:\n",
      "[HEAD(0x7fbe36b3da90)] -> (0x105edef30, 1, 0x7fbe36b79400) <-> (0x7fbe36b3da90, 2, 0x105edef30) <- [TAIL(0x7fbe36b79400)]\n",
      "\n",
      "Before Delete:\n",
      "[HEAD(0x7fbe36b3da90)] -> (0x105edef30, 1, 0x7fbe36b79400) <-> (0x7fbe36b3da90, 2, 0x105edef30) <- [TAIL(0x7fbe36b79400)]\n",
      "Deleting from last when double linked list has more than 1 element\n",
      "\n",
      "After Delete:\n",
      "[HEAD(0x7fbe36b3da90)] -> (0x105edef30, 1, 0x105edef30) <- [TAIL(0x7fbe36b3da90)]\n",
      "\n",
      "Before Delete:\n",
      "[HEAD(0x7fbe36b3da90)] -> (0x105edef30, 1, 0x105edef30) <- [TAIL(0x7fbe36b3da90)]\n",
      "Deleting when double linked list has only 1 element\n",
      "\n",
      "After Delete:\n",
      "Double Linked List is empty!\n",
      "******************************************************************************************************************************************************\n"
     ]
    }
   ],
   "metadata": {}
  },
  {
   "cell_type": "markdown",
   "source": [
    "#### Delete from nth position"
   ],
   "metadata": {}
  },
  {
   "cell_type": "code",
   "execution_count": 38,
   "source": [
    "print('*'*150)\n",
    "print('Testing: Deletion from nth place\\n')\n",
    "\n",
    "dll = DoubleLinkedList()\n",
    "dll.insert(1)\n",
    "dll.insert(2)\n",
    "dll.insert(3)\n",
    "\n",
    "print(f'\\nBefore Delete:\\n{dll}')\n",
    "dll.delete(2)\n",
    "print(f'\\nAfter Delete:\\n{dll}')\n",
    "\n",
    "print(f'\\nBefore Delete:\\n{dll}')\n",
    "dll.delete(2)\n",
    "print(f'\\nAfter Delete:\\n{dll}')\n",
    "\n",
    "print('*'*150)"
   ],
   "outputs": [
    {
     "output_type": "stream",
     "name": "stdout",
     "text": [
      "******************************************************************************************************************************************************\n",
      "Testing: Deletion from nth place\n",
      "\n",
      "Inserting to empty double linked list\n",
      "Inserting to last position of double linked list\n",
      "Inserting to last position of double linked list\n",
      "\n",
      "Before Delete:\n",
      "[HEAD(0x7fbe36b5e8e0)] -> (0x105edef30, 1, 0x7fbe36b3d160) <-> (0x7fbe36b5e8e0, 2, 0x7fbe36b5e5e0) <-> (0x7fbe36b3d160, 3, 0x105edef30) <- [TAIL(0x7fbe36b5e5e0)]\n",
      "Deleting the nth when double linked list has more than 1 element\n",
      "\n",
      "After Delete:\n",
      "[HEAD(0x7fbe36b5e8e0)] -> (0x105edef30, 1, 0x7fbe36b5e5e0) <-> (0x7fbe36b5e8e0, 3, 0x105edef30) <- [TAIL(0x7fbe36b5e5e0)]\n",
      "\n",
      "Before Delete:\n",
      "[HEAD(0x7fbe36b5e8e0)] -> (0x105edef30, 1, 0x7fbe36b5e5e0) <-> (0x7fbe36b5e8e0, 3, 0x105edef30) <- [TAIL(0x7fbe36b5e5e0)]\n",
      "Deleting the nth when double linked list has more than 1 element\n",
      "\n",
      "After Delete:\n",
      "[HEAD(0x7fbe36b5e8e0)] -> (0x105edef30, 1, 0x105edef30) <- [TAIL(0x7fbe36b5e8e0)]\n",
      "******************************************************************************************************************************************************\n"
     ]
    }
   ],
   "metadata": {
    "scrolled": false
   }
  },
  {
   "cell_type": "markdown",
   "source": [
    "### Circular Double Linked List"
   ],
   "metadata": {}
  },
  {
   "cell_type": "markdown",
   "source": [
    "#### Insertion to empty circular double linked list"
   ],
   "metadata": {}
  },
  {
   "cell_type": "code",
   "execution_count": 39,
   "source": [
    "print('*'*150)\n",
    "print('Testing: Insertion to empty linked list\\n')\n",
    "\n",
    "cdll = CircularDoubleLinkedList()\n",
    "print(f'Before Insert:\\n{cdll}')\n",
    "cdll.insert(1)\n",
    "print(f'After Insert:\\n{cdll}\\n')\n",
    "\n",
    "print('*'*150)\n"
   ],
   "outputs": [
    {
     "output_type": "stream",
     "name": "stdout",
     "text": [
      "******************************************************************************************************************************************************\n",
      "Testing: Insertion to empty linked list\n",
      "\n",
      "Before Insert:\n",
      "Circular double linked list is empty!\n",
      "Inserting to empty circular double linked list\n",
      "After Insert:\n",
      "[HEAD0x7fbe36b79250] -> (0x7fbe36b79250, 1, 0x7fbe36b79250) <- [TAIL(0x7fbe36b79250)]\n",
      "\n",
      "******************************************************************************************************************************************************\n"
     ]
    }
   ],
   "metadata": {}
  },
  {
   "cell_type": "markdown",
   "source": [
    "#### Insertion to end of circular double linked list"
   ],
   "metadata": {}
  },
  {
   "cell_type": "code",
   "execution_count": 40,
   "source": [
    "print('*'*150)\n",
    "print('Testing: Insertion to end of linked list\\n')\n",
    "\n",
    "cdll = CircularDoubleLinkedList()\n",
    "\n",
    "print(f'Before Insert:\\n{cdll}')\n",
    "cdll.insert('abc')\n",
    "print(f'After Insert:\\n{cdll}\\n')\n",
    "\n",
    "print(f'Before Insert:\\n{cdll}')\n",
    "cdll.insert(123, -1)\n",
    "print(f'After Insert:\\n{cdll}\\n')\n",
    "\n",
    "print(f'Before Insert:\\n{cdll}')\n",
    "cdll.insert(4.56, -1)\n",
    "print(f'After Insert:\\n{cdll}\\n')\n",
    "\n",
    "print('*'*150)\n"
   ],
   "outputs": [
    {
     "output_type": "stream",
     "name": "stdout",
     "text": [
      "******************************************************************************************************************************************************\n",
      "Testing: Insertion to end of linked list\n",
      "\n",
      "Before Insert:\n",
      "Circular double linked list is empty!\n",
      "Inserting to empty circular double linked list\n",
      "After Insert:\n",
      "[HEAD0x7fbe36b5e190] -> (0x7fbe36b5e190, abc, 0x7fbe36b5e190) <- [TAIL(0x7fbe36b5e190)]\n",
      "\n",
      "Before Insert:\n",
      "[HEAD0x7fbe36b5e190] -> (0x7fbe36b5e190, abc, 0x7fbe36b5e190) <- [TAIL(0x7fbe36b5e190)]\n",
      "Inserting to last position of circular double linked list\n",
      "After Insert:\n",
      "[HEAD0x7fbe36b5e190] -> (0x7fbe36b78160, abc, 0x7fbe36b78160) <-> (0x7fbe36b5e190, 123, 0x7fbe36b5e190) <- [TAIL(0x7fbe36b78160)]\n",
      "\n",
      "Before Insert:\n",
      "[HEAD0x7fbe36b5e190] -> (0x7fbe36b78160, abc, 0x7fbe36b78160) <-> (0x7fbe36b5e190, 123, 0x7fbe36b5e190) <- [TAIL(0x7fbe36b78160)]\n",
      "Inserting to last position of circular double linked list\n",
      "After Insert:\n",
      "[HEAD0x7fbe36b5e190] -> (0x7fbe36b784c0, abc, 0x7fbe36b78160) <-> (0x7fbe36b5e190, 123, 0x7fbe36b784c0) <-> (0x7fbe36b78160, 4.56, 0x7fbe36b5e190) <- [TAIL(0x7fbe36b784c0)]\n",
      "\n",
      "******************************************************************************************************************************************************\n"
     ]
    }
   ],
   "metadata": {}
  },
  {
   "cell_type": "markdown",
   "source": [
    "#### Insertion to start of circular double linked list"
   ],
   "metadata": {}
  },
  {
   "cell_type": "code",
   "execution_count": 41,
   "source": [
    "print('*'*150)\n",
    "print('Testing: Insertion to start of linked list\\n')\n",
    "\n",
    "cdll = CircularDoubleLinkedList()\n",
    "\n",
    "print(f'Before Insert:\\n{cdll}')\n",
    "cdll.insert(3, 1)\n",
    "print(f'After Insert:\\n{cdll}\\n')\n",
    "\n",
    "print(f'Before Insert:\\n{cdll}')\n",
    "cdll.insert(2, 1)\n",
    "print(f'After Insert:\\n{cdll}\\n')\n",
    "\n",
    "print(f'Before Insert:\\n{cdll}')\n",
    "cdll.insert(1, 1)\n",
    "print(f'After Insert:\\n{cdll}\\n')\n",
    "\n",
    "print('*'*150)\n"
   ],
   "outputs": [
    {
     "output_type": "stream",
     "name": "stdout",
     "text": [
      "******************************************************************************************************************************************************\n",
      "Testing: Insertion to start of linked list\n",
      "\n",
      "Before Insert:\n",
      "Circular double linked list is empty!\n",
      "Inserting to empty circular double linked list\n",
      "After Insert:\n",
      "[HEAD0x7fbe36b5e5e0] -> (0x7fbe36b5e5e0, 3, 0x7fbe36b5e5e0) <- [TAIL(0x7fbe36b5e5e0)]\n",
      "\n",
      "Before Insert:\n",
      "[HEAD0x7fbe36b5e5e0] -> (0x7fbe36b5e5e0, 3, 0x7fbe36b5e5e0) <- [TAIL(0x7fbe36b5e5e0)]\n",
      "Inserting to first position of circular double linked list\n",
      "After Insert:\n",
      "[HEAD0x7fbe36b78ee0] -> (0x7fbe36b5e5e0, 2, 0x7fbe36b5e5e0) <-> (0x7fbe36b78ee0, 3, 0x7fbe36b78ee0) <- [TAIL(0x7fbe36b5e5e0)]\n",
      "\n",
      "Before Insert:\n",
      "[HEAD0x7fbe36b78ee0] -> (0x7fbe36b5e5e0, 2, 0x7fbe36b5e5e0) <-> (0x7fbe36b78ee0, 3, 0x7fbe36b78ee0) <- [TAIL(0x7fbe36b5e5e0)]\n",
      "Inserting to first position of circular double linked list\n",
      "After Insert:\n",
      "[HEAD0x7fbe36b78790] -> (0x7fbe36b5e5e0, 1, 0x7fbe36b78ee0) <-> (0x7fbe36b78790, 2, 0x7fbe36b5e5e0) <-> (0x7fbe36b78ee0, 3, 0x7fbe36b78790) <- [TAIL(0x7fbe36b5e5e0)]\n",
      "\n",
      "******************************************************************************************************************************************************\n"
     ]
    }
   ],
   "metadata": {}
  },
  {
   "cell_type": "markdown",
   "source": [
    "#### Insertion in between circular double linked list"
   ],
   "metadata": {}
  },
  {
   "cell_type": "code",
   "execution_count": 42,
   "source": [
    "print('*'*150)\n",
    "print('Testing: Insertion to start of linked list\\n')\n",
    "\n",
    "cdll = CircularDoubleLinkedList()\n",
    "cdll.insert(1)\n",
    "cdll.insert(3)\n",
    "cdll.insert(5)\n",
    "\n",
    "print(f'\\nBefore Insert:\\n{cdll}')\n",
    "cdll.insert(4, 3)\n",
    "print(f'After Insert:\\n{cdll}\\n')\n",
    "\n",
    "print(f'Before Insert:\\n{cdll}')\n",
    "cdll.insert(2, 2)\n",
    "print(f'After Insert:\\n{cdll}\\n')\n",
    "\n",
    "print('*'*150)\n"
   ],
   "outputs": [
    {
     "output_type": "stream",
     "name": "stdout",
     "text": [
      "******************************************************************************************************************************************************\n",
      "Testing: Insertion to start of linked list\n",
      "\n",
      "Inserting to empty circular double linked list\n",
      "Inserting to last position of circular double linked list\n",
      "Inserting to last position of circular double linked list\n",
      "\n",
      "Before Insert:\n",
      "[HEAD0x7fbe36b79cd0] -> (0x7fbe36b79a30, 1, 0x7fbe36b79310) <-> (0x7fbe36b79cd0, 3, 0x7fbe36b79a30) <-> (0x7fbe36b79310, 5, 0x7fbe36b79cd0) <- [TAIL(0x7fbe36b79a30)]\n",
      "Inserting to nth position of circular double linked list\n",
      "After Insert:\n",
      "[HEAD0x7fbe36b79cd0] -> (0x7fbe36b79a30, 1, 0x7fbe36b79310) <-> (0x7fbe36b79cd0, 3, 0x7fbe36b78940) <-> (0x7fbe36b79310, 4, 0x7fbe36b79a30) <-> (0x7fbe36b78940, 5, 0x7fbe36b79cd0) <- [TAIL(0x7fbe36b79a30)]\n",
      "\n",
      "Before Insert:\n",
      "[HEAD0x7fbe36b79cd0] -> (0x7fbe36b79a30, 1, 0x7fbe36b79310) <-> (0x7fbe36b79cd0, 3, 0x7fbe36b78940) <-> (0x7fbe36b79310, 4, 0x7fbe36b79a30) <-> (0x7fbe36b78940, 5, 0x7fbe36b79cd0) <- [TAIL(0x7fbe36b79a30)]\n",
      "Inserting to nth position of circular double linked list\n",
      "After Insert:\n",
      "[HEAD0x7fbe36b79cd0] -> (0x7fbe36b79a30, 1, 0x7fbe36b78e50) <-> (0x7fbe36b79cd0, 2, 0x7fbe36b79310) <-> (0x7fbe36b78e50, 3, 0x7fbe36b78940) <-> (0x7fbe36b79310, 4, 0x7fbe36b79a30) <-> (0x7fbe36b78940, 5, 0x7fbe36b79cd0) <- [TAIL(0x7fbe36b79a30)]\n",
      "\n",
      "******************************************************************************************************************************************************\n"
     ]
    }
   ],
   "metadata": {}
  },
  {
   "cell_type": "markdown",
   "source": [
    "#### Traversal of circular double linked list"
   ],
   "metadata": {}
  },
  {
   "cell_type": "code",
   "execution_count": 43,
   "source": [
    "print('*'*150)\n",
    "print('Testing: Traversal of linked list\\n')\n",
    "\n",
    "cdll.traverse()\n",
    "cdll.traverse_backwards()\n",
    "\n",
    "print('*'*150)\n"
   ],
   "outputs": [
    {
     "output_type": "stream",
     "name": "stdout",
     "text": [
      "******************************************************************************************************************************************************\n",
      "Testing: Traversal of linked list\n",
      "\n",
      "<- 1 <-> 2 <-> 3 <-> 4 <-> 5 ->\n",
      "<- 5 <-> 4 <-> 3 <-> 2 <-> 1 ->\n",
      "******************************************************************************************************************************************************\n"
     ]
    }
   ],
   "metadata": {}
  },
  {
   "cell_type": "markdown",
   "source": [
    "#### Searching for a value"
   ],
   "metadata": {}
  },
  {
   "cell_type": "code",
   "execution_count": 44,
   "source": [
    "print('*'*150)\n",
    "print('Testing: Traversal of linked list\\n')\n",
    "\n",
    "print(f'Index of 100 in empty list = {CircularDoubleLinkedList().find_index(100)}\\n')\n",
    "\n",
    "print(f'cdll = ', end='')\n",
    "cdll.traverse()\n",
    "\n",
    "print(f'Index of 4 = {cdll.find_index(4)}')\n",
    "print(f'Index of 100 = {cdll.find_index(100)}')\n",
    "\n",
    "print('*'*150)"
   ],
   "outputs": [
    {
     "output_type": "stream",
     "name": "stdout",
     "text": [
      "******************************************************************************************************************************************************\n",
      "Testing: Traversal of linked list\n",
      "\n",
      "Index of 100 in empty list = -1\n",
      "\n",
      "cdll = <- 1 <-> 2 <-> 3 <-> 4 <-> 5 ->\n",
      "Index of 4 = 4\n",
      "Index of 100 = -1\n",
      "******************************************************************************************************************************************************\n"
     ]
    }
   ],
   "metadata": {}
  },
  {
   "cell_type": "markdown",
   "source": [
    "#### Deletion when list has just 1 element"
   ],
   "metadata": {}
  },
  {
   "cell_type": "code",
   "execution_count": 45,
   "source": [
    "print('*'*150)\n",
    "print('Testing: Deletion when list has just 1 element\\n')\n",
    "\n",
    "cdll = CircularDoubleLinkedList()\n",
    "cdll.insert(123)\n",
    "\n",
    "print(f'\\nBefore Delete:\\n{cdll}')\n",
    "cdll.delete()\n",
    "print(f'\\nAfter Delete:\\n{cdll}')\n",
    "\n",
    "print('*'*150)\n"
   ],
   "outputs": [
    {
     "output_type": "stream",
     "name": "stdout",
     "text": [
      "******************************************************************************************************************************************************\n",
      "Testing: Deletion when list has just 1 element\n",
      "\n",
      "Inserting to empty circular double linked list\n",
      "\n",
      "Before Delete:\n",
      "[HEAD0x7fbe36b79f40] -> (0x7fbe36b79f40, 123, 0x7fbe36b79f40) <- [TAIL(0x7fbe36b79f40)]\n",
      "Deleting when circular double linked list has only 1 element\n",
      "\n",
      "After Delete:\n",
      "Circular double linked list is empty!\n",
      "******************************************************************************************************************************************************\n"
     ]
    }
   ],
   "metadata": {}
  },
  {
   "cell_type": "markdown",
   "source": [
    "#### Deletion from first"
   ],
   "metadata": {}
  },
  {
   "cell_type": "code",
   "execution_count": 46,
   "source": [
    "print('*'*150)\n",
    "print('Testing: Deletion from first\\n')\n",
    "\n",
    "cdll = CircularDoubleLinkedList()\n",
    "cdll.insert(1)\n",
    "cdll.insert(2)\n",
    "cdll.insert(3)\n",
    "\n",
    "print(f'\\nBefore Delete:\\n{cdll}')\n",
    "cdll.delete(pos=1)\n",
    "print(f'\\nAfter Delete:\\n{cdll}')\n",
    "\n",
    "print(f'\\nBefore Delete:\\n{cdll}')\n",
    "cdll.delete(pos=1)\n",
    "print(f'\\nAfter Delete:\\n{cdll}')\n",
    "\n",
    "print(f'\\nBefore Delete:\\n{cdll}')\n",
    "cdll.delete(pos=1)\n",
    "print(f'\\nAfter Delete:\\n{cdll}')\n",
    "\n",
    "print('*'*150)\n"
   ],
   "outputs": [
    {
     "output_type": "stream",
     "name": "stdout",
     "text": [
      "******************************************************************************************************************************************************\n",
      "Testing: Deletion from first\n",
      "\n",
      "Inserting to empty circular double linked list\n",
      "Inserting to last position of circular double linked list\n",
      "Inserting to last position of circular double linked list\n",
      "\n",
      "Before Delete:\n",
      "[HEAD0x7fbe36b78400] -> (0x7fbe36b5efd0, 1, 0x7fbe36b78880) <-> (0x7fbe36b78400, 2, 0x7fbe36b5efd0) <-> (0x7fbe36b78880, 3, 0x7fbe36b78400) <- [TAIL(0x7fbe36b5efd0)]\n",
      "Deleting from first when circular double linked list has more than 1 element\n",
      "\n",
      "After Delete:\n",
      "[HEAD0x7fbe36b78880] -> (0x7fbe36b5efd0, 2, 0x7fbe36b5efd0) <-> (0x7fbe36b78880, 3, 0x7fbe36b78880) <- [TAIL(0x7fbe36b5efd0)]\n",
      "\n",
      "Before Delete:\n",
      "[HEAD0x7fbe36b78880] -> (0x7fbe36b5efd0, 2, 0x7fbe36b5efd0) <-> (0x7fbe36b78880, 3, 0x7fbe36b78880) <- [TAIL(0x7fbe36b5efd0)]\n",
      "Deleting from first when circular double linked list has more than 1 element\n",
      "\n",
      "After Delete:\n",
      "[HEAD0x7fbe36b5efd0] -> (0x7fbe36b5efd0, 3, 0x7fbe36b5efd0) <- [TAIL(0x7fbe36b5efd0)]\n",
      "\n",
      "Before Delete:\n",
      "[HEAD0x7fbe36b5efd0] -> (0x7fbe36b5efd0, 3, 0x7fbe36b5efd0) <- [TAIL(0x7fbe36b5efd0)]\n",
      "Deleting when circular double linked list has only 1 element\n",
      "\n",
      "After Delete:\n",
      "Circular double linked list is empty!\n",
      "******************************************************************************************************************************************************\n"
     ]
    }
   ],
   "metadata": {}
  },
  {
   "cell_type": "markdown",
   "source": [
    "#### Deletion from last"
   ],
   "metadata": {}
  },
  {
   "cell_type": "code",
   "execution_count": 47,
   "source": [
    "print('*'*150)\n",
    "print('Testing: Deletion from last\\n')\n",
    "\n",
    "cdll = CircularDoubleLinkedList()\n",
    "cdll.insert(1)\n",
    "cdll.insert(2)\n",
    "cdll.insert(3)\n",
    "\n",
    "print(f'\\nBefore Delete:\\n{cdll}')\n",
    "cdll.delete()\n",
    "print(f'\\nAfter Delete:\\n{cdll}')\n",
    "\n",
    "print(f'\\nBefore Delete:\\n{cdll}')\n",
    "cdll.delete()\n",
    "print(f'\\nAfter Delete:\\n{cdll}')\n",
    "\n",
    "print(f'\\nBefore Delete:\\n{cdll}')\n",
    "cdll.delete()\n",
    "print(f'\\nAfter Delete:\\n{cdll}')\n",
    "\n",
    "print('*'*150)\n"
   ],
   "outputs": [
    {
     "output_type": "stream",
     "name": "stdout",
     "text": [
      "******************************************************************************************************************************************************\n",
      "Testing: Deletion from last\n",
      "\n",
      "Inserting to empty circular double linked list\n",
      "Inserting to last position of circular double linked list\n",
      "Inserting to last position of circular double linked list\n",
      "\n",
      "Before Delete:\n",
      "[HEAD0x7fbe36b3d070] -> (0x7fbe36b3d190, 1, 0x7fbe36b3d640) <-> (0x7fbe36b3d070, 2, 0x7fbe36b3d190) <-> (0x7fbe36b3d640, 3, 0x7fbe36b3d070) <- [TAIL(0x7fbe36b3d190)]\n",
      "Deleting from last when circular double linked list has more than 1 element\n",
      "\n",
      "After Delete:\n",
      "[HEAD0x7fbe36b3d070] -> (0x7fbe36b3d640, 1, 0x7fbe36b3d640) <-> (0x7fbe36b3d070, 2, 0x7fbe36b3d070) <- [TAIL(0x7fbe36b3d640)]\n",
      "\n",
      "Before Delete:\n",
      "[HEAD0x7fbe36b3d070] -> (0x7fbe36b3d640, 1, 0x7fbe36b3d640) <-> (0x7fbe36b3d070, 2, 0x7fbe36b3d070) <- [TAIL(0x7fbe36b3d640)]\n",
      "Deleting from last when circular double linked list has more than 1 element\n",
      "\n",
      "After Delete:\n",
      "[HEAD0x7fbe36b3d070] -> (0x7fbe36b3d070, 1, 0x7fbe36b3d070) <- [TAIL(0x7fbe36b3d070)]\n",
      "\n",
      "Before Delete:\n",
      "[HEAD0x7fbe36b3d070] -> (0x7fbe36b3d070, 1, 0x7fbe36b3d070) <- [TAIL(0x7fbe36b3d070)]\n",
      "Deleting when circular double linked list has only 1 element\n",
      "\n",
      "After Delete:\n",
      "Circular double linked list is empty!\n",
      "******************************************************************************************************************************************************\n"
     ]
    }
   ],
   "metadata": {}
  },
  {
   "cell_type": "markdown",
   "source": [
    "#### Delete from nth position"
   ],
   "metadata": {}
  },
  {
   "cell_type": "code",
   "execution_count": 48,
   "source": [
    "print('*'*150)\n",
    "print('Testing: Deletion from nth place\\n')\n",
    "\n",
    "cdll = CircularDoubleLinkedList()\n",
    "cdll.insert(1)\n",
    "cdll.insert(2)\n",
    "cdll.insert(3)\n",
    "\n",
    "print(f'\\nBefore Delete:\\n{cdll}')\n",
    "cdll.delete(2)\n",
    "print(f'\\nAfter Delete:\\n{cdll}')\n",
    "\n",
    "print(f'\\nBefore Delete:\\n{cdll}')\n",
    "cdll.delete(2)\n",
    "print(f'\\nAfter Delete:\\n{cdll}')\n",
    "\n",
    "print('*'*150)"
   ],
   "outputs": [
    {
     "output_type": "stream",
     "name": "stdout",
     "text": [
      "******************************************************************************************************************************************************\n",
      "Testing: Deletion from nth place\n",
      "\n",
      "Inserting to empty circular double linked list\n",
      "Inserting to last position of circular double linked list\n",
      "Inserting to last position of circular double linked list\n",
      "\n",
      "Before Delete:\n",
      "[HEAD0x7fbe36b79940] -> (0x7fbe36b79bb0, 1, 0x7fbe36b79be0) <-> (0x7fbe36b79940, 2, 0x7fbe36b79bb0) <-> (0x7fbe36b79be0, 3, 0x7fbe36b79940) <- [TAIL(0x7fbe36b79bb0)]\n",
      "Deleting the nth when double linked list has more than 1 element\n",
      "\n",
      "After Delete:\n",
      "[HEAD0x7fbe36b79940] -> (0x7fbe36b79bb0, 1, 0x7fbe36b79bb0) <-> (0x7fbe36b79940, 3, 0x7fbe36b79940) <- [TAIL(0x7fbe36b79bb0)]\n",
      "\n",
      "Before Delete:\n",
      "[HEAD0x7fbe36b79940] -> (0x7fbe36b79bb0, 1, 0x7fbe36b79bb0) <-> (0x7fbe36b79940, 3, 0x7fbe36b79940) <- [TAIL(0x7fbe36b79bb0)]\n",
      "Deleting the nth when double linked list has more than 1 element\n",
      "\n",
      "After Delete:\n",
      "[HEAD0x7fbe36b79940] -> (0x7fbe36b79940, 1, 0x7fbe36b79940) <- [TAIL(0x7fbe36b79940)]\n",
      "******************************************************************************************************************************************************\n"
     ]
    }
   ],
   "metadata": {}
  },
  {
   "cell_type": "code",
   "execution_count": null,
   "source": [],
   "outputs": [],
   "metadata": {}
  }
 ],
 "metadata": {
  "interpreter": {
   "hash": "aee8b7b246df8f9039afb4144a1f6fd8d2ca17a180786b69acc140d282b71a49"
  },
  "kernelspec": {
   "name": "python3",
   "display_name": "Python 3.9.6 64-bit"
  },
  "language_info": {
   "codemirror_mode": {
    "name": "ipython",
    "version": 3
   },
   "file_extension": ".py",
   "mimetype": "text/x-python",
   "name": "python",
   "nbconvert_exporter": "python",
   "pygments_lexer": "ipython3",
   "version": "3.9.6"
  }
 },
 "nbformat": 4,
 "nbformat_minor": 2
}