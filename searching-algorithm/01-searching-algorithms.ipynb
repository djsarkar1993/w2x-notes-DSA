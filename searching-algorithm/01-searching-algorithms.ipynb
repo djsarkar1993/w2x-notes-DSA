{
 "cells": [
  {
   "cell_type": "markdown",
   "id": "4393d0d4",
   "metadata": {},
   "source": [
    "# Searching Algorithms"
   ]
  },
  {
   "cell_type": "markdown",
   "id": "40fb9a0e",
   "metadata": {},
   "source": [
    "### Summary of Complexity"
   ]
  },
  {
   "cell_type": "markdown",
   "id": "a8ef7266",
   "metadata": {},
   "source": [
    "<table>\n",
    "    <tr style=\"border: 1px solid black;\">\n",
    "        <th style=\"border: 1px solid black;\" rowspan=\"2\">Algorithm</th>\n",
    "        <th style=\"border: 1px solid black; text-align: center;\" colspan=\"3\">Time Complexity</th>\n",
    "        <th style=\"border: 1px solid black; text-align: center;\">Space Complexity</th>\n",
    "    </tr>\n",
    "    <tr>\n",
    "        <th style=\"border: 1px solid black;\">Best Case</th>\n",
    "        <th style=\"border: 1px solid black;\">Average Case</th>\n",
    "        <th style=\"border: 1px solid black;\">Worst Case</th>\n",
    "        <th style=\"border: 1px solid black;\">Worst Case</th>\n",
    "    </tr>\n",
    "    <tr>\n",
    "        <td style=\"border: 1px solid black; text-align: left;\">Linear Search</td>\n",
    "        <td style=\"border: 1px solid black; text-align: center;\">O( 1 )</td>\n",
    "        <td style=\"border: 1px solid black; text-align: center;\">O( n/2 )</td>\n",
    "        <td style=\"border: 1px solid black; text-align: center;\">O( n )</td>\n",
    "        <td style=\"border: 1px solid black; text-align: center;\">O( 1 )</td>\n",
    "    </tr>\n",
    "    <tr>\n",
    "        <td style=\"border: 1px solid black; text-align: left;\">Binary Search</td>\n",
    "        <td style=\"border: 1px solid black; text-align: center;\">O( 1 )</td>\n",
    "        <td style=\"border: 1px solid black; text-align: center;\">O( log n )</td>\n",
    "        <td style=\"border: 1px solid black; text-align: center;\">O( log n )</td>\n",
    "        <td style=\"border: 1px solid black; text-align: center;\">O( 1 )</td>\n",
    "    </tr>\n",
    "    <tr>\n",
    "        <td style=\"border: 1px solid black; text-align: left;\"></td>\n",
    "        <td style=\"border: 1px solid black; text-align: center;\"></td>\n",
    "        <td style=\"border: 1px solid black; text-align: center;\"></td>\n",
    "        <td style=\"border: 1px solid black; text-align: center;\"></td>\n",
    "        <td style=\"border: 1px solid black; text-align: center;\"></td>\n",
    "    </tr>\n",
    "</table>"
   ]
  },
  {
   "cell_type": "markdown",
   "id": "b7527b4c",
   "metadata": {},
   "source": [
    "### Linear Search"
   ]
  },
  {
   "cell_type": "code",
   "execution_count": 1,
   "id": "80482870",
   "metadata": {},
   "outputs": [
    {
     "name": "stdout",
     "output_type": "stream",
     "text": [
      "Index of 47: 2\n",
      "Index of 100: -1\n"
     ]
    }
   ],
   "source": [
    "def linear_search(array, key):\n",
    "    array_length = len(array)\n",
    "    \n",
    "    for i in range(0, array_length):\n",
    "        if key == array[i]:\n",
    "            return i\n",
    "    \n",
    "    return -1\n",
    "\n",
    "\n",
    "\n",
    "array = [84,21,47,96,15]\n",
    "print(f'Index of 47: {linear_search(array, 47)}')\n",
    "print(f'Index of 100: {linear_search(array, 100)}')"
   ]
  },
  {
   "cell_type": "markdown",
   "id": "5693d3b6",
   "metadata": {},
   "source": [
    "### Binary Search"
   ]
  },
  {
   "cell_type": "markdown",
   "id": "da395b1b",
   "metadata": {},
   "source": [
    "<h5 style=\"color: red;\">Note: The i/p array MUST BE sorted</h5>"
   ]
  },
  {
   "cell_type": "markdown",
   "id": "911329ae",
   "metadata": {},
   "source": [
    "##### Iterative"
   ]
  },
  {
   "cell_type": "markdown",
   "id": "a288fd47",
   "metadata": {},
   "source": [
    "<h5>Time Complexity Analysis: <a href=\"https://youtu.be/6Q4wDZ3kCOQ?t=7m50s\">here</a></h5>"
   ]
  },
  {
   "cell_type": "code",
   "execution_count": 2,
   "id": "2e61f6ba",
   "metadata": {},
   "outputs": [
    {
     "name": "stdout",
     "output_type": "stream",
     "text": [
      "Index of 47: 2\n",
      "Index of 100: -1\n"
     ]
    }
   ],
   "source": [
    "def binary_search_iterative(array, key):\n",
    "    left_idx = 0\n",
    "    right_idx = len(array)-1\n",
    "    \n",
    "    while left_idx <= right_idx:\n",
    "        mid_idx = (left_idx + right_idx) // 2\n",
    "        \n",
    "        if key == array[mid_idx]:\n",
    "            return mid_idx\n",
    "        elif key < array[mid_idx]:\n",
    "            right_idx = mid_idx - 1\n",
    "        else:\n",
    "            left_idx = mid_idx + 1\n",
    "    \n",
    "    return -1\n",
    "\n",
    "\n",
    "\n",
    "array = [84,21,47,96,15]\n",
    "print(f'Index of 47: {binary_search_iterative(array, 47)}')\n",
    "print(f'Index of 100: {binary_search_iterative(array, 100)}')"
   ]
  },
  {
   "cell_type": "markdown",
   "id": "4efa2e34",
   "metadata": {},
   "source": [
    "##### Recursive"
   ]
  },
  {
   "cell_type": "markdown",
   "id": "6a6c256b",
   "metadata": {},
   "source": [
    "<h5>Time Complexity Analysis: <a href=\"https://youtu.be/TomQQb2kJvc\">here</a></h5>"
   ]
  },
  {
   "cell_type": "code",
   "execution_count": 3,
   "id": "fb7d9d9c",
   "metadata": {},
   "outputs": [
    {
     "name": "stdout",
     "output_type": "stream",
     "text": [
      "Index of 47: 2\n",
      "Index of 100: -1\n"
     ]
    }
   ],
   "source": [
    "def binary_search_recursive(array, key, left_idx, right_idx):\n",
    "    if left_idx > right_idx:\n",
    "        return -1\n",
    "    else:\n",
    "        mid_idx = (left_idx + right_idx) // 2\n",
    "        \n",
    "        if key == array[mid_idx]:\n",
    "            return mid_idx\n",
    "        elif key < array[mid_idx]:\n",
    "            return binary_search_recursive(array, key, left_idx, mid_idx - 1)\n",
    "        else:\n",
    "            return binary_search_recursive(array, key, mid_idx + 1, right_idx)\n",
    "\n",
    "\n",
    "\n",
    "array = [84,21,47,96,15]\n",
    "start_idx = 0\n",
    "end_idx = len(array) - 1\n",
    "print(f'Index of 47: {binary_search_recursive(array, 47, start_idx, end_idx)}')\n",
    "print(f'Index of 100: {binary_search_recursive(array, 100, start_idx, end_idx)}')"
   ]
  },
  {
   "cell_type": "code",
   "execution_count": null,
   "id": "9fe39d94",
   "metadata": {},
   "outputs": [],
   "source": []
  }
 ],
 "metadata": {
  "kernelspec": {
   "display_name": "Python 3 (ipykernel)",
   "language": "python",
   "name": "python3"
  },
  "language_info": {
   "codemirror_mode": {
    "name": "ipython",
    "version": 3
   },
   "file_extension": ".py",
   "mimetype": "text/x-python",
   "name": "python",
   "nbconvert_exporter": "python",
   "pygments_lexer": "ipython3",
   "version": "3.10.4"
  }
 },
 "nbformat": 4,
 "nbformat_minor": 5
}
