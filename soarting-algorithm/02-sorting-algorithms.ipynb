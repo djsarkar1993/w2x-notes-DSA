{
 "cells": [
  {
   "cell_type": "markdown",
   "id": "8e533f2b",
   "metadata": {},
   "source": [
    "# Sorting Algorithms"
   ]
  },
  {
   "cell_type": "markdown",
   "id": "2b623352",
   "metadata": {},
   "source": [
    "### Summary of Complexity"
   ]
  },
  {
   "cell_type": "markdown",
   "id": "b13af9fd",
   "metadata": {},
   "source": [
    "<table>\n",
    "    <tr style=\"border: 1px solid black;\">\n",
    "        <th style=\"border: 1px solid black; text-align: center;\" rowspan=\"2\">Sort Type</th>\n",
    "        <th style=\"border: 1px solid black; text-align: center;\" rowspan=\"2\">Algorithm</th>\n",
    "        <th style=\"border: 1px solid black; text-align: center;\" colspan=\"3\">Time Complexity</th>\n",
    "        <th style=\"border: 1px solid black; text-align: center;\">Space Complexity</th>\n",
    "        <th style=\"border: 1px solid black; text-align: center;\" rowspan=\"2\">Stable</th>\n",
    "    </tr>\n",
    "    <tr>\n",
    "        <th style=\"border: 1px solid black;\">Best Case</th>\n",
    "        <th style=\"border: 1px solid black;\">Average Case</th>\n",
    "        <th style=\"border: 1px solid black;\">Worst Case</th>\n",
    "        <th style=\"border: 1px solid black;\">Worst Case</th>\n",
    "    </tr>\n",
    "    <tr>\n",
    "        <td style=\"border: 1px solid black; text-align: left;\" rowspan=\"6\">Comparison Based</td>\n",
    "        <td style=\"border: 1px solid black; text-align: left;\">Bubble Sort</td>\n",
    "        <td style=\"border: 1px solid black; text-align: center;\">O( n )</td>\n",
    "        <td style=\"border: 1px solid black; text-align: center;\">O( n<sup>2</sup> )</td>\n",
    "        <td style=\"border: 1px solid black; text-align: center;\">O( n<sup>2</sup> )</td>\n",
    "        <td style=\"border: 1px solid black; text-align: center;\">O( 1 )</td>\n",
    "        <td style=\"border: 1px solid black; text-align: center;\">Yes</td>\n",
    "    </tr>\n",
    "    <tr>\n",
    "        <td style=\"border: 1px solid black; text-align: left;\">Selection Sort</td>\n",
    "        <td style=\"border: 1px solid black; text-align: center;\">O( n<sup>2</sup> )</td>\n",
    "        <td style=\"border: 1px solid black; text-align: center;\">O( n<sup>2</sup> )</td>\n",
    "        <td style=\"border: 1px solid black; text-align: center;\">O( n<sup>2</sup> )</td>\n",
    "        <td style=\"border: 1px solid black; text-align: center;\">O( 1 )</td>\n",
    "        <td style=\"border: 1px solid black; text-align: center;\">No</td>\n",
    "    </tr>\n",
    "    <tr>\n",
    "        <td style=\"border: 1px solid black; text-align: left;\">Insertion Sort</td>\n",
    "        <td style=\"border: 1px solid black; text-align: center;\">O( n )</td>\n",
    "        <td style=\"border: 1px solid black; text-align: center;\">O( n<sup>2</sup> )</td>\n",
    "        <td style=\"border: 1px solid black; text-align: center;\">O( n<sup>2</sup> )</td>\n",
    "        <td style=\"border: 1px solid black; text-align: center;\">O( 1 )</td>\n",
    "        <td style=\"border: 1px solid black; text-align: center;\">Yes</td>\n",
    "    </tr>\n",
    "    <tr>\n",
    "        <td style=\"border: 1px solid black; text-align: left;\">Merge Sort</td>\n",
    "        <td style=\"border: 1px solid black; text-align: center;\">O( n log n )</td>\n",
    "        <td style=\"border: 1px solid black; text-align: center;\">O( n log n )</td>\n",
    "        <td style=\"border: 1px solid black; text-align: center;\">O( n log n )</td>\n",
    "        <td style=\"border: 1px solid black; text-align: center;\">O( n )</td>\n",
    "        <td style=\"border: 1px solid black; text-align: center;\">Yes</td>\n",
    "    </tr>\n",
    "    <tr>\n",
    "        <td style=\"border: 1px solid black; text-align: left;\">Quick Sort</td>\n",
    "        <td style=\"border: 1px solid black; text-align: center;\">O( n log n )</td>\n",
    "        <td style=\"border: 1px solid black; text-align: center;\">O( n log n )</td>\n",
    "        <td style=\"border: 1px solid black; text-align: center;\">O( n<sup>2</sup> )</td>\n",
    "        <td style=\"border: 1px solid black; text-align: center;\">O( n )</td>\n",
    "        <td style=\"border: 1px solid black; text-align: center;\">No</td>\n",
    "    </tr>\n",
    "    <tr>\n",
    "        <td style=\"border: 1px solid black; text-align: left;\">Shell Sort</td>\n",
    "        <td style=\"border: 1px solid black; text-align: center;\">O( n log n )</td>\n",
    "        <td style=\"border: 1px solid black; text-align: center;\">O( n log n )</td>\n",
    "        <td style=\"border: 1px solid black; text-align: center;\">O( n<sup>2</sup> )</td>\n",
    "        <td style=\"border: 1px solid black; text-align: center;\">O( 1 )</td>\n",
    "        <td style=\"border: 1px solid black; text-align: center;\">No</td>\n",
    "    </tr>\n",
    "    <tr>\n",
    "        <td style=\"border: 1px solid black; text-align: left;\" rowspan=\"4\">Index Based</td>\n",
    "        <td style=\"border: 1px solid black; text-align: left;\">Count Sort</td>\n",
    "        <td style=\"border: 1px solid black; text-align: center;\">O( n )</td>\n",
    "        <td style=\"border: 1px solid black; text-align: center;\">O( n )</td>\n",
    "        <td style=\"border: 1px solid black; text-align: center;\">O( n )</td>\n",
    "        <td style=\"border: 1px solid black; text-align: center;\">O( n )</td>\n",
    "        <td style=\"border: 1px solid black; text-align: center;\">Yes</td>\n",
    "    </tr>\n",
    "    <tr>\n",
    "        <td style=\"border: 1px solid black; text-align: left;\">Radix Sort</td>\n",
    "        <td style=\"border: 1px solid black; text-align: center;\">O( n )</td>\n",
    "        <td style=\"border: 1px solid black; text-align: center;\">O( n )</td>\n",
    "        <td style=\"border: 1px solid black; text-align: center;\">O( n )</td>\n",
    "        <td style=\"border: 1px solid black; text-align: center;\">O( n )</td>\n",
    "        <td style=\"border: 1px solid black; text-align: center;\">Yes</td>\n",
    "    </tr>\n",
    "    <tr>\n",
    "        <td style=\"border: 1px solid black; text-align: left;\">Bucket Sort</td>\n",
    "        <td style=\"border: 1px solid black; text-align: center;\">O( n )</td>\n",
    "        <td style=\"border: 1px solid black; text-align: center;\">O( n<sup>2</sup> )</td>\n",
    "        <td style=\"border: 1px solid black; text-align: center;\">O( n<sup>2</sup> )</td>\n",
    "        <td style=\"border: 1px solid black; text-align: center;\">O( n )</td>\n",
    "        <td style=\"border: 1px solid black; text-align: center;\">Yes</td>\n",
    "    </tr>\n",
    "    <tr>\n",
    "        <td style=\"border: 1px solid black; text-align: left;\">Heap Sort</td>\n",
    "        <td style=\"border: 1px solid black; text-align: center;\">O( n log n )</td>\n",
    "        <td style=\"border: 1px solid black; text-align: center;\">O( n log n )</td>\n",
    "        <td style=\"border: 1px solid black; text-align: center;\">O( n log n )</td>\n",
    "        <td style=\"border: 1px solid black; text-align: center;\">O( 1 )</td>\n",
    "        <td style=\"border: 1px solid black; text-align: center;\">No</td>\n",
    "    </tr>\n",
    "</table>"
   ]
  },
  {
   "cell_type": "markdown",
   "id": "c5d36e64",
   "metadata": {},
   "source": [
    "### Bubble Sort"
   ]
  },
  {
   "cell_type": "code",
   "execution_count": 1,
   "id": "fe7faff1",
   "metadata": {},
   "outputs": [
    {
     "name": "stdout",
     "output_type": "stream",
     "text": [
      "Original arr: [3, 5, 8, 6, 2, 4, -2, 3]\n",
      "Sorted arr: [-2, 2, 3, 3, 4, 5, 6, 8]\n"
     ]
    }
   ],
   "source": [
    "def bubble_sort(array):\n",
    "    array_length = len(array)\n",
    "    \n",
    "    for _pass in range(array_length - 1, 0, -1):\n",
    "        is_sorted_flag = False\n",
    "        \n",
    "        for i in range(0, _pass):\n",
    "            if arr[i] > arr[i+1]:\n",
    "                is_sorted_flag = True\n",
    "                arr[i], arr[i+1] = arr[i+1], arr[i]\n",
    "        \n",
    "        if is_sorted_flag == False:\n",
    "            break\n",
    "\n",
    "\n",
    "\n",
    "arr = [3,5,8,6,2,4,-2,3]\n",
    "print(f'Original arr: {arr}')\n",
    "bubble_sort(arr)\n",
    "print(f'Sorted arr: {arr}')"
   ]
  },
  {
   "cell_type": "markdown",
   "id": "89a7716a",
   "metadata": {},
   "source": [
    "### Selection Sort"
   ]
  },
  {
   "cell_type": "code",
   "execution_count": 2,
   "id": "1c3957d6",
   "metadata": {},
   "outputs": [
    {
     "name": "stdout",
     "output_type": "stream",
     "text": [
      "Original arr: [3, 5, 8, 6, 2, 4, -2, 3]\n",
      "Sorted arr: [-2, 2, 3, 3, 4, 5, 6, 8]\n"
     ]
    }
   ],
   "source": [
    "def selection_sort(array):\n",
    "    array_length = len(array)\n",
    "    \n",
    "    for i in range(0, array_length - 1):\n",
    "        temp_idx = i\n",
    "        \n",
    "        for j in range(i + 1, array_length):\n",
    "            if array[j] < arr[temp_idx]:\n",
    "                temp_idx = j\n",
    "        \n",
    "        array[i], array[temp_idx] = array[temp_idx], array[i]\n",
    "\n",
    "\n",
    "\n",
    "arr = [3,5,8,6,2,4,-2,3]\n",
    "print(f'Original arr: {arr}')\n",
    "selection_sort(arr)\n",
    "print(f'Sorted arr: {arr}')"
   ]
  },
  {
   "cell_type": "markdown",
   "id": "cdd85074",
   "metadata": {},
   "source": [
    "### Insertion Sort"
   ]
  },
  {
   "cell_type": "code",
   "execution_count": 3,
   "id": "3f72ccdd",
   "metadata": {},
   "outputs": [
    {
     "name": "stdout",
     "output_type": "stream",
     "text": [
      "Original arr: [3, 5, 8, 6, 2, 4, -2, 3]\n",
      "Sorted arr: [-2, 2, 3, 3, 4, 5, 6, 8]\n"
     ]
    }
   ],
   "source": [
    "def insertion_sort(array):\n",
    "    array_length = len(array)\n",
    "    \n",
    "    for i in range(1, array_length):\n",
    "        cvalue = arr[i]\n",
    "        temp_idx = i\n",
    "        \n",
    "        while temp_idx > 0 and arr[temp_idx - 1] > cvalue:\n",
    "            arr[temp_idx] = arr[temp_idx - 1]\n",
    "            temp_idx -= 1\n",
    "        \n",
    "        arr[temp_idx] = cvalue\n",
    "\n",
    "\n",
    "\n",
    "arr = [3,5,8,6,2,4,-2,3]\n",
    "print(f'Original arr: {arr}')\n",
    "insertion_sort(arr)\n",
    "print(f'Sorted arr: {arr}')"
   ]
  },
  {
   "cell_type": "markdown",
   "id": "2de1674d",
   "metadata": {},
   "source": [
    "### Merge Sort"
   ]
  },
  {
   "cell_type": "markdown",
   "id": "f225fbb0",
   "metadata": {},
   "source": [
    "<h5>Time Complexity Analysis: <a href=\"https://youtu.be/g1AwUYauqgg\">here</a></h5>"
   ]
  },
  {
   "cell_type": "code",
   "execution_count": 4,
   "id": "0e94827d",
   "metadata": {},
   "outputs": [
    {
     "name": "stdout",
     "output_type": "stream",
     "text": [
      "Original arr: [3, 5, 8, 6, 2, 4, -2, 3]\n",
      "Sorted arr: [-2, 2, 3, 3, 4, 5, 6, 8]\n"
     ]
    }
   ],
   "source": [
    "def sort(array, start_idx, mid_idx, end_idx):\n",
    "    merged_array = []\n",
    "    \n",
    "    left_array_start_idx = start_idx\n",
    "    right_array_start_idx = mid_idx + 1\n",
    "    \n",
    "    while (left_array_start_idx <= mid_idx) and (right_array_start_idx <= end_idx):\n",
    "        if array[ left_array_start_idx ] <= array[ right_array_start_idx ]:\n",
    "            merged_array.append(array[ left_array_start_idx ])\n",
    "            left_array_start_idx += 1\n",
    "        else:\n",
    "            merged_array.append(array[ right_array_start_idx ])\n",
    "            right_array_start_idx += 1\n",
    "    \n",
    "    while left_array_start_idx <= mid_idx:\n",
    "        merged_array.append(array[ left_array_start_idx ])\n",
    "        left_array_start_idx += 1\n",
    "    \n",
    "    while right_array_start_idx <= end_idx:\n",
    "        merged_array.append(array[ right_array_start_idx ])\n",
    "        right_array_start_idx += 1\n",
    "    \n",
    "    j = start_idx\n",
    "    for element in merged_array:\n",
    "        array[j] = element\n",
    "        j += 1\n",
    "\n",
    "\n",
    "\n",
    "def merge_sort(array, start_idx, end_idx):\n",
    "    if start_idx >= end_idx:\n",
    "        return \n",
    "    else:\n",
    "        mid_idx = (start_idx + end_idx)//2\n",
    "        \n",
    "        merge_sort(array, start_idx, mid_idx)\n",
    "        merge_sort(array, mid_idx + 1, end_idx)\n",
    "        \n",
    "        sort(array, start_idx, mid_idx, end_idx)\n",
    "\n",
    "\n",
    "\n",
    "arr = [3,5,8,6,2,4,-2,3]\n",
    "start_idx = 0\n",
    "end_idx = len(arr) - 1\n",
    "print(f'Original arr: {arr}')\n",
    "merge_sort(arr, start_idx, end_idx)\n",
    "print(f'Sorted arr: {arr}')"
   ]
  },
  {
   "cell_type": "markdown",
   "id": "c2330555",
   "metadata": {},
   "source": [
    "### Quick Sort"
   ]
  },
  {
   "cell_type": "markdown",
   "id": "6b05e708",
   "metadata": {},
   "source": [
    "<h5>Time Complexity Analysis: <a href=\"https://youtu.be/4nVbJV5pZa8\">here</a></h5>\n",
    "<h5>Space Complexity Analysis: <a href=\"https://youtu.be/KSQdRBxRE0w\">here</a></h5>"
   ]
  },
  {
   "cell_type": "code",
   "execution_count": 5,
   "id": "f6752c36",
   "metadata": {},
   "outputs": [
    {
     "name": "stdout",
     "output_type": "stream",
     "text": [
      "Original arr: [3, 5, 8, 6, 2, 4, -2, 3]\n",
      "Sorted arr: [-2, 2, 3, 3, 4, 5, 6, 8]\n"
     ]
    }
   ],
   "source": [
    "def partition(array, start_idx, end_idx):\n",
    "    pivot = array[end_idx]\n",
    "    pivot_idx = start_idx - 1\n",
    "    \n",
    "    for i in range(start_idx, end_idx):\n",
    "        if array[i] < pivot:\n",
    "            pivot_idx += 1\n",
    "            array[i], array[pivot_idx] = array[pivot_idx], array[i]\n",
    "    \n",
    "    pivot_idx += 1\n",
    "    array[end_idx], array[pivot_idx] = array[pivot_idx], array[end_idx]\n",
    "    \n",
    "    return pivot_idx\n",
    "\n",
    "\n",
    "\n",
    "def quick_sort(array, start_idx, end_idx):\n",
    "    if start_idx < end_idx:\n",
    "        pivot_idx = partition(array, start_idx, end_idx)\n",
    "        \n",
    "        quick_sort(array, start_idx, pivot_idx - 1)\n",
    "        quick_sort(array, pivot_idx + 1, end_idx)\n",
    "\n",
    "\n",
    "\n",
    "arr = [3,5,8,6,2,4,-2,3]\n",
    "start_idx = 0\n",
    "end_idx = len(arr) - 1\n",
    "print(f'Original arr: {arr}')\n",
    "quick_sort(arr, start_idx, end_idx)\n",
    "print(f'Sorted arr: {arr}')"
   ]
  },
  {
   "cell_type": "markdown",
   "id": "92477b57",
   "metadata": {},
   "source": [
    "### Shell Sort"
   ]
  },
  {
   "cell_type": "code",
   "execution_count": null,
   "id": "1370fc13",
   "metadata": {},
   "outputs": [],
   "source": []
  },
  {
   "cell_type": "markdown",
   "id": "9e18fe0f",
   "metadata": {},
   "source": [
    "### Count Sort"
   ]
  },
  {
   "cell_type": "code",
   "execution_count": 6,
   "id": "3da977dd",
   "metadata": {},
   "outputs": [
    {
     "name": "stdout",
     "output_type": "stream",
     "text": [
      "Original arr: [3, 5, 8, 6, 2, 4, 3]\n",
      "Sorted arr: [2, 3, 3, 4, 5, 6, 8]\n"
     ]
    }
   ],
   "source": [
    "def count_sort(array):\n",
    "    max_element = max(array)\n",
    "    temp_array = [0] * (max_element+1)\n",
    "    \n",
    "    array_length = len(array)\n",
    "    for i in range(0, array_length):\n",
    "        temp_array[ array[i] ] += 1\n",
    "    \n",
    "    array_idx = 0\n",
    "    temp_array_idx = 0\n",
    "    while temp_array_idx < len(temp_array):\n",
    "        if temp_array[ temp_array_idx ] > 0:\n",
    "            array[ array_idx ] = temp_array_idx\n",
    "            array_idx += 1\n",
    "            \n",
    "            temp_array[ temp_array_idx ] -= 1\n",
    "        else:\n",
    "            temp_array_idx += 1\n",
    "\n",
    "\n",
    "\n",
    "arr = [3,5,8,6,2,4,3]\n",
    "print(f'Original arr: {arr}')\n",
    "count_sort(arr)\n",
    "print(f'Sorted arr: {arr}')"
   ]
  },
  {
   "cell_type": "markdown",
   "id": "ace33796",
   "metadata": {},
   "source": [
    "### Radix Sort"
   ]
  },
  {
   "cell_type": "code",
   "execution_count": 7,
   "id": "0d1959e2",
   "metadata": {},
   "outputs": [
    {
     "name": "stdout",
     "output_type": "stream",
     "text": [
      "Original arr: [38, 511, 891, 60, 26, 420, 3]\n",
      "Sorted arr: [3, 26, 38, 60, 420, 511, 891]\n"
     ]
    }
   ],
   "source": [
    "def radix_sort(array):\n",
    "    buckets = [[] for _ in range(10)]\n",
    "    \n",
    "    max_element = max(array)\n",
    "    max_digit = len(str(max_element))\n",
    "    \n",
    "    array_length = len(array)\n",
    "    for i in range(0, max_digit):\n",
    "        for j in range(0, array_length):\n",
    "            last_digit = (array[j]//10**i)%10\n",
    "            buckets[ last_digit ].append(array[j])\n",
    "        \n",
    "        array_idx = 0\n",
    "        for j in range(10):\n",
    "            for k in range(0, len(buckets[j])):\n",
    "                array[ array_idx ] = buckets[j].pop(0)\n",
    "                array_idx += 1\n",
    "        \n",
    "\n",
    "arr = [38,511,891,60,26,420,3]\n",
    "print(f'Original arr: {arr}')\n",
    "radix_sort(arr)\n",
    "print(f'Sorted arr: {arr}')"
   ]
  },
  {
   "cell_type": "markdown",
   "id": "fa4ea0ba",
   "metadata": {},
   "source": [
    "### Bucket Sort"
   ]
  },
  {
   "cell_type": "code",
   "execution_count": 8,
   "id": "8c61f6ee",
   "metadata": {},
   "outputs": [
    {
     "name": "stdout",
     "output_type": "stream",
     "text": [
      "Original arr: [3, 5, 8, 6, 2, 4, 3]\n",
      "Sorted arr: [2, 3, 3, 4, 5, 6, 8]\n"
     ]
    }
   ],
   "source": [
    "import math\n",
    "\n",
    "def bucket_sort(arr):\n",
    "    n = len(arr)\n",
    "    max_element = max(arr)\n",
    "    \n",
    "    bucket_count = math.ceil(math.sqrt(n))\n",
    "    buckets = [[] for _ in range(bucket_count+1)]\n",
    "    \n",
    "    for i in range(n):\n",
    "        bucket_idx = math.ceil((arr[i] * bucket_count ) / max_element)\n",
    "        buckets[bucket_idx].append(arr[i])\n",
    "    \n",
    "    arr_idx = 0\n",
    "    for i in range(bucket_count+1):\n",
    "        if len(buckets[i]) > 0:\n",
    "            quick_sort(buckets[i], 0, len(buckets[i])-1)\n",
    "            \n",
    "            for j in range(len(buckets[i])):\n",
    "                arr[arr_idx] = buckets[i][j]\n",
    "                arr_idx += 1\n",
    "\n",
    "\n",
    "\n",
    "arr = [3,5,8,6,2,4,3]\n",
    "print(f'Original arr: {arr}')\n",
    "bucket_sort(arr)\n",
    "print(f'Sorted arr: {arr}')"
   ]
  },
  {
   "cell_type": "markdown",
   "id": "6d1244cb",
   "metadata": {},
   "source": [
    "### Heap Sort"
   ]
  },
  {
   "cell_type": "code",
   "execution_count": null,
   "id": "b0f58de5",
   "metadata": {},
   "outputs": [],
   "source": []
  }
 ],
 "metadata": {
  "kernelspec": {
   "display_name": "Python 3 (ipykernel)",
   "language": "python",
   "name": "python3"
  },
  "language_info": {
   "codemirror_mode": {
    "name": "ipython",
    "version": 3
   },
   "file_extension": ".py",
   "mimetype": "text/x-python",
   "name": "python",
   "nbconvert_exporter": "python",
   "pygments_lexer": "ipython3",
   "version": "3.10.4"
  }
 },
 "nbformat": 4,
 "nbformat_minor": 5
}
