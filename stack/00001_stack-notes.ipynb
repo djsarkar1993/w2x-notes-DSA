{
 "cells": [
  {
   "cell_type": "markdown",
   "source": [
    "## What is a stack?"
   ],
   "metadata": {}
  },
  {
   "cell_type": "markdown",
   "source": [
    "<p>A stack is a linear data structure that follows the principle of Last In First Out (LIFO). This means the last element inserted inside the stack is removed first.</p>\n",
    "<p>We can think of the stack data structure as the pile of plates on top of another. Here, we can:<ul><li>Put a new plate on top</li><li>Remove the top plate (LIFO)</li><li>And, if we want the plate at the bottom, we must first remove all the plates on top.</li></ul></p>\n",
    "<img src=\"Image/fig1-stk.png\" alt=\"Image/fig1-stk.png\" width=450\" style=\"background:white; border:1px;\"/>"
   ],
   "metadata": {}
  },
  {
   "cell_type": "markdown",
   "source": [
    "## Basic Operations of Stack"
   ],
   "metadata": {}
  },
  {
   "cell_type": "markdown",
   "source": [
    "<ul><li><b>createStack:</b> Create an empty stack</li><li><b>push:</b> Add an element to the top of a stack</li><li><b>pop:</b> Remove an element from the top of a stack</li><li><b>deleteStack:</b> Delete all elements from the stack</li><li><b>isEmpty:</b> Check if the stack is empty</li><li><b>isFull:</b> Check if the stack is full</li><li><b>peek:</b> Get the value of the top element without removing it</li></ul>"
   ],
   "metadata": {}
  },
  {
   "cell_type": "markdown",
   "source": [
    "## Array vs Linked List: Implementation of stack"
   ],
   "metadata": {}
  },
  {
   "cell_type": "markdown",
   "source": [
    "<table><tr><th>Array</th><th>Linked List</th></tr><tr><td><ul><li>Easy to implement</li><li>Speed problem when it grows</li></ul></td><td><ul><li>Fast performace</li><li>Not so easy to implement</li></ul></td></tr></table>"
   ],
   "metadata": {}
  },
  {
   "cell_type": "markdown",
   "source": [
    "## Stack (using array)"
   ],
   "metadata": {}
  },
  {
   "cell_type": "markdown",
   "source": [
    "### Code"
   ],
   "metadata": {}
  },
  {
   "cell_type": "code",
   "execution_count": 152,
   "source": [
    "class ArrayStack:\n",
    "    # Creating a stack\n",
    "    def __init__(self, capacity):\n",
    "        self.capacity = capacity\n",
    "        self.elements = list()\n",
    "        self.top = -1\n",
    "    \n",
    "\n",
    "    # Utility function to return the size of the stack\n",
    "    def __len__(self):\n",
    "        return self.top + 1\n",
    "    \n",
    "\n",
    "    # Returns str representation of stack\n",
    "    def __str__(self):\n",
    "        result = ''\n",
    "        idx = self.top\n",
    "        for element in reversed(self.elements):\n",
    "            result += f'{idx}: [ {element} ]\\n'\n",
    "            idx -= 1\n",
    "        result += f'Size: {len(self)} Capacity: {self.capacity}'\n",
    "        return result\n",
    "    \n",
    "\n",
    "    # Check if the stack is empty\n",
    "    def isEmpty(self):\n",
    "        return self.top == -1\n",
    "    \n",
    "\n",
    "    # Check if the stack is full\n",
    "    def isFull(self):\n",
    "        return self.top == self.capacity - 1\n",
    "    \n",
    "\n",
    "    # Add elements into stack\n",
    "    def push(self, element, hidePrints=False):\n",
    "        if self.isFull():\n",
    "            raise Exception(\"Operation Failed: Stack OverFlow!\")\n",
    "        \n",
    "        else:\n",
    "            self.top += 1\n",
    "            self.elements.append(element)\n",
    "\n",
    "            if not hidePrints:\n",
    "                print(f'Inserting {element} to idx: {self.top}')\n",
    "    \n",
    "\n",
    "    # Get the value of the top element without removing it\n",
    "    def peek(self):\n",
    "        if self.isEmpty():\n",
    "            raise Exception(\"Operation Failed: The stack is empty\")\n",
    "        \n",
    "        return self.elements[self.top]\n",
    "    \n",
    "\n",
    "    # Remove element from stack\n",
    "    def pop(self, hidePrints=False):\n",
    "        if self.isEmpty():\n",
    "            raise Exception(\"Operation Failed: Stack UnderFlow!\")\n",
    "        \n",
    "        else:\n",
    "            if not hidePrints:\n",
    "                print(f'Removing {self.elements[self.top]} from idx: {self.top}')\n",
    "            \n",
    "            element = self.elements[self.top]\n",
    "            del self.elements[self.top]\n",
    "            self.top -= 1\n",
    "\n",
    "            return element\n",
    "    \n",
    "\n",
    "    # Delete all elements from stack\n",
    "    def empty(self):\n",
    "        if self.isEmpty():\n",
    "            raise Exception(\"Operation Failed: The stack is empty\")\n",
    "        \n",
    "        else:\n",
    "            self.elements = list()\n",
    "            self.top = -1\n",
    "\n"
   ],
   "outputs": [],
   "metadata": {}
  },
  {
   "cell_type": "markdown",
   "source": [
    "## Stack (using linked list) (Very uncommon)"
   ],
   "metadata": {}
  },
  {
   "cell_type": "markdown",
   "source": [
    "### Code"
   ],
   "metadata": {}
  },
  {
   "cell_type": "code",
   "execution_count": 153,
   "source": [
    "class Node:\n",
    "    def __init__(self, data):\n",
    "        self.data = data\n",
    "        self.next = None\n",
    "    \n",
    "    def __str__(self):\n",
    "        return str(self.data)\n"
   ],
   "outputs": [],
   "metadata": {}
  },
  {
   "cell_type": "code",
   "execution_count": 154,
   "source": [
    "class SLL:\n",
    "    def __init__(self):\n",
    "        self.head = None\n",
    "        self.tail = None\n",
    "        self.length = 0\n",
    "    \n",
    "\n",
    "    def __iter__(self):\n",
    "        current_node = self.head\n",
    "        while current_node:\n",
    "            yield current_node\n",
    "            current_node = current_node.next\n",
    "    \n",
    "\n",
    "    def __len__(self):\n",
    "        return self.length\n",
    "    \n",
    "\n",
    "    def insertAtFirst(self, data):\n",
    "        node = Node(data)\n",
    "\n",
    "        if self.head is None:\n",
    "            self.head = node\n",
    "            self.tail = node\n",
    "        \n",
    "        else:\n",
    "            node.next = self.head\n",
    "            self.head = node\n",
    "        \n",
    "        self.length += 1\n",
    "    \n",
    "\n",
    "    def deleteFromFirst(self):\n",
    "        data = self.head.data\n",
    "\n",
    "        if self.head == self.tail:\n",
    "            self.head = None\n",
    "            self.tail = None\n",
    "        \n",
    "        else:\n",
    "            self.head = self.head.next\n",
    "        \n",
    "        self.length -= 1\n",
    "\n",
    "        return data\n",
    "    \n",
    "\n",
    "    def empty(self):\n",
    "        self.head = None\n",
    "        self.tail = None\n",
    "        self.length = 0\n"
   ],
   "outputs": [],
   "metadata": {}
  },
  {
   "cell_type": "code",
   "execution_count": 155,
   "source": [
    "class LLStack:\n",
    "    # Creating a stack\n",
    "    def __init__(self):\n",
    "        self.elements = SLL()\n",
    "    \n",
    "\n",
    "    # Utility function to return the size of the stack\n",
    "    def __len__(self):\n",
    "        return len(self.elements)\n",
    "    \n",
    "\n",
    "    # Returns str representation of stack\n",
    "    def __str__(self):\n",
    "        result = ''\n",
    "        idx = len(self.elements) - 1\n",
    "        for element in self.elements:\n",
    "            result += f'{idx}: [ {element} ]\\n'\n",
    "            idx -= 1\n",
    "        result += f'Size: {len(self)} Capacity: UNLIMITED'\n",
    "        return result\n",
    "    \n",
    "\n",
    "    # Check if the stack is empty\n",
    "    def isEmpty(self):\n",
    "        return self.elements.head is None\n",
    "    \n",
    "\n",
    "    # Check if the stack is full\n",
    "    def isFull(self):\n",
    "        return False\n",
    "    \n",
    "\n",
    "    # Add elements into stack\n",
    "    def push(self, element, hidePrints=False):\n",
    "        idx = len(self.elements)\n",
    "        self.elements.insertAtFirst(element)\n",
    "\n",
    "        if not hidePrints:\n",
    "            print(f'Inserting {element} to idx: {idx}')\n",
    "    \n",
    "\n",
    "    # Get the value of the top element without removing it\n",
    "    def peek(self):\n",
    "        if self.isEmpty():\n",
    "            raise Exception(\"Operation Failed: The stack is empty\")\n",
    "        \n",
    "        return str(self.elements.head)\n",
    "    \n",
    "\n",
    "    # Remove element from stack\n",
    "    def pop(self, hidePrints=False):\n",
    "        if self.isEmpty():\n",
    "            raise Exception(\"Operation Failed: Stack UnderFlow!\")\n",
    "        \n",
    "        else:\n",
    "            if not hidePrints:\n",
    "                idx = len(self.elements) - 1 \n",
    "                print(f'Removing {self.peek()} from idx: {idx}')\n",
    "            \n",
    "            element = self.elements.deleteFromFirst()\n",
    "\n",
    "            return element\n",
    "    \n",
    "\n",
    "    # Delete all elements from stack\n",
    "    def empty(self):\n",
    "        if self.isEmpty():\n",
    "            raise Exception(\"Operation Failed: The stack is empty\")\n",
    "        \n",
    "        else:\n",
    "            self.elements.empty()"
   ],
   "outputs": [],
   "metadata": {}
  },
  {
   "cell_type": "markdown",
   "source": [
    "## Complexity Analysis"
   ],
   "metadata": {}
  },
  {
   "cell_type": "markdown",
   "source": [
    "<table><tr><th></th><th>Time Complexity</th><th>Space Complexity</th></tr><tr><td>Create Stack</td><td>O(1)</td><td>O(1)</td></tr><tr><td>Push</td><td>O(1)</td><td>O(1)</td></tr><tr><td>Pop</td><td>O(1)</td><td>O(1)</td></tr><tr><td>Peek</td><td>O(1)</td><td>O(1)</td></tr><tr><td>Is empty / full</td><td>O(1)</td><td>O(1)</td></tr><tr><td>Delete Stack</td><td>O(1)</td><td>O(1)</td></tr></table>"
   ],
   "metadata": {}
  },
  {
   "cell_type": "markdown",
   "source": [
    "## Tests"
   ],
   "metadata": {}
  },
  {
   "cell_type": "markdown",
   "source": [
    "#### Stack (using array)"
   ],
   "metadata": {}
  },
  {
   "cell_type": "code",
   "execution_count": 156,
   "source": [
    "print('Test: Creating a stack')\n",
    "print('*'*100)\n",
    "\n",
    "astk = ArrayStack(5)\n",
    "\n",
    "print(f'astk = \\n{astk}')\n",
    "print('*'*100)"
   ],
   "outputs": [
    {
     "output_type": "stream",
     "name": "stdout",
     "text": [
      "Test: Creating a stack\n",
      "****************************************************************************************************\n",
      "astk = \n",
      "Size: 0 Capacity: 5\n",
      "****************************************************************************************************\n"
     ]
    }
   ],
   "metadata": {}
  },
  {
   "cell_type": "code",
   "execution_count": 157,
   "source": [
    "print('Test: Inserting a stack')\n",
    "print('*'*100)\n",
    "\n",
    "astk.push(1)\n",
    "astk.push(2)\n",
    "astk.push(3)\n",
    "astk.push(4)\n",
    "astk.push(5)\n",
    "\n",
    "print(f'astk = \\n{astk}')\n",
    "print('*'*100)"
   ],
   "outputs": [
    {
     "output_type": "stream",
     "name": "stdout",
     "text": [
      "Test: Inserting a stack\n",
      "****************************************************************************************************\n",
      "Inserting 1 to idx: 0\n",
      "Inserting 2 to idx: 1\n",
      "Inserting 3 to idx: 2\n",
      "Inserting 4 to idx: 3\n",
      "Inserting 5 to idx: 4\n",
      "astk = \n",
      "4: [ 5 ]\n",
      "3: [ 4 ]\n",
      "2: [ 3 ]\n",
      "1: [ 2 ]\n",
      "0: [ 1 ]\n",
      "Size: 5 Capacity: 5\n",
      "****************************************************************************************************\n"
     ]
    }
   ],
   "metadata": {}
  },
  {
   "cell_type": "code",
   "execution_count": 158,
   "source": [
    "print('Test: Stack Overflow')\n",
    "print('*'*100)\n",
    "\n",
    "print(f'is stack full? : {astk.isFull()}')\n",
    "#astk.push(6)\n",
    "\n",
    "print('*'*100)"
   ],
   "outputs": [
    {
     "output_type": "stream",
     "name": "stdout",
     "text": [
      "Test: Stack Overflow\n",
      "****************************************************************************************************\n",
      "is stack full? : True\n",
      "****************************************************************************************************\n"
     ]
    }
   ],
   "metadata": {}
  },
  {
   "cell_type": "code",
   "execution_count": 159,
   "source": [
    "print('Test: Peek')\n",
    "print('*'*100)\n",
    "\n",
    "print(astk.peek())\n",
    "\n",
    "print('*'*100)"
   ],
   "outputs": [
    {
     "output_type": "stream",
     "name": "stdout",
     "text": [
      "Test: Peek\n",
      "****************************************************************************************************\n",
      "5\n",
      "****************************************************************************************************\n"
     ]
    }
   ],
   "metadata": {}
  },
  {
   "cell_type": "code",
   "execution_count": 160,
   "source": [
    "print('Test: Deleting from stack')\n",
    "print('*'*100)\n",
    "\n",
    "astk.pop()\n",
    "astk.pop()\n",
    "\n",
    "print(f'astk = \\n{astk}')\n",
    "print('*'*100)"
   ],
   "outputs": [
    {
     "output_type": "stream",
     "name": "stdout",
     "text": [
      "Test: Deleting from stack\n",
      "****************************************************************************************************\n",
      "Removing 5 from idx: 4\n",
      "Removing 4 from idx: 3\n",
      "astk = \n",
      "2: [ 3 ]\n",
      "1: [ 2 ]\n",
      "0: [ 1 ]\n",
      "Size: 3 Capacity: 5\n",
      "****************************************************************************************************\n"
     ]
    }
   ],
   "metadata": {}
  },
  {
   "cell_type": "code",
   "execution_count": 161,
   "source": [
    "print('Test: Stack Underflow')\n",
    "print('*'*100)\n",
    "\n",
    "astk.pop()\n",
    "astk.pop()\n",
    "astk.pop()\n",
    "\n",
    "print(f'is stack empty? : {astk.isEmpty()}')\n",
    "#astk.pop()\n",
    "\n",
    "print('*'*100)"
   ],
   "outputs": [
    {
     "output_type": "stream",
     "name": "stdout",
     "text": [
      "Test: Stack Underflow\n",
      "****************************************************************************************************\n",
      "Removing 3 from idx: 2\n",
      "Removing 2 from idx: 1\n",
      "Removing 1 from idx: 0\n",
      "is stack empty? : True\n",
      "****************************************************************************************************\n"
     ]
    }
   ],
   "metadata": {}
  },
  {
   "cell_type": "code",
   "execution_count": 162,
   "source": [
    "print('Test: Peek 2')\n",
    "print('*'*100)\n",
    "\n",
    "#astk.peek()\n",
    "\n",
    "print('*'*100)"
   ],
   "outputs": [
    {
     "output_type": "stream",
     "name": "stdout",
     "text": [
      "Test: Peek 2\n",
      "****************************************************************************************************\n",
      "****************************************************************************************************\n"
     ]
    }
   ],
   "metadata": {}
  },
  {
   "cell_type": "markdown",
   "source": [
    "#### Stack (using linked list) (Very uncommon)"
   ],
   "metadata": {}
  },
  {
   "cell_type": "code",
   "execution_count": 163,
   "source": [
    "print('Test: Creating a stack')\n",
    "print('*'*100)\n",
    "\n",
    "llstk = LLStack()\n",
    "\n",
    "print(f'astk = \\n{llstk}')\n",
    "print('*'*100)\n"
   ],
   "outputs": [
    {
     "output_type": "stream",
     "name": "stdout",
     "text": [
      "Test: Creating a stack\n",
      "****************************************************************************************************\n",
      "astk = \n",
      "Size: 0 Capacity: UNLIMITED\n",
      "****************************************************************************************************\n"
     ]
    }
   ],
   "metadata": {}
  },
  {
   "cell_type": "code",
   "execution_count": 164,
   "source": [
    "print('Test: Inserting a stack')\n",
    "print('*'*100)\n",
    "\n",
    "llstk.push(1)\n",
    "llstk.push(2)\n",
    "llstk.push(3)\n",
    "llstk.push(4)\n",
    "llstk.push(5)\n",
    "\n",
    "print(f'astk = \\n{llstk}')\n",
    "print('*'*100)\n"
   ],
   "outputs": [
    {
     "output_type": "stream",
     "name": "stdout",
     "text": [
      "Test: Inserting a stack\n",
      "****************************************************************************************************\n",
      "Inserting 1 to idx: 0\n",
      "Inserting 2 to idx: 1\n",
      "Inserting 3 to idx: 2\n",
      "Inserting 4 to idx: 3\n",
      "Inserting 5 to idx: 4\n",
      "astk = \n",
      "4: [ 5 ]\n",
      "3: [ 4 ]\n",
      "2: [ 3 ]\n",
      "1: [ 2 ]\n",
      "0: [ 1 ]\n",
      "Size: 5 Capacity: UNLIMITED\n",
      "****************************************************************************************************\n"
     ]
    }
   ],
   "metadata": {}
  },
  {
   "cell_type": "code",
   "execution_count": 165,
   "source": [
    "print('Test: Stack Overflow')\n",
    "print('*'*100)\n",
    "\n",
    "print(f'is stack full? : {llstk.isFull()}')\n",
    "#astk.push(6)\n",
    "\n",
    "print('*'*100)\n"
   ],
   "outputs": [
    {
     "output_type": "stream",
     "name": "stdout",
     "text": [
      "Test: Stack Overflow\n",
      "****************************************************************************************************\n",
      "is stack full? : False\n",
      "****************************************************************************************************\n"
     ]
    }
   ],
   "metadata": {}
  },
  {
   "cell_type": "code",
   "execution_count": 166,
   "source": [
    "print('Test: Peek')\n",
    "print('*'*100)\n",
    "\n",
    "print(llstk.peek())\n",
    "\n",
    "print('*'*100)\n"
   ],
   "outputs": [
    {
     "output_type": "stream",
     "name": "stdout",
     "text": [
      "Test: Peek\n",
      "****************************************************************************************************\n",
      "5\n",
      "****************************************************************************************************\n"
     ]
    }
   ],
   "metadata": {}
  },
  {
   "cell_type": "code",
   "execution_count": 167,
   "source": [
    "print('Test: Deleting from stack')\n",
    "print('*'*100)\n",
    "\n",
    "llstk.pop()\n",
    "llstk.pop()\n",
    "\n",
    "print(f'astk = \\n{llstk}')\n",
    "print('*'*100)\n"
   ],
   "outputs": [
    {
     "output_type": "stream",
     "name": "stdout",
     "text": [
      "Test: Deleting from stack\n",
      "****************************************************************************************************\n",
      "Removing 5 from idx: 4\n",
      "Removing 4 from idx: 3\n",
      "astk = \n",
      "2: [ 3 ]\n",
      "1: [ 2 ]\n",
      "0: [ 1 ]\n",
      "Size: 3 Capacity: UNLIMITED\n",
      "****************************************************************************************************\n"
     ]
    }
   ],
   "metadata": {}
  },
  {
   "cell_type": "code",
   "execution_count": 168,
   "source": [
    "print('Test: Stack Underflow')\n",
    "print('*'*100)\n",
    "\n",
    "llstk.pop()\n",
    "llstk.pop()\n",
    "llstk.pop()\n",
    "\n",
    "print(f'is stack empty? : {llstk.isEmpty()}')\n",
    "#llstk.pop()\n",
    "\n",
    "print('*'*100)\n"
   ],
   "outputs": [
    {
     "output_type": "stream",
     "name": "stdout",
     "text": [
      "Test: Stack Underflow\n",
      "****************************************************************************************************\n",
      "Removing 3 from idx: 2\n",
      "Removing 2 from idx: 1\n",
      "Removing 1 from idx: 0\n",
      "is stack empty? : True\n",
      "****************************************************************************************************\n"
     ]
    }
   ],
   "metadata": {
    "scrolled": true
   }
  },
  {
   "cell_type": "code",
   "execution_count": 169,
   "source": [
    "print('Test: Peek 2')\n",
    "print('*'*100)\n",
    "\n",
    "#llstk.peek()\n",
    "\n",
    "print('*'*100)"
   ],
   "outputs": [
    {
     "output_type": "stream",
     "name": "stdout",
     "text": [
      "Test: Peek 2\n",
      "****************************************************************************************************\n",
      "****************************************************************************************************\n"
     ]
    }
   ],
   "metadata": {
    "scrolled": true
   }
  }
 ],
 "metadata": {
  "interpreter": {
   "hash": "aee8b7b246df8f9039afb4144a1f6fd8d2ca17a180786b69acc140d282b71a49"
  },
  "kernelspec": {
   "display_name": "Python 3 (ipykernel)",
   "language": "python",
   "name": "python3"
  },
  "language_info": {
   "codemirror_mode": {
    "name": "ipython",
    "version": 3
   },
   "file_extension": ".py",
   "mimetype": "text/x-python",
   "name": "python",
   "nbconvert_exporter": "python",
   "pygments_lexer": "ipython3",
   "version": "3.9.6"
  }
 },
 "nbformat": 4,
 "nbformat_minor": 2
}